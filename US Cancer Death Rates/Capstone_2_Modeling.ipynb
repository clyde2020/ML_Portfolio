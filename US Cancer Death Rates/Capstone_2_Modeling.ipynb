{
  "nbformat": 4,
  "nbformat_minor": 0,
  "metadata": {
    "colab": {
      "name": "Capstone 2 - Modeling.ipynb",
      "provenance": [],
      "collapsed_sections": [
        "q9TMTaa_Olxj",
        "CHEpNS_iOtso",
        "VdMbUvC5O4in",
        "dKCZ5n7dPDqS",
        "vSROIm89PL6U",
        "kUjgEXxBPSre",
        "jd5KdaonPuDP",
        "sYLI4XmLP3V1"
      ],
      "machine_shape": "hm",
      "authorship_tag": "ABX9TyNQKl4eoUTLZd7W6Rx6+YTx",
      "include_colab_link": true
    },
    "kernelspec": {
      "name": "python3",
      "display_name": "Python 3"
    },
    "language_info": {
      "name": "python"
    },
    "accelerator": "TPU"
  },
  "cells": [
    {
      "cell_type": "markdown",
      "metadata": {
        "id": "view-in-github",
        "colab_type": "text"
      },
      "source": [
        "<a href=\"https://colab.research.google.com/github/clyde2020/ML_Portfolio/blob/main/US%20Cancer%20Death%20Rates/Capstone_2_Modeling.ipynb\" target=\"_parent\"><img src=\"https://colab.research.google.com/assets/colab-badge.svg\" alt=\"Open In Colab\"/></a>"
      ]
    },
    {
      "cell_type": "markdown",
      "source": [
        "## Import libraries"
      ],
      "metadata": {
        "id": "q9TMTaa_Olxj"
      }
    },
    {
      "cell_type": "code",
      "execution_count": null,
      "metadata": {
        "colab": {
          "base_uri": "https://localhost:8080/"
        },
        "id": "dvIVyWBpgZNC",
        "outputId": "65f05934-d5bd-439f-e281-352cfdcde90e"
      },
      "outputs": [
        {
          "output_type": "stream",
          "name": "stderr",
          "text": [
            "/usr/local/lib/python3.7/dist-packages/statsmodels/tools/_testing.py:19: FutureWarning: pandas.util.testing is deprecated. Use the functions in the public API at pandas.testing instead.\n",
            "  import pandas.util.testing as tm\n"
          ]
        }
      ],
      "source": [
        "import pandas as pd\n",
        "import numpy as np\n",
        "import matplotlib.pyplot as plt\n",
        "import seaborn as sns\n",
        "from scipy.stats import norm\n",
        "from scipy.stats import t\n",
        "from numpy.random import seed\n",
        "\n",
        "from sklearn.model_selection import train_test_split\n",
        "from sklearn.preprocessing import scale\n",
        "from sklearn.model_selection import train_test_split, cross_validate, GridSearchCV, learning_curve\n",
        "from sklearn.preprocessing import StandardScaler, MinMaxScaler\n",
        "from sklearn.dummy import DummyRegressor\n",
        "from sklearn.linear_model import LinearRegression\n",
        "from sklearn.ensemble import RandomForestRegressor, GradientBoostingRegressor\n",
        "from sklearn.metrics import r2_score, mean_squared_error, mean_absolute_error\n",
        "from sklearn.pipeline import make_pipeline\n",
        "from sklearn.impute import SimpleImputer\n",
        "from sklearn.feature_selection import SelectKBest, f_regression\n",
        "import datetime\n",
        "from pathlib import Path\n",
        "\n",
        "import statsmodels.api as sm \n",
        "from statsmodels.graphics.api import abline_plot\n",
        "from sklearn import linear_model, preprocessing \n",
        "import warnings\n",
        "warnings.simplefilter(action=\"ignore\", category=FutureWarning)\n",
        "warnings.filterwarnings(action=\"ignore\", module=\"scipy\", message=\"^internal gelsd\")"
      ]
    },
    {
      "cell_type": "markdown",
      "source": [
        "\n"
      ],
      "metadata": {
        "id": "nEjSXnUFmYT5"
      }
    },
    {
      "cell_type": "markdown",
      "source": [
        "## Load in data, process, split into test and train, scale"
      ],
      "metadata": {
        "id": "CHEpNS_iOtso"
      }
    },
    {
      "cell_type": "code",
      "source": [
        "cancer = '/content/cancer_reg.csv'\n",
        "df = pd.read_csv(cancer, encoding='latin-1')\n",
        "df.PctPrivateCoverageAlone = df.PctPrivateCoverageAlone.fillna(df.PctPrivateCoverageAlone.mean())\n",
        "df.PctEmployed16_Over = df.PctEmployed16_Over.fillna(df.PctEmployed16_Over.mean())\n",
        "df = df[df.MedianAge < 70]\n",
        "df.drop(['Geography', 'binnedInc', 'PctSomeCol18_24'], axis=1, inplace=True)\n",
        "\n",
        "X = df.drop('TARGET_deathRate', axis=1)\n",
        "y = df['TARGET_deathRate']\n",
        "\n",
        "X_train, X_test, y_train, y_test = train_test_split(X, y, test_size=0.2, random_state=42)\n",
        "\n",
        "ss = StandardScaler()\n",
        "X_train_scaled = ss.fit_transform(X_train)\n",
        "X_test_scaled = ss.transform(X_test)"
      ],
      "metadata": {
        "id": "wvetfNR7gaoQ"
      },
      "execution_count": null,
      "outputs": []
    },
    {
      "cell_type": "code",
      "source": [
        "y.describe()"
      ],
      "metadata": {
        "id": "8vVwm8nErmVA",
        "outputId": "f25aa865-14b0-46ef-8c31-f51fb5ac5a3b",
        "colab": {
          "base_uri": "https://localhost:8080/"
        }
      },
      "execution_count": null,
      "outputs": [
        {
          "output_type": "execute_result",
          "data": {
            "text/plain": [
              "count    3017.000000\n",
              "mean      178.648194\n",
              "std        27.737080\n",
              "min        59.700000\n",
              "25%       161.300000\n",
              "50%       178.100000\n",
              "75%       195.200000\n",
              "max       362.800000\n",
              "Name: TARGET_deathRate, dtype: float64"
            ]
          },
          "metadata": {},
          "execution_count": 3
        }
      ]
    },
    {
      "cell_type": "code",
      "source": [
        "X.describe().T"
      ],
      "metadata": {
        "colab": {
          "base_uri": "https://localhost:8080/",
          "height": 990
        },
        "id": "t5IVCL8RYcZt",
        "outputId": "4e612568-b66d-4d7a-ca1a-a8fad2bb5bc2"
      },
      "execution_count": null,
      "outputs": [
        {
          "output_type": "execute_result",
          "data": {
            "text/plain": [
              "                          count           mean            std           min  \\\n",
              "avgAnnCount              3017.0     607.573376    1422.111040      6.000000   \n",
              "avgDeathsPerYear         3017.0     186.285714     506.346011      3.000000   \n",
              "incidenceRate            3017.0     448.154402      54.608081    201.300000   \n",
              "medIncome                3017.0   47060.539277   12053.191812  22640.000000   \n",
              "popEst2015               3017.0  102718.943984  330286.240541    827.000000   \n",
              "povertyPercent           3017.0      16.882400       6.416020      3.200000   \n",
              "studyPerCap              3017.0     156.586892     532.071270      0.000000   \n",
              "MedianAge                3017.0      40.823865       5.196933     22.300000   \n",
              "MedianAgeMale            3017.0      39.568445       5.225173     22.400000   \n",
              "MedianAgeFemale          3017.0      42.144216       5.297612     22.300000   \n",
              "AvgHouseholdSize         3017.0       2.479039       0.430364      0.022100   \n",
              "PercentMarried           3017.0      51.777826       6.906403     23.100000   \n",
              "PctNoHS18_24             3017.0      18.229367       8.099370      0.000000   \n",
              "PctHS18_24               3017.0      34.985979       9.072727      0.000000   \n",
              "PctBachDeg18_24          3017.0       6.164236       4.537942      0.000000   \n",
              "PctHS25_Over             3017.0      34.808784       7.039854      7.500000   \n",
              "PctBachDeg25_Over        3017.0      13.282168       5.404494      2.500000   \n",
              "PctEmployed16_Over       3017.0      54.150528       8.115575     17.600000   \n",
              "PctUnemployed16_Over     3017.0       7.839476       3.439396      0.400000   \n",
              "PctPrivateCoverage       3017.0      64.360093      10.629592     22.300000   \n",
              "PctPrivateCoverageAlone  3017.0      48.452095       9.007376     15.700000   \n",
              "PctEmpPrivCoverage       3017.0      41.204972       9.426938     13.500000   \n",
              "PctPublicCoverage        3017.0      36.257474       7.843518     11.200000   \n",
              "PctPublicCoverageAlone   3017.0      19.243818       6.116668      2.600000   \n",
              "PctWhite                 3017.0      83.673433      16.356226     10.199155   \n",
              "PctBlack                 3017.0       9.093275      14.550428      0.000000   \n",
              "PctAsian                 3017.0       1.255703       2.615716      0.000000   \n",
              "PctOtherRace             3017.0       1.982160       3.524972      0.000000   \n",
              "PctMarriedHouseholds     3017.0      51.249931       6.580059     22.992490   \n",
              "BirthRate                3017.0       5.639141       1.983919      0.000000   \n",
              "\n",
              "                                  25%           50%           75%  \\\n",
              "avgAnnCount                 76.000000    170.000000    515.000000   \n",
              "avgDeathsPerYear            28.000000     61.000000    147.000000   \n",
              "incidenceRate              420.300000    453.549422    480.800000   \n",
              "medIncome                38887.000000  45207.000000  52476.000000   \n",
              "popEst2015               11703.000000  26589.000000  68502.000000   \n",
              "povertyPercent              12.200000     15.800000     20.400000   \n",
              "studyPerCap                  0.000000      0.000000     83.896902   \n",
              "MedianAge                   37.700000     40.900000     43.800000   \n",
              "MedianAgeMale               36.400000     39.500000     42.600000   \n",
              "MedianAgeFemale             39.100000     42.300000     45.300000   \n",
              "AvgHouseholdSize             2.370000      2.500000      2.630000   \n",
              "PercentMarried              47.800000     52.400000     56.400000   \n",
              "PctNoHS18_24                12.800000     17.200000     22.700000   \n",
              "PctHS18_24                  29.200000     34.700000     40.700000   \n",
              "PctBachDeg18_24              3.100000      5.400000      8.200000   \n",
              "PctHS25_Over                30.400000     35.300000     39.700000   \n",
              "PctBachDeg25_Over            9.400000     12.300000     16.100000   \n",
              "PctEmployed16_Over          48.900000     54.152642     60.000000   \n",
              "PctUnemployed16_Over         5.500000      7.600000      9.700000   \n",
              "PctPrivateCoverage          57.200000     65.100000     72.100000   \n",
              "PctPrivateCoverageAlone     43.100000     48.453774     53.800000   \n",
              "PctEmpPrivCoverage          34.500000     41.100000     47.600000   \n",
              "PctPublicCoverage           30.900000     36.400000     41.600000   \n",
              "PctPublicCoverageAlone      14.800000     18.800000     23.100000   \n",
              "PctWhite                    77.399902     90.059774     95.443269   \n",
              "PctBlack                     0.620104      2.238336     10.420061   \n",
              "PctAsian                     0.254509      0.550631      1.220816   \n",
              "PctOtherRace                 0.294923      0.826185      2.176268   \n",
              "PctMarriedHouseholds        47.779088     51.678241     55.396115   \n",
              "BirthRate                    4.524920      5.380501      6.491885   \n",
              "\n",
              "                                  max  \n",
              "avgAnnCount              3.815000e+04  \n",
              "avgDeathsPerYear         1.401000e+04  \n",
              "incidenceRate            1.206900e+03  \n",
              "medIncome                1.256350e+05  \n",
              "popEst2015               1.017029e+07  \n",
              "povertyPercent           4.740000e+01  \n",
              "studyPerCap              9.762309e+03  \n",
              "MedianAge                6.530000e+01  \n",
              "MedianAgeMale            6.470000e+01  \n",
              "MedianAgeFemale          6.570000e+01  \n",
              "AvgHouseholdSize         3.970000e+00  \n",
              "PercentMarried           7.250000e+01  \n",
              "PctNoHS18_24             6.410000e+01  \n",
              "PctHS18_24               7.250000e+01  \n",
              "PctBachDeg18_24          5.180000e+01  \n",
              "PctHS25_Over             5.480000e+01  \n",
              "PctBachDeg25_Over        4.220000e+01  \n",
              "PctEmployed16_Over       8.010000e+01  \n",
              "PctUnemployed16_Over     2.940000e+01  \n",
              "PctPrivateCoverage       9.230000e+01  \n",
              "PctPrivateCoverageAlone  7.890000e+01  \n",
              "PctEmpPrivCoverage       7.070000e+01  \n",
              "PctPublicCoverage        6.510000e+01  \n",
              "PctPublicCoverageAlone   4.660000e+01  \n",
              "PctWhite                 1.000000e+02  \n",
              "PctBlack                 8.594780e+01  \n",
              "PctAsian                 4.261942e+01  \n",
              "PctOtherRace             4.193025e+01  \n",
              "PctMarriedHouseholds     7.807540e+01  \n",
              "BirthRate                2.132616e+01  "
            ],
            "text/html": [
              "\n",
              "  <div id=\"df-5e3f3cfa-2b12-4ef2-bfbc-7c2946077ce8\">\n",
              "    <div class=\"colab-df-container\">\n",
              "      <div>\n",
              "<style scoped>\n",
              "    .dataframe tbody tr th:only-of-type {\n",
              "        vertical-align: middle;\n",
              "    }\n",
              "\n",
              "    .dataframe tbody tr th {\n",
              "        vertical-align: top;\n",
              "    }\n",
              "\n",
              "    .dataframe thead th {\n",
              "        text-align: right;\n",
              "    }\n",
              "</style>\n",
              "<table border=\"1\" class=\"dataframe\">\n",
              "  <thead>\n",
              "    <tr style=\"text-align: right;\">\n",
              "      <th></th>\n",
              "      <th>count</th>\n",
              "      <th>mean</th>\n",
              "      <th>std</th>\n",
              "      <th>min</th>\n",
              "      <th>25%</th>\n",
              "      <th>50%</th>\n",
              "      <th>75%</th>\n",
              "      <th>max</th>\n",
              "    </tr>\n",
              "  </thead>\n",
              "  <tbody>\n",
              "    <tr>\n",
              "      <th>avgAnnCount</th>\n",
              "      <td>3017.0</td>\n",
              "      <td>607.573376</td>\n",
              "      <td>1422.111040</td>\n",
              "      <td>6.000000</td>\n",
              "      <td>76.000000</td>\n",
              "      <td>170.000000</td>\n",
              "      <td>515.000000</td>\n",
              "      <td>3.815000e+04</td>\n",
              "    </tr>\n",
              "    <tr>\n",
              "      <th>avgDeathsPerYear</th>\n",
              "      <td>3017.0</td>\n",
              "      <td>186.285714</td>\n",
              "      <td>506.346011</td>\n",
              "      <td>3.000000</td>\n",
              "      <td>28.000000</td>\n",
              "      <td>61.000000</td>\n",
              "      <td>147.000000</td>\n",
              "      <td>1.401000e+04</td>\n",
              "    </tr>\n",
              "    <tr>\n",
              "      <th>incidenceRate</th>\n",
              "      <td>3017.0</td>\n",
              "      <td>448.154402</td>\n",
              "      <td>54.608081</td>\n",
              "      <td>201.300000</td>\n",
              "      <td>420.300000</td>\n",
              "      <td>453.549422</td>\n",
              "      <td>480.800000</td>\n",
              "      <td>1.206900e+03</td>\n",
              "    </tr>\n",
              "    <tr>\n",
              "      <th>medIncome</th>\n",
              "      <td>3017.0</td>\n",
              "      <td>47060.539277</td>\n",
              "      <td>12053.191812</td>\n",
              "      <td>22640.000000</td>\n",
              "      <td>38887.000000</td>\n",
              "      <td>45207.000000</td>\n",
              "      <td>52476.000000</td>\n",
              "      <td>1.256350e+05</td>\n",
              "    </tr>\n",
              "    <tr>\n",
              "      <th>popEst2015</th>\n",
              "      <td>3017.0</td>\n",
              "      <td>102718.943984</td>\n",
              "      <td>330286.240541</td>\n",
              "      <td>827.000000</td>\n",
              "      <td>11703.000000</td>\n",
              "      <td>26589.000000</td>\n",
              "      <td>68502.000000</td>\n",
              "      <td>1.017029e+07</td>\n",
              "    </tr>\n",
              "    <tr>\n",
              "      <th>povertyPercent</th>\n",
              "      <td>3017.0</td>\n",
              "      <td>16.882400</td>\n",
              "      <td>6.416020</td>\n",
              "      <td>3.200000</td>\n",
              "      <td>12.200000</td>\n",
              "      <td>15.800000</td>\n",
              "      <td>20.400000</td>\n",
              "      <td>4.740000e+01</td>\n",
              "    </tr>\n",
              "    <tr>\n",
              "      <th>studyPerCap</th>\n",
              "      <td>3017.0</td>\n",
              "      <td>156.586892</td>\n",
              "      <td>532.071270</td>\n",
              "      <td>0.000000</td>\n",
              "      <td>0.000000</td>\n",
              "      <td>0.000000</td>\n",
              "      <td>83.896902</td>\n",
              "      <td>9.762309e+03</td>\n",
              "    </tr>\n",
              "    <tr>\n",
              "      <th>MedianAge</th>\n",
              "      <td>3017.0</td>\n",
              "      <td>40.823865</td>\n",
              "      <td>5.196933</td>\n",
              "      <td>22.300000</td>\n",
              "      <td>37.700000</td>\n",
              "      <td>40.900000</td>\n",
              "      <td>43.800000</td>\n",
              "      <td>6.530000e+01</td>\n",
              "    </tr>\n",
              "    <tr>\n",
              "      <th>MedianAgeMale</th>\n",
              "      <td>3017.0</td>\n",
              "      <td>39.568445</td>\n",
              "      <td>5.225173</td>\n",
              "      <td>22.400000</td>\n",
              "      <td>36.400000</td>\n",
              "      <td>39.500000</td>\n",
              "      <td>42.600000</td>\n",
              "      <td>6.470000e+01</td>\n",
              "    </tr>\n",
              "    <tr>\n",
              "      <th>MedianAgeFemale</th>\n",
              "      <td>3017.0</td>\n",
              "      <td>42.144216</td>\n",
              "      <td>5.297612</td>\n",
              "      <td>22.300000</td>\n",
              "      <td>39.100000</td>\n",
              "      <td>42.300000</td>\n",
              "      <td>45.300000</td>\n",
              "      <td>6.570000e+01</td>\n",
              "    </tr>\n",
              "    <tr>\n",
              "      <th>AvgHouseholdSize</th>\n",
              "      <td>3017.0</td>\n",
              "      <td>2.479039</td>\n",
              "      <td>0.430364</td>\n",
              "      <td>0.022100</td>\n",
              "      <td>2.370000</td>\n",
              "      <td>2.500000</td>\n",
              "      <td>2.630000</td>\n",
              "      <td>3.970000e+00</td>\n",
              "    </tr>\n",
              "    <tr>\n",
              "      <th>PercentMarried</th>\n",
              "      <td>3017.0</td>\n",
              "      <td>51.777826</td>\n",
              "      <td>6.906403</td>\n",
              "      <td>23.100000</td>\n",
              "      <td>47.800000</td>\n",
              "      <td>52.400000</td>\n",
              "      <td>56.400000</td>\n",
              "      <td>7.250000e+01</td>\n",
              "    </tr>\n",
              "    <tr>\n",
              "      <th>PctNoHS18_24</th>\n",
              "      <td>3017.0</td>\n",
              "      <td>18.229367</td>\n",
              "      <td>8.099370</td>\n",
              "      <td>0.000000</td>\n",
              "      <td>12.800000</td>\n",
              "      <td>17.200000</td>\n",
              "      <td>22.700000</td>\n",
              "      <td>6.410000e+01</td>\n",
              "    </tr>\n",
              "    <tr>\n",
              "      <th>PctHS18_24</th>\n",
              "      <td>3017.0</td>\n",
              "      <td>34.985979</td>\n",
              "      <td>9.072727</td>\n",
              "      <td>0.000000</td>\n",
              "      <td>29.200000</td>\n",
              "      <td>34.700000</td>\n",
              "      <td>40.700000</td>\n",
              "      <td>7.250000e+01</td>\n",
              "    </tr>\n",
              "    <tr>\n",
              "      <th>PctBachDeg18_24</th>\n",
              "      <td>3017.0</td>\n",
              "      <td>6.164236</td>\n",
              "      <td>4.537942</td>\n",
              "      <td>0.000000</td>\n",
              "      <td>3.100000</td>\n",
              "      <td>5.400000</td>\n",
              "      <td>8.200000</td>\n",
              "      <td>5.180000e+01</td>\n",
              "    </tr>\n",
              "    <tr>\n",
              "      <th>PctHS25_Over</th>\n",
              "      <td>3017.0</td>\n",
              "      <td>34.808784</td>\n",
              "      <td>7.039854</td>\n",
              "      <td>7.500000</td>\n",
              "      <td>30.400000</td>\n",
              "      <td>35.300000</td>\n",
              "      <td>39.700000</td>\n",
              "      <td>5.480000e+01</td>\n",
              "    </tr>\n",
              "    <tr>\n",
              "      <th>PctBachDeg25_Over</th>\n",
              "      <td>3017.0</td>\n",
              "      <td>13.282168</td>\n",
              "      <td>5.404494</td>\n",
              "      <td>2.500000</td>\n",
              "      <td>9.400000</td>\n",
              "      <td>12.300000</td>\n",
              "      <td>16.100000</td>\n",
              "      <td>4.220000e+01</td>\n",
              "    </tr>\n",
              "    <tr>\n",
              "      <th>PctEmployed16_Over</th>\n",
              "      <td>3017.0</td>\n",
              "      <td>54.150528</td>\n",
              "      <td>8.115575</td>\n",
              "      <td>17.600000</td>\n",
              "      <td>48.900000</td>\n",
              "      <td>54.152642</td>\n",
              "      <td>60.000000</td>\n",
              "      <td>8.010000e+01</td>\n",
              "    </tr>\n",
              "    <tr>\n",
              "      <th>PctUnemployed16_Over</th>\n",
              "      <td>3017.0</td>\n",
              "      <td>7.839476</td>\n",
              "      <td>3.439396</td>\n",
              "      <td>0.400000</td>\n",
              "      <td>5.500000</td>\n",
              "      <td>7.600000</td>\n",
              "      <td>9.700000</td>\n",
              "      <td>2.940000e+01</td>\n",
              "    </tr>\n",
              "    <tr>\n",
              "      <th>PctPrivateCoverage</th>\n",
              "      <td>3017.0</td>\n",
              "      <td>64.360093</td>\n",
              "      <td>10.629592</td>\n",
              "      <td>22.300000</td>\n",
              "      <td>57.200000</td>\n",
              "      <td>65.100000</td>\n",
              "      <td>72.100000</td>\n",
              "      <td>9.230000e+01</td>\n",
              "    </tr>\n",
              "    <tr>\n",
              "      <th>PctPrivateCoverageAlone</th>\n",
              "      <td>3017.0</td>\n",
              "      <td>48.452095</td>\n",
              "      <td>9.007376</td>\n",
              "      <td>15.700000</td>\n",
              "      <td>43.100000</td>\n",
              "      <td>48.453774</td>\n",
              "      <td>53.800000</td>\n",
              "      <td>7.890000e+01</td>\n",
              "    </tr>\n",
              "    <tr>\n",
              "      <th>PctEmpPrivCoverage</th>\n",
              "      <td>3017.0</td>\n",
              "      <td>41.204972</td>\n",
              "      <td>9.426938</td>\n",
              "      <td>13.500000</td>\n",
              "      <td>34.500000</td>\n",
              "      <td>41.100000</td>\n",
              "      <td>47.600000</td>\n",
              "      <td>7.070000e+01</td>\n",
              "    </tr>\n",
              "    <tr>\n",
              "      <th>PctPublicCoverage</th>\n",
              "      <td>3017.0</td>\n",
              "      <td>36.257474</td>\n",
              "      <td>7.843518</td>\n",
              "      <td>11.200000</td>\n",
              "      <td>30.900000</td>\n",
              "      <td>36.400000</td>\n",
              "      <td>41.600000</td>\n",
              "      <td>6.510000e+01</td>\n",
              "    </tr>\n",
              "    <tr>\n",
              "      <th>PctPublicCoverageAlone</th>\n",
              "      <td>3017.0</td>\n",
              "      <td>19.243818</td>\n",
              "      <td>6.116668</td>\n",
              "      <td>2.600000</td>\n",
              "      <td>14.800000</td>\n",
              "      <td>18.800000</td>\n",
              "      <td>23.100000</td>\n",
              "      <td>4.660000e+01</td>\n",
              "    </tr>\n",
              "    <tr>\n",
              "      <th>PctWhite</th>\n",
              "      <td>3017.0</td>\n",
              "      <td>83.673433</td>\n",
              "      <td>16.356226</td>\n",
              "      <td>10.199155</td>\n",
              "      <td>77.399902</td>\n",
              "      <td>90.059774</td>\n",
              "      <td>95.443269</td>\n",
              "      <td>1.000000e+02</td>\n",
              "    </tr>\n",
              "    <tr>\n",
              "      <th>PctBlack</th>\n",
              "      <td>3017.0</td>\n",
              "      <td>9.093275</td>\n",
              "      <td>14.550428</td>\n",
              "      <td>0.000000</td>\n",
              "      <td>0.620104</td>\n",
              "      <td>2.238336</td>\n",
              "      <td>10.420061</td>\n",
              "      <td>8.594780e+01</td>\n",
              "    </tr>\n",
              "    <tr>\n",
              "      <th>PctAsian</th>\n",
              "      <td>3017.0</td>\n",
              "      <td>1.255703</td>\n",
              "      <td>2.615716</td>\n",
              "      <td>0.000000</td>\n",
              "      <td>0.254509</td>\n",
              "      <td>0.550631</td>\n",
              "      <td>1.220816</td>\n",
              "      <td>4.261942e+01</td>\n",
              "    </tr>\n",
              "    <tr>\n",
              "      <th>PctOtherRace</th>\n",
              "      <td>3017.0</td>\n",
              "      <td>1.982160</td>\n",
              "      <td>3.524972</td>\n",
              "      <td>0.000000</td>\n",
              "      <td>0.294923</td>\n",
              "      <td>0.826185</td>\n",
              "      <td>2.176268</td>\n",
              "      <td>4.193025e+01</td>\n",
              "    </tr>\n",
              "    <tr>\n",
              "      <th>PctMarriedHouseholds</th>\n",
              "      <td>3017.0</td>\n",
              "      <td>51.249931</td>\n",
              "      <td>6.580059</td>\n",
              "      <td>22.992490</td>\n",
              "      <td>47.779088</td>\n",
              "      <td>51.678241</td>\n",
              "      <td>55.396115</td>\n",
              "      <td>7.807540e+01</td>\n",
              "    </tr>\n",
              "    <tr>\n",
              "      <th>BirthRate</th>\n",
              "      <td>3017.0</td>\n",
              "      <td>5.639141</td>\n",
              "      <td>1.983919</td>\n",
              "      <td>0.000000</td>\n",
              "      <td>4.524920</td>\n",
              "      <td>5.380501</td>\n",
              "      <td>6.491885</td>\n",
              "      <td>2.132616e+01</td>\n",
              "    </tr>\n",
              "  </tbody>\n",
              "</table>\n",
              "</div>\n",
              "      <button class=\"colab-df-convert\" onclick=\"convertToInteractive('df-5e3f3cfa-2b12-4ef2-bfbc-7c2946077ce8')\"\n",
              "              title=\"Convert this dataframe to an interactive table.\"\n",
              "              style=\"display:none;\">\n",
              "        \n",
              "  <svg xmlns=\"http://www.w3.org/2000/svg\" height=\"24px\"viewBox=\"0 0 24 24\"\n",
              "       width=\"24px\">\n",
              "    <path d=\"M0 0h24v24H0V0z\" fill=\"none\"/>\n",
              "    <path d=\"M18.56 5.44l.94 2.06.94-2.06 2.06-.94-2.06-.94-.94-2.06-.94 2.06-2.06.94zm-11 1L8.5 8.5l.94-2.06 2.06-.94-2.06-.94L8.5 2.5l-.94 2.06-2.06.94zm10 10l.94 2.06.94-2.06 2.06-.94-2.06-.94-.94-2.06-.94 2.06-2.06.94z\"/><path d=\"M17.41 7.96l-1.37-1.37c-.4-.4-.92-.59-1.43-.59-.52 0-1.04.2-1.43.59L10.3 9.45l-7.72 7.72c-.78.78-.78 2.05 0 2.83L4 21.41c.39.39.9.59 1.41.59.51 0 1.02-.2 1.41-.59l7.78-7.78 2.81-2.81c.8-.78.8-2.07 0-2.86zM5.41 20L4 18.59l7.72-7.72 1.47 1.35L5.41 20z\"/>\n",
              "  </svg>\n",
              "      </button>\n",
              "      \n",
              "  <style>\n",
              "    .colab-df-container {\n",
              "      display:flex;\n",
              "      flex-wrap:wrap;\n",
              "      gap: 12px;\n",
              "    }\n",
              "\n",
              "    .colab-df-convert {\n",
              "      background-color: #E8F0FE;\n",
              "      border: none;\n",
              "      border-radius: 50%;\n",
              "      cursor: pointer;\n",
              "      display: none;\n",
              "      fill: #1967D2;\n",
              "      height: 32px;\n",
              "      padding: 0 0 0 0;\n",
              "      width: 32px;\n",
              "    }\n",
              "\n",
              "    .colab-df-convert:hover {\n",
              "      background-color: #E2EBFA;\n",
              "      box-shadow: 0px 1px 2px rgba(60, 64, 67, 0.3), 0px 1px 3px 1px rgba(60, 64, 67, 0.15);\n",
              "      fill: #174EA6;\n",
              "    }\n",
              "\n",
              "    [theme=dark] .colab-df-convert {\n",
              "      background-color: #3B4455;\n",
              "      fill: #D2E3FC;\n",
              "    }\n",
              "\n",
              "    [theme=dark] .colab-df-convert:hover {\n",
              "      background-color: #434B5C;\n",
              "      box-shadow: 0px 1px 3px 1px rgba(0, 0, 0, 0.15);\n",
              "      filter: drop-shadow(0px 1px 2px rgba(0, 0, 0, 0.3));\n",
              "      fill: #FFFFFF;\n",
              "    }\n",
              "  </style>\n",
              "\n",
              "      <script>\n",
              "        const buttonEl =\n",
              "          document.querySelector('#df-5e3f3cfa-2b12-4ef2-bfbc-7c2946077ce8 button.colab-df-convert');\n",
              "        buttonEl.style.display =\n",
              "          google.colab.kernel.accessAllowed ? 'block' : 'none';\n",
              "\n",
              "        async function convertToInteractive(key) {\n",
              "          const element = document.querySelector('#df-5e3f3cfa-2b12-4ef2-bfbc-7c2946077ce8');\n",
              "          const dataTable =\n",
              "            await google.colab.kernel.invokeFunction('convertToInteractive',\n",
              "                                                     [key], {});\n",
              "          if (!dataTable) return;\n",
              "\n",
              "          const docLinkHtml = 'Like what you see? Visit the ' +\n",
              "            '<a target=\"_blank\" href=https://colab.research.google.com/notebooks/data_table.ipynb>data table notebook</a>'\n",
              "            + ' to learn more about interactive tables.';\n",
              "          element.innerHTML = '';\n",
              "          dataTable['output_type'] = 'display_data';\n",
              "          await google.colab.output.renderOutput(dataTable, element);\n",
              "          const docLink = document.createElement('div');\n",
              "          docLink.innerHTML = docLinkHtml;\n",
              "          element.appendChild(docLink);\n",
              "        }\n",
              "      </script>\n",
              "    </div>\n",
              "  </div>\n",
              "  "
            ]
          },
          "metadata": {},
          "execution_count": 4
        }
      ]
    },
    {
      "cell_type": "markdown",
      "source": [
        "## Linear regression model"
      ],
      "metadata": {
        "id": "VdMbUvC5O4in"
      }
    },
    {
      "cell_type": "code",
      "source": [
        "pipe = make_pipeline(\n",
        "    SelectKBest(f_regression),\n",
        "    LinearRegression()\n",
        ")\n",
        "\n",
        "k = [k+1 for k in range(len(X_train.columns))]\n",
        "grid_params = {'selectkbest__k': k}\n",
        "\n",
        "lr_grid_cv = GridSearchCV(pipe, param_grid=grid_params, cv=5, n_jobs=-1)\n",
        "lr_grid_cv.fit(X_train, y_train)\n",
        "y_preds = lr_grid_cv.predict(X_test)\n",
        "\n",
        "print(r2_score(y_test, y_preds))\n",
        "print(mean_absolute_error(y_test, y_preds))\n",
        "print(mean_squared_error(y_test, y_preds))\n",
        "print(lr_grid_cv.best_params_)"
      ],
      "metadata": {
        "colab": {
          "base_uri": "https://localhost:8080/"
        },
        "id": "006PAvUdE2zJ",
        "outputId": "25c2cac4-a6c2-4f0e-cf18-ac4390c66993"
      },
      "execution_count": null,
      "outputs": [
        {
          "output_type": "stream",
          "name": "stdout",
          "text": [
            "0.48679734483205317\n",
            "14.756536335027839\n",
            "410.59783386212314\n",
            "{'selectkbest__k': 27}\n"
          ]
        }
      ]
    },
    {
      "cell_type": "code",
      "source": [
        "pipe = make_pipeline(\n",
        "    SelectKBest(f_regression, k=27),\n",
        "    LinearRegression()\n",
        ")\n",
        "\n",
        "pipe.fit(X_train, y_train)\n",
        "y_preds = pipe.predict(X_test)\n",
        "plt.scatter(y_test, y_preds)"
      ],
      "metadata": {
        "colab": {
          "base_uri": "https://localhost:8080/",
          "height": 282
        },
        "id": "pFoP0BB-gtnP",
        "outputId": "4579f5f0-5257-47c8-d005-d33d98cdb6ca"
      },
      "execution_count": null,
      "outputs": [
        {
          "output_type": "execute_result",
          "data": {
            "text/plain": [
              "<matplotlib.collections.PathCollection at 0x7fe18895e490>"
            ]
          },
          "metadata": {},
          "execution_count": 6
        },
        {
          "output_type": "display_data",
          "data": {
            "text/plain": [
              "<Figure size 432x288 with 1 Axes>"
            ],
            "image/png": "[encoded data removed]"
          },
          "metadata": {
            "needs_background": "light"
          }
        }
      ]
    },
    {
      "cell_type": "code",
      "source": [
        "print(r2_score(y_test, y_preds))\n",
        "print(mean_absolute_error(y_test, y_preds))\n",
        "print(mean_squared_error(y_test, y_preds))"
      ],
      "metadata": {
        "colab": {
          "base_uri": "https://localhost:8080/"
        },
        "id": "ggAfMQi2aQvQ",
        "outputId": "499450cd-3518-4e10-9a89-288245478a4d"
      },
      "execution_count": null,
      "outputs": [
        {
          "output_type": "stream",
          "name": "stdout",
          "text": [
            "0.48679734483205317\n",
            "14.756536335027839\n",
            "410.59783386212314\n"
          ]
        }
      ]
    },
    {
      "cell_type": "markdown",
      "source": [
        "## Ordinary least squared model"
      ],
      "metadata": {
        "id": "dKCZ5n7dPDqS"
      }
    },
    {
      "cell_type": "code",
      "source": [
        "X_ols = sm.add_constant(X)\n",
        "X_train_ols, X_test_ols, y_train, y_test = train_test_split(X_ols, y, test_size=0.25)\n",
        "model = sm.OLS(y_train, X_train_ols)\n",
        "model = model.fit()\n",
        "model.summary()"
      ],
      "metadata": {
        "id": "j7ov0o3Gh_vx"
      },
      "execution_count": null,
      "outputs": []
    },
    {
      "cell_type": "code",
      "source": [
        "y_preds = model.predict(X_test_ols)\n",
        "\n",
        "_ = sns.regplot(y_test, y_preds, color='r')\n",
        "_ = plt.scatter(y_test, y_preds, color='b')\n",
        "\n",
        "# Label it nicely\n",
        "_ = plt.xlabel('Actual test values')\n",
        "_ = plt.ylabel('Predicted values')"
      ],
      "metadata": {
        "colab": {
          "base_uri": "https://localhost:8080/",
          "height": 279
        },
        "id": "NZT_Ijn5ib_n",
        "outputId": "a3fae258-75a0-4b1e-b16d-c635fe638258"
      },
      "execution_count": null,
      "outputs": [
        {
          "output_type": "display_data",
          "data": {
            "text/plain": [
              "<Figure size 432x288 with 1 Axes>"
            ],
            "image/png": "[encoded data removed]"
          },
          "metadata": {
            "needs_background": "light"
          }
        }
      ]
    },
    {
      "cell_type": "code",
      "source": [
        "print(r2_score(y_test, y_preds))\n",
        "print(mean_absolute_error(y_test, y_preds))\n",
        "print(mean_squared_error(y_test, y_preds))"
      ],
      "metadata": {
        "colab": {
          "base_uri": "https://localhost:8080/"
        },
        "id": "WWLwJStvaifb",
        "outputId": "15e80b8b-563a-4f64-f364-03db9e0a2a88"
      },
      "execution_count": null,
      "outputs": [
        {
          "output_type": "stream",
          "name": "stdout",
          "text": [
            "0.5273796620582059\n",
            "13.859828641249003\n",
            "342.5472677852406\n"
          ]
        }
      ]
    },
    {
      "cell_type": "markdown",
      "source": [
        "## Random forest regression model"
      ],
      "metadata": {
        "id": "vSROIm89PL6U"
      }
    },
    {
      "cell_type": "code",
      "source": [
        "n_estimators = [int(n) for n in np.logspace(start=1, stop=4, num=12)]\n",
        "max_depth = [25, 50, 75]\n",
        "param_grid = {'randomforestregressor__n_estimators': n_estimators,\n",
        "              'randomforestregressor__max_depth': max_depth}\n",
        "\n",
        "pipe = make_pipeline(\n",
        "    StandardScaler(), \n",
        "    # SelectKBest(f_regression),\n",
        "    RandomForestRegressor(random_state=42, n_jobs=-1)\n",
        ")\n",
        "\n",
        "gm_cv = GridSearchCV(pipe, param_grid, cv=5, scoring='r2')\n",
        "gm_cv.fit(X_train, y_train)\n",
        "y_preds = gm_cv.predict(X_test)\n",
        "\n",
        "print(gm_cv.best_estimator_)\n",
        "print(r2_score(y_test, y_preds))\n",
        "print(mean_absolute_error(y_test, y_preds))\n",
        "print(mean_squared_error(y_test, y_preds))\n",
        "print(gm_cv.best_params_)"
      ],
      "metadata": {
        "colab": {
          "base_uri": "https://localhost:8080/"
        },
        "id": "WyqjcRHXhQ6F",
        "outputId": "d3a03cd9-bef2-433c-e73a-9076fe5194c4"
      },
      "execution_count": null,
      "outputs": [
        {
          "output_type": "stream",
          "name": "stdout",
          "text": [
            "Pipeline(steps=[('standardscaler', StandardScaler()),\n",
            "                ('randomforestregressor',\n",
            "                 RandomForestRegressor(max_depth=50, n_estimators=811,\n",
            "                                       n_jobs=-1, random_state=42))])\n",
            "0.5019624547220394\n",
            "14.158498419905095\n",
            "398.46469072966664\n",
            "{'randomforestregressor__max_depth': 50, 'randomforestregressor__n_estimators': 811}\n"
          ]
        }
      ]
    },
    {
      "cell_type": "code",
      "source": [
        "clf = RandomForestRegressor(n_estimators=811, max_depth=50, random_state = 42,n_jobs=-1)\n",
        "model_res = clf.fit(X_train_scaled, y_train)\n",
        "y_preds = model_res.predict(X_test_scaled)\n",
        "\n",
        "print(r2_score(y_test, y_preds))\n",
        "print(mean_absolute_error(y_test, y_preds))\n",
        "print(mean_squared_error(y_test, y_preds))"
      ],
      "metadata": {
        "colab": {
          "base_uri": "https://localhost:8080/"
        },
        "id": "wuZAYugG5JHy",
        "outputId": "723f31c6-9f49-4753-ce3e-e23bfd1608a0"
      },
      "execution_count": null,
      "outputs": [
        {
          "output_type": "stream",
          "name": "stdout",
          "text": [
            "0.5019624547220394\n",
            "14.158498419905095\n",
            "398.46469072966676\n"
          ]
        }
      ]
    },
    {
      "cell_type": "code",
      "source": [
        "feature_importance = clf.feature_importances_\n",
        "# make importances relative to max importance\n",
        "feature_importance = 100.0 * (feature_importance / feature_importance.max())[:30]\n",
        "sorted_idx = np.argsort(feature_importance)[:30]\n",
        "\n",
        "pos = np.arange(sorted_idx.shape[0]) + .5\n",
        "print(pos.size)\n",
        "sorted_idx.size\n",
        "plt.figure(figsize=(10,10))\n",
        "plt.barh(pos, feature_importance[sorted_idx], align='center')\n",
        "plt.yticks(pos, X.columns[sorted_idx])\n",
        "plt.xlabel('Relative Importance')\n",
        "plt.title('Variable Importance')\n",
        "plt.show()"
      ],
      "metadata": {
        "colab": {
          "base_uri": "https://localhost:8080/",
          "height": 638
        },
        "id": "PLlqcWXT5QCO",
        "outputId": "2de32ee5-41b9-4eaf-cdaa-02ffa39263c4"
      },
      "execution_count": null,
      "outputs": [
        {
          "output_type": "stream",
          "name": "stdout",
          "text": [
            "30\n"
          ]
        },
        {
          "output_type": "display_data",
          "data": {
            "text/plain": [
              "<Figure size 720x720 with 1 Axes>"
            ],
            "image/png": "[encoded data removed]"
          },
          "metadata": {
            "needs_background": "light"
          }
        }
      ]
    },
    {
      "cell_type": "markdown",
      "source": [
        "## Gradient Boosting Regressor models"
      ],
      "metadata": {
        "id": "kUjgEXxBPSre"
      }
    },
    {
      "cell_type": "code",
      "execution_count": null,
      "metadata": {
        "colab": {
          "base_uri": "https://localhost:8080/"
        },
        "id": "a48uXlSBRz8U",
        "outputId": "9b6308e8-b54f-4152-ee5b-5d08452077f7"
      },
      "outputs": [
        {
          "output_type": "execute_result",
          "data": {
            "text/plain": [
              "DecisionTreeRegressor(max_depth=2, random_state=42)"
            ]
          },
          "metadata": {},
          "execution_count": 13
        }
      ],
      "source": [
        "from sklearn.tree import DecisionTreeRegressor\n",
        "\n",
        "tree_reg1 = DecisionTreeRegressor(max_depth=2, random_state=42)\n",
        "tree_reg1.fit(X_train, y_train)"
      ]
    },
    {
      "cell_type": "code",
      "execution_count": null,
      "metadata": {
        "colab": {
          "base_uri": "https://localhost:8080/"
        },
        "id": "j_wMy80MRz8Z",
        "outputId": "a0f369b0-97cb-4304-b8a6-2487044ed6ec"
      },
      "outputs": [
        {
          "output_type": "execute_result",
          "data": {
            "text/plain": [
              "DecisionTreeRegressor(max_depth=2, random_state=42)"
            ]
          },
          "metadata": {},
          "execution_count": 14
        }
      ],
      "source": [
        "y2 = y_train - tree_reg1.predict(X_train)\n",
        "tree_reg2 = DecisionTreeRegressor(max_depth=2, random_state=42)\n",
        "tree_reg2.fit(X_train, y2)"
      ]
    },
    {
      "cell_type": "code",
      "execution_count": null,
      "metadata": {
        "colab": {
          "base_uri": "https://localhost:8080/"
        },
        "id": "luWV0lZGRz8c",
        "outputId": "3925242c-d060-4419-ec87-5a8e25f59751"
      },
      "outputs": [
        {
          "output_type": "execute_result",
          "data": {
            "text/plain": [
              "DecisionTreeRegressor(max_depth=2, random_state=42)"
            ]
          },
          "metadata": {},
          "execution_count": 15
        }
      ],
      "source": [
        "y3 = y2 - tree_reg2.predict(X_train)\n",
        "tree_reg3 = DecisionTreeRegressor(max_depth=2, random_state=42)\n",
        "tree_reg3.fit(X_train, y3)"
      ]
    },
    {
      "cell_type": "code",
      "source": [
        "y_preds = sum(tree.predict(X_test) for tree in (tree_reg1, tree_reg2, tree_reg3))"
      ],
      "metadata": {
        "id": "Qe7e2bWcxywk"
      },
      "execution_count": null,
      "outputs": []
    },
    {
      "cell_type": "code",
      "source": [
        "print(r2_score(y_test, y_preds))\n",
        "print(mean_absolute_error(y_test, y_preds))\n",
        "print(mean_squared_error(y_test, y_preds))"
      ],
      "metadata": {
        "colab": {
          "base_uri": "https://localhost:8080/"
        },
        "id": "RNciOk1nyCuK",
        "outputId": "19b3a22e-5739-4d40-b6d0-cdab4ef3bc0e"
      },
      "execution_count": null,
      "outputs": [
        {
          "output_type": "stream",
          "name": "stdout",
          "text": [
            "0.3260767887483824\n",
            "17.144507696710477\n",
            "539.1854620057757\n"
          ]
        }
      ]
    },
    {
      "cell_type": "code",
      "source": [
        "n_estimators = [2000, 3000, 5000, 7000]\n",
        "learning_rate = [0.1, 0.2, 0.3]\n",
        "max_depth = [2, 3, 4]\n",
        "param_grid = {'n_estimators': n_estimators,\n",
        "              'max_depth': max_depth,\n",
        "              'learning_rate': learning_rate}\n",
        "\n",
        "gb = GradientBoostingRegressor(random_state = 42)\n",
        "gm_cv = GridSearchCV(gb, param_grid, cv=5, scoring='r2')\n",
        "gm_cv.fit(X_train, y_train)\n",
        "y_preds = gm_cv.predict(X_test)\n",
        "\n",
        "print(gm_cv.best_estimator_)\n",
        "print(r2_score(y_test, y_preds))\n",
        "print(mean_absolute_error(y_test, y_preds))\n",
        "print(mean_squared_error(y_test, y_preds))"
      ],
      "metadata": {
        "id": "U61pm0Z5pSDV",
        "colab": {
          "base_uri": "https://localhost:8080/"
        },
        "outputId": "afc134ec-a9af-4523-da14-eacd3b07423b"
      },
      "execution_count": null,
      "outputs": [
        {
          "output_type": "stream",
          "name": "stdout",
          "text": [
            "GradientBoostingRegressor(learning_rate=0.2, max_depth=2, n_estimators=5000,\n",
            "                          random_state=42)\n",
            "0.7108546556839411\n",
            "10.698448027020369\n",
            "231.3363947983459\n"
          ]
        }
      ]
    },
    {
      "cell_type": "code",
      "source": [
        "gb = GradientBoostingRegressor(learning_rate=0.2, max_depth=2, n_estimators=5000, random_state = 42).fit(X_train, y_train)\n",
        "y_preds = gb.predict(X_test)\n",
        "\n",
        "print(r2_score(y_test, y_preds))\n",
        "print(mean_absolute_error(y_test, y_preds))\n",
        "print(mean_squared_error(y_test, y_preds))"
      ],
      "metadata": {
        "colab": {
          "base_uri": "https://localhost:8080/"
        },
        "id": "fnxBu6Sn_ISZ",
        "outputId": "36892a8a-9a3c-40b3-9358-69eb992e4932"
      },
      "execution_count": null,
      "outputs": [
        {
          "output_type": "stream",
          "name": "stdout",
          "text": [
            "0.7108546556839411\n",
            "10.698448027020369\n",
            "231.3363947983459\n"
          ]
        }
      ]
    },
    {
      "cell_type": "markdown",
      "source": [
        "## ElasticNet model"
      ],
      "metadata": {
        "id": "jd5KdaonPuDP"
      }
    },
    {
      "cell_type": "code",
      "source": [
        "from sklearn.linear_model import ElasticNet\n",
        "\n",
        "l1_space = np.linspace(0, 1, 30)\n",
        "param_grid = {'l1_ratio': l1_space}\n",
        "\n",
        "elastic_net = ElasticNet()\n",
        "gm_cv = GridSearchCV(elastic_net, param_grid, cv=5)\n",
        "gm_cv.fit(X_train, y_train)\n",
        "y_preds = gm_cv.predict(X_test)\n",
        "\n",
        "print(gm_cv.best_estimator_)\n",
        "print(r2_score(y_test, y_preds))\n",
        "print(mean_absolute_error(y_test, y_preds))\n",
        "print(mean_squared_error(y_test, y_preds))\n"
      ],
      "metadata": {
        "colab": {
          "base_uri": "https://localhost:8080/"
        },
        "id": "YIWkfiCmizZ5",
        "outputId": "696e63e5-deab-47d2-ce2d-c86856e65367"
      },
      "execution_count": null,
      "outputs": [
        {
          "output_type": "stream",
          "name": "stderr",
          "text": [
            "/usr/local/lib/python3.7/dist-packages/sklearn/linear_model/_coordinate_descent.py:648: ConvergenceWarning: Objective did not converge. You might want to increase the number of iterations, check the scale of the features or consider increasing regularisation. Duality gap: 3.441e+05, tolerance: 1.461e+02 Linear regression models with null weight for the l1 regularization term are more efficiently fitted using one of the solvers implemented in sklearn.linear_model.Ridge/RidgeCV instead.\n",
            "  coef_, l1_reg, l2_reg, X, y, max_iter, tol, rng, random, positive\n",
            "/usr/local/lib/python3.7/dist-packages/sklearn/linear_model/_coordinate_descent.py:648: ConvergenceWarning: Objective did not converge. You might want to increase the number of iterations, check the scale of the features or consider increasing regularisation. Duality gap: 3.599e+05, tolerance: 1.444e+02 Linear regression models with null weight for the l1 regularization term are more efficiently fitted using one of the solvers implemented in sklearn.linear_model.Ridge/RidgeCV instead.\n",
            "  coef_, l1_reg, l2_reg, X, y, max_iter, tol, rng, random, positive\n",
            "/usr/local/lib/python3.7/dist-packages/sklearn/linear_model/_coordinate_descent.py:648: ConvergenceWarning: Objective did not converge. You might want to increase the number of iterations, check the scale of the features or consider increasing regularisation. Duality gap: 3.566e+05, tolerance: 1.489e+02 Linear regression models with null weight for the l1 regularization term are more efficiently fitted using one of the solvers implemented in sklearn.linear_model.Ridge/RidgeCV instead.\n",
            "  coef_, l1_reg, l2_reg, X, y, max_iter, tol, rng, random, positive\n",
            "/usr/local/lib/python3.7/dist-packages/sklearn/linear_model/_coordinate_descent.py:648: ConvergenceWarning: Objective did not converge. You might want to increase the number of iterations, check the scale of the features or consider increasing regularisation. Duality gap: 3.483e+05, tolerance: 1.491e+02 Linear regression models with null weight for the l1 regularization term are more efficiently fitted using one of the solvers implemented in sklearn.linear_model.Ridge/RidgeCV instead.\n",
            "  coef_, l1_reg, l2_reg, X, y, max_iter, tol, rng, random, positive\n",
            "/usr/local/lib/python3.7/dist-packages/sklearn/linear_model/_coordinate_descent.py:648: ConvergenceWarning: Objective did not converge. You might want to increase the number of iterations, check the scale of the features or consider increasing regularisation. Duality gap: 3.389e+05, tolerance: 1.463e+02 Linear regression models with null weight for the l1 regularization term are more efficiently fitted using one of the solvers implemented in sklearn.linear_model.Ridge/RidgeCV instead.\n",
            "  coef_, l1_reg, l2_reg, X, y, max_iter, tol, rng, random, positive\n"
          ]
        },
        {
          "output_type": "stream",
          "name": "stdout",
          "text": [
            "ElasticNet(l1_ratio=0.3793103448275862)\n",
            "0.49028574375654443\n",
            "14.809710537236462\n",
            "407.8068719923441\n"
          ]
        }
      ]
    },
    {
      "cell_type": "code",
      "source": [
        "elastic_net = ElasticNet(l1_ratio=0.38).fit(X_train, y_train)\n",
        "y_preds = elastic_net.predict(X_test)\n",
        "print(r2_score(y_test, y_preds))\n",
        "print(mean_absolute_error(y_test, y_preds))\n",
        "print(mean_squared_error(y_test, y_preds))"
      ],
      "metadata": {
        "colab": {
          "base_uri": "https://localhost:8080/"
        },
        "id": "M1dIbOrXy21y",
        "outputId": "c0afa984-08aa-4eac-abc6-14993b945351"
      },
      "execution_count": null,
      "outputs": [
        {
          "output_type": "stream",
          "name": "stdout",
          "text": [
            "0.4902878521257279\n",
            "14.809705755163641\n",
            "407.80518515029263\n"
          ]
        }
      ]
    },
    {
      "cell_type": "code",
      "source": [
        "! pip install bayesian-optimization\n",
        "! pip install catboost"
      ],
      "metadata": {
        "id": "MZJKLSn7vGxT"
      },
      "execution_count": null,
      "outputs": []
    },
    {
      "cell_type": "markdown",
      "source": [
        "## Beyesian optimization for parameters used in Light GBM regressor model"
      ],
      "metadata": {
        "id": "sYLI4XmLP3V1"
      }
    },
    {
      "cell_type": "code",
      "source": [
        "import lightgbm\n",
        "from bayes_opt import BayesianOptimization\n",
        "from catboost import CatBoostClassifier, cv, Pool\n",
        "from lightgbm import LGBMRegressor"
      ],
      "metadata": {
        "id": "YIIDGRuYvK9V"
      },
      "execution_count": null,
      "outputs": []
    },
    {
      "cell_type": "code",
      "source": [
        "def lgb_eval(num_leaves,max_depth,lambda_l1, lambda_l2,learning_rate,min_child_samples, min_data_in_leaf):\n",
        "    params = {\n",
        "        \"lambda_l2\" : lambda_l2,\n",
        "        \"lambda_l1\" : lambda_l1,\n",
        "        \"num_threads\" : 20,\n",
        "        \"num_leaves\" : int(num_leaves),\n",
        "        \"max_depth\" : int(max_depth),\n",
        "        \"min_child_samples\" : int(min_child_samples),\n",
        "        'min_data_in_leaf': int(min_data_in_leaf),\n",
        "        \"learning_rate\" : learning_rate,\n",
        "        \"objective\" : \"regression\",\n",
        "        \"metric\" : \"mae\", \n",
        "        # 'is_unbalance': True,\n",
        "    }\n",
        "    lgtrain = lightgbm.Dataset(X_train, y_train)\n",
        "    cv_result = lightgbm.cv(params,\n",
        "                       lgtrain,\n",
        "                       1000,\n",
        "                       early_stopping_rounds=100,\n",
        "                       stratified=False,\n",
        "                       metrics='mae',\n",
        "                       nfold=3)\n",
        "    return cv_result['l1-mean'][-1]"
      ],
      "metadata": {
        "id": "GwuSlOn5vSO3"
      },
      "execution_count": null,
      "outputs": []
    },
    {
      "cell_type": "code",
      "source": [
        "lgbBO = BayesianOptimization(lgb_eval, {'num_leaves': (25, 4000),\n",
        "                                        'max_depth': (5, 63),\n",
        "                                        'lambda_l2': (0.0, 0.05),\n",
        "                                        'lambda_l1': (0.0, 0.05),\n",
        "                                        'min_child_samples': (50, 10000),\n",
        "                                        'min_data_in_leaf': (100, 2000),\n",
        "                                        'learning_rate': (1e-4, 1e-1),\n",
        "                                        })\n",
        "\n",
        "lgbBO.maximize(n_iter=10, init_points=2)"
      ],
      "metadata": {
        "colab": {
          "base_uri": "https://localhost:8080/"
        },
        "id": "KrRvrBgh3HmH",
        "outputId": "8ecf0b18-723d-4e93-e557-48e8b8c09549"
      },
      "execution_count": null,
      "outputs": [
        {
          "output_type": "stream",
          "name": "stdout",
          "text": [
            "|   iter    |  target   | lambda_l1 | lambda_l2 | learni... | max_depth | min_ch... | min_da... | num_le... |\n",
            "-------------------------------------------------------------------------------------------------------------\n",
            "| \u001b[0m 1       \u001b[0m | \u001b[0m 178.6   \u001b[0m | \u001b[0m 0.02553 \u001b[0m | \u001b[0m 0.03959 \u001b[0m | \u001b[0m 0.03556 \u001b[0m | \u001b[0m 15.65   \u001b[0m | \u001b[0m 4.95e+03\u001b[0m | \u001b[0m 895.1   \u001b[0m | \u001b[0m 3.884e+0\u001b[0m |\n",
            "| \u001b[0m 2       \u001b[0m | \u001b[0m 15.24   \u001b[0m | \u001b[0m 0.03197 \u001b[0m | \u001b[0m 0.000992\u001b[0m | \u001b[0m 0.01287 \u001b[0m | \u001b[0m 59.23   \u001b[0m | \u001b[0m 1.792e+0\u001b[0m | \u001b[0m 510.8   \u001b[0m | \u001b[0m 3.031e+0\u001b[0m |\n",
            "| \u001b[0m 3       \u001b[0m | \u001b[0m 178.6   \u001b[0m | \u001b[0m 0.009569\u001b[0m | \u001b[0m 0.03376 \u001b[0m | \u001b[0m 0.05555 \u001b[0m | \u001b[0m 44.63   \u001b[0m | \u001b[0m 8.238e+0\u001b[0m | \u001b[0m 1.678e+0\u001b[0m | \u001b[0m 1.264e+0\u001b[0m |\n",
            "| \u001b[0m 4       \u001b[0m | \u001b[0m 15.79   \u001b[0m | \u001b[0m 0.00144 \u001b[0m | \u001b[0m 0.03039 \u001b[0m | \u001b[0m 0.001155\u001b[0m | \u001b[0m 16.78   \u001b[0m | \u001b[0m 2.368e+0\u001b[0m | \u001b[0m 108.7   \u001b[0m | \u001b[0m 1.61e+03\u001b[0m |\n",
            "| \u001b[0m 5       \u001b[0m | \u001b[0m 11.53   \u001b[0m | \u001b[0m 0.05    \u001b[0m | \u001b[0m 0.05    \u001b[0m | \u001b[0m 0.1     \u001b[0m | \u001b[0m 5.0     \u001b[0m | \u001b[0m 8.058e+0\u001b[0m | \u001b[0m 100.0   \u001b[0m | \u001b[0m 4e+03   \u001b[0m |\n",
            "| \u001b[0m 6       \u001b[0m | \u001b[0m 14.8    \u001b[0m | \u001b[0m 0.01977 \u001b[0m | \u001b[0m 0.002226\u001b[0m | \u001b[0m 0.02652 \u001b[0m | \u001b[0m 7.476   \u001b[0m | \u001b[0m 7.559e+0\u001b[0m | \u001b[0m 477.9   \u001b[0m | \u001b[0m 2.378e+0\u001b[0m |\n",
            "| \u001b[0m 7       \u001b[0m | \u001b[0m 16.83   \u001b[0m | \u001b[0m 0.02399 \u001b[0m | \u001b[0m 0.04048 \u001b[0m | \u001b[0m 0.03645 \u001b[0m | \u001b[0m 20.83   \u001b[0m | \u001b[0m 8.704e+0\u001b[0m | \u001b[0m 760.6   \u001b[0m | \u001b[0m 3.171e+0\u001b[0m |\n",
            "| \u001b[0m 8       \u001b[0m | \u001b[0m 178.6   \u001b[0m | \u001b[0m 0.0     \u001b[0m | \u001b[0m 0.05    \u001b[0m | \u001b[0m 0.1     \u001b[0m | \u001b[0m 63.0    \u001b[0m | \u001b[0m 8.508e+0\u001b[0m | \u001b[0m 2e+03   \u001b[0m | \u001b[0m 399.8   \u001b[0m |\n",
            "| \u001b[0m 9       \u001b[0m | \u001b[0m 178.6   \u001b[0m | \u001b[0m 0.0     \u001b[0m | \u001b[0m 0.05    \u001b[0m | \u001b[0m 0.0001  \u001b[0m | \u001b[0m 63.0    \u001b[0m | \u001b[0m 6.866e+0\u001b[0m | \u001b[0m 2e+03   \u001b[0m | \u001b[0m 355.7   \u001b[0m |\n",
            "| \u001b[0m 10      \u001b[0m | \u001b[0m 178.6   \u001b[0m | \u001b[0m 0.0     \u001b[0m | \u001b[0m 0.05    \u001b[0m | \u001b[0m 0.1     \u001b[0m | \u001b[0m 63.0    \u001b[0m | \u001b[0m 5.11e+03\u001b[0m | \u001b[0m 2e+03   \u001b[0m | \u001b[0m 2.339e+0\u001b[0m |\n",
            "| \u001b[0m 11      \u001b[0m | \u001b[0m 178.6   \u001b[0m | \u001b[0m 0.01066 \u001b[0m | \u001b[0m 0.03041 \u001b[0m | \u001b[0m 0.1     \u001b[0m | \u001b[0m 63.0    \u001b[0m | \u001b[0m 4.653e+0\u001b[0m | \u001b[0m 2e+03   \u001b[0m | \u001b[0m 25.0    \u001b[0m |\n",
            "| \u001b[0m 12      \u001b[0m | \u001b[0m 178.6   \u001b[0m | \u001b[0m 0.004106\u001b[0m | \u001b[0m 0.034   \u001b[0m | \u001b[0m 0.03721 \u001b[0m | \u001b[0m 43.49   \u001b[0m | \u001b[0m 8.571e+0\u001b[0m | \u001b[0m 1.995e+0\u001b[0m | \u001b[0m 469.2   \u001b[0m |\n",
            "=============================================================================================================\n"
          ]
        }
      ]
    },
    {
      "cell_type": "code",
      "source": [
        "params = lgbBO.max['params']"
      ],
      "metadata": {
        "id": "A3NM5N0SLtca"
      },
      "execution_count": null,
      "outputs": []
    },
    {
      "cell_type": "code",
      "source": [
        "params['num_leaves'] = int(params['num_leaves'])\n",
        "params['max_depth'] = int(params['max_depth'])\n",
        "params['min_data_in_leaf'] = int(params['min_data_in_leaf'])"
      ],
      "metadata": {
        "id": "LnSZYMyi3USS"
      },
      "execution_count": null,
      "outputs": []
    },
    {
      "cell_type": "code",
      "source": [
        "light_model = LGBMRegressor(**params)"
      ],
      "metadata": {
        "id": "sorpZT-GVGCp"
      },
      "execution_count": null,
      "outputs": []
    },
    {
      "cell_type": "code",
      "source": [
        "light_model.fit(X_train, y_train)"
      ],
      "metadata": {
        "colab": {
          "base_uri": "https://localhost:8080/"
        },
        "id": "WCYmnDgCX7xC",
        "outputId": "c9e9c5c2-0b21-4c25-bd4b-f8f15496023f"
      },
      "execution_count": null,
      "outputs": [
        {
          "output_type": "execute_result",
          "data": {
            "text/plain": [
              "LGBMRegressor(lambda_l1=0.02552649376964952, lambda_l2=0.039589101486369155,\n",
              "              learning_rate=0.03556192267647465, max_depth=15,\n",
              "              min_child_samples=4950.270508977966, min_data_in_leaf=895,\n",
              "              num_leaves=3884)"
            ]
          },
          "metadata": {},
          "execution_count": 47
        }
      ]
    },
    {
      "cell_type": "code",
      "source": [
        "y_preds = light_model.predict(X_test)\n",
        "\n",
        "print(r2_score(y_test, y_preds))\n",
        "print(mean_absolute_error(y_test, y_preds))\n",
        "print(mean_squared_error(y_test, y_preds))"
      ],
      "metadata": {
        "colab": {
          "base_uri": "https://localhost:8080/"
        },
        "id": "QLVmguo1Zbao",
        "outputId": "ab0ee01f-f92e-48ab-de94-e2ced55eefb2"
      },
      "execution_count": null,
      "outputs": [
        {
          "output_type": "stream",
          "name": "stdout",
          "text": [
            "0.3339835373603467\n",
            "17.063091581558105\n",
            "532.8595129478886\n"
          ]
        }
      ]
    },
    {
      "cell_type": "markdown",
      "source": [
        "## The best model is the Gradient booster regressor model with MSE of 231, though it takes a long time to train with 5000 estimators."
      ],
      "metadata": {
        "id": "4GV-Vro2nEFp"
      }
    }
  ]
}