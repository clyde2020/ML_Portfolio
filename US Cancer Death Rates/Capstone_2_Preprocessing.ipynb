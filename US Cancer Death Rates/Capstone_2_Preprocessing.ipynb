{
  "nbformat": 4,
  "nbformat_minor": 0,
  "metadata": {
    "colab": {
      "name": "Capstone 2 - Preprocessing.ipynb",
      "provenance": [],
      "collapsed_sections": [],
      "machine_shape": "hm",
      "authorship_tag": "ABX9TyPOFVgTTIwqNTrSxQEqYF26",
      "include_colab_link": true
    },
    "kernelspec": {
      "name": "python3",
      "display_name": "Python 3"
    },
    "language_info": {
      "name": "python"
    },
    "accelerator": "GPU"
  },
  "cells": [
    {
      "cell_type": "markdown",
      "metadata": {
        "id": "view-in-github",
        "colab_type": "text"
      },
      "source": [
        "<a href=\"https://colab.research.google.com/github/clyde2020/ML_Portfolio/blob/main/US%20Cancer%20Death%20Rates/Capstone_2_Preprocessing.ipynb\" target=\"_parent\"><img src=\"https://colab.research.google.com/assets/colab-badge.svg\" alt=\"Open In Colab\"/></a>"
      ]
    },
    {
      "cell_type": "code",
      "source": [
        "!pip install featuretools==0.4.0 dask==0.19.4 distributed==1.23.3 tornado==5.0.0"
      ],
      "metadata": {
        "id": "2a7U5DT1uBrD"
      },
      "execution_count": null,
      "outputs": []
    },
    {
      "cell_type": "code",
      "execution_count": null,
      "metadata": {
        "id": "JMr2xrM8SKN3"
      },
      "outputs": [],
      "source": [
        "import pandas as pd\n",
        "import numpy as np\n",
        "import matplotlib.pyplot as plt\n",
        "import seaborn as sns\n",
        "from scipy.stats import norm\n",
        "from scipy.stats import t\n",
        "from numpy.random import seed\n",
        "\n",
        "from sklearn.model_selection import train_test_split\n",
        "from sklearn.preprocessing import scale\n",
        "from sklearn.model_selection import train_test_split, cross_validate, GridSearchCV, learning_curve\n",
        "from sklearn.preprocessing import StandardScaler, MinMaxScaler\n",
        "from sklearn.dummy import DummyRegressor\n",
        "from sklearn.linear_model import LinearRegression\n",
        "from sklearn.ensemble import RandomForestRegressor\n",
        "from sklearn.metrics import r2_score, mean_squared_error, mean_absolute_error\n",
        "from sklearn.pipeline import make_pipeline\n",
        "from sklearn.impute import SimpleImputer\n",
        "from sklearn.feature_selection import SelectKBest, f_regression\n",
        "import datetime\n",
        "from pathlib import Path\n",
        "\n",
        "import featuretools as ft\n",
        "\n",
        "# Useful for showing multiple outputs\n",
        "from IPython.core.interactiveshell import InteractiveShell"
      ]
    },
    {
      "cell_type": "markdown",
      "source": [
        "Get the data with imputations"
      ],
      "metadata": {
        "id": "VQAuKQ1bFD6p"
      }
    },
    {
      "cell_type": "code",
      "source": [
        "cancer = '/content/cancer_reg.csv'\n",
        "df = pd.read_csv(cancer, encoding='latin-1')\n",
        "df.PctPrivateCoverageAlone = df.PctPrivateCoverageAlone.fillna(df.PctPrivateCoverageAlone.mean())\n",
        "df.PctEmployed16_Over = df.PctEmployed16_Over.fillna(df.PctEmployed16_Over.mean())\n",
        "df = df[df.MedianAge < 70]\n",
        "df.drop(['Geography', 'binnedInc', 'PctSomeCol18_24'], axis=1, inplace=True)\n",
        "\n",
        "X = df.drop('TARGET_deathRate', axis=1)\n",
        "y = df['TARGET_deathRate']\n",
        "\n",
        "X_train, X_test, y_train, y_test = train_test_split(X, y, test_size=0.2, random_state=42)"
      ],
      "metadata": {
        "id": "fOTQqqx9SNNF"
      },
      "execution_count": null,
      "outputs": []
    },
    {
      "cell_type": "markdown",
      "source": [
        "Let's get the dummy regressor metrics as a baseline"
      ],
      "metadata": {
        "id": "RDejb6bzExVz"
      }
    },
    {
      "cell_type": "code",
      "source": [
        "train_mean = y_train.mean()\n",
        "\n",
        "dumb_reg = DummyRegressor(strategy='mean')\n",
        "dumb_reg.fit(X_train, y_train)\n",
        "dumb_reg.constant_\n",
        "\n",
        "y_tr_pred = dumb_reg.predict(X_train)\n",
        "y_te_pred = train_mean * np.ones(len(y_test))"
      ],
      "metadata": {
        "id": "JJUUoo6LSjdX",
        "colab": {
          "base_uri": "https://localhost:8080/"
        },
        "outputId": "485d51aa-fecf-4b90-c6e5-170ff1eb397d"
      },
      "execution_count": null,
      "outputs": [
        {
          "output_type": "execute_result",
          "data": {
            "text/plain": [
              "DummyRegressor()"
            ]
          },
          "metadata": {},
          "execution_count": 57
        },
        {
          "output_type": "execute_result",
          "data": {
            "text/plain": [
              "array([[178.5901782]])"
            ]
          },
          "metadata": {},
          "execution_count": 57
        }
      ]
    },
    {
      "cell_type": "code",
      "source": [
        "print(r2_score(y_test, y_te_pred))\n",
        "print(mean_squared_error(y_test, y_te_pred))\n",
        "print(mean_absolute_error(y_test, y_te_pred))"
      ],
      "metadata": {
        "colab": {
          "base_uri": "https://localhost:8080/"
        },
        "id": "EU9SltMmETrn",
        "outputId": "5b495dea-8a87-4a99-9e2c-a0e443d47ef6"
      },
      "execution_count": null,
      "outputs": [
        {
          "output_type": "stream",
          "name": "stdout",
          "text": [
            "-0.0001049627237619255\n",
            "800.153559600647\n",
            "21.765571764970662\n"
          ]
        }
      ]
    },
    {
      "cell_type": "markdown",
      "source": [
        "Get scaled data"
      ],
      "metadata": {
        "id": "nnxrwJDVFAEL"
      }
    },
    {
      "cell_type": "code",
      "source": [
        "ss = StandardScaler()\n",
        "X_train_scaled = ss.fit_transform(X_train)\n",
        "X_test_scaled = ss.transform(X_test)\n",
        "\n",
        "# lm = LinearRegression().fit(X_train_scaled, y_train)"
      ],
      "metadata": {
        "id": "6T9CFyqlGp_B"
      },
      "execution_count": null,
      "outputs": []
    },
    {
      "cell_type": "markdown",
      "source": [
        "Get data with no imputations for feeding into pipelines"
      ],
      "metadata": {
        "id": "sdCM3AGAFIbp"
      }
    },
    {
      "cell_type": "code",
      "source": [
        "cancer = '/content/cancer_reg.csv'\n",
        "df = pd.read_csv(cancer, encoding='latin-1')\n",
        "df = df[df.MedianAge < 70]\n",
        "df.drop(['Geography', 'binnedInc', 'PctSomeCol18_24'], axis=1, inplace=True)\n",
        "\n",
        "X = df.drop('TARGET_deathRate', axis=1)\n",
        "y = df['TARGET_deathRate']\n",
        "\n",
        "X_train, X_test, y_train, y_test = train_test_split(X, y, test_size=0.2, random_state=42)"
      ],
      "metadata": {
        "id": "wfJZrHTjvFcR"
      },
      "execution_count": null,
      "outputs": []
    },
    {
      "cell_type": "markdown",
      "source": [
        "Pipeline model with Linear regression."
      ],
      "metadata": {
        "id": "amT_eDFxFWLN"
      }
    },
    {
      "cell_type": "code",
      "source": [
        "pipe = make_pipeline(\n",
        "    SimpleImputer(strategy='mean'), \n",
        "    StandardScaler(), \n",
        "    SelectKBest(f_regression),\n",
        "    LinearRegression()\n",
        ")\n",
        "\n",
        "pipe.fit(X_train, y_train)\n",
        "\n",
        "y_train_pred = pipe.predict(X_train)\n",
        "y_test_pred = pipe.predict(X_test)\n",
        "\n",
        "print()\n",
        "print(r2_score(y_train, y_train_pred))\n",
        "print(r2_score(y_test, y_test_pred))\n",
        "print(mean_absolute_error(y_train, y_train_pred))\n",
        "print(mean_absolute_error(y_test, y_test_pred))"
      ],
      "metadata": {
        "id": "2xZXoq5mGWfK",
        "colab": {
          "base_uri": "https://localhost:8080/"
        },
        "outputId": "f545acd6-fdee-45e5-d4e0-a465bb1f24dc"
      },
      "execution_count": null,
      "outputs": [
        {
          "output_type": "stream",
          "name": "stdout",
          "text": [
            "\n",
            "0.4888589635269407\n",
            "0.4606108525099447\n",
            "14.74409748123871\n",
            "15.4203024862343\n"
          ]
        }
      ]
    },
    {
      "cell_type": "markdown",
      "source": [
        "Gridsearch for best Linear Regression model"
      ],
      "metadata": {
        "id": "gWnyNCm4G2EK"
      }
    },
    {
      "cell_type": "code",
      "source": [
        "k = [k+1 for k in range(len(X_train.columns))]\n",
        "grid_params = {'selectkbest__k': k}\n",
        "\n",
        "lr_grid_cv = GridSearchCV(pipe, param_grid=grid_params, cv=5, n_jobs=-1)\n",
        "lr_grid_cv.fit(X_train, y_train)\n",
        "\n",
        "print()\n",
        "print(lr_grid_cv.best_params_)\n",
        "print(lr_grid_cv.best_estimator_)"
      ],
      "metadata": {
        "id": "r0wBnMRkKGOd",
        "colab": {
          "base_uri": "https://localhost:8080/"
        },
        "outputId": "eef5e482-aaba-4fad-a9db-4cfd3587915b"
      },
      "execution_count": null,
      "outputs": [
        {
          "output_type": "stream",
          "name": "stdout",
          "text": [
            "\n",
            "{'selectkbest__k': 27}\n",
            "Pipeline(steps=[('simpleimputer', SimpleImputer()),\n",
            "                ('standardscaler', StandardScaler()),\n",
            "                ('selectkbest',\n",
            "                 SelectKBest(k=27,\n",
            "                             score_func=<function f_regression at 0x7f0fb72b3b00>)),\n",
            "                ('linearregression', LinearRegression())])\n"
          ]
        }
      ]
    },
    {
      "cell_type": "markdown",
      "source": [
        "Gridsearch for best Random forest model"
      ],
      "metadata": {
        "id": "ohp_fwoYG7oe"
      }
    },
    {
      "cell_type": "code",
      "source": [
        "RF_pipe = make_pipeline(\n",
        "    SimpleImputer(),\n",
        "    StandardScaler(), \n",
        "    RandomForestRegressor(random_state=47)\n",
        ")\n",
        "\n",
        "n_est = [int(n) for n in np.logspace(start=1, stop=3, num=20)]\n",
        "grid_params = {\n",
        "        'randomforestregressor__n_estimators': n_est,\n",
        "        'standardscaler': [StandardScaler(), None],\n",
        "        'simpleimputer__strategy': ['mean', 'median']\n",
        "}\n",
        "\n",
        "rf_grid_cv = GridSearchCV(RF_pipe, param_grid=grid_params, cv=5, n_jobs=-1)\n",
        "rf_grid_cv.fit(X_train, y_train)\n",
        "print(rf_grid_cv.best_params_)"
      ],
      "metadata": {
        "colab": {
          "base_uri": "https://localhost:8080/"
        },
        "id": "_xSotn9pSzjz",
        "outputId": "7f02cd1f-d6a3-4f5b-a03b-fbad1d02b45a"
      },
      "execution_count": null,
      "outputs": [
        {
          "output_type": "stream",
          "name": "stdout",
          "text": [
            "{'randomforestregressor__n_estimators': 784, 'simpleimputer__strategy': 'median', 'standardscaler': None}\n"
          ]
        }
      ]
    },
    {
      "cell_type": "markdown",
      "source": [
        "Random Forest has the best scores"
      ],
      "metadata": {
        "id": "W98HMMjYH2oj"
      }
    },
    {
      "cell_type": "code",
      "source": [
        "rf_best_cv_results = cross_validate(rf_grid_cv.best_estimator_, X_train, y_train, cv=5)\n",
        "rf_best_scores = rf_best_cv_results['test_score']\n",
        "np.mean(rf_best_scores), np.std(rf_best_scores)"
      ],
      "metadata": {
        "colab": {
          "base_uri": "https://localhost:8080/"
        },
        "id": "Mq-LyRdMS-cG",
        "outputId": "0abbe36e-03e4-4dbb-ef57-8f553a85bcb0"
      },
      "execution_count": null,
      "outputs": [
        {
          "output_type": "execute_result",
          "data": {
            "text/plain": [
              "(0.5426079420594067, 0.04875258831740505)"
            ]
          },
          "metadata": {},
          "execution_count": 66
        }
      ]
    },
    {
      "cell_type": "code",
      "source": [
        "cv_results = cross_validate(lr_grid_cv.best_estimator_, X_train, y_train, cv=5)\n",
        "cv_best_scores = cv_results['test_score']\n",
        "np.mean(cv_best_scores), np.std(cv_best_scores)"
      ],
      "metadata": {
        "id": "-LCk76LGVV4l",
        "colab": {
          "base_uri": "https://localhost:8080/"
        },
        "outputId": "01f29e21-04b5-4225-94f8-435472ab6c1b"
      },
      "execution_count": null,
      "outputs": [
        {
          "output_type": "execute_result",
          "data": {
            "text/plain": [
              "(0.509730766019896, 0.051952379722592125)"
            ]
          },
          "metadata": {},
          "execution_count": 67
        }
      ]
    },
    {
      "cell_type": "code",
      "source": [
        "cv_results_2 = cross_validate(lm, X_train_scaled, y_train)\n",
        "cv_2_scores = cv_results_2['test_score']\n",
        "np.mean(cv_2_scores), np.std(cv_2_scores)"
      ],
      "metadata": {
        "id": "qqhcgEtrWNhM",
        "colab": {
          "base_uri": "https://localhost:8080/"
        },
        "outputId": "af3abaa2-a32d-47e4-ee87-86ddc131ccee"
      },
      "execution_count": null,
      "outputs": [
        {
          "output_type": "execute_result",
          "data": {
            "text/plain": [
              "(0.5083389799932486, 0.050078582536126064)"
            ]
          },
          "metadata": {},
          "execution_count": 68
        }
      ]
    },
    {
      "cell_type": "markdown",
      "metadata": {
        "id": "88yGmZlCusxC"
      },
      "source": [
        "Linear regression model performance<a id='4.11.1_Linear_regression_model_performance'></a>"
      ]
    },
    {
      "cell_type": "code",
      "execution_count": null,
      "metadata": {
        "id": "cuhQ5UzyusxC"
      },
      "outputs": [],
      "source": [
        "# 'neg_mean_absolute_error' uses the (negative of) the mean absolute error\n",
        "lr_neg_mae = cross_validate(lr_grid_cv.best_estimator_, X_train, y_train, \n",
        "                            scoring='neg_mean_absolute_error', cv=5, n_jobs=-1)"
      ]
    },
    {
      "cell_type": "code",
      "execution_count": null,
      "metadata": {
        "colab": {
          "base_uri": "https://localhost:8080/"
        },
        "id": "XvcrIwVQusxC",
        "outputId": "b5d629db-370a-4d1d-d3a5-45e1efc54bdf"
      },
      "outputs": [
        {
          "output_type": "execute_result",
          "data": {
            "text/plain": [
              "(14.30536945859473, 0.39971850684976495)"
            ]
          },
          "metadata": {},
          "execution_count": 20
        }
      ],
      "source": [
        "lr_mae_mean = np.mean(-1 * lr_neg_mae['test_score'])\n",
        "lr_mae_std = np.std(-1 * lr_neg_mae['test_score'])\n",
        "lr_mae_mean, lr_mae_std"
      ]
    },
    {
      "cell_type": "code",
      "execution_count": null,
      "metadata": {
        "colab": {
          "base_uri": "https://localhost:8080/"
        },
        "id": "fW2LcAsjusxC",
        "outputId": "2ccf4e86-f739-49f4-827c-94cc789ad0dc"
      },
      "outputs": [
        {
          "output_type": "execute_result",
          "data": {
            "text/plain": [
              "14.75654072549843"
            ]
          },
          "metadata": {},
          "execution_count": 21
        }
      ],
      "source": [
        "mean_absolute_error(y_test, lr_grid_cv.best_estimator_.predict(X_test))"
      ]
    },
    {
      "cell_type": "markdown",
      "metadata": {
        "id": "4QJCYV7gusxC"
      },
      "source": [
        "Random forest regression model performance<a id='4.11.2_Random_forest_regression_model_performance'></a>"
      ]
    },
    {
      "cell_type": "code",
      "execution_count": null,
      "metadata": {
        "id": "rd5eGBalusxC"
      },
      "outputs": [],
      "source": [
        "rf_neg_mae = cross_validate(rf_grid_cv.best_estimator_, X_train, y_train, \n",
        "                            scoring='neg_mean_absolute_error', cv=5, n_jobs=-1)"
      ]
    },
    {
      "cell_type": "code",
      "execution_count": null,
      "metadata": {
        "colab": {
          "base_uri": "https://localhost:8080/"
        },
        "id": "i8g1qZNgusxC",
        "outputId": "8933310d-9eba-49e9-e9b6-1c35b06eb7b9"
      },
      "outputs": [
        {
          "output_type": "execute_result",
          "data": {
            "text/plain": [
              "(13.66200531565039, 0.2470278210794711)"
            ]
          },
          "metadata": {},
          "execution_count": 23
        }
      ],
      "source": [
        "rf_mae_mean = np.mean(-1 * rf_neg_mae['test_score'])\n",
        "rf_mae_std = np.std(-1 * rf_neg_mae['test_score'])\n",
        "rf_mae_mean, rf_mae_std"
      ]
    },
    {
      "cell_type": "code",
      "execution_count": null,
      "metadata": {
        "colab": {
          "base_uri": "https://localhost:8080/"
        },
        "id": "L5yqMaf1usxC",
        "outputId": "d2ed8cc2-38a1-4fc5-f9f3-f21b89b384f5"
      },
      "outputs": [
        {
          "output_type": "execute_result",
          "data": {
            "text/plain": [
              "14.112610868022688"
            ]
          },
          "metadata": {},
          "execution_count": 24
        }
      ],
      "source": [
        "mean_absolute_error(y_test, rf_grid_cv.best_estimator_.predict(X_test))"
      ]
    },
    {
      "cell_type": "markdown",
      "source": [
        "Automated feature engineering"
      ],
      "metadata": {
        "id": "RYhOpJrcG5dK"
      }
    },
    {
      "cell_type": "code",
      "source": [
        "InteractiveShell.ast_node_interactivity = \"all\"\n",
        "\n",
        "# make some folders we will need if they do not exist\n",
        "Path(\"./data\").mkdir(parents=True, exist_ok=True)"
      ],
      "metadata": {
        "id": "Aqb1D0pUZ6Is"
      },
      "execution_count": null,
      "outputs": []
    },
    {
      "cell_type": "code",
      "source": [
        "import featuretools.variable_types as vtypes\n",
        "\n",
        "# Make empty entityset\n",
        "es = ft.EntitySet(id = 'cancer_patients')"
      ],
      "metadata": {
        "id": "_2i7lDLlaOAc"
      },
      "execution_count": null,
      "outputs": []
    },
    {
      "cell_type": "code",
      "source": [
        "es.entity_from_dataframe(entity_id='patients', dataframe=X,\n",
        "                         index = 'index'\n",
        "                         )"
      ],
      "metadata": {
        "id": "SIUlanC0aXLM",
        "colab": {
          "base_uri": "https://localhost:8080/"
        },
        "outputId": "3f8dbb74-197c-4d44-fa7b-8e098171aaa3"
      },
      "execution_count": null,
      "outputs": [
        {
          "output_type": "stream",
          "name": "stdout",
          "text": [
            "2022-03-29 22:29:19,970 featuretools.entityset - WARNING    index index not found in dataframe, creating new integer column\n"
          ]
        },
        {
          "output_type": "execute_result",
          "data": {
            "text/plain": [
              "Entityset: cancer_patients\n",
              "  Entities:\n",
              "    patients [Rows: 3017, Columns: 31]\n",
              "  Relationships:\n",
              "    No relationships"
            ]
          },
          "metadata": {},
          "execution_count": 29
        }
      ]
    },
    {
      "cell_type": "code",
      "source": [
        "feature_defs = ft.dfs(entityset=es, target_entity='patients', \n",
        "                      cutoff_time = None,\n",
        "                      where_primitives = ['sum', 'mean'],\n",
        "                      max_depth=2, features_only=True)"
      ],
      "metadata": {
        "id": "O5GyCHARLWJb"
      },
      "execution_count": null,
      "outputs": []
    },
    {
      "cell_type": "code",
      "source": [
        "print(f'This will generate {len(feature_defs)} features.')"
      ],
      "metadata": {
        "id": "eBX2wp5VLbhH",
        "colab": {
          "base_uri": "https://localhost:8080/"
        },
        "outputId": "fb8dff7e-7710-4e44-bee0-591f06d97ccc"
      },
      "execution_count": null,
      "outputs": [
        {
          "output_type": "stream",
          "name": "stdout",
          "text": [
            "This will generate 30 features.\n"
          ]
        }
      ]
    },
    {
      "cell_type": "code",
      "source": [
        "all_p = ft.list_primitives()\n",
        "len(all_p)"
      ],
      "metadata": {
        "id": "MnrcD_HgasWv",
        "colab": {
          "base_uri": "https://localhost:8080/"
        },
        "outputId": "0c579672-7ace-4a74-e9fd-7933b646cfc8"
      },
      "execution_count": null,
      "outputs": [
        {
          "output_type": "execute_result",
          "data": {
            "text/plain": [
              "62"
            ]
          },
          "metadata": {},
          "execution_count": 34
        }
      ]
    },
    {
      "cell_type": "code",
      "source": [
        "trans_p = all_p.loc[all_p['type'] == 'transform'].copy()\n",
        "agg_p = all_p.loc[all_p['type'] == 'aggregation'].copy()"
      ],
      "metadata": {
        "id": "41CxmLuZL1XT"
      },
      "execution_count": null,
      "outputs": []
    },
    {
      "cell_type": "code",
      "source": [
        "pd.options.display.max_colwidth = 100\n",
        "trans_p"
      ],
      "metadata": {
        "id": "MPCjDwdxzux2"
      },
      "execution_count": null,
      "outputs": []
    },
    {
      "cell_type": "code",
      "source": [
        "pd.options.display.max_colwidth = 100\n",
        "agg_p"
      ],
      "metadata": {
        "id": "uxWA8AVvz9vj"
      },
      "execution_count": null,
      "outputs": []
    },
    {
      "cell_type": "code",
      "source": [
        ""
      ],
      "metadata": {
        "id": "b92aKbBV-qBU"
      },
      "execution_count": null,
      "outputs": []
    }
  ]
}