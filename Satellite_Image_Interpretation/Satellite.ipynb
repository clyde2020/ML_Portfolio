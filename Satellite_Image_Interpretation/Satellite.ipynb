{
  "nbformat": 4,
  "nbformat_minor": 0,
  "metadata": {
    "colab": {
      "name": "Satellite.ipynb",
      "provenance": [],
      "collapsed_sections": [
        "6k2T0kbjxMwb",
        "cf4gzP6LqE7m",
        "9RUcVka4qLqw",
        "8_6oxv52qVao",
        "xC_8BAmKuI9g"
      ],
      "machine_shape": "hm",
      "authorship_tag": "ABX9TyONmQhMwZe5mvao/wjtz1em",
      "include_colab_link": true
    },
    "kernelspec": {
      "name": "python3",
      "display_name": "Python 3"
    },
    "language_info": {
      "name": "python"
    }
  },
  "cells": [
    {
      "cell_type": "markdown",
      "metadata": {
        "id": "view-in-github",
        "colab_type": "text"
      },
      "source": [
        "<a href=\"https://colab.research.google.com/github/clyde2020/ML_Portfolio/blob/main/Satellite.ipynb\" target=\"_parent\"><img src=\"https://colab.research.google.com/assets/colab-badge.svg\" alt=\"Open In Colab\"/></a>"
      ]
    },
    {
      "cell_type": "markdown",
      "source": [
        "## Import Libraries"
      ],
      "metadata": {
        "id": "6k2T0kbjxMwb"
      }
    },
    {
      "cell_type": "code",
      "execution_count": null,
      "metadata": {
        "colab": {
          "base_uri": "https://localhost:8080/"
        },
        "id": "2_Y06BEcRCRT",
        "outputId": "3b3d373a-d8b7-4ac4-d6c2-3dcf24580f8d"
      },
      "outputs": [
        {
          "output_type": "stream",
          "name": "stdout",
          "text": [
            "\u001b[?25l\r\u001b[K     |███▍                            | 10 kB 22.8 MB/s eta 0:00:01\r\u001b[K     |██████▊                         | 20 kB 29.7 MB/s eta 0:00:01\r\u001b[K     |██████████                      | 30 kB 35.7 MB/s eta 0:00:01\r\u001b[K     |█████████████▍                  | 40 kB 39.3 MB/s eta 0:00:01\r\u001b[K     |████████████████▊               | 51 kB 41.8 MB/s eta 0:00:01\r\u001b[K     |████████████████████            | 61 kB 45.2 MB/s eta 0:00:01\r\u001b[K     |███████████████████████▍        | 71 kB 29.4 MB/s eta 0:00:01\r\u001b[K     |██████████████████████████▊     | 81 kB 29.7 MB/s eta 0:00:01\r\u001b[K     |██████████████████████████████  | 92 kB 31.7 MB/s eta 0:00:01\r\u001b[K     |████████████████████████████████| 98 kB 5.6 MB/s \n",
            "\u001b[?25hMounted at /content/gdrive\n"
          ]
        }
      ],
      "source": [
        "import pandas as pd\n",
        "import numpy as np\n",
        "import os\n",
        "import shutil\n",
        "from shutil import copyfile\n",
        "from tensorflow.keras.preprocessing.image import ImageDataGenerator\n",
        "import tensorflow as tf\n",
        "from tensorflow.keras.optimizers import RMSprop, Adam\n",
        "import matplotlib.pyplot as plt\n",
        "import random\n",
        "!pip install keras-tuner -q\n",
        "from keras_tuner import RandomSearch\n",
        "from keras.callbacks import ModelCheckpoint, EarlyStopping\n",
        "from keras.models import load_model, Model, Sequential\n",
        "import pickle\n",
        "from sklearn.utils import shuffle\n",
        "from sklearn.model_selection import train_test_split\n",
        "from sklearn.metrics import auc, roc_curve\n",
        "from keras.callbacks import ReduceLROnPlateau\n",
        "import cv2\n",
        "\n",
        "from PIL import Image\n",
        "from tensorflow.keras.utils import load_img, img_to_array, to_categorical\n",
        "from tqdm import tqdm\n",
        "import keras\n",
        "from keras.layers import (BatchNormalization, Dense, GlobalAveragePooling2D, \n",
        "                          Lambda, Dropout, InputLayer, Input, GlobalMaxPooling2D\n",
        ")\n",
        "\n",
        "from google.colab import drive\n",
        "drive.mount('/content/gdrive')"
      ]
    },
    {
      "cell_type": "markdown",
      "source": [
        "## Initialize variables"
      ],
      "metadata": {
        "id": "cf4gzP6LqE7m"
      }
    },
    {
      "cell_type": "code",
      "source": [
        "labels = ['cloudy', 'desert', 'green_area', 'water']\n",
        "sample = 1100\n",
        "split = int(0.1 * sample)\n",
        "image_size = (256, 256, 3)\n",
        "batch_size = 16\n",
        "num_class = len(labels)\n",
        "\n",
        "source_folder = '/content/gdrive/MyDrive/Satellite/data'\n",
        "train_folder = '/content/gdrive/MyDrive/Satellite/Train5'\n",
        "valid_folder = '/content/gdrive/MyDrive/Satellite/Valid5'"
      ],
      "metadata": {
        "id": "5t-jtG8zN9Bl"
      },
      "execution_count": null,
      "outputs": []
    },
    {
      "cell_type": "markdown",
      "source": [
        "## View Image"
      ],
      "metadata": {
        "id": "9RUcVka4qLqw"
      }
    },
    {
      "cell_type": "code",
      "source": [
        "def get_image(path):\n",
        "  im_bgr = cv2.imread(path)\n",
        "  im_rgb = cv2.cvtColor(im_bgr, cv2.COLOR_BGR2RGB)\n",
        "  return im_rgb"
      ],
      "metadata": {
        "id": "ABFuiYdI1Jvz"
      },
      "execution_count": null,
      "outputs": []
    },
    {
      "cell_type": "code",
      "source": [
        "path = '/content/gdrive/MyDrive/Satellite/data/desert/desert(58).jpg'\n",
        "new_image = get_image(path=path)\n",
        "plt.imshow(new_image)\n",
        "plt.show()\n",
        "print(new_image.shape)"
      ],
      "metadata": {
        "colab": {
          "base_uri": "https://localhost:8080/",
          "height": 286
        },
        "id": "xGUScajLSak3",
        "outputId": "3d4247d8-f9d0-498c-c520-13c2b953d45e"
      },
      "execution_count": null,
      "outputs": [
        {
          "output_type": "display_data",
          "data": {
            "image/png": "[encoded data removed]",
            "text/plain": [
              "<Figure size 432x288 with 1 Axes>"
            ]
          },
          "metadata": {
            "needs_background": "light"
          }
        },
        {
          "output_type": "stream",
          "name": "stdout",
          "text": [
            "(256, 256, 3)\n"
          ]
        }
      ]
    },
    {
      "cell_type": "markdown",
      "source": [
        "##Process data for Image dataframe"
      ],
      "metadata": {
        "id": "8_6oxv52qVao"
      }
    },
    {
      "cell_type": "code",
      "source": [
        "os.mkdir(train_folder)\n",
        "os.mkdir(valid_folder)\n",
        "\n",
        "for num in range(len(labels)):\n",
        "  os.mkdir('{}/{}'.format(train_folder, labels[num]))\n",
        "  os.mkdir('{}/{}'.format(valid_folder, labels[num]))"
      ],
      "metadata": {
        "id": "wsSJyqKjSkdx"
      },
      "execution_count": null,
      "outputs": []
    },
    {
      "cell_type": "code",
      "source": [
        "def copy_data(cat, label):\n",
        "  source = '{}/{}'.format(source_folder, cat)\n",
        "  source_list = os.listdir(source)\n",
        "  df_tmp = pd.DataFrame({'id': source_list, 'label': label})\n",
        "  df_tmp_1 = df_tmp.sample(sample)\n",
        "  df_tmp_1 = shuffle(df_tmp_1)\n",
        "  v_list = list(df_tmp_1['id'][:split])\n",
        "  t_list = list(df_tmp_1['id'][split:])\n",
        "  \n",
        "  dest_train = '{}/{}'.format(train_folder, cat)\n",
        "  dest_valid = '{}/{}'.format(valid_folder, cat)\n",
        "\n",
        "  for fname in t_list:\n",
        "    origin = os.path.join(source, fname)\n",
        "    shutil.copy(src=origin, dst=dest_train)\n",
        "  for fname in v_list:\n",
        "    origin = os.path.join(source, fname)\n",
        "    shutil.copy(src=origin, dst=dest_valid)\n",
        "  \n",
        "  return df_tmp_1"
      ],
      "metadata": {
        "id": "xkDW2ndPjycF"
      },
      "execution_count": null,
      "outputs": []
    },
    {
      "cell_type": "code",
      "source": [
        "df_c = copy_data(labels[0], 0)\n",
        "df_d = copy_data(labels[1], 1)\n",
        "df_g = copy_data(labels[2], 2)\n",
        "df_w = copy_data(labels[3], 3)"
      ],
      "metadata": {
        "id": "vcb6zZA4jye8"
      },
      "execution_count": null,
      "outputs": []
    },
    {
      "cell_type": "code",
      "source": [
        "# Put into single dataframe\n",
        "df = pd.concat([df_c, df_d, df_g, df_w], axis=0).reset_index(drop=True)"
      ],
      "metadata": {
        "id": "VisJpOdgJFts"
      },
      "execution_count": null,
      "outputs": []
    },
    {
      "cell_type": "markdown",
      "source": [
        "# Transfer learning"
      ],
      "metadata": {
        "id": "-3sYqWEQqd00"
      }
    },
    {
      "cell_type": "markdown",
      "source": [
        "## Process data for Transfer learning"
      ],
      "metadata": {
        "id": "rlr1lcTeuerr"
      }
    },
    {
      "cell_type": "code",
      "source": [
        "def get_data(source):\n",
        "  # Initialize variables\n",
        "  folders = os.listdir(source)\n",
        "  image_list = []\n",
        "\n",
        "  # Add image names to list\n",
        "  for folder in folders:\n",
        "    files_list = os.listdir('{}/{}'.format(source, folder))\n",
        "    for file in files_list: \n",
        "      image_list.append(file)\n",
        "\n",
        "  # Set up one-hot vector labels\n",
        "  df_images = df[df['id'].isin(image_list)]\n",
        "  y = list(df_images['label'])\n",
        "  y = to_categorical(y)\n",
        "\n",
        "  # Initialize variables\n",
        "  data_size = len(y)\n",
        "  X = np.zeros([data_size, image_size[0], image_size[1], image_size[2]])\n",
        "  i = 0\n",
        "\n",
        "  # Set up image array\n",
        "  for folder in folders:\n",
        "    files_list = os.listdir('{}/{}'.format(source, folder))\n",
        "    for file in files_list: \n",
        "      path = '{}/{}/{}'.format(source, folder, file)\n",
        "      image = load_img(path, \n",
        "                      target_size=image_size)\n",
        "      image = img_to_array(image)\n",
        "      image = image * (1. / 255)\n",
        "      X[i] = image\n",
        "      i += 1\n",
        "\n",
        "  return X, y"
      ],
      "metadata": {
        "id": "fzyg2wBYtCRK"
      },
      "execution_count": null,
      "outputs": []
    },
    {
      "cell_type": "code",
      "source": [
        "X_train, y_train = get_data(source=train_folder)\n",
        "X_valid, y_valid = get_data(source=valid_folder)"
      ],
      "metadata": {
        "id": "mDB2Kmbh9wd7"
      },
      "execution_count": null,
      "outputs": []
    },
    {
      "cell_type": "markdown",
      "source": [
        "## Get Feature maps from Pretrained models"
      ],
      "metadata": {
        "id": "xC_8BAmKuI9g"
      }
    },
    {
      "cell_type": "code",
      "source": [
        "def get_features(model_name, data_preprocessor, input_size, data):\n",
        "  input_layer = Input(input_size)\n",
        "  preprocessor = Lambda(data_preprocessor)(input_layer)\n",
        "  base_model = model_name(weights='imagenet',\n",
        "                          include_top=False,\n",
        "                          input_shape=input_size)(preprocessor)\n",
        "  avg = GlobalAveragePooling2D()(base_model)\n",
        "  feature_extractor = Model(inputs=input_layer,\n",
        "                            outputs=avg)\n",
        "  \n",
        "  feature_maps = feature_extractor.predict(data, \n",
        "                                           batch_size=batch_size, \n",
        "                                           verbose=1)\n",
        "  print('Feature maps shape: ', feature_maps.shape)\n",
        "  return feature_maps"
      ],
      "metadata": {
        "id": "PoSWZI1uVSHL"
      },
      "execution_count": null,
      "outputs": []
    },
    {
      "cell_type": "code",
      "source": [
        "from keras.applications.inception_v3 import InceptionV3, preprocess_input\n",
        "\n",
        "inception_preprocessor = preprocess_input\n",
        "inception_features = get_features(InceptionV3,\n",
        "                                  inception_preprocessor,\n",
        "                                  image_size,\n",
        "                                  X_train)\n",
        "\n",
        "from keras.applications.xception import Xception, preprocess_input\n",
        "\n",
        "xception_preprocessor = preprocess_input\n",
        "xception_features = get_features(Xception,\n",
        "                                 xception_preprocessor,\n",
        "                                 image_size,\n",
        "                                 X_train)\n",
        "\n",
        "from tensorflow.keras.applications.resnet50 import ResNet50, preprocess_input\n",
        "\n",
        "resnet50_preprocessor = preprocess_input\n",
        "resnet50_features = get_features(ResNet50,\n",
        "                                 resnet50_preprocessor,\n",
        "                                 image_size,\n",
        "                                 X_train)\n",
        "\n",
        "from keras.applications.inception_resnet_v2 import InceptionResNetV2, preprocess_input\n",
        "\n",
        "inc_resnet_preprocessor = preprocess_input\n",
        "inc_resnet_features = get_features(InceptionResNetV2,\n",
        "                                   inc_resnet_preprocessor,\n",
        "                                   image_size,\n",
        "                                   X_train)\n",
        "\n",
        "from tensorflow.keras.applications.vgg16 import VGG16, preprocess_input\n",
        "\n",
        "vgg_preprocessor = preprocess_input\n",
        "vgg_features = get_features(VGG16,\n",
        "                            vgg_preprocessor,\n",
        "                            image_size,\n",
        "                            X_train)"
      ],
      "metadata": {
        "colab": {
          "base_uri": "https://localhost:8080/"
        },
        "id": "yf1EISw6VSJz",
        "outputId": "6387707d-a557-4e85-ab41-3878eb76aa97"
      },
      "execution_count": null,
      "outputs": [
        {
          "output_type": "stream",
          "name": "stdout",
          "text": [
            "Downloading data from https://storage.googleapis.com/tensorflow/keras-applications/inception_v3/inception_v3_weights_tf_dim_ordering_tf_kernels_notop.h5\n",
            "87916544/87910968 [==============================] - 0s 0us/step\n",
            "87924736/87910968 [==============================] - 0s 0us/step\n",
            "248/248 [==============================] - 56s 220ms/step\n",
            "Feature maps shape:  (3960, 2048)\n",
            "Downloading data from https://storage.googleapis.com/tensorflow/keras-applications/xception/xception_weights_tf_dim_ordering_tf_kernels_notop.h5\n",
            "83689472/83683744 [==============================] - 1s 0us/step\n",
            "83697664/83683744 [==============================] - 1s 0us/step\n",
            "248/248 [==============================] - 92s 368ms/step\n",
            "Feature maps shape:  (3960, 2048)\n",
            "Downloading data from https://storage.googleapis.com/tensorflow/keras-applications/resnet/resnet50_weights_tf_dim_ordering_tf_kernels_notop.h5\n",
            "94773248/94765736 [==============================] - 0s 0us/step\n",
            "94781440/94765736 [==============================] - 0s 0us/step\n",
            "248/248 [==============================] - 94s 375ms/step\n",
            "Feature maps shape:  (3960, 2048)\n",
            "Downloading data from https://storage.googleapis.com/tensorflow/keras-applications/inception_resnet_v2/inception_resnet_v2_weights_tf_dim_ordering_tf_kernels_notop.h5\n",
            "219062272/219055592 [==============================] - 1s 0us/step\n",
            "219070464/219055592 [==============================] - 1s 0us/step\n",
            "248/248 [==============================] - 139s 548ms/step\n",
            "Feature maps shape:  (3960, 1536)\n",
            "Downloading data from https://storage.googleapis.com/tensorflow/keras-applications/vgg16/vgg16_weights_tf_dim_ordering_tf_kernels_notop.h5\n",
            "58892288/58889256 [==============================] - 0s 0us/step\n",
            "58900480/58889256 [==============================] - 0s 0us/step\n",
            "248/248 [==============================] - 177s 714ms/step\n",
            "Feature maps shape:  (3960, 512)\n"
          ]
        }
      ]
    },
    {
      "cell_type": "code",
      "source": [
        "final_features_train = np.concatenate([inception_features,\n",
        "                                 xception_features,\n",
        "                                 inc_resnet_features,\n",
        "                                 resnet50_features,\n",
        "                                 vgg_features],\n",
        "                                axis=-1)\n",
        "print('Final feature maps shape ', final_features_train.shape)"
      ],
      "metadata": {
        "colab": {
          "base_uri": "https://localhost:8080/"
        },
        "id": "b7hFxzlhemvq",
        "outputId": "48fa0355-0b04-445b-abbf-6cbba9f125b3"
      },
      "execution_count": null,
      "outputs": [
        {
          "output_type": "stream",
          "name": "stdout",
          "text": [
            "Final feature maps shape  (3960, 8192)\n"
          ]
        }
      ]
    },
    {
      "cell_type": "code",
      "source": [
        "from keras.applications.inception_v3 import InceptionV3, preprocess_input\n",
        "\n",
        "inception_preprocessor = preprocess_input\n",
        "inception_features = get_features(InceptionV3,\n",
        "                                  inception_preprocessor,\n",
        "                                  image_size,\n",
        "                                  X_valid)\n",
        "\n",
        "from keras.applications.xception import Xception, preprocess_input\n",
        "\n",
        "xception_preprocessor = preprocess_input\n",
        "xception_features = get_features(Xception,\n",
        "                                 xception_preprocessor,\n",
        "                                 image_size,\n",
        "                                 X_valid)\n",
        "\n",
        "from tensorflow.keras.applications.resnet50 import ResNet50, preprocess_input\n",
        "\n",
        "resnet50_preprocessor = preprocess_input\n",
        "resnet50_features = get_features(ResNet50,\n",
        "                                 resnet50_preprocessor,\n",
        "                                 image_size,\n",
        "                                 X_valid)\n",
        "\n",
        "from keras.applications.inception_resnet_v2 import InceptionResNetV2, preprocess_input\n",
        "\n",
        "inc_resnet_preprocessor = preprocess_input\n",
        "inc_resnet_features = get_features(InceptionResNetV2,\n",
        "                                   inc_resnet_preprocessor,\n",
        "                                   image_size,\n",
        "                                   X_valid)\n",
        "\n",
        "from tensorflow.keras.applications.vgg16 import VGG16, preprocess_input\n",
        "\n",
        "vgg_preprocessor = preprocess_input\n",
        "vgg_features = get_features(VGG16,\n",
        "                            vgg_preprocessor,\n",
        "                            image_size,\n",
        "                            X_valid)"
      ],
      "metadata": {
        "colab": {
          "base_uri": "https://localhost:8080/"
        },
        "id": "vuQssd8NoAB5",
        "outputId": "ec4f653a-b734-49df-afa0-6666bdb7b6a8"
      },
      "execution_count": null,
      "outputs": [
        {
          "output_type": "stream",
          "name": "stdout",
          "text": [
            "28/28 [==============================] - 7s 216ms/step\n",
            "Feature maps shape:  (440, 2048)\n",
            "28/28 [==============================] - 10s 339ms/step\n",
            "Feature maps shape:  (440, 2048)\n",
            "28/28 [==============================] - 11s 347ms/step\n",
            "Feature maps shape:  (440, 2048)\n",
            "28/28 [==============================] - 19s 551ms/step\n",
            "Feature maps shape:  (440, 1536)\n",
            "28/28 [==============================] - 19s 658ms/step\n",
            "Feature maps shape:  (440, 512)\n"
          ]
        }
      ]
    },
    {
      "cell_type": "code",
      "source": [
        "final_features_valid = np.concatenate([inception_features,\n",
        "                                 xception_features,\n",
        "                                 inc_resnet_features,\n",
        "                                 resnet50_features,\n",
        "                                 vgg_features],\n",
        "                                axis=-1)\n",
        "print('Final feature maps shape ', final_features_valid.shape)"
      ],
      "metadata": {
        "colab": {
          "base_uri": "https://localhost:8080/"
        },
        "id": "yuGshaUtoAGW",
        "outputId": "a587cd47-14fd-40e0-a60e-979ac234ef6b"
      },
      "execution_count": null,
      "outputs": [
        {
          "output_type": "stream",
          "name": "stdout",
          "text": [
            "Final feature maps shape  (440, 8192)\n"
          ]
        }
      ]
    },
    {
      "cell_type": "markdown",
      "source": [
        "## Define and execute Transfer learning model"
      ],
      "metadata": {
        "id": "VEpa0LpDuVZ-"
      }
    },
    {
      "cell_type": "code",
      "source": [
        "dnn = Sequential([InputLayer(final_features_train.shape[1:]),\n",
        "                  Dropout(0.7),\n",
        "                  Dense(num_class, activation='softmax')\n",
        "                  ])\n",
        "\n",
        "optimizer = tf.keras.optimizers.Adam(learning_rate=3e-2)\n",
        "\n",
        "dnn.compile(optimizer=optimizer,\n",
        "            loss='categorical_crossentropy',\n",
        "            metrics=['accuracy'])\n",
        "\n",
        "reduce_lr = ReduceLROnPlateau(monitor='accuracy',\n",
        "                              factor=0.8,\n",
        "                              patience=3,\n",
        "                              cooldown=2,\n",
        "                              min_lr=1e-4\n",
        "                              )\n",
        "\n",
        "mc = ModelCheckpoint(monitor='val_accuracy', \n",
        "                     filepath='/content/gdrive/MyDrive/Satellite/Saved_data/Xfer_bestmodel_011322.h5', \n",
        "                     verbose=1, \n",
        "                     save_best_only=True, \n",
        "                     mode='max'\n",
        "                     )\n",
        "\n",
        "cb = [reduce_lr, mc]"
      ],
      "metadata": {
        "id": "LrwqRhs0emz5"
      },
      "execution_count": null,
      "outputs": []
    },
    {
      "cell_type": "code",
      "source": [
        "history = dnn.fit(final_features_train,\n",
        "                  y_train,\n",
        "                  batch_size=batch_size,\n",
        "                  epochs=100,\n",
        "                  validation_data=(final_features_valid, y_valid),\n",
        "                  callbacks=cb\n",
        "                  )"
      ],
      "metadata": {
        "colab": {
          "base_uri": "https://localhost:8080/"
        },
        "id": "r0I8DIMgffcW",
        "outputId": "0a80572e-8698-41a5-e1e7-f925b12e03f8"
      },
      "execution_count": null,
      "outputs": [
        {
          "output_type": "stream",
          "name": "stdout",
          "text": [
            "Epoch 1/100\n",
            "245/248 [============================>.] - ETA: 0s - loss: 6.0576 - accuracy: 0.3051\n",
            "Epoch 00001: val_accuracy improved from -inf to 0.72045, saving model to /content/gdrive/MyDrive/Satellite/Saved_data/Xfer_bestmodel_011322.h5\n",
            "248/248 [==============================] - 2s 5ms/step - loss: 6.0486 - accuracy: 0.3058 - val_loss: 0.8720 - val_accuracy: 0.7205 - lr: 0.0300\n",
            "Epoch 2/100\n",
            "245/248 [============================>.] - ETA: 0s - loss: 5.6672 - accuracy: 0.3758\n",
            "Epoch 00002: val_accuracy did not improve from 0.72045\n",
            "248/248 [==============================] - 1s 4ms/step - loss: 5.6742 - accuracy: 0.3758 - val_loss: 6.4955 - val_accuracy: 0.4045 - lr: 0.0300\n",
            "Epoch 3/100\n",
            "247/248 [============================>.] - ETA: 0s - loss: 5.6860 - accuracy: 0.4218\n",
            "Epoch 00003: val_accuracy did not improve from 0.72045\n",
            "248/248 [==============================] - 1s 4ms/step - loss: 5.6843 - accuracy: 0.4220 - val_loss: 3.2638 - val_accuracy: 0.3909 - lr: 0.0300\n",
            "Epoch 4/100\n",
            "234/248 [===========================>..] - ETA: 0s - loss: 5.6056 - accuracy: 0.4354\n",
            "Epoch 00004: val_accuracy did not improve from 0.72045\n",
            "248/248 [==============================] - 1s 4ms/step - loss: 5.5359 - accuracy: 0.4404 - val_loss: 1.9770 - val_accuracy: 0.5864 - lr: 0.0300\n",
            "Epoch 5/100\n",
            "243/248 [============================>.] - ETA: 0s - loss: 5.9601 - accuracy: 0.4552\n",
            "Epoch 00005: val_accuracy did not improve from 0.72045\n",
            "248/248 [==============================] - 1s 3ms/step - loss: 5.9389 - accuracy: 0.4573 - val_loss: 1.7527 - val_accuracy: 0.5568 - lr: 0.0300\n",
            "Epoch 6/100\n",
            "246/248 [============================>.] - ETA: 0s - loss: 6.1564 - accuracy: 0.4721\n",
            "Epoch 00006: val_accuracy did not improve from 0.72045\n",
            "248/248 [==============================] - 1s 3ms/step - loss: 6.1674 - accuracy: 0.4725 - val_loss: 2.1852 - val_accuracy: 0.5705 - lr: 0.0300\n",
            "Epoch 7/100\n",
            "240/248 [============================>.] - ETA: 0s - loss: 5.9941 - accuracy: 0.4805\n",
            "Epoch 00007: val_accuracy did not improve from 0.72045\n",
            "248/248 [==============================] - 1s 4ms/step - loss: 6.0080 - accuracy: 0.4808 - val_loss: 9.8744 - val_accuracy: 0.5000 - lr: 0.0300\n",
            "Epoch 8/100\n",
            "235/248 [===========================>..] - ETA: 0s - loss: 6.0982 - accuracy: 0.4840\n",
            "Epoch 00008: val_accuracy improved from 0.72045 to 0.81818, saving model to /content/gdrive/MyDrive/Satellite/Saved_data/Xfer_bestmodel_011322.h5\n",
            "248/248 [==============================] - 1s 4ms/step - loss: 6.0575 - accuracy: 0.4866 - val_loss: 0.9403 - val_accuracy: 0.8182 - lr: 0.0300\n",
            "Epoch 9/100\n",
            "236/248 [===========================>..] - ETA: 0s - loss: 5.7471 - accuracy: 0.5021\n",
            "Epoch 00009: val_accuracy did not improve from 0.81818\n",
            "248/248 [==============================] - 1s 4ms/step - loss: 5.6993 - accuracy: 0.5035 - val_loss: 1.2837 - val_accuracy: 0.7250 - lr: 0.0300\n",
            "Epoch 10/100\n",
            "246/248 [============================>.] - ETA: 0s - loss: 5.6212 - accuracy: 0.5097\n",
            "Epoch 00010: val_accuracy did not improve from 0.81818\n",
            "248/248 [==============================] - 1s 3ms/step - loss: 5.6291 - accuracy: 0.5093 - val_loss: 0.7777 - val_accuracy: 0.8114 - lr: 0.0300\n",
            "Epoch 11/100\n",
            "244/248 [============================>.] - ETA: 0s - loss: 5.6370 - accuracy: 0.5307\n",
            "Epoch 00011: val_accuracy did not improve from 0.81818\n",
            "248/248 [==============================] - 1s 3ms/step - loss: 5.6351 - accuracy: 0.5316 - val_loss: 2.0045 - val_accuracy: 0.6068 - lr: 0.0300\n",
            "Epoch 12/100\n",
            "238/248 [===========================>..] - ETA: 0s - loss: 5.4687 - accuracy: 0.5242\n",
            "Epoch 00012: val_accuracy improved from 0.81818 to 0.82045, saving model to /content/gdrive/MyDrive/Satellite/Saved_data/Xfer_bestmodel_011322.h5\n",
            "248/248 [==============================] - 1s 4ms/step - loss: 5.4811 - accuracy: 0.5237 - val_loss: 0.4473 - val_accuracy: 0.8205 - lr: 0.0300\n",
            "Epoch 13/100\n",
            "231/248 [==========================>...] - ETA: 0s - loss: 5.6925 - accuracy: 0.5257\n",
            "Epoch 00013: val_accuracy did not improve from 0.82045\n",
            "248/248 [==============================] - 1s 3ms/step - loss: 5.7096 - accuracy: 0.5301 - val_loss: 1.1565 - val_accuracy: 0.6705 - lr: 0.0300\n",
            "Epoch 14/100\n",
            "233/248 [===========================>..] - ETA: 0s - loss: 5.5052 - accuracy: 0.5437\n",
            "Epoch 00014: val_accuracy improved from 0.82045 to 0.87045, saving model to /content/gdrive/MyDrive/Satellite/Saved_data/Xfer_bestmodel_011322.h5\n",
            "248/248 [==============================] - 1s 3ms/step - loss: 5.4197 - accuracy: 0.5470 - val_loss: 0.5052 - val_accuracy: 0.8705 - lr: 0.0300\n",
            "Epoch 15/100\n",
            "246/248 [============================>.] - ETA: 0s - loss: 6.0134 - accuracy: 0.5325\n",
            "Epoch 00015: val_accuracy did not improve from 0.87045\n",
            "248/248 [==============================] - 1s 3ms/step - loss: 6.0142 - accuracy: 0.5321 - val_loss: 1.5200 - val_accuracy: 0.6591 - lr: 0.0300\n",
            "Epoch 16/100\n",
            "235/248 [===========================>..] - ETA: 0s - loss: 6.5138 - accuracy: 0.5282\n",
            "Epoch 00016: val_accuracy did not improve from 0.87045\n",
            "248/248 [==============================] - 1s 4ms/step - loss: 6.4967 - accuracy: 0.5288 - val_loss: 1.7390 - val_accuracy: 0.6341 - lr: 0.0300\n",
            "Epoch 17/100\n",
            "238/248 [===========================>..] - ETA: 0s - loss: 6.0672 - accuracy: 0.5428\n",
            "Epoch 00017: val_accuracy did not improve from 0.87045\n",
            "248/248 [==============================] - 1s 4ms/step - loss: 5.9952 - accuracy: 0.5452 - val_loss: 2.4797 - val_accuracy: 0.6136 - lr: 0.0300\n",
            "Epoch 18/100\n",
            "244/248 [============================>.] - ETA: 0s - loss: 5.0871 - accuracy: 0.5658\n",
            "Epoch 00018: val_accuracy improved from 0.87045 to 0.89318, saving model to /content/gdrive/MyDrive/Satellite/Saved_data/Xfer_bestmodel_011322.h5\n",
            "248/248 [==============================] - 1s 4ms/step - loss: 5.0629 - accuracy: 0.5674 - val_loss: 0.6407 - val_accuracy: 0.8932 - lr: 0.0240\n",
            "Epoch 19/100\n",
            "238/248 [===========================>..] - ETA: 0s - loss: 4.9248 - accuracy: 0.5741\n",
            "Epoch 00019: val_accuracy did not improve from 0.89318\n",
            "248/248 [==============================] - 1s 4ms/step - loss: 4.9571 - accuracy: 0.5742 - val_loss: 2.8123 - val_accuracy: 0.5932 - lr: 0.0240\n",
            "Epoch 20/100\n",
            "238/248 [===========================>..] - ETA: 0s - loss: 4.6637 - accuracy: 0.5746\n",
            "Epoch 00020: val_accuracy did not improve from 0.89318\n",
            "248/248 [==============================] - 1s 4ms/step - loss: 4.6575 - accuracy: 0.5755 - val_loss: 1.1472 - val_accuracy: 0.7932 - lr: 0.0240\n",
            "Epoch 21/100\n",
            "245/248 [============================>.] - ETA: 0s - loss: 4.4648 - accuracy: 0.5860\n",
            "Epoch 00021: val_accuracy did not improve from 0.89318\n",
            "248/248 [==============================] - 1s 4ms/step - loss: 4.4453 - accuracy: 0.5861 - val_loss: 2.8429 - val_accuracy: 0.5068 - lr: 0.0240\n",
            "Epoch 22/100\n",
            "231/248 [==========================>...] - ETA: 0s - loss: 4.9277 - accuracy: 0.5644\n",
            "Epoch 00022: val_accuracy did not improve from 0.89318\n",
            "248/248 [==============================] - 1s 3ms/step - loss: 4.9213 - accuracy: 0.5662 - val_loss: 1.1404 - val_accuracy: 0.7818 - lr: 0.0240\n",
            "Epoch 23/100\n",
            "247/248 [============================>.] - ETA: 0s - loss: 4.3850 - accuracy: 0.5967\n",
            "Epoch 00023: val_accuracy did not improve from 0.89318\n",
            "248/248 [==============================] - 1s 3ms/step - loss: 4.3938 - accuracy: 0.5965 - val_loss: 1.9687 - val_accuracy: 0.6545 - lr: 0.0240\n",
            "Epoch 24/100\n",
            "244/248 [============================>.] - ETA: 0s - loss: 4.8412 - accuracy: 0.5971\n",
            "Epoch 00024: val_accuracy did not improve from 0.89318\n",
            "248/248 [==============================] - 1s 3ms/step - loss: 4.8286 - accuracy: 0.5977 - val_loss: 1.3453 - val_accuracy: 0.7205 - lr: 0.0240\n",
            "Epoch 25/100\n",
            "244/248 [============================>.] - ETA: 0s - loss: 4.5933 - accuracy: 0.5894\n",
            "Epoch 00025: val_accuracy did not improve from 0.89318\n",
            "248/248 [==============================] - 1s 3ms/step - loss: 4.5588 - accuracy: 0.5907 - val_loss: 0.8904 - val_accuracy: 0.7841 - lr: 0.0240\n",
            "Epoch 26/100\n",
            "237/248 [===========================>..] - ETA: 0s - loss: 4.6230 - accuracy: 0.5973\n",
            "Epoch 00026: val_accuracy did not improve from 0.89318\n",
            "248/248 [==============================] - 1s 4ms/step - loss: 4.6962 - accuracy: 0.5937 - val_loss: 1.4318 - val_accuracy: 0.7159 - lr: 0.0240\n",
            "Epoch 27/100\n",
            "242/248 [============================>.] - ETA: 0s - loss: 4.7764 - accuracy: 0.5839\n",
            "Epoch 00027: val_accuracy did not improve from 0.89318\n",
            "248/248 [==============================] - 1s 3ms/step - loss: 4.8926 - accuracy: 0.5806 - val_loss: 2.1906 - val_accuracy: 0.6341 - lr: 0.0240\n",
            "Epoch 28/100\n",
            "247/248 [============================>.] - ETA: 0s - loss: 4.3555 - accuracy: 0.6098\n",
            "Epoch 00028: val_accuracy did not improve from 0.89318\n",
            "248/248 [==============================] - 1s 4ms/step - loss: 4.3584 - accuracy: 0.6093 - val_loss: 1.9227 - val_accuracy: 0.6773 - lr: 0.0192\n",
            "Epoch 29/100\n",
            "240/248 [============================>.] - ETA: 0s - loss: 3.9784 - accuracy: 0.6224\n",
            "Epoch 00029: val_accuracy did not improve from 0.89318\n",
            "248/248 [==============================] - 1s 4ms/step - loss: 3.9662 - accuracy: 0.6222 - val_loss: 1.7562 - val_accuracy: 0.6727 - lr: 0.0192\n",
            "Epoch 30/100\n",
            "234/248 [===========================>..] - ETA: 0s - loss: 4.0724 - accuracy: 0.6130\n",
            "Epoch 00030: val_accuracy did not improve from 0.89318\n",
            "248/248 [==============================] - 1s 4ms/step - loss: 4.0386 - accuracy: 0.6129 - val_loss: 1.4509 - val_accuracy: 0.6841 - lr: 0.0192\n",
            "Epoch 31/100\n",
            "235/248 [===========================>..] - ETA: 0s - loss: 3.5101 - accuracy: 0.6332\n",
            "Epoch 00031: val_accuracy did not improve from 0.89318\n",
            "248/248 [==============================] - 1s 4ms/step - loss: 3.5235 - accuracy: 0.6303 - val_loss: 1.5948 - val_accuracy: 0.7432 - lr: 0.0192\n",
            "Epoch 32/100\n",
            "246/248 [============================>.] - ETA: 0s - loss: 3.8130 - accuracy: 0.6184\n",
            "Epoch 00032: val_accuracy improved from 0.89318 to 0.91136, saving model to /content/gdrive/MyDrive/Satellite/Saved_data/Xfer_bestmodel_011322.h5\n",
            "248/248 [==============================] - 1s 4ms/step - loss: 3.8068 - accuracy: 0.6184 - val_loss: 0.4012 - val_accuracy: 0.9114 - lr: 0.0192\n",
            "Epoch 33/100\n",
            "245/248 [============================>.] - ETA: 0s - loss: 3.3703 - accuracy: 0.6431\n",
            "Epoch 00033: val_accuracy did not improve from 0.91136\n",
            "248/248 [==============================] - 1s 3ms/step - loss: 3.3735 - accuracy: 0.6424 - val_loss: 0.4645 - val_accuracy: 0.8386 - lr: 0.0192\n",
            "Epoch 34/100\n",
            "248/248 [==============================] - ETA: 0s - loss: 3.9373 - accuracy: 0.6162\n",
            "Epoch 00034: val_accuracy did not improve from 0.91136\n",
            "248/248 [==============================] - 1s 3ms/step - loss: 3.9373 - accuracy: 0.6162 - val_loss: 1.1913 - val_accuracy: 0.6864 - lr: 0.0192\n",
            "Epoch 35/100\n",
            "245/248 [============================>.] - ETA: 0s - loss: 3.6436 - accuracy: 0.6276\n",
            "Epoch 00035: val_accuracy did not improve from 0.91136\n",
            "248/248 [==============================] - 1s 3ms/step - loss: 3.6380 - accuracy: 0.6275 - val_loss: 0.5655 - val_accuracy: 0.8045 - lr: 0.0192\n",
            "Epoch 36/100\n",
            "244/248 [============================>.] - ETA: 0s - loss: 3.6148 - accuracy: 0.6304\n",
            "Epoch 00036: val_accuracy did not improve from 0.91136\n",
            "248/248 [==============================] - 1s 3ms/step - loss: 3.5954 - accuracy: 0.6311 - val_loss: 0.4013 - val_accuracy: 0.8750 - lr: 0.0192\n",
            "Epoch 37/100\n",
            "238/248 [===========================>..] - ETA: 0s - loss: 3.4769 - accuracy: 0.6392\n",
            "Epoch 00037: val_accuracy did not improve from 0.91136\n",
            "248/248 [==============================] - 1s 4ms/step - loss: 3.4646 - accuracy: 0.6391 - val_loss: 0.8513 - val_accuracy: 0.7886 - lr: 0.0154\n",
            "Epoch 38/100\n",
            "246/248 [============================>.] - ETA: 0s - loss: 3.1487 - accuracy: 0.6479\n",
            "Epoch 00038: val_accuracy did not improve from 0.91136\n",
            "248/248 [==============================] - 1s 3ms/step - loss: 3.1552 - accuracy: 0.6472 - val_loss: 2.2013 - val_accuracy: 0.7341 - lr: 0.0154\n",
            "Epoch 39/100\n",
            "245/248 [============================>.] - ETA: 0s - loss: 3.2766 - accuracy: 0.6357\n",
            "Epoch 00039: val_accuracy did not improve from 0.91136\n",
            "248/248 [==============================] - 1s 3ms/step - loss: 3.2676 - accuracy: 0.6374 - val_loss: 1.5917 - val_accuracy: 0.7409 - lr: 0.0154\n",
            "Epoch 40/100\n",
            "240/248 [============================>.] - ETA: 0s - loss: 3.1068 - accuracy: 0.6404\n",
            "Epoch 00040: val_accuracy did not improve from 0.91136\n",
            "248/248 [==============================] - 1s 4ms/step - loss: 3.1020 - accuracy: 0.6417 - val_loss: 1.0951 - val_accuracy: 0.7773 - lr: 0.0154\n",
            "Epoch 41/100\n",
            "245/248 [============================>.] - ETA: 0s - loss: 3.0517 - accuracy: 0.6429\n",
            "Epoch 00041: val_accuracy did not improve from 0.91136\n",
            "248/248 [==============================] - 1s 3ms/step - loss: 3.0392 - accuracy: 0.6439 - val_loss: 0.3946 - val_accuracy: 0.8727 - lr: 0.0154\n",
            "Epoch 42/100\n",
            "242/248 [============================>.] - ETA: 0s - loss: 2.8249 - accuracy: 0.6596\n",
            "Epoch 00042: val_accuracy did not improve from 0.91136\n",
            "248/248 [==============================] - 1s 3ms/step - loss: 2.8278 - accuracy: 0.6588 - val_loss: 1.2698 - val_accuracy: 0.7545 - lr: 0.0123\n",
            "Epoch 43/100\n",
            "237/248 [===========================>..] - ETA: 0s - loss: 2.7410 - accuracy: 0.6680\n",
            "Epoch 00043: val_accuracy did not improve from 0.91136\n",
            "248/248 [==============================] - 1s 4ms/step - loss: 2.7690 - accuracy: 0.6657 - val_loss: 0.5618 - val_accuracy: 0.8591 - lr: 0.0123\n",
            "Epoch 44/100\n",
            "243/248 [============================>.] - ETA: 0s - loss: 2.6276 - accuracy: 0.6734\n",
            "Epoch 00044: val_accuracy did not improve from 0.91136\n",
            "248/248 [==============================] - 1s 3ms/step - loss: 2.6144 - accuracy: 0.6753 - val_loss: 1.0950 - val_accuracy: 0.7455 - lr: 0.0123\n",
            "Epoch 45/100\n",
            "242/248 [============================>.] - ETA: 0s - loss: 2.7294 - accuracy: 0.6612\n",
            "Epoch 00045: val_accuracy did not improve from 0.91136\n",
            "248/248 [==============================] - 1s 3ms/step - loss: 2.7432 - accuracy: 0.6598 - val_loss: 0.8370 - val_accuracy: 0.7864 - lr: 0.0123\n",
            "Epoch 46/100\n",
            "243/248 [============================>.] - ETA: 0s - loss: 2.5713 - accuracy: 0.6734\n",
            "Epoch 00046: val_accuracy did not improve from 0.91136\n",
            "248/248 [==============================] - 1s 4ms/step - loss: 2.5738 - accuracy: 0.6735 - val_loss: 1.1715 - val_accuracy: 0.7500 - lr: 0.0123\n",
            "Epoch 47/100\n",
            "240/248 [============================>.] - ETA: 0s - loss: 2.6051 - accuracy: 0.6687\n",
            "Epoch 00047: val_accuracy did not improve from 0.91136\n",
            "248/248 [==============================] - 1s 4ms/step - loss: 2.6047 - accuracy: 0.6702 - val_loss: 0.4057 - val_accuracy: 0.8591 - lr: 0.0123\n",
            "Epoch 48/100\n",
            "248/248 [==============================] - ETA: 0s - loss: 2.5553 - accuracy: 0.6689\n",
            "Epoch 00048: val_accuracy did not improve from 0.91136\n",
            "248/248 [==============================] - 1s 4ms/step - loss: 2.5553 - accuracy: 0.6689 - val_loss: 0.3551 - val_accuracy: 0.8955 - lr: 0.0098\n",
            "Epoch 49/100\n",
            "244/248 [============================>.] - ETA: 0s - loss: 2.3292 - accuracy: 0.6806\n",
            "Epoch 00049: val_accuracy did not improve from 0.91136\n",
            "248/248 [==============================] - 1s 3ms/step - loss: 2.3240 - accuracy: 0.6806 - val_loss: 0.6707 - val_accuracy: 0.7818 - lr: 0.0098\n",
            "Epoch 50/100\n",
            "240/248 [============================>.] - ETA: 0s - loss: 2.0994 - accuracy: 0.6930\n",
            "Epoch 00050: val_accuracy improved from 0.91136 to 0.93636, saving model to /content/gdrive/MyDrive/Satellite/Saved_data/Xfer_bestmodel_011322.h5\n",
            "248/248 [==============================] - 1s 4ms/step - loss: 2.1100 - accuracy: 0.6937 - val_loss: 0.2958 - val_accuracy: 0.9364 - lr: 0.0098\n",
            "Epoch 51/100\n",
            "247/248 [============================>.] - ETA: 0s - loss: 2.3066 - accuracy: 0.6840\n",
            "Epoch 00051: val_accuracy did not improve from 0.93636\n",
            "248/248 [==============================] - 1s 4ms/step - loss: 2.3095 - accuracy: 0.6838 - val_loss: 0.5906 - val_accuracy: 0.8273 - lr: 0.0098\n",
            "Epoch 52/100\n",
            "237/248 [===========================>..] - ETA: 0s - loss: 2.1855 - accuracy: 0.6806\n",
            "Epoch 00052: val_accuracy did not improve from 0.93636\n",
            "248/248 [==============================] - 1s 4ms/step - loss: 2.1734 - accuracy: 0.6816 - val_loss: 0.5267 - val_accuracy: 0.8000 - lr: 0.0098\n",
            "Epoch 53/100\n",
            "243/248 [============================>.] - ETA: 0s - loss: 2.2217 - accuracy: 0.6798\n",
            "Epoch 00053: val_accuracy did not improve from 0.93636\n",
            "248/248 [==============================] - 1s 3ms/step - loss: 2.2139 - accuracy: 0.6793 - val_loss: 0.7410 - val_accuracy: 0.7750 - lr: 0.0098\n",
            "Epoch 54/100\n",
            "247/248 [============================>.] - ETA: 0s - loss: 1.8328 - accuracy: 0.7095\n",
            "Epoch 00054: val_accuracy did not improve from 0.93636\n",
            "248/248 [==============================] - 1s 4ms/step - loss: 1.8331 - accuracy: 0.7093 - val_loss: 0.6127 - val_accuracy: 0.8068 - lr: 0.0079\n",
            "Epoch 55/100\n",
            "239/248 [===========================>..] - ETA: 0s - loss: 1.9604 - accuracy: 0.7074\n",
            "Epoch 00055: val_accuracy did not improve from 0.93636\n",
            "248/248 [==============================] - 1s 4ms/step - loss: 1.9496 - accuracy: 0.7078 - val_loss: 0.2663 - val_accuracy: 0.9295 - lr: 0.0079\n",
            "Epoch 56/100\n",
            "233/248 [===========================>..] - ETA: 0s - loss: 1.9917 - accuracy: 0.6913\n",
            "Epoch 00056: val_accuracy did not improve from 0.93636\n",
            "248/248 [==============================] - 1s 4ms/step - loss: 1.9557 - accuracy: 0.6952 - val_loss: 0.3649 - val_accuracy: 0.8773 - lr: 0.0079\n",
            "Epoch 57/100\n",
            "245/248 [============================>.] - ETA: 0s - loss: 1.9519 - accuracy: 0.7013\n",
            "Epoch 00057: val_accuracy did not improve from 0.93636\n",
            "248/248 [==============================] - 1s 4ms/step - loss: 1.9508 - accuracy: 0.7015 - val_loss: 0.3477 - val_accuracy: 0.8977 - lr: 0.0079\n",
            "Epoch 58/100\n",
            "247/248 [============================>.] - ETA: 0s - loss: 1.9152 - accuracy: 0.7029\n",
            "Epoch 00058: val_accuracy did not improve from 0.93636\n",
            "248/248 [==============================] - 1s 4ms/step - loss: 1.9116 - accuracy: 0.7035 - val_loss: 1.3071 - val_accuracy: 0.7364 - lr: 0.0063\n",
            "Epoch 59/100\n",
            "238/248 [===========================>..] - ETA: 0s - loss: 1.7614 - accuracy: 0.7127\n",
            "Epoch 00059: val_accuracy improved from 0.93636 to 0.93864, saving model to /content/gdrive/MyDrive/Satellite/Saved_data/Xfer_bestmodel_011322.h5\n",
            "248/248 [==============================] - 1s 4ms/step - loss: 1.7693 - accuracy: 0.7111 - val_loss: 0.2867 - val_accuracy: 0.9386 - lr: 0.0063\n",
            "Epoch 60/100\n",
            "240/248 [============================>.] - ETA: 0s - loss: 1.6795 - accuracy: 0.7234\n",
            "Epoch 00060: val_accuracy did not improve from 0.93864\n",
            "248/248 [==============================] - 1s 4ms/step - loss: 1.6640 - accuracy: 0.7255 - val_loss: 0.3231 - val_accuracy: 0.9364 - lr: 0.0063\n",
            "Epoch 61/100\n",
            "248/248 [==============================] - ETA: 0s - loss: 1.7460 - accuracy: 0.7104\n",
            "Epoch 00061: val_accuracy did not improve from 0.93864\n",
            "248/248 [==============================] - 1s 3ms/step - loss: 1.7460 - accuracy: 0.7104 - val_loss: 0.3028 - val_accuracy: 0.8818 - lr: 0.0063\n",
            "Epoch 62/100\n",
            "245/248 [============================>.] - ETA: 0s - loss: 1.5861 - accuracy: 0.7235\n",
            "Epoch 00062: val_accuracy did not improve from 0.93864\n",
            "248/248 [==============================] - 1s 3ms/step - loss: 1.5786 - accuracy: 0.7240 - val_loss: 0.3011 - val_accuracy: 0.8841 - lr: 0.0063\n",
            "Epoch 63/100\n",
            "245/248 [============================>.] - ETA: 0s - loss: 1.5793 - accuracy: 0.7232\n",
            "Epoch 00063: val_accuracy did not improve from 0.93864\n",
            "248/248 [==============================] - 1s 3ms/step - loss: 1.5815 - accuracy: 0.7220 - val_loss: 0.5184 - val_accuracy: 0.7955 - lr: 0.0063\n",
            "Epoch 64/100\n",
            "232/248 [===========================>..] - ETA: 0s - loss: 1.5656 - accuracy: 0.7282\n",
            "Epoch 00064: val_accuracy did not improve from 0.93864\n",
            "248/248 [==============================] - 1s 4ms/step - loss: 1.5545 - accuracy: 0.7275 - val_loss: 0.2643 - val_accuracy: 0.9114 - lr: 0.0050\n",
            "Epoch 65/100\n",
            "240/248 [============================>.] - ETA: 0s - loss: 1.5061 - accuracy: 0.7292\n",
            "Epoch 00065: val_accuracy did not improve from 0.93864\n",
            "248/248 [==============================] - 1s 4ms/step - loss: 1.4864 - accuracy: 0.7295 - val_loss: 0.2623 - val_accuracy: 0.9091 - lr: 0.0050\n",
            "Epoch 66/100\n",
            "243/248 [============================>.] - ETA: 0s - loss: 1.4840 - accuracy: 0.7325\n",
            "Epoch 00066: val_accuracy did not improve from 0.93864\n",
            "248/248 [==============================] - 1s 3ms/step - loss: 1.4769 - accuracy: 0.7333 - val_loss: 0.4093 - val_accuracy: 0.8432 - lr: 0.0050\n",
            "Epoch 67/100\n",
            "233/248 [===========================>..] - ETA: 0s - loss: 1.4309 - accuracy: 0.7280\n",
            "Epoch 00067: val_accuracy improved from 0.93864 to 0.94091, saving model to /content/gdrive/MyDrive/Satellite/Saved_data/Xfer_bestmodel_011322.h5\n",
            "248/248 [==============================] - 1s 4ms/step - loss: 1.4139 - accuracy: 0.7301 - val_loss: 0.2480 - val_accuracy: 0.9409 - lr: 0.0050\n",
            "Epoch 68/100\n",
            "245/248 [============================>.] - ETA: 0s - loss: 1.4247 - accuracy: 0.7316\n",
            "Epoch 00068: val_accuracy did not improve from 0.94091\n",
            "248/248 [==============================] - 1s 3ms/step - loss: 1.4256 - accuracy: 0.7318 - val_loss: 0.2792 - val_accuracy: 0.9000 - lr: 0.0050\n",
            "Epoch 69/100\n",
            "234/248 [===========================>..] - ETA: 0s - loss: 1.4087 - accuracy: 0.7273\n",
            "Epoch 00069: val_accuracy did not improve from 0.94091\n",
            "248/248 [==============================] - 1s 3ms/step - loss: 1.4038 - accuracy: 0.7275 - val_loss: 0.3678 - val_accuracy: 0.8432 - lr: 0.0050\n",
            "Epoch 70/100\n",
            "237/248 [===========================>..] - ETA: 0s - loss: 1.3734 - accuracy: 0.7416\n",
            "Epoch 00070: val_accuracy improved from 0.94091 to 0.96364, saving model to /content/gdrive/MyDrive/Satellite/Saved_data/Xfer_bestmodel_011322.h5\n",
            "248/248 [==============================] - 1s 3ms/step - loss: 1.3605 - accuracy: 0.7432 - val_loss: 0.1886 - val_accuracy: 0.9636 - lr: 0.0040\n",
            "Epoch 71/100\n",
            "235/248 [===========================>..] - ETA: 0s - loss: 1.2802 - accuracy: 0.7500\n",
            "Epoch 00071: val_accuracy did not improve from 0.96364\n",
            "248/248 [==============================] - 1s 3ms/step - loss: 1.2936 - accuracy: 0.7480 - val_loss: 0.2103 - val_accuracy: 0.9523 - lr: 0.0040\n",
            "Epoch 72/100\n",
            "237/248 [===========================>..] - ETA: 0s - loss: 1.3283 - accuracy: 0.7489\n",
            "Epoch 00072: val_accuracy did not improve from 0.96364\n",
            "248/248 [==============================] - 1s 3ms/step - loss: 1.3455 - accuracy: 0.7467 - val_loss: 0.1836 - val_accuracy: 0.9636 - lr: 0.0040\n",
            "Epoch 73/100\n",
            "238/248 [===========================>..] - ETA: 0s - loss: 1.2601 - accuracy: 0.7516\n",
            "Epoch 00073: val_accuracy did not improve from 0.96364\n",
            "248/248 [==============================] - 1s 3ms/step - loss: 1.2678 - accuracy: 0.7490 - val_loss: 0.2254 - val_accuracy: 0.9455 - lr: 0.0040\n",
            "Epoch 74/100\n",
            "236/248 [===========================>..] - ETA: 0s - loss: 1.3186 - accuracy: 0.7357\n",
            "Epoch 00074: val_accuracy did not improve from 0.96364\n",
            "248/248 [==============================] - 1s 3ms/step - loss: 1.3343 - accuracy: 0.7346 - val_loss: 0.2725 - val_accuracy: 0.9045 - lr: 0.0040\n",
            "Epoch 75/100\n",
            "237/248 [===========================>..] - ETA: 0s - loss: 1.3093 - accuracy: 0.7489\n",
            "Epoch 00075: val_accuracy did not improve from 0.96364\n",
            "248/248 [==============================] - 1s 3ms/step - loss: 1.2955 - accuracy: 0.7500 - val_loss: 0.2254 - val_accuracy: 0.9455 - lr: 0.0040\n",
            "Epoch 76/100\n",
            "245/248 [============================>.] - ETA: 0s - loss: 1.2329 - accuracy: 0.7474\n",
            "Epoch 00076: val_accuracy did not improve from 0.96364\n",
            "248/248 [==============================] - 1s 3ms/step - loss: 1.2374 - accuracy: 0.7467 - val_loss: 0.2304 - val_accuracy: 0.9136 - lr: 0.0040\n",
            "Epoch 77/100\n",
            "238/248 [===========================>..] - ETA: 0s - loss: 1.2505 - accuracy: 0.7526\n",
            "Epoch 00077: val_accuracy did not improve from 0.96364\n",
            "248/248 [==============================] - 1s 3ms/step - loss: 1.2413 - accuracy: 0.7530 - val_loss: 0.2444 - val_accuracy: 0.9159 - lr: 0.0040\n",
            "Epoch 78/100\n",
            "248/248 [==============================] - ETA: 0s - loss: 1.3851 - accuracy: 0.7306\n",
            "Epoch 00078: val_accuracy did not improve from 0.96364\n",
            "248/248 [==============================] - 1s 3ms/step - loss: 1.3851 - accuracy: 0.7306 - val_loss: 0.4566 - val_accuracy: 0.8159 - lr: 0.0040\n",
            "Epoch 79/100\n",
            "240/248 [============================>.] - ETA: 0s - loss: 1.2691 - accuracy: 0.7471\n",
            "Epoch 00079: val_accuracy did not improve from 0.96364\n",
            "248/248 [==============================] - 1s 3ms/step - loss: 1.2675 - accuracy: 0.7465 - val_loss: 0.2131 - val_accuracy: 0.9500 - lr: 0.0040\n",
            "Epoch 80/100\n",
            "245/248 [============================>.] - ETA: 0s - loss: 1.2199 - accuracy: 0.7523\n",
            "Epoch 00080: val_accuracy did not improve from 0.96364\n",
            "248/248 [==============================] - 1s 3ms/step - loss: 1.2245 - accuracy: 0.7528 - val_loss: 0.1808 - val_accuracy: 0.9591 - lr: 0.0040\n",
            "Epoch 81/100\n",
            "242/248 [============================>.] - ETA: 0s - loss: 1.1917 - accuracy: 0.7557\n",
            "Epoch 00081: val_accuracy did not improve from 0.96364\n",
            "248/248 [==============================] - 1s 3ms/step - loss: 1.1858 - accuracy: 0.7571 - val_loss: 0.2925 - val_accuracy: 0.9114 - lr: 0.0032\n",
            "Epoch 82/100\n",
            "236/248 [===========================>..] - ETA: 0s - loss: 1.2292 - accuracy: 0.7489\n",
            "Epoch 00082: val_accuracy did not improve from 0.96364\n",
            "248/248 [==============================] - 1s 3ms/step - loss: 1.2140 - accuracy: 0.7508 - val_loss: 0.2381 - val_accuracy: 0.9227 - lr: 0.0032\n",
            "Epoch 83/100\n",
            "238/248 [===========================>..] - ETA: 0s - loss: 1.2672 - accuracy: 0.7476\n",
            "Epoch 00083: val_accuracy did not improve from 0.96364\n",
            "248/248 [==============================] - 1s 3ms/step - loss: 1.2599 - accuracy: 0.7495 - val_loss: 0.1925 - val_accuracy: 0.9568 - lr: 0.0032\n",
            "Epoch 84/100\n",
            "242/248 [============================>.] - ETA: 0s - loss: 1.1741 - accuracy: 0.7523\n",
            "Epoch 00084: val_accuracy did not improve from 0.96364\n",
            "248/248 [==============================] - 1s 3ms/step - loss: 1.1731 - accuracy: 0.7525 - val_loss: 0.3050 - val_accuracy: 0.8841 - lr: 0.0032\n",
            "Epoch 85/100\n",
            "241/248 [============================>.] - ETA: 0s - loss: 1.1698 - accuracy: 0.7539\n",
            "Epoch 00085: val_accuracy did not improve from 0.96364\n",
            "248/248 [==============================] - 1s 3ms/step - loss: 1.1620 - accuracy: 0.7556 - val_loss: 0.1886 - val_accuracy: 0.9523 - lr: 0.0026\n",
            "Epoch 86/100\n",
            "245/248 [============================>.] - ETA: 0s - loss: 1.0085 - accuracy: 0.7730\n",
            "Epoch 00086: val_accuracy did not improve from 0.96364\n",
            "248/248 [==============================] - 1s 4ms/step - loss: 1.0100 - accuracy: 0.7730 - val_loss: 0.3996 - val_accuracy: 0.8364 - lr: 0.0026\n",
            "Epoch 87/100\n",
            "242/248 [============================>.] - ETA: 0s - loss: 1.0851 - accuracy: 0.7709\n",
            "Epoch 00087: val_accuracy did not improve from 0.96364\n",
            "248/248 [==============================] - 1s 4ms/step - loss: 1.0827 - accuracy: 0.7715 - val_loss: 0.2475 - val_accuracy: 0.9341 - lr: 0.0026\n",
            "Epoch 88/100\n",
            "238/248 [===========================>..] - ETA: 0s - loss: 0.9965 - accuracy: 0.7721\n",
            "Epoch 00088: val_accuracy did not improve from 0.96364\n",
            "248/248 [==============================] - 1s 4ms/step - loss: 1.0023 - accuracy: 0.7735 - val_loss: 0.2484 - val_accuracy: 0.9136 - lr: 0.0026\n",
            "Epoch 89/100\n",
            "237/248 [===========================>..] - ETA: 0s - loss: 1.0538 - accuracy: 0.7690\n",
            "Epoch 00089: val_accuracy did not improve from 0.96364\n",
            "248/248 [==============================] - 1s 3ms/step - loss: 1.0336 - accuracy: 0.7727 - val_loss: 0.1856 - val_accuracy: 0.9568 - lr: 0.0026\n",
            "Epoch 90/100\n",
            "240/248 [============================>.] - ETA: 0s - loss: 1.0400 - accuracy: 0.7630\n",
            "Epoch 00090: val_accuracy did not improve from 0.96364\n",
            "248/248 [==============================] - 1s 3ms/step - loss: 1.0373 - accuracy: 0.7636 - val_loss: 0.2042 - val_accuracy: 0.9432 - lr: 0.0026\n",
            "Epoch 91/100\n",
            "244/248 [============================>.] - ETA: 0s - loss: 1.0927 - accuracy: 0.7628\n",
            "Epoch 00091: val_accuracy did not improve from 0.96364\n",
            "248/248 [==============================] - 1s 3ms/step - loss: 1.0862 - accuracy: 0.7634 - val_loss: 0.2244 - val_accuracy: 0.9295 - lr: 0.0026\n",
            "Epoch 92/100\n",
            "238/248 [===========================>..] - ETA: 0s - loss: 1.0522 - accuracy: 0.7634\n",
            "Epoch 00092: val_accuracy did not improve from 0.96364\n",
            "248/248 [==============================] - 1s 3ms/step - loss: 1.0496 - accuracy: 0.7641 - val_loss: 0.2101 - val_accuracy: 0.9409 - lr: 0.0021\n",
            "Epoch 93/100\n",
            "234/248 [===========================>..] - ETA: 0s - loss: 1.0648 - accuracy: 0.7671\n",
            "Epoch 00093: val_accuracy did not improve from 0.96364\n",
            "248/248 [==============================] - 1s 3ms/step - loss: 1.0511 - accuracy: 0.7699 - val_loss: 0.2816 - val_accuracy: 0.8682 - lr: 0.0021\n",
            "Epoch 94/100\n",
            "245/248 [============================>.] - ETA: 0s - loss: 1.0132 - accuracy: 0.7707\n",
            "Epoch 00094: val_accuracy improved from 0.96364 to 0.97045, saving model to /content/gdrive/MyDrive/Satellite/Saved_data/Xfer_bestmodel_011322.h5\n",
            "248/248 [==============================] - 1s 4ms/step - loss: 1.0098 - accuracy: 0.7715 - val_loss: 0.1739 - val_accuracy: 0.9705 - lr: 0.0021\n",
            "Epoch 95/100\n",
            "243/248 [============================>.] - ETA: 0s - loss: 0.9394 - accuracy: 0.7845\n",
            "Epoch 00095: val_accuracy did not improve from 0.97045\n",
            "248/248 [==============================] - 1s 3ms/step - loss: 0.9345 - accuracy: 0.7843 - val_loss: 0.2455 - val_accuracy: 0.9409 - lr: 0.0021\n",
            "Epoch 96/100\n",
            "236/248 [===========================>..] - ETA: 0s - loss: 0.9579 - accuracy: 0.7807\n",
            "Epoch 00096: val_accuracy did not improve from 0.97045\n",
            "248/248 [==============================] - 1s 3ms/step - loss: 0.9569 - accuracy: 0.7801 - val_loss: 0.1797 - val_accuracy: 0.9591 - lr: 0.0021\n",
            "Epoch 97/100\n",
            "238/248 [===========================>..] - ETA: 0s - loss: 0.9721 - accuracy: 0.7794\n",
            "Epoch 00097: val_accuracy did not improve from 0.97045\n",
            "248/248 [==============================] - 1s 3ms/step - loss: 0.9782 - accuracy: 0.7801 - val_loss: 0.1731 - val_accuracy: 0.9659 - lr: 0.0021\n",
            "Epoch 98/100\n",
            "235/248 [===========================>..] - ETA: 0s - loss: 1.0312 - accuracy: 0.7649\n",
            "Epoch 00098: val_accuracy did not improve from 0.97045\n",
            "248/248 [==============================] - 1s 3ms/step - loss: 1.0340 - accuracy: 0.7636 - val_loss: 0.2326 - val_accuracy: 0.9318 - lr: 0.0021\n",
            "Epoch 99/100\n",
            "242/248 [============================>.] - ETA: 0s - loss: 0.9421 - accuracy: 0.7732\n",
            "Epoch 00099: val_accuracy did not improve from 0.97045\n",
            "248/248 [==============================] - 1s 3ms/step - loss: 0.9348 - accuracy: 0.7737 - val_loss: 0.1914 - val_accuracy: 0.9568 - lr: 0.0016\n",
            "Epoch 100/100\n",
            "241/248 [============================>.] - ETA: 0s - loss: 0.9371 - accuracy: 0.7814\n",
            "Epoch 00100: val_accuracy did not improve from 0.97045\n",
            "248/248 [==============================] - 1s 4ms/step - loss: 0.9289 - accuracy: 0.7833 - val_loss: 0.1845 - val_accuracy: 0.9523 - lr: 0.0016\n"
          ]
        }
      ]
    },
    {
      "cell_type": "markdown",
      "source": [
        "# 6 Layer Model"
      ],
      "metadata": {
        "id": "oE5ufg01yAUd"
      }
    },
    {
      "cell_type": "markdown",
      "source": [
        "## Process data for 6 Layer model"
      ],
      "metadata": {
        "id": "BRsJdkji6A5e"
      }
    },
    {
      "cell_type": "code",
      "source": [
        "df = pd.concat([df, pd.get_dummies(df['label'])], axis=1)\n",
        "df.drop(['label'], axis=1, inplace=True)"
      ],
      "metadata": {
        "id": "XckTbAuSytRM"
      },
      "execution_count": null,
      "outputs": []
    },
    {
      "cell_type": "code",
      "source": [
        "batch_size = 32\n",
        "\n",
        "train_datagen = ImageDataGenerator(rescale=1/255.0,\n",
        "                                  rotation_range=45,\n",
        "                                  width_shift_range=0.2,\n",
        "                                  height_shift_range=0.2,\n",
        "                                  shear_range=0.2,\n",
        "                                  horizontal_flip=True,\n",
        "                                  fill_mode='nearest')\n",
        "\n",
        "train_generator = train_datagen.flow_from_directory(\n",
        "    train_folder,\n",
        "    target_size=(256, 256),\n",
        "    batch_size=batch_size,\n",
        "    class_mode='sparse')\n",
        "\n",
        "validation_datagen = ImageDataGenerator(rescale=1/255.0)  \n",
        "\n",
        "validation_generator = validation_datagen.flow_from_directory(\n",
        "    valid_folder,\n",
        "    target_size=(256, 256),\n",
        "    batch_size=batch_size,\n",
        "    class_mode='sparse') "
      ],
      "metadata": {
        "colab": {
          "base_uri": "https://localhost:8080/"
        },
        "id": "1kCdoPkmSFyp",
        "outputId": "74dc942c-7927-4b03-a459-3e3d9629f307"
      },
      "execution_count": null,
      "outputs": [
        {
          "output_type": "stream",
          "name": "stdout",
          "text": [
            "Found 3960 images belonging to 4 classes.\n",
            "Found 440 images belonging to 4 classes.\n"
          ]
        }
      ]
    },
    {
      "cell_type": "markdown",
      "source": [
        "## Define and Execute 6 Layer model"
      ],
      "metadata": {
        "id": "b-GesX6fp8dP"
      }
    },
    {
      "cell_type": "code",
      "source": [
        "tf.keras.backend.clear_session()\n",
        "tf.random.set_seed(60)\n",
        "\n",
        "model = tf.keras.models.Sequential([\n",
        "    tf.keras.layers.Conv2D(filters=32, \n",
        "                            kernel_size=3, \n",
        "                            input_shape=(256, 256, 3), \n",
        "                            activation='relu'),\n",
        "    tf.keras.layers.BatchNormalization(),\n",
        "    tf.keras.layers.ReLU(),\n",
        "    tf.keras.layers.Conv2D(filters=32, \n",
        "                            kernel_size=3, \n",
        "                            activation='relu'),\n",
        "    tf.keras.layers.BatchNormalization(),\n",
        "    tf.keras.layers.ReLU(),\n",
        "    tf.keras.layers.MaxPooling2D(2),\n",
        "    tf.keras.layers.Dropout(0.2),\n",
        "\n",
        "    tf.keras.layers.Conv2D(filters=64, \n",
        "                            kernel_size=3, \n",
        "                            activation='relu'),\n",
        "    tf.keras.layers.BatchNormalization(),\n",
        "    tf.keras.layers.ReLU(),\n",
        "    tf.keras.layers.Conv2D(filters=64, \n",
        "                            kernel_size=3, \n",
        "                            activation='relu'),\n",
        "    tf.keras.layers.BatchNormalization(),\n",
        "    tf.keras.layers.ReLU(),\n",
        "    tf.keras.layers.MaxPooling2D(2),\n",
        "    tf.keras.layers.Dropout(0.2),\n",
        "\n",
        "    tf.keras.layers.Conv2D(filters=96, \n",
        "                            kernel_size=3, \n",
        "                            activation='relu'),\n",
        "    tf.keras.layers.BatchNormalization(),\n",
        "    tf.keras.layers.ReLU(),\n",
        "    tf.keras.layers.Conv2D(filters=96, \n",
        "                            kernel_size=3, \n",
        "                            activation='relu'),\n",
        "    tf.keras.layers.BatchNormalization(),\n",
        "    tf.keras.layers.ReLU(),\n",
        "    tf.keras.layers.MaxPooling2D(2),\n",
        "    tf.keras.layers.Dropout(0.2),\n",
        "\n",
        "    tf.keras.layers.Flatten(),\n",
        "    tf.keras.layers.Dense(units=192, activation='relu'),\n",
        "    tf.keras.layers.BatchNormalization(),\n",
        "    tf.keras.layers.ReLU(),\n",
        "    tf.keras.layers.Dropout(0.2),\n",
        "    tf.keras.layers.Dense(4, activation='softmax')\n",
        "])\n",
        "\n",
        "optimizer = tf.keras.optimizers.Adam(learning_rate=7e-3)\n",
        "\n",
        "model.compile(optimizer=optimizer, \n",
        "              loss='sparse_categorical_crossentropy', \n",
        "              metrics=['acc']\n",
        "              )\n",
        "\n",
        "reduce_lr = ReduceLROnPlateau(monitor='acc',\n",
        "                              factor=0.6,\n",
        "                              patience=1,\n",
        "                              cooldown=2,\n",
        "                              min_lr=1e-4\n",
        "                              )\n",
        "es = EarlyStopping(monitor='acc', \n",
        "                   min_delta=0.003, \n",
        "                   patience=7,\n",
        "                   verbose=1, \n",
        "                   mode='auto'\n",
        "                   )\n",
        "mc = ModelCheckpoint(monitor='val_acc', \n",
        "                     filepath='/content/gdrive/MyDrive/Satellite/Saved_data/6L2_bestmodel_010822.h5', \n",
        "                     verbose=1, \n",
        "                     save_best_only=True, \n",
        "                     mode='max'\n",
        "                     )\n",
        "\n",
        "cd = [reduce_lr, mc]"
      ],
      "metadata": {
        "id": "4YdQUfYyS2WM"
      },
      "execution_count": null,
      "outputs": []
    },
    {
      "cell_type": "code",
      "source": [
        "history = model.fit(train_generator,\n",
        "                    epochs=20,\n",
        "                    verbose=1,\n",
        "                    validation_data=validation_generator,\n",
        "                    callbacks=cd\n",
        "                    )"
      ],
      "metadata": {
        "colab": {
          "base_uri": "https://localhost:8080/"
        },
        "id": "60H3oPgMb6GX",
        "outputId": "35daf954-cdec-41ef-dd24-c19dd7709620"
      },
      "execution_count": null,
      "outputs": [
        {
          "output_type": "stream",
          "name": "stdout",
          "text": [
            "Epoch 1/20\n",
            "124/124 [==============================] - ETA: 0s - loss: 0.8720 - acc: 0.6533\n",
            "Epoch 00001: val_acc improved from -inf to 0.33182, saving model to /content/gdrive/MyDrive/Satellite/Saved_data/6L2_bestmodel_010822.h5\n",
            "124/124 [==============================] - 61s 487ms/step - loss: 0.8720 - acc: 0.6533 - val_loss: 1.7311 - val_acc: 0.3318 - lr: 0.0070\n",
            "Epoch 2/20\n",
            "124/124 [==============================] - ETA: 0s - loss: 0.6370 - acc: 0.7144\n",
            "Epoch 00002: val_acc improved from 0.33182 to 0.38182, saving model to /content/gdrive/MyDrive/Satellite/Saved_data/6L2_bestmodel_010822.h5\n",
            "124/124 [==============================] - 61s 488ms/step - loss: 0.6370 - acc: 0.7144 - val_loss: 1.8476 - val_acc: 0.3818 - lr: 0.0070\n",
            "Epoch 3/20\n",
            "124/124 [==============================] - ETA: 0s - loss: 0.5700 - acc: 0.7260\n",
            "Epoch 00003: val_acc did not improve from 0.38182\n",
            "124/124 [==============================] - 60s 481ms/step - loss: 0.5700 - acc: 0.7260 - val_loss: 3.3423 - val_acc: 0.3000 - lr: 0.0070\n",
            "Epoch 4/20\n",
            "124/124 [==============================] - ETA: 0s - loss: 0.5133 - acc: 0.7667\n",
            "Epoch 00004: val_acc improved from 0.38182 to 0.47727, saving model to /content/gdrive/MyDrive/Satellite/Saved_data/6L2_bestmodel_010822.h5\n",
            "124/124 [==============================] - 60s 482ms/step - loss: 0.5133 - acc: 0.7667 - val_loss: 0.9118 - val_acc: 0.4773 - lr: 0.0070\n",
            "Epoch 5/20\n",
            "124/124 [==============================] - ETA: 0s - loss: 0.5235 - acc: 0.7694\n",
            "Epoch 00005: val_acc improved from 0.47727 to 0.62955, saving model to /content/gdrive/MyDrive/Satellite/Saved_data/6L2_bestmodel_010822.h5\n",
            "124/124 [==============================] - 60s 480ms/step - loss: 0.5235 - acc: 0.7694 - val_loss: 1.1876 - val_acc: 0.6295 - lr: 0.0070\n",
            "Epoch 6/20\n",
            "124/124 [==============================] - ETA: 0s - loss: 0.4957 - acc: 0.7773\n",
            "Epoch 00006: val_acc did not improve from 0.62955\n",
            "124/124 [==============================] - 59s 476ms/step - loss: 0.4957 - acc: 0.7773 - val_loss: 1.9176 - val_acc: 0.6045 - lr: 0.0070\n",
            "Epoch 7/20\n",
            "124/124 [==============================] - ETA: 0s - loss: 0.4661 - acc: 0.7907\n",
            "Epoch 00007: val_acc improved from 0.62955 to 0.75000, saving model to /content/gdrive/MyDrive/Satellite/Saved_data/6L2_bestmodel_010822.h5\n",
            "124/124 [==============================] - 60s 483ms/step - loss: 0.4661 - acc: 0.7907 - val_loss: 0.5430 - val_acc: 0.7500 - lr: 0.0070\n",
            "Epoch 8/20\n",
            "124/124 [==============================] - ETA: 0s - loss: 0.4688 - acc: 0.7871\n",
            "Epoch 00008: val_acc improved from 0.75000 to 0.75682, saving model to /content/gdrive/MyDrive/Satellite/Saved_data/6L2_bestmodel_010822.h5\n",
            "124/124 [==============================] - 65s 525ms/step - loss: 0.4688 - acc: 0.7871 - val_loss: 0.4840 - val_acc: 0.7568 - lr: 0.0070\n",
            "Epoch 9/20\n",
            "124/124 [==============================] - ETA: 0s - loss: 0.4271 - acc: 0.8129\n",
            "Epoch 00009: val_acc did not improve from 0.75682\n",
            "124/124 [==============================] - 59s 476ms/step - loss: 0.4271 - acc: 0.8129 - val_loss: 281.9756 - val_acc: 0.3500 - lr: 0.0042\n",
            "Epoch 10/20\n",
            "124/124 [==============================] - ETA: 0s - loss: 0.4215 - acc: 0.8275\n",
            "Epoch 00010: val_acc did not improve from 0.75682\n",
            "124/124 [==============================] - 58s 467ms/step - loss: 0.4215 - acc: 0.8275 - val_loss: 1.1724 - val_acc: 0.5841 - lr: 0.0042\n",
            "Epoch 11/20\n",
            "124/124 [==============================] - ETA: 0s - loss: 0.3968 - acc: 0.8361\n",
            "Epoch 00011: val_acc improved from 0.75682 to 0.79545, saving model to /content/gdrive/MyDrive/Satellite/Saved_data/6L2_bestmodel_010822.h5\n",
            "124/124 [==============================] - 60s 485ms/step - loss: 0.3968 - acc: 0.8361 - val_loss: 0.4497 - val_acc: 0.7955 - lr: 0.0042\n",
            "Epoch 12/20\n",
            "124/124 [==============================] - ETA: 0s - loss: 0.4087 - acc: 0.8177\n",
            "Epoch 00012: val_acc did not improve from 0.79545\n",
            "124/124 [==============================] - 58s 470ms/step - loss: 0.4087 - acc: 0.8177 - val_loss: 2.0049 - val_acc: 0.5205 - lr: 0.0042\n",
            "Epoch 13/20\n",
            "124/124 [==============================] - ETA: 0s - loss: 0.3742 - acc: 0.8356\n",
            "Epoch 00013: val_acc improved from 0.79545 to 0.85455, saving model to /content/gdrive/MyDrive/Satellite/Saved_data/6L2_bestmodel_010822.h5\n",
            "124/124 [==============================] - 61s 489ms/step - loss: 0.3742 - acc: 0.8356 - val_loss: 0.4324 - val_acc: 0.8545 - lr: 0.0025\n",
            "Epoch 14/20\n",
            "124/124 [==============================] - ETA: 0s - loss: 0.3699 - acc: 0.8568\n",
            "Epoch 00014: val_acc did not improve from 0.85455\n",
            "124/124 [==============================] - 60s 480ms/step - loss: 0.3699 - acc: 0.8568 - val_loss: 0.6814 - val_acc: 0.7500 - lr: 0.0025\n",
            "Epoch 15/20\n",
            "124/124 [==============================] - ETA: 0s - loss: 0.3343 - acc: 0.8697\n",
            "Epoch 00015: val_acc did not improve from 0.85455\n",
            "124/124 [==============================] - 59s 473ms/step - loss: 0.3343 - acc: 0.8697 - val_loss: 0.4259 - val_acc: 0.7909 - lr: 0.0025\n",
            "Epoch 16/20\n",
            "124/124 [==============================] - ETA: 0s - loss: 0.3244 - acc: 0.8775\n",
            "Epoch 00016: val_acc improved from 0.85455 to 0.91136, saving model to /content/gdrive/MyDrive/Satellite/Saved_data/6L2_bestmodel_010822.h5\n",
            "124/124 [==============================] - 60s 487ms/step - loss: 0.3244 - acc: 0.8775 - val_loss: 0.2516 - val_acc: 0.9114 - lr: 0.0025\n",
            "Epoch 17/20\n",
            "124/124 [==============================] - ETA: 0s - loss: 0.3239 - acc: 0.8770\n",
            "Epoch 00017: val_acc did not improve from 0.91136\n",
            "124/124 [==============================] - 58s 469ms/step - loss: 0.3239 - acc: 0.8770 - val_loss: 0.6433 - val_acc: 0.7409 - lr: 0.0025\n",
            "Epoch 18/20\n",
            "124/124 [==============================] - ETA: 0s - loss: 0.3111 - acc: 0.8808\n",
            "Epoch 00018: val_acc did not improve from 0.91136\n",
            "124/124 [==============================] - 59s 476ms/step - loss: 0.3111 - acc: 0.8808 - val_loss: 0.2649 - val_acc: 0.8727 - lr: 0.0015\n",
            "Epoch 19/20\n",
            "124/124 [==============================] - ETA: 0s - loss: 0.3031 - acc: 0.8806\n",
            "Epoch 00019: val_acc did not improve from 0.91136\n",
            "124/124 [==============================] - 59s 477ms/step - loss: 0.3031 - acc: 0.8806 - val_loss: 0.3058 - val_acc: 0.8705 - lr: 0.0015\n",
            "Epoch 20/20\n",
            "124/124 [==============================] - ETA: 0s - loss: 0.2756 - acc: 0.8947\n",
            "Epoch 00020: val_acc improved from 0.91136 to 0.92727, saving model to /content/gdrive/MyDrive/Satellite/Saved_data/6L2_bestmodel_010822.h5\n",
            "124/124 [==============================] - 61s 491ms/step - loss: 0.2756 - acc: 0.8947 - val_loss: 0.2136 - val_acc: 0.9273 - lr: 9.0720e-04\n"
          ]
        }
      ]
    },
    {
      "cell_type": "markdown",
      "source": [
        "## Evaluate the validation predictions a bit further"
      ],
      "metadata": {
        "id": "3Fnpot-eXgC1"
      }
    },
    {
      "cell_type": "code",
      "source": [
        "model = load_model('/content/gdrive/MyDrive/Satellite/Saved_data/6L2_bestmodel_010822.h5')"
      ],
      "metadata": {
        "id": "5ij_8hqls-lz"
      },
      "execution_count": null,
      "outputs": []
    },
    {
      "cell_type": "code",
      "source": [
        "model.evaluate(validation_generator)"
      ],
      "metadata": {
        "colab": {
          "base_uri": "https://localhost:8080/"
        },
        "id": "hBJiiMPxLf1N",
        "outputId": "39a2d92d-2d89-49eb-b8c0-e67241f51f05"
      },
      "execution_count": null,
      "outputs": [
        {
          "output_type": "stream",
          "name": "stdout",
          "text": [
            "14/14 [==============================] - 1s 79ms/step - loss: 0.2136 - acc: 0.9273\n"
          ]
        },
        {
          "output_type": "execute_result",
          "data": {
            "text/plain": [
              "[0.21361884474754333, 0.9272727370262146]"
            ]
          },
          "metadata": {},
          "execution_count": 27
        }
      ]
    },
    {
      "cell_type": "code",
      "source": [
        "validation_datagen = ImageDataGenerator(rescale=1/255.0)  \n",
        "\n",
        "val_test_generator = validation_datagen.flow_from_directory(\n",
        "    valid_folder,\n",
        "    target_size=(256, 256),\n",
        "    batch_size=1,\n",
        "    class_mode='sparse',\n",
        "    shuffle=False) "
      ],
      "metadata": {
        "colab": {
          "base_uri": "https://localhost:8080/"
        },
        "id": "iBWyzSiNZ4SO",
        "outputId": "79633e86-6665-4a3a-8f34-219c14ac8d94"
      },
      "execution_count": null,
      "outputs": [
        {
          "output_type": "stream",
          "name": "stdout",
          "text": [
            "Found 440 images belonging to 4 classes.\n"
          ]
        }
      ]
    },
    {
      "cell_type": "code",
      "source": [
        "len_val_test = len(val_test_generator)\n",
        "\n",
        "val_test_pred = model.predict(val_test_generator, \n",
        "                         steps=len_val_test,\n",
        "                         verbose=1)#[:, 0]"
      ],
      "metadata": {
        "colab": {
          "base_uri": "https://localhost:8080/"
        },
        "id": "VQqKpvu_aLCA",
        "outputId": "f1eaacb2-e266-4593-abf4-f7f521f47436"
      },
      "execution_count": null,
      "outputs": [
        {
          "output_type": "stream",
          "name": "stdout",
          "text": [
            "440/440 [==============================] - 2s 4ms/step\n"
          ]
        }
      ]
    },
    {
      "cell_type": "code",
      "source": [
        "df_vt_true = pd.DataFrame({'label': val_test_generator.classes})"
      ],
      "metadata": {
        "id": "JcZ9lEWsaUKJ"
      },
      "execution_count": null,
      "outputs": []
    },
    {
      "cell_type": "code",
      "source": [
        "# Dataframe one hot no id\n",
        "df_labels = pd.get_dummies(df_vt_true['label'])\n",
        "val_test_true = df_labels.to_numpy()\n",
        "val_test_pred = np.round(val_test_pred)\n",
        "val_test_pred.astype(int)"
      ],
      "metadata": {
        "id": "7zqOYLIr6Rb0"
      },
      "execution_count": null,
      "outputs": []
    },
    {
      "cell_type": "code",
      "source": [
        "truths = []\n",
        "preds = []\n",
        "final = []\n",
        "list_length = len(val_test_true)\n",
        "\n",
        "for num in range(list_length):\n",
        "  truths.append(np.argmax(val_test_true[num]))\n",
        "\n",
        "for num in range(list_length):\n",
        "  preds.append(np.argmax(val_test_pred[num]))\n",
        "\n",
        "for num in range(list_length):\n",
        "  final.append(preds[num] == truths[num])"
      ],
      "metadata": {
        "id": "m19__dATDhKu"
      },
      "execution_count": null,
      "outputs": []
    },
    {
      "cell_type": "code",
      "source": [
        "acc_val_test = final.count(True) / (final.count(True) + final.count(False))\n",
        "print('Validation accuracy: {:.3f}'.format(acc_val_test))"
      ],
      "metadata": {
        "colab": {
          "base_uri": "https://localhost:8080/"
        },
        "id": "O4HFfTGlapaL",
        "outputId": "c43afbab-cb6c-48f7-97b8-f984d84fdd74"
      },
      "execution_count": null,
      "outputs": [
        {
          "output_type": "stream",
          "name": "stdout",
          "text": [
            "Validation accuracy: 0.927\n"
          ]
        }
      ]
    },
    {
      "cell_type": "code",
      "source": [
        ""
      ],
      "metadata": {
        "id": "1yPDvUEeEclG"
      },
      "execution_count": null,
      "outputs": []
    }
  ]
}
