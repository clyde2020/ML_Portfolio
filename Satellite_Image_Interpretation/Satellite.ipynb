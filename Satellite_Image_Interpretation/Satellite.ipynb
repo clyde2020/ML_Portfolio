{
  "nbformat": 4,
  "nbformat_minor": 0,
  "metadata": {
    "colab": {
      "name": "Satellite.ipynb",
      "provenance": [],
      "collapsed_sections": [
        "6k2T0kbjxMwb",
        "cf4gzP6LqE7m",
        "9RUcVka4qLqw",
        "8_6oxv52qVao",
        "rlr1lcTeuerr",
        "xC_8BAmKuI9g",
        "VEpa0LpDuVZ-",
        "BRsJdkji6A5e",
        "b-GesX6fp8dP",
        "3Fnpot-eXgC1"
      ],
      "machine_shape": "hm",
      "authorship_tag": "ABX9TyOFl+tqNTyLS+zYsJXx9avY",
      "include_colab_link": true
    },
    "kernelspec": {
      "name": "python3",
      "display_name": "Python 3"
    },
    "language_info": {
      "name": "python"
    },
    "accelerator": "GPU"
  },
  "cells": [
    {
      "cell_type": "markdown",
      "metadata": {
        "id": "view-in-github",
        "colab_type": "text"
      },
      "source": [
        "<a href=\"https://colab.research.google.com/github/clyde2020/ML_Portfolio/blob/main/Satellite_Image_Interpretation/Satellite.ipynb\" target=\"_parent\"><img src=\"https://colab.research.google.com/assets/colab-badge.svg\" alt=\"Open In Colab\"/></a>"
      ]
    },
    {
      "cell_type": "markdown",
      "source": [
        "# Import libraries"
      ],
      "metadata": {
        "id": "6k2T0kbjxMwb"
      }
    },
    {
      "cell_type": "code",
      "execution_count": 1,
      "metadata": {
        "colab": {
          "base_uri": "https://localhost:8080/"
        },
        "id": "2_Y06BEcRCRT",
        "outputId": "c3eabe2a-8bff-4d7f-8aae-e2a98cbaa5b7"
      },
      "outputs": [
        {
          "output_type": "stream",
          "name": "stdout",
          "text": [
            "\u001b[?25l\r\u001b[K     |███▍                            | 10 kB 34.0 MB/s eta 0:00:01\r\u001b[K     |██████▊                         | 20 kB 9.3 MB/s eta 0:00:01\r\u001b[K     |██████████                      | 30 kB 7.9 MB/s eta 0:00:01\r\u001b[K     |█████████████▍                  | 40 kB 7.3 MB/s eta 0:00:01\r\u001b[K     |████████████████▊               | 51 kB 4.4 MB/s eta 0:00:01\r\u001b[K     |████████████████████            | 61 kB 4.6 MB/s eta 0:00:01\r\u001b[K     |███████████████████████▍        | 71 kB 4.5 MB/s eta 0:00:01\r\u001b[K     |██████████████████████████▊     | 81 kB 5.0 MB/s eta 0:00:01\r\u001b[K     |██████████████████████████████  | 92 kB 5.2 MB/s eta 0:00:01\r\u001b[K     |████████████████████████████████| 98 kB 3.6 MB/s \n",
            "\u001b[?25hMounted at /content/gdrive\n"
          ]
        }
      ],
      "source": [
        "import pandas as pd\n",
        "import numpy as np\n",
        "import os\n",
        "import shutil\n",
        "from shutil import copyfile\n",
        "from tensorflow.keras.preprocessing.image import ImageDataGenerator\n",
        "import tensorflow as tf\n",
        "from tensorflow.keras.optimizers import RMSprop, Adam\n",
        "import matplotlib.pyplot as plt\n",
        "import random\n",
        "!pip install keras-tuner -q\n",
        "from keras_tuner import RandomSearch\n",
        "from keras.callbacks import ModelCheckpoint, EarlyStopping\n",
        "from keras.models import load_model, Model, Sequential\n",
        "import pickle\n",
        "from sklearn.utils import shuffle\n",
        "from sklearn.model_selection import train_test_split\n",
        "from sklearn.metrics import auc, roc_curve\n",
        "from keras.callbacks import ReduceLROnPlateau\n",
        "import cv2\n",
        "\n",
        "from PIL import Image\n",
        "from tensorflow.keras.utils import load_img, img_to_array, to_categorical\n",
        "from tqdm import tqdm\n",
        "import keras\n",
        "from keras.layers import (BatchNormalization, Dense, GlobalAveragePooling2D, \n",
        "                          Lambda, Dropout, InputLayer, Input, GlobalMaxPooling2D\n",
        ")\n",
        "\n",
        "from google.colab import drive\n",
        "drive.mount('/content/gdrive')"
      ]
    },
    {
      "cell_type": "markdown",
      "source": [
        "# Initialize variables"
      ],
      "metadata": {
        "id": "cf4gzP6LqE7m"
      }
    },
    {
      "cell_type": "code",
      "source": [
        "host_folder = '/content/gdrive/MyDrive/Satellite'  # Mandatory update\n",
        "source_folder = '{}/data'.format(host_folder)\n",
        "train_folder = '{}/Train'.format(host_folder)\n",
        "valid_folder = '{}/Valid'.format(host_folder)\n",
        "\n",
        "labels = os.listdir(source_folder)\n",
        "batch_size = 16\n",
        "num_class = len(labels)"
      ],
      "metadata": {
        "id": "5t-jtG8zN9Bl"
      },
      "execution_count": 2,
      "outputs": []
    },
    {
      "cell_type": "markdown",
      "source": [
        "# View data"
      ],
      "metadata": {
        "id": "9RUcVka4qLqw"
      }
    },
    {
      "cell_type": "code",
      "source": [
        "def get_image(path):\n",
        "  im_bgr = cv2.imread(path)\n",
        "  im_rgb = cv2.cvtColor(im_bgr, cv2.COLOR_BGR2RGB)\n",
        "  return im_rgb"
      ],
      "metadata": {
        "id": "ABFuiYdI1Jvz"
      },
      "execution_count": 3,
      "outputs": []
    },
    {
      "cell_type": "code",
      "source": [
        "path = '/content/gdrive/MyDrive/Satellite/data/desert/desert(58).jpg'  # Mandatory update\n",
        "for cat in labels:\n",
        "  if cat in path:\n",
        "    name = cat\n",
        "new_image = get_image(path=path)\n",
        "plt.title(f'Satellite image of {name}')\n",
        "plt.imshow(new_image)\n",
        "plt.show()\n",
        "\n",
        "print(new_image.shape)\n",
        "image_size = new_image.shape"
      ],
      "metadata": {
        "colab": {
          "base_uri": "https://localhost:8080/",
          "height": 298
        },
        "id": "xGUScajLSak3",
        "outputId": "60b7b51b-6ee6-4003-c210-8e6de18cce4e"
      },
      "execution_count": 25,
      "outputs": [
        {
          "output_type": "display_data",
          "data": {
            "image/png": "[encoded data removed]",
            "text/plain": [
              "<Figure size 432x288 with 1 Axes>"
            ]
          },
          "metadata": {
            "needs_background": "light"
          }
        },
        {
          "output_type": "stream",
          "name": "stdout",
          "text": [
            "(256, 256, 3)\n"
          ]
        }
      ]
    },
    {
      "cell_type": "code",
      "source": [
        "samples = []\n",
        "for i in range(num_class):\n",
        "  source = '{}/{}'.format(source_folder, labels[i])\n",
        "  source_list_len = len(os.listdir(source))\n",
        "  samples.append(source_list_len)"
      ],
      "metadata": {
        "id": "aMIeg4Ejmssh"
      },
      "execution_count": 6,
      "outputs": []
    },
    {
      "cell_type": "code",
      "source": [
        "fig, ax = plt.subplots()\n",
        "width = .75\n",
        "ax.bar(labels, samples, width)\n",
        "plt.title('Image count per category')\n",
        "\n",
        "for i in range(num_class):\n",
        "  plt.annotate(samples[i], (i - 0.1, samples[i] + 10))\n",
        "\n",
        "plt.show()"
      ],
      "metadata": {
        "colab": {
          "base_uri": "https://localhost:8080/",
          "height": 281
        },
        "id": "jlaHWLmemlgS",
        "outputId": "625eb42c-eb8c-46eb-d1aa-e61fc54a14fb"
      },
      "execution_count": 7,
      "outputs": [
        {
          "output_type": "display_data",
          "data": {
            "image/png": "[encoded data removed]",
            "text/plain": [
              "<Figure size 432x288 with 1 Axes>"
            ]
          },
          "metadata": {
            "needs_background": "light"
          }
        }
      ]
    },
    {
      "cell_type": "markdown",
      "source": [
        "# Process data for Image dataframe"
      ],
      "metadata": {
        "id": "8_6oxv52qVao"
      }
    },
    {
      "cell_type": "code",
      "source": [
        "sample = np.min(samples)\n",
        "split = int(0.1 * sample)"
      ],
      "metadata": {
        "id": "Vj1oCY9Ry_hU"
      },
      "execution_count": 8,
      "outputs": []
    },
    {
      "cell_type": "code",
      "source": [
        "os.mkdir(train_folder)\n",
        "os.mkdir(valid_folder)\n",
        "\n",
        "for num in range(len(labels)):\n",
        "  os.mkdir('{}/{}'.format(train_folder, labels[num]))\n",
        "  os.mkdir('{}/{}'.format(valid_folder, labels[num]))"
      ],
      "metadata": {
        "id": "wsSJyqKjSkdx"
      },
      "execution_count": 9,
      "outputs": []
    },
    {
      "cell_type": "code",
      "source": [
        "def copy_data(cat, label):\n",
        "  source = '{}/{}'.format(source_folder, cat)\n",
        "  source_list = os.listdir(source)\n",
        "  df_tmp = pd.DataFrame({'id': source_list, 'label': label})\n",
        "  df_tmp_1 = df_tmp.sample(sample)\n",
        "  df_tmp_1 = shuffle(df_tmp_1)\n",
        "  v_list = list(df_tmp_1['id'][:split])\n",
        "  t_list = list(df_tmp_1['id'][split:])\n",
        "  \n",
        "  dest_train = '{}/{}'.format(train_folder, cat)\n",
        "  dest_valid = '{}/{}'.format(valid_folder, cat)\n",
        "\n",
        "  for fname in t_list:\n",
        "    origin = os.path.join(source, fname)\n",
        "    shutil.copy(src=origin, dst=dest_train)\n",
        "  for fname in v_list:\n",
        "    origin = os.path.join(source, fname)\n",
        "    shutil.copy(src=origin, dst=dest_valid)\n",
        "  \n",
        "  return df_tmp_1"
      ],
      "metadata": {
        "id": "xkDW2ndPjycF"
      },
      "execution_count": 10,
      "outputs": []
    },
    {
      "cell_type": "code",
      "source": [
        "df_c = copy_data(labels[0], 0)\n",
        "df_d = copy_data(labels[1], 1)\n",
        "df_g = copy_data(labels[2], 2)\n",
        "df_w = copy_data(labels[3], 3)"
      ],
      "metadata": {
        "id": "vcb6zZA4jye8"
      },
      "execution_count": 11,
      "outputs": []
    },
    {
      "cell_type": "code",
      "source": [
        "# Put into single dataframe\n",
        "df = pd.concat([df_c, df_d, df_g, df_w], axis=0).reset_index(drop=True)"
      ],
      "metadata": {
        "id": "VisJpOdgJFts"
      },
      "execution_count": 12,
      "outputs": []
    },
    {
      "cell_type": "markdown",
      "source": [
        "# Transfer learning"
      ],
      "metadata": {
        "id": "-3sYqWEQqd00"
      }
    },
    {
      "cell_type": "markdown",
      "source": [
        "## Process data for Transfer learning"
      ],
      "metadata": {
        "id": "rlr1lcTeuerr"
      }
    },
    {
      "cell_type": "code",
      "source": [
        "def get_data(source):\n",
        "  # Initialize variables\n",
        "  folders = os.listdir(source)\n",
        "  image_list = []\n",
        "\n",
        "  # Add image names to list\n",
        "  for folder in folders:\n",
        "    files_list = os.listdir('{}/{}'.format(source, folder))\n",
        "    for file in files_list: \n",
        "      image_list.append(file)\n",
        "\n",
        "  # Set up one-hot vector labels\n",
        "  df_images = df[df['id'].isin(image_list)]\n",
        "  y = list(df_images['label'])\n",
        "  y = to_categorical(y)\n",
        "\n",
        "  # Initialize variables\n",
        "  data_size = len(y)\n",
        "  X = np.zeros([data_size, image_size[0], image_size[1], image_size[2]])\n",
        "  i = 0\n",
        "\n",
        "  # Set up image array\n",
        "  for folder in folders:\n",
        "    files_list = os.listdir('{}/{}'.format(source, folder))\n",
        "    for file in files_list: \n",
        "      path = '{}/{}/{}'.format(source, folder, file)\n",
        "      image = load_img(path, \n",
        "                      target_size=image_size)\n",
        "      image = img_to_array(image)\n",
        "      image = image * (1. / 255)\n",
        "      X[i] = image\n",
        "      i += 1\n",
        "\n",
        "  return X, y"
      ],
      "metadata": {
        "id": "fzyg2wBYtCRK"
      },
      "execution_count": 13,
      "outputs": []
    },
    {
      "cell_type": "code",
      "source": [
        "X_train, y_train = get_data(source=train_folder)\n",
        "X_valid, y_valid = get_data(source=valid_folder)"
      ],
      "metadata": {
        "id": "mDB2Kmbh9wd7"
      },
      "execution_count": 14,
      "outputs": []
    },
    {
      "cell_type": "markdown",
      "source": [
        "## Get Feature maps from Pretrained models"
      ],
      "metadata": {
        "id": "xC_8BAmKuI9g"
      }
    },
    {
      "cell_type": "code",
      "source": [
        "def get_features(model_name, data_preprocessor, input_size, data):\n",
        "  input_layer = Input(input_size)\n",
        "  preprocessor = Lambda(data_preprocessor)(input_layer)\n",
        "  base_model = model_name(weights='imagenet',\n",
        "                          include_top=False,\n",
        "                          input_shape=input_size)(preprocessor)\n",
        "  avg = GlobalAveragePooling2D()(base_model)\n",
        "  feature_extractor = Model(inputs=input_layer,\n",
        "                            outputs=avg)\n",
        "  \n",
        "  feature_maps = feature_extractor.predict(data, \n",
        "                                           batch_size=batch_size, \n",
        "                                           verbose=1)\n",
        "  print('Feature maps shape: ', feature_maps.shape)\n",
        "  return feature_maps"
      ],
      "metadata": {
        "id": "PoSWZI1uVSHL"
      },
      "execution_count": 15,
      "outputs": []
    },
    {
      "cell_type": "code",
      "source": [
        "from keras.applications.inception_v3 import InceptionV3, preprocess_input\n",
        "\n",
        "inception_preprocessor = preprocess_input\n",
        "inception_features = get_features(InceptionV3,\n",
        "                                  inception_preprocessor,\n",
        "                                  image_size,\n",
        "                                  X_train)\n",
        "\n",
        "from keras.applications.xception import Xception, preprocess_input\n",
        "\n",
        "xception_preprocessor = preprocess_input\n",
        "xception_features = get_features(Xception,\n",
        "                                 xception_preprocessor,\n",
        "                                 image_size,\n",
        "                                 X_train)\n",
        "\n",
        "from tensorflow.keras.applications.resnet50 import ResNet50, preprocess_input\n",
        "\n",
        "resnet50_preprocessor = preprocess_input\n",
        "resnet50_features = get_features(ResNet50,\n",
        "                                 resnet50_preprocessor,\n",
        "                                 image_size,\n",
        "                                 X_train)\n",
        "\n",
        "from keras.applications.inception_resnet_v2 import InceptionResNetV2, preprocess_input\n",
        "\n",
        "inc_resnet_preprocessor = preprocess_input\n",
        "inc_resnet_features = get_features(InceptionResNetV2,\n",
        "                                   inc_resnet_preprocessor,\n",
        "                                   image_size,\n",
        "                                   X_train)\n",
        "\n",
        "from tensorflow.keras.applications.vgg16 import VGG16, preprocess_input\n",
        "\n",
        "vgg_preprocessor = preprocess_input\n",
        "vgg_features = get_features(VGG16,\n",
        "                            vgg_preprocessor,\n",
        "                            image_size,\n",
        "                            X_train)"
      ],
      "metadata": {
        "colab": {
          "base_uri": "https://localhost:8080/"
        },
        "id": "yf1EISw6VSJz",
        "outputId": "7e98cb96-f0c6-48b4-c170-5408a0c06f0f"
      },
      "execution_count": 16,
      "outputs": [
        {
          "output_type": "stream",
          "name": "stdout",
          "text": [
            "Downloading data from https://storage.googleapis.com/tensorflow/keras-applications/inception_v3/inception_v3_weights_tf_dim_ordering_tf_kernels_notop.h5\n",
            "87916544/87910968 [==============================] - 4s 0us/step\n",
            "87924736/87910968 [==============================] - 4s 0us/step\n",
            "255/255 [==============================] - 15s 21ms/step\n",
            "Feature maps shape:  (4072, 2048)\n",
            "Downloading data from https://storage.googleapis.com/tensorflow/keras-applications/xception/xception_weights_tf_dim_ordering_tf_kernels_notop.h5\n",
            "83689472/83683744 [==============================] - 0s 0us/step\n",
            "83697664/83683744 [==============================] - 0s 0us/step\n",
            "255/255 [==============================] - 8s 28ms/step\n",
            "Feature maps shape:  (4072, 2048)\n",
            "Downloading data from https://storage.googleapis.com/tensorflow/keras-applications/resnet/resnet50_weights_tf_dim_ordering_tf_kernels_notop.h5\n",
            "94773248/94765736 [==============================] - 1s 0us/step\n",
            "94781440/94765736 [==============================] - 1s 0us/step\n",
            "255/255 [==============================] - 7s 22ms/step\n",
            "Feature maps shape:  (4072, 2048)\n",
            "Downloading data from https://storage.googleapis.com/tensorflow/keras-applications/inception_resnet_v2/inception_resnet_v2_weights_tf_dim_ordering_tf_kernels_notop.h5\n",
            "219062272/219055592 [==============================] - 8s 0us/step\n",
            "219070464/219055592 [==============================] - 8s 0us/step\n",
            "255/255 [==============================] - 16s 50ms/step\n",
            "Feature maps shape:  (4072, 1536)\n",
            "Downloading data from https://storage.googleapis.com/tensorflow/keras-applications/vgg16/vgg16_weights_tf_dim_ordering_tf_kernels_notop.h5\n",
            "58892288/58889256 [==============================] - 2s 0us/step\n",
            "58900480/58889256 [==============================] - 2s 0us/step\n",
            "255/255 [==============================] - 8s 26ms/step\n",
            "Feature maps shape:  (4072, 512)\n"
          ]
        }
      ]
    },
    {
      "cell_type": "code",
      "source": [
        "final_features_train = np.concatenate([inception_features,\n",
        "                                 xception_features,\n",
        "                                 inc_resnet_features,\n",
        "                                 resnet50_features,\n",
        "                                 vgg_features],\n",
        "                                axis=-1)\n",
        "print('Final feature maps shape ', final_features_train.shape)"
      ],
      "metadata": {
        "colab": {
          "base_uri": "https://localhost:8080/"
        },
        "id": "b7hFxzlhemvq",
        "outputId": "7d24e665-6d70-4c0d-de72-4d9ae40c7a19"
      },
      "execution_count": 17,
      "outputs": [
        {
          "output_type": "stream",
          "name": "stdout",
          "text": [
            "Final feature maps shape  (4072, 8192)\n"
          ]
        }
      ]
    },
    {
      "cell_type": "code",
      "source": [
        "from keras.applications.inception_v3 import InceptionV3, preprocess_input\n",
        "\n",
        "inception_preprocessor = preprocess_input\n",
        "inception_features = get_features(InceptionV3,\n",
        "                                  inception_preprocessor,\n",
        "                                  image_size,\n",
        "                                  X_valid)\n",
        "\n",
        "from keras.applications.xception import Xception, preprocess_input\n",
        "\n",
        "xception_preprocessor = preprocess_input\n",
        "xception_features = get_features(Xception,\n",
        "                                 xception_preprocessor,\n",
        "                                 image_size,\n",
        "                                 X_valid)\n",
        "\n",
        "from tensorflow.keras.applications.resnet50 import ResNet50, preprocess_input\n",
        "\n",
        "resnet50_preprocessor = preprocess_input\n",
        "resnet50_features = get_features(ResNet50,\n",
        "                                 resnet50_preprocessor,\n",
        "                                 image_size,\n",
        "                                 X_valid)\n",
        "\n",
        "from keras.applications.inception_resnet_v2 import InceptionResNetV2, preprocess_input\n",
        "\n",
        "inc_resnet_preprocessor = preprocess_input\n",
        "inc_resnet_features = get_features(InceptionResNetV2,\n",
        "                                   inc_resnet_preprocessor,\n",
        "                                   image_size,\n",
        "                                   X_valid)\n",
        "\n",
        "from tensorflow.keras.applications.vgg16 import VGG16, preprocess_input\n",
        "\n",
        "vgg_preprocessor = preprocess_input\n",
        "vgg_features = get_features(VGG16,\n",
        "                            vgg_preprocessor,\n",
        "                            image_size,\n",
        "                            X_valid)"
      ],
      "metadata": {
        "colab": {
          "base_uri": "https://localhost:8080/"
        },
        "id": "vuQssd8NoAB5",
        "outputId": "bbfca43b-c931-44a1-9ad4-322ffd2dac35"
      },
      "execution_count": 18,
      "outputs": [
        {
          "output_type": "stream",
          "name": "stdout",
          "text": [
            "29/29 [==============================] - 2s 31ms/step\n",
            "Feature maps shape:  (452, 2048)\n",
            "29/29 [==============================] - 2s 33ms/step\n",
            "Feature maps shape:  (452, 2048)\n",
            "29/29 [==============================] - 2s 26ms/step\n",
            "Feature maps shape:  (452, 2048)\n",
            "29/29 [==============================] - 5s 56ms/step\n",
            "Feature maps shape:  (452, 1536)\n",
            "29/29 [==============================] - 1s 38ms/step\n",
            "Feature maps shape:  (452, 512)\n"
          ]
        }
      ]
    },
    {
      "cell_type": "code",
      "source": [
        "final_features_valid = np.concatenate([inception_features,\n",
        "                                 xception_features,\n",
        "                                 inc_resnet_features,\n",
        "                                 resnet50_features,\n",
        "                                 vgg_features],\n",
        "                                axis=-1)\n",
        "print('Final feature maps shape ', final_features_valid.shape)"
      ],
      "metadata": {
        "colab": {
          "base_uri": "https://localhost:8080/"
        },
        "id": "yuGshaUtoAGW",
        "outputId": "c8ad5b22-9621-4724-df85-5d96a57b9347"
      },
      "execution_count": 19,
      "outputs": [
        {
          "output_type": "stream",
          "name": "stdout",
          "text": [
            "Final feature maps shape  (452, 8192)\n"
          ]
        }
      ]
    },
    {
      "cell_type": "markdown",
      "source": [
        "## Define and execute Transfer learning model"
      ],
      "metadata": {
        "id": "VEpa0LpDuVZ-"
      }
    },
    {
      "cell_type": "code",
      "source": [
        "dnn = Sequential([InputLayer(final_features_train.shape[1:]),\n",
        "                  Dropout(0.7),\n",
        "                  Dense(num_class, activation='softmax')\n",
        "                  ])\n",
        "\n",
        "optimizer = tf.keras.optimizers.Adam(learning_rate=3e-2)\n",
        "\n",
        "dnn.compile(optimizer=optimizer,\n",
        "            loss='categorical_crossentropy',\n",
        "            metrics=['accuracy'])\n",
        "\n",
        "reduce_lr = ReduceLROnPlateau(monitor='accuracy',\n",
        "                              factor=0.8,\n",
        "                              patience=3,\n",
        "                              cooldown=2,\n",
        "                              min_lr=1e-4\n",
        "                              )\n",
        "\n",
        "mc = ModelCheckpoint(monitor='val_accuracy', \n",
        "                    #  filepath='/content/gdrive/MyDrive/Satellite/Saved_data/Xfer_bestmodel_011722.h5', \n",
        "                     filepath='/content/gdrive/MyDrive/Satellite/Saved_data/', \n",
        "                     verbose=1, \n",
        "                     save_best_only=True, \n",
        "                     mode='max'\n",
        "                     )\n",
        "\n",
        "cb = [reduce_lr, mc]"
      ],
      "metadata": {
        "id": "LrwqRhs0emz5"
      },
      "execution_count": 20,
      "outputs": []
    },
    {
      "cell_type": "code",
      "source": [
        "history = dnn.fit(final_features_train,\n",
        "                  y_train,\n",
        "                  batch_size=batch_size,\n",
        "                  epochs=100,\n",
        "                  validation_data=(final_features_valid, y_valid),\n",
        "                  callbacks=cb\n",
        "                  )"
      ],
      "metadata": {
        "colab": {
          "base_uri": "https://localhost:8080/"
        },
        "id": "r0I8DIMgffcW",
        "outputId": "35dc62aa-c2a8-49e0-b255-5c5194a4e394"
      },
      "execution_count": 21,
      "outputs": [
        {
          "output_type": "stream",
          "name": "stdout",
          "text": [
            "Epoch 1/100\n",
            "255/255 [==============================] - ETA: 0s - loss: 6.1148 - accuracy: 0.3048\n",
            "Epoch 00001: val_accuracy improved from -inf to 0.58850, saving model to /content/gdrive/MyDrive/Satellite/Saved_data/\n",
            "INFO:tensorflow:Assets written to: /content/gdrive/MyDrive/Satellite/Saved_data/assets\n",
            "255/255 [==============================] - 2s 7ms/step - loss: 6.1148 - accuracy: 0.3048 - val_loss: 1.3082 - val_accuracy: 0.5885 - lr: 0.0300\n",
            "Epoch 2/100\n",
            "244/255 [===========================>..] - ETA: 0s - loss: 6.0053 - accuracy: 0.3758\n",
            "Epoch 00002: val_accuracy did not improve from 0.58850\n",
            "255/255 [==============================] - 1s 3ms/step - loss: 5.9495 - accuracy: 0.3782 - val_loss: 3.2725 - val_accuracy: 0.3341 - lr: 0.0300\n",
            "Epoch 3/100\n",
            "250/255 [============================>.] - ETA: 0s - loss: 5.6406 - accuracy: 0.4210\n",
            "Epoch 00003: val_accuracy did not improve from 0.58850\n",
            "255/255 [==============================] - 1s 3ms/step - loss: 5.6449 - accuracy: 0.4222 - val_loss: 1.8154 - val_accuracy: 0.4491 - lr: 0.0300\n",
            "Epoch 4/100\n",
            "251/255 [============================>.] - ETA: 0s - loss: 5.3302 - accuracy: 0.4514\n",
            "Epoch 00004: val_accuracy did not improve from 0.58850\n",
            "255/255 [==============================] - 1s 3ms/step - loss: 5.3555 - accuracy: 0.4509 - val_loss: 4.1579 - val_accuracy: 0.4934 - lr: 0.0300\n",
            "Epoch 5/100\n",
            "254/255 [============================>.] - ETA: 0s - loss: 5.9466 - accuracy: 0.4454\n",
            "Epoch 00005: val_accuracy did not improve from 0.58850\n",
            "255/255 [==============================] - 1s 2ms/step - loss: 5.9500 - accuracy: 0.4450 - val_loss: 4.8080 - val_accuracy: 0.5022 - lr: 0.0300\n",
            "Epoch 6/100\n",
            "251/255 [============================>.] - ETA: 0s - loss: 5.8088 - accuracy: 0.4848\n",
            "Epoch 00006: val_accuracy improved from 0.58850 to 0.72566, saving model to /content/gdrive/MyDrive/Satellite/Saved_data/\n",
            "INFO:tensorflow:Assets written to: /content/gdrive/MyDrive/Satellite/Saved_data/assets\n",
            "255/255 [==============================] - 1s 4ms/step - loss: 5.8134 - accuracy: 0.4843 - val_loss: 1.3003 - val_accuracy: 0.7257 - lr: 0.0300\n",
            "Epoch 7/100\n",
            "255/255 [==============================] - ETA: 0s - loss: 5.7123 - accuracy: 0.4887\n",
            "Epoch 00007: val_accuracy improved from 0.72566 to 0.76991, saving model to /content/gdrive/MyDrive/Satellite/Saved_data/\n",
            "INFO:tensorflow:Assets written to: /content/gdrive/MyDrive/Satellite/Saved_data/assets\n",
            "255/255 [==============================] - 1s 4ms/step - loss: 5.7123 - accuracy: 0.4887 - val_loss: 0.8634 - val_accuracy: 0.7699 - lr: 0.0300\n",
            "Epoch 8/100\n",
            "252/255 [============================>.] - ETA: 0s - loss: 6.1757 - accuracy: 0.4916\n",
            "Epoch 00008: val_accuracy did not improve from 0.76991\n",
            "255/255 [==============================] - 1s 3ms/step - loss: 6.1912 - accuracy: 0.4914 - val_loss: 0.8856 - val_accuracy: 0.7588 - lr: 0.0300\n",
            "Epoch 9/100\n",
            "232/255 [==========================>...] - ETA: 0s - loss: 6.3535 - accuracy: 0.4863\n",
            "Epoch 00009: val_accuracy did not improve from 0.76991\n",
            "255/255 [==============================] - 1s 2ms/step - loss: 6.3000 - accuracy: 0.4917 - val_loss: 1.7313 - val_accuracy: 0.6637 - lr: 0.0300\n",
            "Epoch 10/100\n",
            "253/255 [============================>.] - ETA: 0s - loss: 5.9017 - accuracy: 0.5116\n",
            "Epoch 00010: val_accuracy did not improve from 0.76991\n",
            "255/255 [==============================] - 1s 2ms/step - loss: 5.9084 - accuracy: 0.5113 - val_loss: 1.3544 - val_accuracy: 0.6482 - lr: 0.0300\n",
            "Epoch 11/100\n",
            "250/255 [============================>.] - ETA: 0s - loss: 5.7883 - accuracy: 0.5145\n",
            "Epoch 00011: val_accuracy improved from 0.76991 to 0.84956, saving model to /content/gdrive/MyDrive/Satellite/Saved_data/\n",
            "INFO:tensorflow:Assets written to: /content/gdrive/MyDrive/Satellite/Saved_data/assets\n",
            "255/255 [==============================] - 1s 4ms/step - loss: 5.7582 - accuracy: 0.5155 - val_loss: 0.4903 - val_accuracy: 0.8496 - lr: 0.0300\n",
            "Epoch 12/100\n",
            "255/255 [==============================] - ETA: 0s - loss: 5.9830 - accuracy: 0.5111\n",
            "Epoch 00012: val_accuracy did not improve from 0.84956\n",
            "255/255 [==============================] - 1s 2ms/step - loss: 5.9830 - accuracy: 0.5111 - val_loss: 1.2455 - val_accuracy: 0.6305 - lr: 0.0300\n",
            "Epoch 13/100\n",
            "255/255 [==============================] - ETA: 0s - loss: 5.6159 - accuracy: 0.5329\n",
            "Epoch 00013: val_accuracy did not improve from 0.84956\n",
            "255/255 [==============================] - 1s 2ms/step - loss: 5.6159 - accuracy: 0.5329 - val_loss: 3.8105 - val_accuracy: 0.5642 - lr: 0.0300\n",
            "Epoch 14/100\n",
            "250/255 [============================>.] - ETA: 0s - loss: 6.0380 - accuracy: 0.5357\n",
            "Epoch 00014: val_accuracy did not improve from 0.84956\n",
            "255/255 [==============================] - 1s 3ms/step - loss: 6.0190 - accuracy: 0.5356 - val_loss: 1.2730 - val_accuracy: 0.6969 - lr: 0.0300\n",
            "Epoch 15/100\n",
            "254/255 [============================>.] - ETA: 0s - loss: 5.7860 - accuracy: 0.5352\n",
            "Epoch 00015: val_accuracy did not improve from 0.84956\n",
            "255/255 [==============================] - 1s 2ms/step - loss: 5.7897 - accuracy: 0.5351 - val_loss: 2.0869 - val_accuracy: 0.6372 - lr: 0.0300\n",
            "Epoch 16/100\n",
            "249/255 [============================>.] - ETA: 0s - loss: 5.9800 - accuracy: 0.5510\n",
            "Epoch 00016: val_accuracy improved from 0.84956 to 0.93142, saving model to /content/gdrive/MyDrive/Satellite/Saved_data/\n",
            "INFO:tensorflow:Assets written to: /content/gdrive/MyDrive/Satellite/Saved_data/assets\n",
            "255/255 [==============================] - 1s 4ms/step - loss: 5.9891 - accuracy: 0.5491 - val_loss: 0.3380 - val_accuracy: 0.9314 - lr: 0.0300\n",
            "Epoch 17/100\n",
            "233/255 [==========================>...] - ETA: 0s - loss: 5.6173 - accuracy: 0.5408\n",
            "Epoch 00017: val_accuracy did not improve from 0.93142\n",
            "255/255 [==============================] - 1s 2ms/step - loss: 5.6100 - accuracy: 0.5444 - val_loss: 0.9002 - val_accuracy: 0.7212 - lr: 0.0300\n",
            "Epoch 18/100\n",
            "233/255 [==========================>...] - ETA: 0s - loss: 5.5214 - accuracy: 0.5660\n",
            "Epoch 00018: val_accuracy did not improve from 0.93142\n",
            "255/255 [==============================] - 1s 2ms/step - loss: 5.6083 - accuracy: 0.5607 - val_loss: 2.7979 - val_accuracy: 0.5863 - lr: 0.0300\n",
            "Epoch 19/100\n",
            "255/255 [==============================] - ETA: 0s - loss: 5.7373 - accuracy: 0.5553\n",
            "Epoch 00019: val_accuracy did not improve from 0.93142\n",
            "255/255 [==============================] - 1s 2ms/step - loss: 5.7373 - accuracy: 0.5553 - val_loss: 0.5405 - val_accuracy: 0.8916 - lr: 0.0300\n",
            "Epoch 20/100\n",
            "234/255 [==========================>...] - ETA: 0s - loss: 5.9323 - accuracy: 0.5622\n",
            "Epoch 00020: val_accuracy did not improve from 0.93142\n",
            "255/255 [==============================] - 1s 2ms/step - loss: 5.9473 - accuracy: 0.5609 - val_loss: 0.8186 - val_accuracy: 0.8496 - lr: 0.0300\n",
            "Epoch 21/100\n",
            "234/255 [==========================>...] - ETA: 0s - loss: 6.5361 - accuracy: 0.5505\n",
            "Epoch 00021: val_accuracy did not improve from 0.93142\n",
            "255/255 [==============================] - 1s 2ms/step - loss: 6.5103 - accuracy: 0.5499 - val_loss: 7.1924 - val_accuracy: 0.3407 - lr: 0.0300\n",
            "Epoch 22/100\n",
            "232/255 [==========================>...] - ETA: 0s - loss: 6.3882 - accuracy: 0.5555\n",
            "Epoch 00022: val_accuracy did not improve from 0.93142\n",
            "255/255 [==============================] - 1s 2ms/step - loss: 6.2746 - accuracy: 0.5584 - val_loss: 2.5077 - val_accuracy: 0.6416 - lr: 0.0300\n",
            "Epoch 23/100\n",
            "234/255 [==========================>...] - ETA: 0s - loss: 6.2468 - accuracy: 0.5665\n",
            "Epoch 00023: val_accuracy did not improve from 0.93142\n",
            "255/255 [==============================] - 1s 2ms/step - loss: 6.0831 - accuracy: 0.5710 - val_loss: 1.5297 - val_accuracy: 0.6770 - lr: 0.0300\n",
            "Epoch 24/100\n",
            "235/255 [==========================>...] - ETA: 0s - loss: 5.6604 - accuracy: 0.5702\n",
            "Epoch 00024: val_accuracy did not improve from 0.93142\n",
            "255/255 [==============================] - 1s 2ms/step - loss: 5.6549 - accuracy: 0.5707 - val_loss: 2.3680 - val_accuracy: 0.6571 - lr: 0.0300\n",
            "Epoch 25/100\n",
            "255/255 [==============================] - ETA: 0s - loss: 5.5554 - accuracy: 0.5771\n",
            "Epoch 00025: val_accuracy did not improve from 0.93142\n",
            "255/255 [==============================] - 1s 2ms/step - loss: 5.5554 - accuracy: 0.5771 - val_loss: 1.7026 - val_accuracy: 0.7279 - lr: 0.0300\n",
            "Epoch 26/100\n",
            "252/255 [============================>.] - ETA: 0s - loss: 6.0828 - accuracy: 0.5667\n",
            "Epoch 00026: val_accuracy did not improve from 0.93142\n",
            "255/255 [==============================] - 1s 3ms/step - loss: 6.0975 - accuracy: 0.5666 - val_loss: 0.7600 - val_accuracy: 0.8208 - lr: 0.0300\n",
            "Epoch 27/100\n",
            "252/255 [============================>.] - ETA: 0s - loss: 5.6799 - accuracy: 0.5766\n",
            "Epoch 00027: val_accuracy did not improve from 0.93142\n",
            "255/255 [==============================] - 1s 3ms/step - loss: 5.7034 - accuracy: 0.5756 - val_loss: 0.8927 - val_accuracy: 0.8385 - lr: 0.0300\n",
            "Epoch 28/100\n",
            "254/255 [============================>.] - ETA: 0s - loss: 5.4547 - accuracy: 0.5952\n",
            "Epoch 00028: val_accuracy did not improve from 0.93142\n",
            "255/255 [==============================] - 1s 2ms/step - loss: 5.4525 - accuracy: 0.5950 - val_loss: 5.5991 - val_accuracy: 0.6416 - lr: 0.0300\n",
            "Epoch 29/100\n",
            "253/255 [============================>.] - ETA: 0s - loss: 5.9033 - accuracy: 0.5662\n",
            "Epoch 00029: val_accuracy did not improve from 0.93142\n",
            "255/255 [==============================] - 1s 2ms/step - loss: 5.9133 - accuracy: 0.5663 - val_loss: 8.5801 - val_accuracy: 0.6084 - lr: 0.0300\n",
            "Epoch 30/100\n",
            "233/255 [==========================>...] - ETA: 0s - loss: 6.0823 - accuracy: 0.5799\n",
            "Epoch 00030: val_accuracy did not improve from 0.93142\n",
            "255/255 [==============================] - 1s 2ms/step - loss: 6.0886 - accuracy: 0.5761 - val_loss: 0.4010 - val_accuracy: 0.9004 - lr: 0.0300\n",
            "Epoch 31/100\n",
            "248/255 [============================>.] - ETA: 0s - loss: 5.8786 - accuracy: 0.5832\n",
            "Epoch 00031: val_accuracy did not improve from 0.93142\n",
            "255/255 [==============================] - 1s 3ms/step - loss: 5.9027 - accuracy: 0.5847 - val_loss: 4.5229 - val_accuracy: 0.7212 - lr: 0.0300\n",
            "Epoch 32/100\n",
            "253/255 [============================>.] - ETA: 0s - loss: 5.0102 - accuracy: 0.5949\n",
            "Epoch 00032: val_accuracy did not improve from 0.93142\n",
            "255/255 [==============================] - 1s 2ms/step - loss: 5.0258 - accuracy: 0.5948 - val_loss: 3.1670 - val_accuracy: 0.7434 - lr: 0.0240\n",
            "Epoch 33/100\n",
            "253/255 [============================>.] - ETA: 0s - loss: 4.5272 - accuracy: 0.6233\n",
            "Epoch 00033: val_accuracy did not improve from 0.93142\n",
            "255/255 [==============================] - 1s 2ms/step - loss: 4.5460 - accuracy: 0.6228 - val_loss: 2.0181 - val_accuracy: 0.5774 - lr: 0.0240\n",
            "Epoch 34/100\n",
            "234/255 [==========================>...] - ETA: 0s - loss: 4.5363 - accuracy: 0.6255\n",
            "Epoch 00034: val_accuracy did not improve from 0.93142\n",
            "255/255 [==============================] - 1s 2ms/step - loss: 4.6135 - accuracy: 0.6233 - val_loss: 1.3453 - val_accuracy: 0.7588 - lr: 0.0240\n",
            "Epoch 35/100\n",
            "232/255 [==========================>...] - ETA: 0s - loss: 4.3597 - accuracy: 0.6207\n",
            "Epoch 00035: val_accuracy did not improve from 0.93142\n",
            "255/255 [==============================] - 1s 2ms/step - loss: 4.3114 - accuracy: 0.6238 - val_loss: 0.3557 - val_accuracy: 0.9270 - lr: 0.0240\n",
            "Epoch 36/100\n",
            "251/255 [============================>.] - ETA: 0s - loss: 4.8042 - accuracy: 0.6188\n",
            "Epoch 00036: val_accuracy did not improve from 0.93142\n",
            "255/255 [==============================] - 1s 3ms/step - loss: 4.8212 - accuracy: 0.6189 - val_loss: 2.3926 - val_accuracy: 0.7434 - lr: 0.0240\n",
            "Epoch 37/100\n",
            "254/255 [============================>.] - ETA: 0s - loss: 4.4334 - accuracy: 0.6316\n",
            "Epoch 00037: val_accuracy did not improve from 0.93142\n",
            "255/255 [==============================] - 1s 3ms/step - loss: 4.4310 - accuracy: 0.6319 - val_loss: 1.7966 - val_accuracy: 0.7389 - lr: 0.0240\n",
            "Epoch 38/100\n",
            "251/255 [============================>.] - ETA: 0s - loss: 4.5983 - accuracy: 0.6210\n",
            "Epoch 00038: val_accuracy did not improve from 0.93142\n",
            "255/255 [==============================] - 1s 3ms/step - loss: 4.5932 - accuracy: 0.6218 - val_loss: 1.4364 - val_accuracy: 0.7942 - lr: 0.0240\n",
            "Epoch 39/100\n",
            "247/255 [============================>.] - ETA: 0s - loss: 4.8415 - accuracy: 0.6212\n",
            "Epoch 00039: val_accuracy did not improve from 0.93142\n",
            "255/255 [==============================] - 1s 3ms/step - loss: 4.8439 - accuracy: 0.6201 - val_loss: 2.9855 - val_accuracy: 0.7412 - lr: 0.0240\n",
            "Epoch 40/100\n",
            "255/255 [==============================] - ETA: 0s - loss: 4.6020 - accuracy: 0.6191\n",
            "Epoch 00040: val_accuracy did not improve from 0.93142\n",
            "255/255 [==============================] - 1s 2ms/step - loss: 4.6020 - accuracy: 0.6191 - val_loss: 0.5409 - val_accuracy: 0.8540 - lr: 0.0240\n",
            "Epoch 41/100\n",
            "254/255 [============================>.] - ETA: 0s - loss: 4.0619 - accuracy: 0.6403\n",
            "Epoch 00041: val_accuracy did not improve from 0.93142\n",
            "255/255 [==============================] - 1s 2ms/step - loss: 4.0671 - accuracy: 0.6402 - val_loss: 0.5458 - val_accuracy: 0.8827 - lr: 0.0192\n",
            "Epoch 42/100\n",
            "255/255 [==============================] - ETA: 0s - loss: 4.0495 - accuracy: 0.6321\n",
            "Epoch 00042: val_accuracy did not improve from 0.93142\n",
            "255/255 [==============================] - 1s 2ms/step - loss: 4.0495 - accuracy: 0.6321 - val_loss: 0.5766 - val_accuracy: 0.8628 - lr: 0.0192\n",
            "Epoch 43/100\n",
            "250/255 [============================>.] - ETA: 0s - loss: 3.7256 - accuracy: 0.6553\n",
            "Epoch 00043: val_accuracy did not improve from 0.93142\n",
            "255/255 [==============================] - 1s 3ms/step - loss: 3.7464 - accuracy: 0.6542 - val_loss: 0.5039 - val_accuracy: 0.8761 - lr: 0.0192\n",
            "Epoch 44/100\n",
            "251/255 [============================>.] - ETA: 0s - loss: 3.7590 - accuracy: 0.6469\n",
            "Epoch 00044: val_accuracy did not improve from 0.93142\n",
            "255/255 [==============================] - 1s 2ms/step - loss: 3.7462 - accuracy: 0.6473 - val_loss: 0.5001 - val_accuracy: 0.9115 - lr: 0.0192\n",
            "Epoch 45/100\n",
            "250/255 [============================>.] - ETA: 0s - loss: 3.6669 - accuracy: 0.6550\n",
            "Epoch 00045: val_accuracy improved from 0.93142 to 0.94469, saving model to /content/gdrive/MyDrive/Satellite/Saved_data/\n",
            "INFO:tensorflow:Assets written to: /content/gdrive/MyDrive/Satellite/Saved_data/assets\n",
            "255/255 [==============================] - 1s 4ms/step - loss: 3.6467 - accuracy: 0.6545 - val_loss: 0.4271 - val_accuracy: 0.9447 - lr: 0.0192\n",
            "Epoch 46/100\n",
            "248/255 [============================>.] - ETA: 0s - loss: 3.9780 - accuracy: 0.6431\n",
            "Epoch 00046: val_accuracy did not improve from 0.94469\n",
            "255/255 [==============================] - 1s 3ms/step - loss: 3.9468 - accuracy: 0.6446 - val_loss: 0.6802 - val_accuracy: 0.8363 - lr: 0.0192\n",
            "Epoch 47/100\n",
            "248/255 [============================>.] - ETA: 0s - loss: 3.6296 - accuracy: 0.6580\n",
            "Epoch 00047: val_accuracy did not improve from 0.94469\n",
            "255/255 [==============================] - 1s 3ms/step - loss: 3.6408 - accuracy: 0.6569 - val_loss: 1.1489 - val_accuracy: 0.7235 - lr: 0.0192\n",
            "Epoch 48/100\n",
            "253/255 [============================>.] - ETA: 0s - loss: 3.6260 - accuracy: 0.6504\n",
            "Epoch 00048: val_accuracy did not improve from 0.94469\n",
            "255/255 [==============================] - 1s 2ms/step - loss: 3.6279 - accuracy: 0.6510 - val_loss: 1.1460 - val_accuracy: 0.7876 - lr: 0.0192\n",
            "Epoch 49/100\n",
            "251/255 [============================>.] - ETA: 0s - loss: 3.5603 - accuracy: 0.6524\n",
            "Epoch 00049: val_accuracy did not improve from 0.94469\n",
            "255/255 [==============================] - 1s 3ms/step - loss: 3.6089 - accuracy: 0.6518 - val_loss: 2.3686 - val_accuracy: 0.7058 - lr: 0.0192\n",
            "Epoch 50/100\n",
            "248/255 [============================>.] - ETA: 0s - loss: 3.7009 - accuracy: 0.6497\n",
            "Epoch 00050: val_accuracy did not improve from 0.94469\n",
            "255/255 [==============================] - 1s 3ms/step - loss: 3.6972 - accuracy: 0.6486 - val_loss: 0.5279 - val_accuracy: 0.8982 - lr: 0.0192\n",
            "Epoch 51/100\n",
            "252/255 [============================>.] - ETA: 0s - loss: 3.2980 - accuracy: 0.6597\n",
            "Epoch 00051: val_accuracy improved from 0.94469 to 0.95575, saving model to /content/gdrive/MyDrive/Satellite/Saved_data/\n",
            "INFO:tensorflow:Assets written to: /content/gdrive/MyDrive/Satellite/Saved_data/assets\n",
            "255/255 [==============================] - 1s 4ms/step - loss: 3.2885 - accuracy: 0.6609 - val_loss: 0.3224 - val_accuracy: 0.9558 - lr: 0.0154\n",
            "Epoch 52/100\n",
            "251/255 [============================>.] - ETA: 0s - loss: 3.3733 - accuracy: 0.6609\n",
            "Epoch 00052: val_accuracy did not improve from 0.95575\n",
            "255/255 [==============================] - 1s 3ms/step - loss: 3.3791 - accuracy: 0.6601 - val_loss: 2.5392 - val_accuracy: 0.6040 - lr: 0.0154\n",
            "Epoch 53/100\n",
            "244/255 [===========================>..] - ETA: 0s - loss: 3.0924 - accuracy: 0.6875\n",
            "Epoch 00053: val_accuracy did not improve from 0.95575\n",
            "255/255 [==============================] - 1s 3ms/step - loss: 3.0784 - accuracy: 0.6884 - val_loss: 1.8780 - val_accuracy: 0.7412 - lr: 0.0154\n",
            "Epoch 54/100\n",
            "255/255 [==============================] - ETA: 0s - loss: 3.2312 - accuracy: 0.6626\n",
            "Epoch 00054: val_accuracy did not improve from 0.95575\n",
            "255/255 [==============================] - 1s 2ms/step - loss: 3.2312 - accuracy: 0.6626 - val_loss: 0.7503 - val_accuracy: 0.8208 - lr: 0.0154\n",
            "Epoch 55/100\n",
            "246/255 [===========================>..] - ETA: 0s - loss: 3.2181 - accuracy: 0.6674\n",
            "Epoch 00055: val_accuracy did not improve from 0.95575\n",
            "255/255 [==============================] - 1s 3ms/step - loss: 3.2090 - accuracy: 0.6672 - val_loss: 0.4567 - val_accuracy: 0.9358 - lr: 0.0154\n",
            "Epoch 56/100\n",
            "250/255 [============================>.] - ETA: 0s - loss: 3.0235 - accuracy: 0.6733\n",
            "Epoch 00056: val_accuracy did not improve from 0.95575\n",
            "255/255 [==============================] - 1s 3ms/step - loss: 3.0266 - accuracy: 0.6726 - val_loss: 0.9945 - val_accuracy: 0.8119 - lr: 0.0154\n",
            "Epoch 57/100\n",
            "251/255 [============================>.] - ETA: 0s - loss: 2.8283 - accuracy: 0.6843\n",
            "Epoch 00057: val_accuracy did not improve from 0.95575\n",
            "255/255 [==============================] - 1s 3ms/step - loss: 2.8299 - accuracy: 0.6839 - val_loss: 0.4771 - val_accuracy: 0.8695 - lr: 0.0123\n",
            "Epoch 58/100\n",
            "253/255 [============================>.] - ETA: 0s - loss: 2.6755 - accuracy: 0.6791\n",
            "Epoch 00058: val_accuracy did not improve from 0.95575\n",
            "255/255 [==============================] - 1s 2ms/step - loss: 2.6801 - accuracy: 0.6785 - val_loss: 0.3256 - val_accuracy: 0.9491 - lr: 0.0123\n",
            "Epoch 59/100\n",
            "254/255 [============================>.] - ETA: 0s - loss: 2.6131 - accuracy: 0.6892\n",
            "Epoch 00059: val_accuracy did not improve from 0.95575\n",
            "255/255 [==============================] - 1s 3ms/step - loss: 2.6148 - accuracy: 0.6891 - val_loss: 0.3563 - val_accuracy: 0.9469 - lr: 0.0123\n",
            "Epoch 60/100\n",
            "250/255 [============================>.] - ETA: 0s - loss: 2.7277 - accuracy: 0.6995\n",
            "Epoch 00060: val_accuracy did not improve from 0.95575\n",
            "255/255 [==============================] - 1s 3ms/step - loss: 2.7068 - accuracy: 0.7014 - val_loss: 0.3113 - val_accuracy: 0.9270 - lr: 0.0123\n",
            "Epoch 61/100\n",
            "251/255 [============================>.] - ETA: 0s - loss: 2.5506 - accuracy: 0.6982\n",
            "Epoch 00061: val_accuracy did not improve from 0.95575\n",
            "255/255 [==============================] - 1s 3ms/step - loss: 2.5474 - accuracy: 0.6977 - val_loss: 0.4976 - val_accuracy: 0.8717 - lr: 0.0123\n",
            "Epoch 62/100\n",
            "255/255 [==============================] - ETA: 0s - loss: 2.5418 - accuracy: 0.6940\n",
            "Epoch 00062: val_accuracy did not improve from 0.95575\n",
            "255/255 [==============================] - 1s 2ms/step - loss: 2.5418 - accuracy: 0.6940 - val_loss: 0.3530 - val_accuracy: 0.9137 - lr: 0.0123\n",
            "Epoch 63/100\n",
            "255/255 [==============================] - ETA: 0s - loss: 2.3425 - accuracy: 0.7016\n",
            "Epoch 00063: val_accuracy did not improve from 0.95575\n",
            "255/255 [==============================] - 1s 2ms/step - loss: 2.3425 - accuracy: 0.7016 - val_loss: 0.3155 - val_accuracy: 0.9292 - lr: 0.0123\n",
            "Epoch 64/100\n",
            "254/255 [============================>.] - ETA: 0s - loss: 2.5240 - accuracy: 0.7010\n",
            "Epoch 00064: val_accuracy did not improve from 0.95575\n",
            "255/255 [==============================] - 1s 2ms/step - loss: 2.5252 - accuracy: 0.7009 - val_loss: 0.9897 - val_accuracy: 0.8230 - lr: 0.0123\n",
            "Epoch 65/100\n",
            "253/255 [============================>.] - ETA: 0s - loss: 2.4482 - accuracy: 0.6895\n",
            "Epoch 00065: val_accuracy did not improve from 0.95575\n",
            "255/255 [==============================] - 1s 2ms/step - loss: 2.4468 - accuracy: 0.6898 - val_loss: 0.3471 - val_accuracy: 0.9403 - lr: 0.0123\n",
            "Epoch 66/100\n",
            "233/255 [==========================>...] - ETA: 0s - loss: 2.4313 - accuracy: 0.6964\n",
            "Epoch 00066: val_accuracy did not improve from 0.95575\n",
            "255/255 [==============================] - 1s 2ms/step - loss: 2.4012 - accuracy: 0.6992 - val_loss: 0.6001 - val_accuracy: 0.8496 - lr: 0.0123\n",
            "Epoch 67/100\n",
            "251/255 [============================>.] - ETA: 0s - loss: 2.3319 - accuracy: 0.7067\n",
            "Epoch 00067: val_accuracy did not improve from 0.95575\n",
            "255/255 [==============================] - 1s 3ms/step - loss: 2.3152 - accuracy: 0.7070 - val_loss: 0.4235 - val_accuracy: 0.8982 - lr: 0.0098\n",
            "Epoch 68/100\n",
            "254/255 [============================>.] - ETA: 0s - loss: 2.3235 - accuracy: 0.7020\n",
            "Epoch 00068: val_accuracy did not improve from 0.95575\n",
            "255/255 [==============================] - 1s 2ms/step - loss: 2.3217 - accuracy: 0.7021 - val_loss: 1.3659 - val_accuracy: 0.6925 - lr: 0.0098\n",
            "Epoch 69/100\n",
            "251/255 [============================>.] - ETA: 0s - loss: 2.2248 - accuracy: 0.7004\n",
            "Epoch 00069: val_accuracy did not improve from 0.95575\n",
            "255/255 [==============================] - 1s 2ms/step - loss: 2.2158 - accuracy: 0.7009 - val_loss: 0.6258 - val_accuracy: 0.8274 - lr: 0.0098\n",
            "Epoch 70/100\n",
            "232/255 [==========================>...] - ETA: 0s - loss: 2.1890 - accuracy: 0.7131\n",
            "Epoch 00070: val_accuracy did not improve from 0.95575\n",
            "255/255 [==============================] - 1s 2ms/step - loss: 2.2083 - accuracy: 0.7090 - val_loss: 0.3534 - val_accuracy: 0.9270 - lr: 0.0098\n",
            "Epoch 71/100\n",
            "235/255 [==========================>...] - ETA: 0s - loss: 2.2339 - accuracy: 0.7154\n",
            "Epoch 00071: val_accuracy did not improve from 0.95575\n",
            "255/255 [==============================] - 1s 2ms/step - loss: 2.2544 - accuracy: 0.7112 - val_loss: 0.3736 - val_accuracy: 0.9403 - lr: 0.0098\n",
            "Epoch 72/100\n",
            "234/255 [==========================>...] - ETA: 0s - loss: 2.1120 - accuracy: 0.7179\n",
            "Epoch 00072: val_accuracy did not improve from 0.95575\n",
            "255/255 [==============================] - 1s 2ms/step - loss: 2.0912 - accuracy: 0.7181 - val_loss: 0.7886 - val_accuracy: 0.8341 - lr: 0.0098\n",
            "Epoch 73/100\n",
            "255/255 [==============================] - ETA: 0s - loss: 2.0700 - accuracy: 0.7195\n",
            "Epoch 00073: val_accuracy did not improve from 0.95575\n",
            "255/255 [==============================] - 1s 2ms/step - loss: 2.0700 - accuracy: 0.7195 - val_loss: 0.5797 - val_accuracy: 0.8606 - lr: 0.0098\n",
            "Epoch 74/100\n",
            "253/255 [============================>.] - ETA: 0s - loss: 2.1830 - accuracy: 0.7041\n",
            "Epoch 00074: val_accuracy did not improve from 0.95575\n",
            "255/255 [==============================] - 1s 2ms/step - loss: 2.1774 - accuracy: 0.7043 - val_loss: 0.4614 - val_accuracy: 0.9027 - lr: 0.0098\n",
            "Epoch 75/100\n",
            "253/255 [============================>.] - ETA: 0s - loss: 2.0745 - accuracy: 0.7157\n",
            "Epoch 00075: val_accuracy did not improve from 0.95575\n",
            "255/255 [==============================] - 1s 2ms/step - loss: 2.0783 - accuracy: 0.7154 - val_loss: 0.9453 - val_accuracy: 0.8385 - lr: 0.0098\n",
            "Epoch 76/100\n",
            "254/255 [============================>.] - ETA: 0s - loss: 2.0511 - accuracy: 0.7190\n",
            "Epoch 00076: val_accuracy did not improve from 0.95575\n",
            "255/255 [==============================] - 1s 3ms/step - loss: 2.0475 - accuracy: 0.7191 - val_loss: 0.3137 - val_accuracy: 0.9336 - lr: 0.0098\n",
            "Epoch 77/100\n",
            "250/255 [============================>.] - ETA: 0s - loss: 2.0140 - accuracy: 0.7205\n",
            "Epoch 00077: val_accuracy did not improve from 0.95575\n",
            "255/255 [==============================] - 1s 3ms/step - loss: 2.0200 - accuracy: 0.7205 - val_loss: 0.2881 - val_accuracy: 0.9469 - lr: 0.0079\n",
            "Epoch 78/100\n",
            "249/255 [============================>.] - ETA: 0s - loss: 1.8733 - accuracy: 0.7244\n",
            "Epoch 00078: val_accuracy did not improve from 0.95575\n",
            "255/255 [==============================] - 1s 3ms/step - loss: 1.8838 - accuracy: 0.7235 - val_loss: 0.7115 - val_accuracy: 0.7942 - lr: 0.0079\n",
            "Epoch 79/100\n",
            "251/255 [============================>.] - ETA: 0s - loss: 1.9096 - accuracy: 0.7239\n",
            "Epoch 00079: val_accuracy did not improve from 0.95575\n",
            "255/255 [==============================] - 1s 3ms/step - loss: 1.8945 - accuracy: 0.7252 - val_loss: 0.7092 - val_accuracy: 0.8385 - lr: 0.0079\n",
            "Epoch 80/100\n",
            "252/255 [============================>.] - ETA: 0s - loss: 1.8243 - accuracy: 0.7269\n",
            "Epoch 00080: val_accuracy did not improve from 0.95575\n",
            "255/255 [==============================] - 1s 3ms/step - loss: 1.8246 - accuracy: 0.7279 - val_loss: 0.5273 - val_accuracy: 0.8363 - lr: 0.0079\n",
            "Epoch 81/100\n",
            "254/255 [============================>.] - ETA: 0s - loss: 1.8068 - accuracy: 0.7298\n",
            "Epoch 00081: val_accuracy did not improve from 0.95575\n",
            "255/255 [==============================] - 1s 2ms/step - loss: 1.8052 - accuracy: 0.7299 - val_loss: 0.3017 - val_accuracy: 0.9403 - lr: 0.0079\n",
            "Epoch 82/100\n",
            "252/255 [============================>.] - ETA: 0s - loss: 1.6592 - accuracy: 0.7440\n",
            "Epoch 00082: val_accuracy did not improve from 0.95575\n",
            "255/255 [==============================] - 1s 3ms/step - loss: 1.6599 - accuracy: 0.7434 - val_loss: 0.3024 - val_accuracy: 0.9469 - lr: 0.0079\n",
            "Epoch 83/100\n",
            "249/255 [============================>.] - ETA: 0s - loss: 1.8008 - accuracy: 0.7221\n",
            "Epoch 00083: val_accuracy did not improve from 0.95575\n",
            "255/255 [==============================] - 1s 3ms/step - loss: 1.8002 - accuracy: 0.7218 - val_loss: 0.5298 - val_accuracy: 0.8606 - lr: 0.0079\n",
            "Epoch 84/100\n",
            "233/255 [==========================>...] - ETA: 0s - loss: 1.8151 - accuracy: 0.7242\n",
            "Epoch 00084: val_accuracy did not improve from 0.95575\n",
            "255/255 [==============================] - 1s 2ms/step - loss: 1.8224 - accuracy: 0.7237 - val_loss: 0.7666 - val_accuracy: 0.8650 - lr: 0.0079\n",
            "Epoch 85/100\n",
            "253/255 [============================>.] - ETA: 0s - loss: 1.7067 - accuracy: 0.7317\n",
            "Epoch 00085: val_accuracy did not improve from 0.95575\n",
            "255/255 [==============================] - 1s 3ms/step - loss: 1.7069 - accuracy: 0.7311 - val_loss: 0.2672 - val_accuracy: 0.9491 - lr: 0.0079\n",
            "Epoch 86/100\n",
            "252/255 [============================>.] - ETA: 0s - loss: 1.6612 - accuracy: 0.7359\n",
            "Epoch 00086: val_accuracy did not improve from 0.95575\n",
            "255/255 [==============================] - 1s 2ms/step - loss: 1.6625 - accuracy: 0.7365 - val_loss: 0.3414 - val_accuracy: 0.9513 - lr: 0.0063\n",
            "Epoch 87/100\n",
            "253/255 [============================>.] - ETA: 0s - loss: 1.5635 - accuracy: 0.7451\n",
            "Epoch 00087: val_accuracy improved from 0.95575 to 0.96681, saving model to /content/gdrive/MyDrive/Satellite/Saved_data/\n",
            "INFO:tensorflow:Assets written to: /content/gdrive/MyDrive/Satellite/Saved_data/assets\n",
            "255/255 [==============================] - 1s 4ms/step - loss: 1.5664 - accuracy: 0.7451 - val_loss: 0.2490 - val_accuracy: 0.9668 - lr: 0.0063\n",
            "Epoch 88/100\n",
            "250/255 [============================>.] - ETA: 0s - loss: 1.5491 - accuracy: 0.7440\n",
            "Epoch 00088: val_accuracy did not improve from 0.96681\n",
            "255/255 [==============================] - 1s 3ms/step - loss: 1.5449 - accuracy: 0.7439 - val_loss: 0.4177 - val_accuracy: 0.8673 - lr: 0.0063\n",
            "Epoch 89/100\n",
            "254/255 [============================>.] - ETA: 0s - loss: 1.6663 - accuracy: 0.7379\n",
            "Epoch 00089: val_accuracy did not improve from 0.96681\n",
            "255/255 [==============================] - 1s 2ms/step - loss: 1.6684 - accuracy: 0.7375 - val_loss: 0.3730 - val_accuracy: 0.9093 - lr: 0.0063\n",
            "Epoch 90/100\n",
            "248/255 [============================>.] - ETA: 0s - loss: 1.5348 - accuracy: 0.7440\n",
            "Epoch 00090: val_accuracy did not improve from 0.96681\n",
            "255/255 [==============================] - 1s 3ms/step - loss: 1.5118 - accuracy: 0.7471 - val_loss: 0.2856 - val_accuracy: 0.9602 - lr: 0.0063\n",
            "Epoch 91/100\n",
            "243/255 [===========================>..] - ETA: 0s - loss: 1.6047 - accuracy: 0.7436\n",
            "Epoch 00091: val_accuracy did not improve from 0.96681\n",
            "255/255 [==============================] - 1s 3ms/step - loss: 1.6013 - accuracy: 0.7453 - val_loss: 0.2524 - val_accuracy: 0.9535 - lr: 0.0063\n",
            "Epoch 92/100\n",
            "249/255 [============================>.] - ETA: 0s - loss: 1.6049 - accuracy: 0.7510\n",
            "Epoch 00092: val_accuracy did not improve from 0.96681\n",
            "255/255 [==============================] - 1s 3ms/step - loss: 1.6043 - accuracy: 0.7517 - val_loss: 0.2634 - val_accuracy: 0.9314 - lr: 0.0063\n",
            "Epoch 93/100\n",
            "249/255 [============================>.] - ETA: 0s - loss: 1.5326 - accuracy: 0.7482\n",
            "Epoch 00093: val_accuracy did not improve from 0.96681\n",
            "255/255 [==============================] - 1s 3ms/step - loss: 1.5326 - accuracy: 0.7488 - val_loss: 0.4688 - val_accuracy: 0.8850 - lr: 0.0063\n",
            "Epoch 94/100\n",
            "253/255 [============================>.] - ETA: 0s - loss: 1.5795 - accuracy: 0.7374\n",
            "Epoch 00094: val_accuracy did not improve from 0.96681\n",
            "255/255 [==============================] - 1s 2ms/step - loss: 1.5832 - accuracy: 0.7375 - val_loss: 0.4560 - val_accuracy: 0.8761 - lr: 0.0063\n",
            "Epoch 95/100\n",
            "254/255 [============================>.] - ETA: 0s - loss: 1.6256 - accuracy: 0.7443\n",
            "Epoch 00095: val_accuracy did not improve from 0.96681\n",
            "255/255 [==============================] - 1s 2ms/step - loss: 1.6264 - accuracy: 0.7441 - val_loss: 0.4064 - val_accuracy: 0.8717 - lr: 0.0063\n",
            "Epoch 96/100\n",
            "233/255 [==========================>...] - ETA: 0s - loss: 1.5722 - accuracy: 0.7323\n",
            "Epoch 00096: val_accuracy did not improve from 0.96681\n",
            "255/255 [==============================] - 1s 2ms/step - loss: 1.5424 - accuracy: 0.7375 - val_loss: 0.3223 - val_accuracy: 0.9381 - lr: 0.0050\n",
            "Epoch 97/100\n",
            "253/255 [============================>.] - ETA: 0s - loss: 1.3834 - accuracy: 0.7527\n",
            "Epoch 00097: val_accuracy did not improve from 0.96681\n",
            "255/255 [==============================] - 1s 3ms/step - loss: 1.3799 - accuracy: 0.7534 - val_loss: 0.7248 - val_accuracy: 0.8296 - lr: 0.0050\n",
            "Epoch 98/100\n",
            "253/255 [============================>.] - ETA: 0s - loss: 1.5078 - accuracy: 0.7423\n",
            "Epoch 00098: val_accuracy did not improve from 0.96681\n",
            "255/255 [==============================] - 1s 2ms/step - loss: 1.5025 - accuracy: 0.7429 - val_loss: 0.3478 - val_accuracy: 0.9358 - lr: 0.0050\n",
            "Epoch 99/100\n",
            "253/255 [============================>.] - ETA: 0s - loss: 1.4497 - accuracy: 0.7515\n",
            "Epoch 00099: val_accuracy did not improve from 0.96681\n",
            "255/255 [==============================] - 1s 2ms/step - loss: 1.4437 - accuracy: 0.7520 - val_loss: 0.2580 - val_accuracy: 0.9336 - lr: 0.0050\n",
            "Epoch 100/100\n",
            "253/255 [============================>.] - ETA: 0s - loss: 1.4141 - accuracy: 0.7458\n",
            "Epoch 00100: val_accuracy did not improve from 0.96681\n",
            "255/255 [==============================] - 1s 3ms/step - loss: 1.4086 - accuracy: 0.7456 - val_loss: 0.3313 - val_accuracy: 0.9004 - lr: 0.0050\n"
          ]
        }
      ]
    },
    {
      "cell_type": "markdown",
      "source": [
        "# 6 CNN layer model"
      ],
      "metadata": {
        "id": "oE5ufg01yAUd"
      }
    },
    {
      "cell_type": "markdown",
      "source": [
        "## Process data for model"
      ],
      "metadata": {
        "id": "BRsJdkji6A5e"
      }
    },
    {
      "cell_type": "code",
      "source": [
        "df = pd.concat([df, pd.get_dummies(df['label'])], axis=1)\n",
        "df.drop(['label'], axis=1, inplace=True)"
      ],
      "metadata": {
        "id": "XckTbAuSytRM"
      },
      "execution_count": 22,
      "outputs": []
    },
    {
      "cell_type": "code",
      "source": [
        "batch_size = 32\n",
        "\n",
        "train_datagen = ImageDataGenerator(rescale=1/255.0,\n",
        "                                  rotation_range=45,\n",
        "                                  width_shift_range=0.2,\n",
        "                                  height_shift_range=0.2,\n",
        "                                  shear_range=0.2,\n",
        "                                  horizontal_flip=True,\n",
        "                                  fill_mode='nearest')\n",
        "\n",
        "train_generator = train_datagen.flow_from_directory(\n",
        "    train_folder,\n",
        "    target_size=(256, 256),\n",
        "    batch_size=batch_size,\n",
        "    class_mode='categorical')\n",
        "\n",
        "validation_datagen = ImageDataGenerator(rescale=1/255.0)  \n",
        "\n",
        "validation_generator = validation_datagen.flow_from_directory(\n",
        "    valid_folder,\n",
        "    target_size=(256, 256),\n",
        "    batch_size=batch_size,\n",
        "    class_mode='categorical') "
      ],
      "metadata": {
        "colab": {
          "base_uri": "https://localhost:8080/"
        },
        "id": "1kCdoPkmSFyp",
        "outputId": "b4c6f2d2-9607-4f31-e181-eca89b318b06"
      },
      "execution_count": 30,
      "outputs": [
        {
          "output_type": "stream",
          "name": "stdout",
          "text": [
            "Found 4072 images belonging to 4 classes.\n",
            "Found 452 images belonging to 4 classes.\n"
          ]
        }
      ]
    },
    {
      "cell_type": "markdown",
      "source": [
        "## Define and execute model"
      ],
      "metadata": {
        "id": "b-GesX6fp8dP"
      }
    },
    {
      "cell_type": "code",
      "source": [
        "tf.keras.backend.clear_session()\n",
        "tf.random.set_seed(60)\n",
        "\n",
        "model = tf.keras.models.Sequential([\n",
        "    tf.keras.layers.Conv2D(filters=32, \n",
        "                            kernel_size=3, \n",
        "                            input_shape=image_size, \n",
        "                            activation='relu'),\n",
        "    tf.keras.layers.BatchNormalization(),\n",
        "    tf.keras.layers.ReLU(),\n",
        "    tf.keras.layers.Conv2D(filters=32, \n",
        "                            kernel_size=3, \n",
        "                            activation='relu'),\n",
        "    tf.keras.layers.BatchNormalization(),\n",
        "    tf.keras.layers.ReLU(),\n",
        "    tf.keras.layers.MaxPooling2D(2),\n",
        "    tf.keras.layers.Dropout(0.2),\n",
        "\n",
        "    tf.keras.layers.Conv2D(filters=64, \n",
        "                            kernel_size=3, \n",
        "                            activation='relu'),\n",
        "    tf.keras.layers.BatchNormalization(),\n",
        "    tf.keras.layers.ReLU(),\n",
        "    tf.keras.layers.Conv2D(filters=64, \n",
        "                            kernel_size=3, \n",
        "                            activation='relu'),\n",
        "    tf.keras.layers.BatchNormalization(),\n",
        "    tf.keras.layers.ReLU(),\n",
        "    tf.keras.layers.MaxPooling2D(2),\n",
        "    tf.keras.layers.Dropout(0.2),\n",
        "\n",
        "    tf.keras.layers.Conv2D(filters=96, \n",
        "                            kernel_size=3, \n",
        "                            activation='relu'),\n",
        "    tf.keras.layers.BatchNormalization(),\n",
        "    tf.keras.layers.ReLU(),\n",
        "    tf.keras.layers.Conv2D(filters=96, \n",
        "                            kernel_size=3, \n",
        "                            activation='relu'),\n",
        "    tf.keras.layers.BatchNormalization(),\n",
        "    tf.keras.layers.ReLU(),\n",
        "    tf.keras.layers.MaxPooling2D(2),\n",
        "    tf.keras.layers.Dropout(0.2),\n",
        "\n",
        "    tf.keras.layers.Flatten(),\n",
        "    tf.keras.layers.Dense(units=192, activation='relu'),\n",
        "    tf.keras.layers.BatchNormalization(),\n",
        "    tf.keras.layers.ReLU(),\n",
        "    tf.keras.layers.Dropout(0.2),\n",
        "    tf.keras.layers.Dense(4, activation='softmax')\n",
        "])\n",
        "\n",
        "optimizer = tf.keras.optimizers.Adam(learning_rate=7e-3)\n",
        "\n",
        "model.compile(optimizer=optimizer, \n",
        "              loss='categorical_crossentropy', \n",
        "              metrics=['acc']\n",
        "              )\n",
        "\n",
        "reduce_lr = ReduceLROnPlateau(monitor='acc',\n",
        "                              factor=0.6,\n",
        "                              patience=1,\n",
        "                              cooldown=2,\n",
        "                              min_lr=1e-4\n",
        "                              )\n",
        "es = EarlyStopping(monitor='acc', \n",
        "                   min_delta=0.003, \n",
        "                   patience=7,\n",
        "                   verbose=1, \n",
        "                   mode='auto'\n",
        "                   )\n",
        "mc = ModelCheckpoint(monitor='val_acc', \n",
        "                     filepath='/content/gdrive/MyDrive/Satellite/Saved_data/6L2_bestmodel_011722.h5', \n",
        "                     verbose=1, \n",
        "                     save_best_only=True, \n",
        "                     mode='max'\n",
        "                     )\n",
        "\n",
        "cd = [reduce_lr, mc]"
      ],
      "metadata": {
        "id": "4YdQUfYyS2WM"
      },
      "execution_count": 31,
      "outputs": []
    },
    {
      "cell_type": "code",
      "source": [
        "history = model.fit(train_generator,\n",
        "                    epochs=20,\n",
        "                    verbose=1,\n",
        "                    validation_data=validation_generator,\n",
        "                    callbacks=cd\n",
        "                    )"
      ],
      "metadata": {
        "colab": {
          "base_uri": "https://localhost:8080/"
        },
        "id": "60H3oPgMb6GX",
        "outputId": "edd47db5-ba04-4967-8982-c2ef9a54a3c5"
      },
      "execution_count": 32,
      "outputs": [
        {
          "output_type": "stream",
          "name": "stdout",
          "text": [
            "Epoch 1/20\n",
            "128/128 [==============================] - ETA: 0s - loss: 0.6996 - acc: 0.7159\n",
            "Epoch 00001: val_acc improved from -inf to 0.26991, saving model to /content/gdrive/MyDrive/Satellite/Saved_data/6L2_bestmodel_011722.h5\n",
            "128/128 [==============================] - 64s 476ms/step - loss: 0.6996 - acc: 0.7159 - val_loss: 1.7785 - val_acc: 0.2699 - lr: 0.0070\n",
            "Epoch 2/20\n",
            "128/128 [==============================] - ETA: 0s - loss: 0.5934 - acc: 0.7058\n",
            "Epoch 00002: val_acc improved from 0.26991 to 0.36504, saving model to /content/gdrive/MyDrive/Satellite/Saved_data/6L2_bestmodel_011722.h5\n",
            "128/128 [==============================] - 60s 466ms/step - loss: 0.5934 - acc: 0.7058 - val_loss: 1.7952 - val_acc: 0.3650 - lr: 0.0070\n",
            "Epoch 3/20\n",
            "128/128 [==============================] - ETA: 0s - loss: 0.5240 - acc: 0.7588\n",
            "Epoch 00003: val_acc did not improve from 0.36504\n",
            "128/128 [==============================] - 58s 450ms/step - loss: 0.5240 - acc: 0.7588 - val_loss: 1.2409 - val_acc: 0.2367 - lr: 0.0042\n",
            "Epoch 4/20\n",
            "128/128 [==============================] - ETA: 0s - loss: 0.4768 - acc: 0.8104\n",
            "Epoch 00004: val_acc improved from 0.36504 to 0.56416, saving model to /content/gdrive/MyDrive/Satellite/Saved_data/6L2_bestmodel_011722.h5\n",
            "128/128 [==============================] - 60s 467ms/step - loss: 0.4768 - acc: 0.8104 - val_loss: 1.8873 - val_acc: 0.5642 - lr: 0.0042\n",
            "Epoch 5/20\n",
            "128/128 [==============================] - ETA: 0s - loss: 0.4376 - acc: 0.8313\n",
            "Epoch 00005: val_acc improved from 0.56416 to 0.86947, saving model to /content/gdrive/MyDrive/Satellite/Saved_data/6L2_bestmodel_011722.h5\n",
            "128/128 [==============================] - 60s 468ms/step - loss: 0.4376 - acc: 0.8313 - val_loss: 0.3680 - val_acc: 0.8695 - lr: 0.0042\n",
            "Epoch 6/20\n",
            "128/128 [==============================] - ETA: 0s - loss: 0.4494 - acc: 0.8330\n",
            "Epoch 00006: val_acc did not improve from 0.86947\n",
            "128/128 [==============================] - 59s 462ms/step - loss: 0.4494 - acc: 0.8330 - val_loss: 0.6820 - val_acc: 0.6704 - lr: 0.0042\n",
            "Epoch 7/20\n",
            "128/128 [==============================] - ETA: 0s - loss: 0.4406 - acc: 0.8379\n",
            "Epoch 00007: val_acc did not improve from 0.86947\n",
            "128/128 [==============================] - 60s 468ms/step - loss: 0.4406 - acc: 0.8379 - val_loss: 5.6206 - val_acc: 0.3650 - lr: 0.0042\n",
            "Epoch 8/20\n",
            "128/128 [==============================] - ETA: 0s - loss: 0.4243 - acc: 0.8333\n",
            "Epoch 00008: val_acc did not improve from 0.86947\n",
            "128/128 [==============================] - 58s 449ms/step - loss: 0.4243 - acc: 0.8333 - val_loss: 1.2615 - val_acc: 0.5863 - lr: 0.0042\n",
            "Epoch 9/20\n",
            "128/128 [==============================] - ETA: 0s - loss: 0.3879 - acc: 0.8500\n",
            "Epoch 00009: val_acc did not improve from 0.86947\n",
            "128/128 [==============================] - 57s 446ms/step - loss: 0.3879 - acc: 0.8500 - val_loss: 0.5397 - val_acc: 0.7456 - lr: 0.0025\n",
            "Epoch 10/20\n",
            "128/128 [==============================] - ETA: 0s - loss: 0.3611 - acc: 0.8639\n",
            "Epoch 00010: val_acc did not improve from 0.86947\n",
            "128/128 [==============================] - 58s 449ms/step - loss: 0.3611 - acc: 0.8639 - val_loss: 0.4220 - val_acc: 0.8341 - lr: 0.0025\n",
            "Epoch 11/20\n",
            "128/128 [==============================] - ETA: 0s - loss: 0.3591 - acc: 0.8662\n",
            "Epoch 00011: val_acc did not improve from 0.86947\n",
            "128/128 [==============================] - 59s 458ms/step - loss: 0.3591 - acc: 0.8662 - val_loss: 0.6850 - val_acc: 0.7124 - lr: 0.0025\n",
            "Epoch 12/20\n",
            "128/128 [==============================] - ETA: 0s - loss: 0.3392 - acc: 0.8797\n",
            "Epoch 00012: val_acc did not improve from 0.86947\n",
            "128/128 [==============================] - 59s 460ms/step - loss: 0.3392 - acc: 0.8797 - val_loss: 0.6469 - val_acc: 0.7301 - lr: 0.0025\n",
            "Epoch 13/20\n",
            "128/128 [==============================] - ETA: 0s - loss: 0.3287 - acc: 0.8757\n",
            "Epoch 00013: val_acc did not improve from 0.86947\n",
            "128/128 [==============================] - 59s 458ms/step - loss: 0.3287 - acc: 0.8757 - val_loss: 0.4845 - val_acc: 0.7588 - lr: 0.0025\n",
            "Epoch 14/20\n",
            "128/128 [==============================] - ETA: 0s - loss: 0.3176 - acc: 0.8811\n",
            "Epoch 00014: val_acc did not improve from 0.86947\n",
            "128/128 [==============================] - 59s 462ms/step - loss: 0.3176 - acc: 0.8811 - val_loss: 0.5834 - val_acc: 0.6969 - lr: 0.0015\n",
            "Epoch 15/20\n",
            "128/128 [==============================] - ETA: 0s - loss: 0.3103 - acc: 0.8836\n",
            "Epoch 00015: val_acc did not improve from 0.86947\n",
            "128/128 [==============================] - 59s 457ms/step - loss: 0.3103 - acc: 0.8836 - val_loss: 0.4184 - val_acc: 0.8097 - lr: 0.0015\n",
            "Epoch 16/20\n",
            "128/128 [==============================] - ETA: 0s - loss: 0.2894 - acc: 0.8922\n",
            "Epoch 00016: val_acc did not improve from 0.86947\n",
            "128/128 [==============================] - 59s 459ms/step - loss: 0.2894 - acc: 0.8922 - val_loss: 0.3576 - val_acc: 0.8407 - lr: 0.0015\n",
            "Epoch 17/20\n",
            "128/128 [==============================] - ETA: 0s - loss: 0.2679 - acc: 0.9020\n",
            "Epoch 00017: val_acc did not improve from 0.86947\n",
            "128/128 [==============================] - 58s 452ms/step - loss: 0.2679 - acc: 0.9020 - val_loss: 0.9078 - val_acc: 0.7345 - lr: 0.0015\n",
            "Epoch 18/20\n",
            "128/128 [==============================] - ETA: 0s - loss: 0.2833 - acc: 0.8919\n",
            "Epoch 00018: val_acc did not improve from 0.86947\n",
            "128/128 [==============================] - 58s 451ms/step - loss: 0.2833 - acc: 0.8919 - val_loss: 0.3916 - val_acc: 0.8097 - lr: 0.0015\n",
            "Epoch 19/20\n",
            "128/128 [==============================] - ETA: 0s - loss: 0.2538 - acc: 0.9077\n",
            "Epoch 00019: val_acc improved from 0.86947 to 0.91593, saving model to /content/gdrive/MyDrive/Satellite/Saved_data/6L2_bestmodel_011722.h5\n",
            "128/128 [==============================] - 59s 462ms/step - loss: 0.2538 - acc: 0.9077 - val_loss: 0.1998 - val_acc: 0.9159 - lr: 9.0720e-04\n",
            "Epoch 20/20\n",
            "128/128 [==============================] - ETA: 0s - loss: 0.2520 - acc: 0.9047\n",
            "Epoch 00020: val_acc improved from 0.91593 to 0.92257, saving model to /content/gdrive/MyDrive/Satellite/Saved_data/6L2_bestmodel_011722.h5\n",
            "128/128 [==============================] - 59s 462ms/step - loss: 0.2520 - acc: 0.9047 - val_loss: 0.2124 - val_acc: 0.9226 - lr: 9.0720e-04\n"
          ]
        }
      ]
    },
    {
      "cell_type": "markdown",
      "source": [
        "# Evaluate the validation predictions a bit further"
      ],
      "metadata": {
        "id": "3Fnpot-eXgC1"
      }
    },
    {
      "cell_type": "code",
      "source": [
        "model = load_model('/content/gdrive/MyDrive/Satellite/Saved_data/6L2_bestmodel_010822.h5')"
      ],
      "metadata": {
        "id": "5ij_8hqls-lz"
      },
      "execution_count": null,
      "outputs": []
    },
    {
      "cell_type": "code",
      "source": [
        "model.evaluate(validation_generator)"
      ],
      "metadata": {
        "colab": {
          "base_uri": "https://localhost:8080/"
        },
        "id": "hBJiiMPxLf1N",
        "outputId": "39a2d92d-2d89-49eb-b8c0-e67241f51f05"
      },
      "execution_count": null,
      "outputs": [
        {
          "output_type": "stream",
          "name": "stdout",
          "text": [
            "14/14 [==============================] - 1s 79ms/step - loss: 0.2136 - acc: 0.9273\n"
          ]
        },
        {
          "output_type": "execute_result",
          "data": {
            "text/plain": [
              "[0.21361884474754333, 0.9272727370262146]"
            ]
          },
          "metadata": {},
          "execution_count": 27
        }
      ]
    },
    {
      "cell_type": "code",
      "source": [
        "validation_datagen = ImageDataGenerator(rescale=1/255.0)  \n",
        "\n",
        "val_test_generator = validation_datagen.flow_from_directory(\n",
        "    valid_folder,\n",
        "    target_size=(256, 256),\n",
        "    batch_size=1,\n",
        "    class_mode='sparse',\n",
        "    shuffle=False) "
      ],
      "metadata": {
        "colab": {
          "base_uri": "https://localhost:8080/"
        },
        "id": "iBWyzSiNZ4SO",
        "outputId": "79633e86-6665-4a3a-8f34-219c14ac8d94"
      },
      "execution_count": null,
      "outputs": [
        {
          "output_type": "stream",
          "name": "stdout",
          "text": [
            "Found 440 images belonging to 4 classes.\n"
          ]
        }
      ]
    },
    {
      "cell_type": "code",
      "source": [
        "len_val_test = len(val_test_generator)\n",
        "\n",
        "val_test_pred = model.predict(val_test_generator, \n",
        "                         steps=len_val_test,\n",
        "                         verbose=1)#[:, 0]"
      ],
      "metadata": {
        "colab": {
          "base_uri": "https://localhost:8080/"
        },
        "id": "VQqKpvu_aLCA",
        "outputId": "f1eaacb2-e266-4593-abf4-f7f521f47436"
      },
      "execution_count": null,
      "outputs": [
        {
          "output_type": "stream",
          "name": "stdout",
          "text": [
            "440/440 [==============================] - 2s 4ms/step\n"
          ]
        }
      ]
    },
    {
      "cell_type": "code",
      "source": [
        "df_vt_true = pd.DataFrame({'label': val_test_generator.classes})"
      ],
      "metadata": {
        "id": "JcZ9lEWsaUKJ"
      },
      "execution_count": null,
      "outputs": []
    },
    {
      "cell_type": "code",
      "source": [
        "# Dataframe one hot no id\n",
        "df_labels = pd.get_dummies(df_vt_true['label'])\n",
        "val_test_true = df_labels.to_numpy()\n",
        "val_test_pred = np.round(val_test_pred)\n",
        "val_test_pred.astype(int)"
      ],
      "metadata": {
        "id": "7zqOYLIr6Rb0"
      },
      "execution_count": null,
      "outputs": []
    },
    {
      "cell_type": "code",
      "source": [
        "truths = []\n",
        "preds = []\n",
        "final = []\n",
        "list_length = len(val_test_true)\n",
        "\n",
        "for num in range(list_length):\n",
        "  truths.append(np.argmax(val_test_true[num]))\n",
        "\n",
        "for num in range(list_length):\n",
        "  preds.append(np.argmax(val_test_pred[num]))\n",
        "\n",
        "for num in range(list_length):\n",
        "  final.append(preds[num] == truths[num])"
      ],
      "metadata": {
        "id": "m19__dATDhKu"
      },
      "execution_count": null,
      "outputs": []
    },
    {
      "cell_type": "code",
      "source": [
        "acc_val_test = final.count(True) / (final.count(True) + final.count(False))\n",
        "print('Validation accuracy: {:.3f}'.format(acc_val_test))"
      ],
      "metadata": {
        "colab": {
          "base_uri": "https://localhost:8080/"
        },
        "id": "O4HFfTGlapaL",
        "outputId": "c43afbab-cb6c-48f7-97b8-f984d84fdd74"
      },
      "execution_count": null,
      "outputs": [
        {
          "output_type": "stream",
          "name": "stdout",
          "text": [
            "Validation accuracy: 0.927\n"
          ]
        }
      ]
    },
    {
      "cell_type": "code",
      "source": [
        ""
      ],
      "metadata": {
        "id": "1yPDvUEeEclG"
      },
      "execution_count": null,
      "outputs": []
    }
  ]
}