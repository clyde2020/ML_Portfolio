{
  "cells": [
    {
      "cell_type": "markdown",
      "metadata": {
        "id": "view-in-github",
        "colab_type": "text"
      },
      "source": [
        "<a href=\"https://colab.research.google.com/github/clyde2020/ML_Portfolio/blob/main/Kaggle_Histopathologic_Cancer_Detection_with_Split.ipynb\" target=\"_parent\"><img src=\"https://colab.research.google.com/assets/colab-badge.svg\" alt=\"Open In Colab\"/></a>"
      ]
    },
    {
      "cell_type": "code",
      "execution_count": 1,
      "metadata": {
        "id": "FWddduZzMLCf",
        "colab": {
          "base_uri": "https://localhost:8080/"
        },
        "outputId": "0b121e30-2d43-45df-d2f0-a7ca93563637"
      },
      "outputs": [
        {
          "output_type": "stream",
          "name": "stdout",
          "text": [
            "\u001b[?25l\r\u001b[K     |███▍                            | 10 kB 29.9 MB/s eta 0:00:01\r\u001b[K     |██████▊                         | 20 kB 33.3 MB/s eta 0:00:01\r\u001b[K     |██████████                      | 30 kB 37.6 MB/s eta 0:00:01\r\u001b[K     |█████████████▍                  | 40 kB 24.9 MB/s eta 0:00:01\r\u001b[K     |████████████████▊               | 51 kB 15.0 MB/s eta 0:00:01\r\u001b[K     |████████████████████            | 61 kB 13.5 MB/s eta 0:00:01\r\u001b[K     |███████████████████████▍        | 71 kB 12.6 MB/s eta 0:00:01\r\u001b[K     |██████████████████████████▊     | 81 kB 13.7 MB/s eta 0:00:01\r\u001b[K     |██████████████████████████████  | 92 kB 14.9 MB/s eta 0:00:01\r\u001b[K     |████████████████████████████████| 98 kB 6.4 MB/s \n",
            "\u001b[?25hMounted at /content/gdrive\n"
          ]
        }
      ],
      "source": [
        "import pandas as pd\n",
        "import numpy as np\n",
        "import os\n",
        "import shutil\n",
        "from shutil import copyfile\n",
        "from tensorflow.keras.preprocessing.image import ImageDataGenerator\n",
        "import tensorflow as tf\n",
        "from tensorflow.keras.optimizers import RMSprop, Adam\n",
        "import matplotlib.pyplot as plt\n",
        "import random\n",
        "!pip install keras-tuner -q\n",
        "from keras_tuner import RandomSearch\n",
        "from keras.callbacks import ModelCheckpoint, EarlyStopping\n",
        "from keras.models import load_model\n",
        "from glob import glob\n",
        "#from sklearn.model_selection import RandomizedSearchCV\n",
        "\n",
        "from google.colab import drive\n",
        "drive.mount('/content/gdrive')"
      ]
    },
    {
      "cell_type": "markdown",
      "metadata": {
        "id": "TNEX1tDP1_6V"
      },
      "source": [
        "Read in the labels"
      ]
    },
    {
      "cell_type": "code",
      "execution_count": 2,
      "metadata": {
        "id": "jRAqy2RZMOd3",
        "colab": {
          "base_uri": "https://localhost:8080/"
        },
        "outputId": "b8042730-2ff7-44bd-942d-3d39a6a6e558"
      },
      "outputs": [
        {
          "output_type": "stream",
          "name": "stdout",
          "text": [
            "220025\n"
          ]
        }
      ],
      "source": [
        "df = pd.read_csv('/content/gdrive/MyDrive/Histopath/train_labels.csv')\n",
        "print(len(df.id))\n",
        "\n",
        "picdict = dict(zip(df['id'], df['label']))"
      ]
    },
    {
      "cell_type": "markdown",
      "metadata": {
        "id": "IEJ9Uh6O2IS6"
      },
      "source": [
        "Folder creation before split data"
      ]
    },
    {
      "cell_type": "code",
      "execution_count": null,
      "metadata": {
        "id": "UKf1M2BrMsAJ"
      },
      "outputs": [],
      "source": [
        "os.mkdir('/content/gdrive/MyDrive/Histopath/Thirty')\n",
        "os.mkdir('/content/gdrive/MyDrive/Histopath/Thirty/Train')\n",
        "os.mkdir('/content/gdrive/MyDrive/Histopath/Thirty/Valid')\n",
        "os.mkdir('/content/gdrive/MyDrive/Histopath/Thirty/Train/Benign')\n",
        "os.mkdir('/content/gdrive/MyDrive/Histopath/Thirty/Valid/Benign')\n",
        "os.mkdir('/content/gdrive/MyDrive/Histopath/Thirty/Train/Malignant')\n",
        "os.mkdir('/content/gdrive/MyDrive/Histopath/Thirty/Valid/Malignant')"
      ]
    },
    {
      "cell_type": "markdown",
      "metadata": {
        "id": "zFOJukYV3TO1"
      },
      "source": [
        "Set data folder variables"
      ]
    },
    {
      "cell_type": "code",
      "execution_count": 3,
      "metadata": {
        "id": "vphGaDh-v6Yw"
      },
      "outputs": [],
      "source": [
        "# Update these variables according to the dataset to use\n",
        "train_comp = '/content/gdrive/MyDrive/Histopath/Thirty/Train'\n",
        "valid_comp = '/content/gdrive/MyDrive/Histopath/Thirty/Valid'\n",
        "benign_train_comp = '/content/gdrive/MyDrive/Histopath/Thirty/Train/Benign'\n",
        "benign_valid_comp = '/content/gdrive/MyDrive/Histopath/Thirty/Valid/Benign'\n",
        "mal_train_comp = '/content/gdrive/MyDrive/Histopath/Thirty/Train/Malignant'\n",
        "mal_valid_comp = '/content/gdrive/MyDrive/Histopath/Thirty/Valid/Malignant'"
      ]
    },
    {
      "cell_type": "markdown",
      "metadata": {
        "id": "SY1QJ6W339cg"
      },
      "source": [
        "Shuffle the data and set up lists before split data"
      ]
    },
    {
      "cell_type": "code",
      "execution_count": null,
      "metadata": {
        "id": "aX4qm17Bm_hO"
      },
      "outputs": [],
      "source": [
        "source_folder = '/content/gdrive/MyDrive/Histopath/Thirty_set'\n",
        "source_list = os.listdir(source_folder)\n",
        "\n",
        "valid_number = 3000\n",
        "valid_list = source_list[:valid_number]\n",
        "train_list = source_list[valid_number:]\n",
        "\n",
        "print(train_list[0:5])\n",
        "print(len(train_list))"
      ]
    },
    {
      "cell_type": "markdown",
      "metadata": {
        "id": "0yfZhHyw4f3p"
      },
      "source": [
        "This function splits the dataset into malignant and benign"
      ]
    },
    {
      "cell_type": "code",
      "execution_count": null,
      "metadata": {
        "id": "swhsUAPlNieq"
      },
      "outputs": [],
      "source": [
        "def split_data(LIST, SOURCE, MAL_FOLDER, BENIGN_FOLDER):\n",
        "  for fname in LIST:\n",
        "    origin = os.path.join(SOURCE, fname)\n",
        "    name = os.path.splitext(os.path.basename(fname))[0]\n",
        "    if os.path.getsize(origin) > 1:\n",
        "      if picdict[name] == 0:\n",
        "        shutil.copy(origin, BENIGN_FOLDER)\n",
        "      else:\n",
        "        shutil.copy(origin, MAL_FOLDER)"
      ]
    },
    {
      "cell_type": "markdown",
      "source": [
        "Execute the data split"
      ],
      "metadata": {
        "id": "XMFfM50oGsYn"
      }
    },
    {
      "cell_type": "code",
      "execution_count": null,
      "metadata": {
        "id": "LK55HVDWdGOL"
      },
      "outputs": [],
      "source": [
        "split_data(valid_list, source_folder, mal_valid_comp, benign_valid_comp)\n",
        "split_data(train_list, source_folder, mal_train_comp, benign_train_comp)"
      ]
    },
    {
      "cell_type": "markdown",
      "metadata": {
        "id": "cPaIc3LSKlHD"
      },
      "source": [
        "Confirm we have the data in the correct spot"
      ]
    },
    {
      "cell_type": "code",
      "execution_count": 5,
      "metadata": {
        "id": "0H_2EDGvNtgq",
        "colab": {
          "base_uri": "https://localhost:8080/"
        },
        "outputId": "5a193ec4-06a9-4cce-a8e5-57914b011fc6"
      },
      "outputs": [
        {
          "output_type": "stream",
          "name": "stdout",
          "text": [
            "16120\n",
            "10880\n",
            "1796\n",
            "1204\n"
          ]
        }
      ],
      "source": [
        "print(len(os.listdir(benign_train_comp)))\n",
        "print(len(os.listdir(mal_train_comp)))\n",
        "print(len(os.listdir(benign_valid_comp)))\n",
        "print(len(os.listdir(mal_valid_comp)))"
      ]
    },
    {
      "cell_type": "markdown",
      "metadata": {
        "id": "DxH6v3Yq1SKx"
      },
      "source": [
        "Data Augmentation"
      ]
    },
    {
      "cell_type": "code",
      "execution_count": 6,
      "metadata": {
        "colab": {
          "base_uri": "https://localhost:8080/"
        },
        "id": "0no8J-9nP_SB",
        "outputId": "f4ca90d3-47aa-45f2-8ba9-fa58240a05e0"
      },
      "outputs": [
        {
          "output_type": "stream",
          "name": "stdout",
          "text": [
            "Found 27000 images belonging to 2 classes.\n",
            "Found 3000 images belonging to 2 classes.\n"
          ]
        }
      ],
      "source": [
        "train_datagen = ImageDataGenerator(rescale=1/255.0,\n",
        "                                  rotation_range=45,\n",
        "                                  width_shift_range=0.2,\n",
        "                                  height_shift_range=0.2,\n",
        "                                  shear_range=0.2,\n",
        "                                  horizontal_flip=True,\n",
        "                                  fill_mode='nearest')\n",
        "\n",
        "train_generator = train_datagen.flow_from_directory(\n",
        "    train_comp,\n",
        "    target_size=(96, 96),\n",
        "    batch_size=32,\n",
        "    class_mode='binary')\n",
        "\n",
        "validation_datagen = ImageDataGenerator(rescale=1/255.0)  \n",
        "\n",
        "validation_generator = validation_datagen.flow_from_directory(\n",
        "    valid_comp,\n",
        "    target_size=(96, 96),\n",
        "    batch_size=32,\n",
        "    class_mode='binary') "
      ]
    },
    {
      "cell_type": "markdown",
      "metadata": {
        "id": "QxP5fjKXl9rX"
      },
      "source": [
        "Model with LR scheduler, only for small set"
      ]
    },
    {
      "cell_type": "code",
      "execution_count": null,
      "metadata": {
        "id": "0WYbYz_qRla0"
      },
      "outputs": [],
      "source": [
        "model = tf.keras.models.Sequential([\n",
        "    tf.keras.layers.Conv2D(96, 3, input_shape=(96, 96, 3), activation='relu'),\n",
        "    tf.keras.layers.MaxPooling2D(2),\n",
        "    tf.keras.layers.Conv2D(160, 3, activation='relu'),\n",
        "    tf.keras.layers.MaxPooling2D(2),\n",
        "    tf.keras.layers.Conv2D(256, 3, activation='relu'),\n",
        "    tf.keras.layers.MaxPooling2D(2),\n",
        "    tf.keras.layers.Conv2D(256, 3, activation='relu'),\n",
        "    tf.keras.layers.MaxPooling2D(2),                   \n",
        "    tf.keras.layers.Flatten(),\n",
        "    tf.keras.layers.Dense(1000, activation='relu'),\n",
        "    tf.keras.layers.Dense(1, activation='sigmoid')\n",
        "])\n",
        "\n",
        "lr_schedule = tf.keras.callbacks.LearningRateScheduler(\n",
        "    lambda epoch: 1e-5 * 10**(epoch / 5))\n",
        "#optimizer = tf.keras.optimizers.Adam(learning_rate=1e-7)\n",
        "#model.compile(loss=tf.keras.losses.Huber(),\n",
        "#              optimizer=optimizer,\n",
        "#              metrics=[\"mae\"])\n",
        "\n",
        "\n",
        "model.compile(optimizer=Adam(learning_rate=1e-5), loss='binary_crossentropy', metrics=['acc'])\n",
        "\n",
        "model.summary()"
      ]
    },
    {
      "cell_type": "code",
      "execution_count": null,
      "metadata": {
        "id": "hMuql2x7R_IJ"
      },
      "outputs": [],
      "source": [
        "history = model.fit(train_generator,\n",
        "                    epochs=20,\n",
        "                    verbose=1,\n",
        "                    callbacks=[lr_schedule],\n",
        "                    validation_data=validation_generator)"
      ]
    },
    {
      "cell_type": "code",
      "execution_count": null,
      "metadata": {
        "colab": {
          "base_uri": "https://localhost:8080/",
          "height": 290
        },
        "id": "LbTq-SEASVFW",
        "outputId": "9c852b73-bdec-478a-9539-c70ff7866c1d"
      },
      "outputs": [
        {
          "data": {
            "text/plain": [
              "(1e-05, 0.1, 0.0, 1.0)"
            ]
          },
          "execution_count": 56,
          "metadata": {},
          "output_type": "execute_result"
        },
        {
          "data": {
            "image/png": "[encoded data removed]",
            "text/plain": [
              "<Figure size 432x288 with 1 Axes>"
            ]
          },
          "metadata": {},
          "output_type": "display_data"
        }
      ],
      "source": [
        "plt.semilogx(history.history[\"lr\"], history.history[\"loss\"])\n",
        "plt.axis([1e-5, 1e-1, 0, 1])"
      ]
    },
    {
      "cell_type": "markdown",
      "metadata": {
        "id": "-ISCFPkavYNP"
      },
      "source": [
        "Use Keras Tuner to get best model hyperparameters"
      ]
    },
    {
      "cell_type": "code",
      "execution_count": null,
      "metadata": {
        "id": "GqBYJAt2-HNS"
      },
      "outputs": [],
      "source": [
        "tf.keras.backend.clear_session()\n",
        "tf.random.set_seed(51)\n",
        "\n",
        "def build_model(hp):\n",
        "  model = tf.keras.models.Sequential([\n",
        "      tf.keras.layers.Conv2D(filters=hp.Choice('filters1',\n",
        "                             values=[96, 128, 160, 192]), \n",
        "                             kernel_size=3, \n",
        "                             input_shape=(96, 96, 3), \n",
        "                             activation='relu'),\n",
        "      tf.keras.layers.MaxPooling2D(2),\n",
        "      tf.keras.layers.Conv2D(filters=hp.Choice('filters2',\n",
        "                             values=[160, 192, 224, 256]), \n",
        "                             kernel_size=3, activation='relu'),\n",
        "      tf.keras.layers.MaxPooling2D(2),\n",
        "      tf.keras.layers.Conv2D(filters=hp.Choice('filters3',\n",
        "                             values=[160, 192, 224, 256, 288, 320]), \n",
        "                             kernel_size=3, activation='relu'),\n",
        "      tf.keras.layers.MaxPooling2D(2),\n",
        "                            \n",
        "      tf.keras.layers.Flatten(),\n",
        "      tf.keras.layers.Dense(units=hp.Choice('units',\n",
        "                            values=[800, 1000, 2000, 4000]), activation='relu'),\n",
        "      tf.keras.layers.Dropout(0.2),\n",
        "      tf.keras.layers.Dense(1, activation='sigmoid')\n",
        "  ])\n",
        "\n",
        "  optimizer = tf.keras.optimizers.Adam(learning_rate=1e-4)\n",
        "\n",
        "  model.compile(optimizer=optimizer, loss='binary_crossentropy', metrics=['acc'])\n",
        "\n",
        "  return model"
      ]
    },
    {
      "cell_type": "code",
      "execution_count": null,
      "metadata": {
        "id": "XiKCRTrW-2s6"
      },
      "outputs": [],
      "source": [
        "tuner = RandomSearch(\n",
        "    build_model,\n",
        "    objective=\"acc\",\n",
        "    max_trials=12,\n",
        "    executions_per_trial=1,\n",
        "    overwrite=True,\n",
        "    #directory=\"keras_tuner_directory\",\n",
        "    project_name=\"Cancer_Detection\",\n",
        ")"
      ]
    },
    {
      "cell_type": "code",
      "execution_count": null,
      "metadata": {
        "colab": {
          "base_uri": "https://localhost:8080/"
        },
        "id": "ngR6nS9uNoLj",
        "outputId": "06bbc944-b77b-4a4a-e38e-47fbd015b972"
      },
      "outputs": [
        {
          "name": "stdout",
          "output_type": "stream",
          "text": [
            "Search space summary\n",
            "Default search space size: 4\n",
            "filters1 (Choice)\n",
            "{'default': 96, 'conditions': [], 'values': [96, 128, 160, 192], 'ordered': True}\n",
            "filters2 (Choice)\n",
            "{'default': 160, 'conditions': [], 'values': [160, 192, 224, 256], 'ordered': True}\n",
            "filters3 (Choice)\n",
            "{'default': 160, 'conditions': [], 'values': [160, 192, 224, 256, 288, 320], 'ordered': True}\n",
            "units (Choice)\n",
            "{'default': 800, 'conditions': [], 'values': [800, 1000, 2000, 4000], 'ordered': True}\n"
          ]
        }
      ],
      "source": [
        "tuner.search_space_summary()"
      ]
    },
    {
      "cell_type": "code",
      "execution_count": null,
      "metadata": {
        "colab": {
          "base_uri": "https://localhost:8080/"
        },
        "id": "OzASZyZnNpOt",
        "outputId": "e538a542-796e-4c89-fb64-2c6516be99c5"
      },
      "outputs": [
        {
          "name": "stdout",
          "output_type": "stream",
          "text": [
            "Trial 12 Complete [00h 08m 42s]\n",
            "acc: 0.8580858111381531\n",
            "\n",
            "Best acc So Far: 0.8734873533248901\n",
            "Total elapsed time: 01h 50m 59s\n",
            "INFO:tensorflow:Oracle triggered exit\n"
          ]
        }
      ],
      "source": [
        "tuner.search(train_generator, epochs=120, validation_data=validation_generator)"
      ]
    },
    {
      "cell_type": "code",
      "execution_count": null,
      "metadata": {
        "colab": {
          "base_uri": "https://localhost:8080/"
        },
        "id": "gySDscRdL23Y",
        "outputId": "df0732c0-d1f1-4359-fa50-51c869778f0f"
      },
      "outputs": [
        {
          "name": "stdout",
          "output_type": "stream",
          "text": [
            "Results summary\n",
            "Results in ./Cancer_Detection\n",
            "Showing 6 best trials\n",
            "Objective(name='acc', direction='max')\n",
            "Trial summary\n",
            "Hyperparameters:\n",
            "filters1: 160\n",
            "filters2: 224\n",
            "filters3: 160\n",
            "units: 2000\n",
            "Score: 0.8734873533248901\n",
            "Trial summary\n",
            "Hyperparameters:\n",
            "filters1: 192\n",
            "filters2: 192\n",
            "filters3: 160\n",
            "units: 4000\n",
            "Score: 0.8701870441436768\n",
            "Trial summary\n",
            "Hyperparameters:\n",
            "filters1: 192\n",
            "filters2: 160\n",
            "filters3: 224\n",
            "units: 4000\n",
            "Score: 0.8690869212150574\n",
            "Trial summary\n",
            "Hyperparameters:\n",
            "filters1: 192\n",
            "filters2: 256\n",
            "filters3: 288\n",
            "units: 1000\n",
            "Score: 0.8635863661766052\n",
            "Trial summary\n",
            "Hyperparameters:\n",
            "filters1: 160\n",
            "filters2: 160\n",
            "filters3: 224\n",
            "units: 4000\n",
            "Score: 0.8635863661766052\n",
            "Trial summary\n",
            "Hyperparameters:\n",
            "filters1: 192\n",
            "filters2: 256\n",
            "filters3: 256\n",
            "units: 2000\n",
            "Score: 0.8624862432479858\n"
          ]
        }
      ],
      "source": [
        "tuner.results_summary(6)"
      ]
    },
    {
      "cell_type": "markdown",
      "source": [
        "Execute best parameters"
      ],
      "metadata": {
        "id": "Leu52DHCJyZD"
      }
    },
    {
      "cell_type": "code",
      "execution_count": 7,
      "metadata": {
        "id": "Ow-EhmH-p9VW"
      },
      "outputs": [],
      "source": [
        "tf.keras.backend.clear_session()\n",
        "tf.random.set_seed(51)\n",
        "\n",
        "model = tf.keras.models.Sequential([\n",
        "    tf.keras.layers.Conv2D(filters=160, \n",
        "                            kernel_size=3, \n",
        "                            input_shape=(96, 96, 3), \n",
        "                            activation='relu'),\n",
        "    tf.keras.layers.MaxPooling2D(2),\n",
        "    tf.keras.layers.Conv2D(filters=224, \n",
        "                            kernel_size=3, activation='relu'),\n",
        "    tf.keras.layers.MaxPooling2D(2),\n",
        "    tf.keras.layers.Conv2D(filters=160, \n",
        "                            kernel_size=3, activation='relu'),\n",
        "    tf.keras.layers.MaxPooling2D(2),\n",
        "                          \n",
        "    tf.keras.layers.Flatten(),\n",
        "    tf.keras.layers.Dense(units=2000, activation='relu'),\n",
        "    tf.keras.layers.Dropout(0.2),\n",
        "    tf.keras.layers.Dense(1, activation='sigmoid')\n",
        "])\n",
        "\n",
        "optimizer = tf.keras.optimizers.Adam(learning_rate=1e-4)\n",
        "\n",
        "model.compile(optimizer=optimizer, loss='binary_crossentropy', metrics=['acc'])\n",
        "\n",
        "es = EarlyStopping(monitor='acc', min_delta=0.003, patience=10,\n",
        "                   verbose=1, mode='auto')\n",
        "mc = ModelCheckpoint(monitor='acc', filepath='./bestmodel.h5', \n",
        "                     verbose=1, save_best_only=True, mode='auto')\n",
        "\n",
        "cd = [es, mc]"
      ]
    },
    {
      "cell_type": "code",
      "execution_count": null,
      "metadata": {
        "id": "73z4iIHRp9bK"
      },
      "outputs": [],
      "source": [
        "history = model.fit(train_generator,\n",
        "                    epochs=120,\n",
        "                    verbose=1,\n",
        "                    validation_data=validation_generator,\n",
        "                    #callbacks=cd\n",
        "                    )"
      ]
    },
    {
      "cell_type": "code",
      "execution_count": null,
      "metadata": {
        "id": "YRO53COWMHwN"
      },
      "outputs": [],
      "source": [
        "model = load_model('/content/bestmodel.h5')"
      ]
    },
    {
      "cell_type": "code",
      "execution_count": null,
      "metadata": {
        "colab": {
          "base_uri": "https://localhost:8080/"
        },
        "id": "eraOyu1cP3G1",
        "outputId": "29ff8f26-f458-4363-d65a-0044bf613275"
      },
      "outputs": [
        {
          "data": {
            "text/plain": [
              "dict_keys(['loss', 'acc', 'val_loss', 'val_acc'])"
            ]
          },
          "execution_count": 12,
          "metadata": {},
          "output_type": "execute_result"
        }
      ],
      "source": [
        "h = history.history\n",
        "h.keys()"
      ]
    },
    {
      "cell_type": "markdown",
      "metadata": {
        "id": "PTEbtXZ4w1IL"
      },
      "source": [
        "Model results with Adam optimizer, we need to add regularization"
      ]
    },
    {
      "cell_type": "code",
      "execution_count": null,
      "metadata": {
        "colab": {
          "base_uri": "https://localhost:8080/",
          "height": 281
        },
        "id": "t1KDedufkzq4",
        "outputId": "dc98eb13-04e5-432b-c98e-6ee7d616ecc5"
      },
      "outputs": [
        {
          "data": {
            "image/png": "[encoded data removed]",
            "text/plain": [
              "<Figure size 432x288 with 1 Axes>"
            ]
          },
          "metadata": {},
          "output_type": "display_data"
        }
      ],
      "source": [
        "plt.plot(h['acc'])\n",
        "plt.plot(h['val_acc'])\n",
        "plt.title('acc vs val-acc')\n",
        "plt.show()"
      ]
    },
    {
      "cell_type": "code",
      "execution_count": null,
      "metadata": {
        "colab": {
          "base_uri": "https://localhost:8080/",
          "height": 281
        },
        "id": "eyI634YQk368",
        "outputId": "db94c8fc-eb2d-4fe5-b821-13a9a06ffeb9"
      },
      "outputs": [
        {
          "data": {
            "image/png": "[encoded data removed]",
            "text/plain": [
              "<Figure size 432x288 with 1 Axes>"
            ]
          },
          "metadata": {},
          "output_type": "display_data"
        }
      ],
      "source": [
        "plt.plot(h['loss'])\n",
        "plt.plot(h['val_loss'])\n",
        "plt.title('loss vs val-loss')\n",
        "plt.show()"
      ]
    },
    {
      "cell_type": "markdown",
      "source": [
        "Adding regularization - Grid search performed in another notebook for best parameters"
      ],
      "metadata": {
        "id": "33tWM3T8VGfm"
      }
    },
    {
      "cell_type": "code",
      "source": [
        "model = tf.keras.models.Sequential([\n",
        "    tf.keras.layers.Conv2D(filters=96, \n",
        "                            kernel_size=3, \n",
        "                            input_shape=(96, 96, 3), \n",
        "                            activation='relu'),\n",
        "    tf.keras.layers.BatchNormalization(),\n",
        "    tf.keras.layers.ReLU(),\n",
        "    tf.keras.layers.Conv2D(filters=96, \n",
        "                            kernel_size=3, \n",
        "                            activation='relu'),\n",
        "    tf.keras.layers.BatchNormalization(),\n",
        "    tf.keras.layers.ReLU(),\n",
        "    tf.keras.layers.MaxPooling2D(2),\n",
        "    tf.keras.layers.Dropout(0.2),\n",
        "\n",
        "    tf.keras.layers.Conv2D(filters=960, \n",
        "                            kernel_size=4, \n",
        "                            activation='relu'),\n",
        "    tf.keras.layers.MaxPooling2D(2),\n",
        "    tf.keras.layers.Conv2D(filters=960, \n",
        "                            kernel_size=4, \n",
        "                            activation='relu'),\n",
        "    tf.keras.layers.MaxPooling2D(2),\n",
        "    tf.keras.layers.Dropout(0.2),  \n",
        "\n",
        "    tf.keras.layers.Flatten(),\n",
        "    tf.keras.layers.Dense(units=800, activation='relu'),\n",
        "    tf.keras.layers.BatchNormalization(),\n",
        "    tf.keras.layers.ReLU(),\n",
        "    tf.keras.layers.Dropout(0.2),\n",
        "    tf.keras.layers.Dense(1, activation='sigmoid')\n",
        "])\n",
        "\n",
        "optimizer = tf.keras.optimizers.Adam(learning_rate=1e-3)\n",
        "\n",
        "model.compile(optimizer=optimizer, loss='binary_crossentropy', metrics=['acc'])\n"
      ],
      "metadata": {
        "id": "ma6M3AHdFpRj"
      },
      "execution_count": null,
      "outputs": []
    },
    {
      "cell_type": "code",
      "source": [
        "history = model.fit(train_generator,\n",
        "                    epochs=120,\n",
        "                    verbose=1,\n",
        "                    validation_data=validation_generator,\n",
        "                    )"
      ],
      "metadata": {
        "colab": {
          "base_uri": "https://localhost:8080/"
        },
        "id": "pO0oGlPC8hSx",
        "outputId": "ec8d716b-21f8-4f1e-9d4f-74c18190baf0"
      },
      "execution_count": null,
      "outputs": [
        {
          "output_type": "stream",
          "name": "stdout",
          "text": [
            "Epoch 1/120\n",
            "844/844 [==============================] - 175s 195ms/step - loss: 0.5462 - acc: 0.7440 - val_loss: 0.6032 - val_acc: 0.6547\n",
            "Epoch 2/120\n",
            "844/844 [==============================] - 157s 186ms/step - loss: 0.4971 - acc: 0.7786 - val_loss: 1.1426 - val_acc: 0.6527\n",
            "Epoch 3/120\n",
            "844/844 [==============================] - 157s 186ms/step - loss: 0.4658 - acc: 0.7928 - val_loss: 0.6911 - val_acc: 0.7113\n",
            "Epoch 4/120\n",
            "844/844 [==============================] - 157s 186ms/step - loss: 0.3967 - acc: 0.8330 - val_loss: 0.5264 - val_acc: 0.7597\n",
            "Epoch 5/120\n",
            "844/844 [==============================] - 157s 186ms/step - loss: 0.3883 - acc: 0.8338 - val_loss: 0.6589 - val_acc: 0.7017\n",
            "Epoch 6/120\n",
            "844/844 [==============================] - 157s 186ms/step - loss: 0.3734 - acc: 0.8409 - val_loss: 0.6667 - val_acc: 0.7533\n",
            "Epoch 7/120\n",
            "844/844 [==============================] - 157s 186ms/step - loss: 0.3610 - acc: 0.8464 - val_loss: 0.7601 - val_acc: 0.7200\n",
            "Epoch 8/120\n",
            "844/844 [==============================] - 157s 186ms/step - loss: 0.3517 - acc: 0.8529 - val_loss: 0.5651 - val_acc: 0.8147\n",
            "Epoch 9/120\n",
            "844/844 [==============================] - 157s 186ms/step - loss: 0.3419 - acc: 0.8556 - val_loss: 0.4908 - val_acc: 0.7903\n",
            "Epoch 10/120\n",
            "844/844 [==============================] - 157s 186ms/step - loss: 0.3371 - acc: 0.8568 - val_loss: 0.4270 - val_acc: 0.8157\n",
            "Epoch 11/120\n",
            "844/844 [==============================] - 157s 186ms/step - loss: 0.3264 - acc: 0.8636 - val_loss: 0.7769 - val_acc: 0.7057\n",
            "Epoch 12/120\n",
            "844/844 [==============================] - 157s 186ms/step - loss: 0.3136 - acc: 0.8694 - val_loss: 0.4237 - val_acc: 0.8323\n",
            "Epoch 13/120\n",
            "844/844 [==============================] - 157s 186ms/step - loss: 0.3032 - acc: 0.8759 - val_loss: 0.4747 - val_acc: 0.8167\n",
            "Epoch 14/120\n",
            "844/844 [==============================] - 157s 186ms/step - loss: 0.2908 - acc: 0.8788 - val_loss: 0.6891 - val_acc: 0.7173\n",
            "Epoch 15/120\n",
            "844/844 [==============================] - 157s 186ms/step - loss: 0.2837 - acc: 0.8837 - val_loss: 0.7296 - val_acc: 0.7567\n",
            "Epoch 16/120\n",
            "844/844 [==============================] - 157s 186ms/step - loss: 0.2809 - acc: 0.8839 - val_loss: 2.0440 - val_acc: 0.6437\n",
            "Epoch 17/120\n",
            "844/844 [==============================] - 157s 186ms/step - loss: 0.2686 - acc: 0.8915 - val_loss: 0.3686 - val_acc: 0.8710\n",
            "Epoch 18/120\n",
            "844/844 [==============================] - 157s 186ms/step - loss: 0.2662 - acc: 0.8920 - val_loss: 1.0665 - val_acc: 0.6967\n",
            "Epoch 19/120\n",
            "844/844 [==============================] - 157s 186ms/step - loss: 0.2581 - acc: 0.8966 - val_loss: 0.4293 - val_acc: 0.8317\n",
            "Epoch 20/120\n",
            "844/844 [==============================] - 157s 186ms/step - loss: 0.2536 - acc: 0.8979 - val_loss: 0.3524 - val_acc: 0.8487\n",
            "Epoch 21/120\n",
            "844/844 [==============================] - 157s 186ms/step - loss: 0.2496 - acc: 0.8986 - val_loss: 0.7724 - val_acc: 0.7650\n",
            "Epoch 22/120\n",
            "844/844 [==============================] - 157s 186ms/step - loss: 0.3176 - acc: 0.8702 - val_loss: 0.4572 - val_acc: 0.8360\n",
            "Epoch 23/120\n",
            "844/844 [==============================] - 157s 186ms/step - loss: 0.2752 - acc: 0.8878 - val_loss: 0.3521 - val_acc: 0.8560\n",
            "Epoch 24/120\n",
            "844/844 [==============================] - 157s 186ms/step - loss: 0.2535 - acc: 0.8993 - val_loss: 0.2302 - val_acc: 0.9077\n",
            "Epoch 25/120\n",
            "844/844 [==============================] - 157s 186ms/step - loss: 0.2436 - acc: 0.9033 - val_loss: 0.2790 - val_acc: 0.8957\n",
            "Epoch 26/120\n",
            "844/844 [==============================] - 157s 186ms/step - loss: 0.2357 - acc: 0.9041 - val_loss: 0.4594 - val_acc: 0.8283\n",
            "Epoch 27/120\n",
            "844/844 [==============================] - 157s 186ms/step - loss: 0.2397 - acc: 0.9029 - val_loss: 0.2681 - val_acc: 0.8917\n",
            "Epoch 28/120\n",
            "844/844 [==============================] - 157s 186ms/step - loss: 0.2261 - acc: 0.9100 - val_loss: 0.3447 - val_acc: 0.8507\n",
            "Epoch 29/120\n",
            "844/844 [==============================] - 157s 186ms/step - loss: 0.2360 - acc: 0.9067 - val_loss: 0.2706 - val_acc: 0.8867\n",
            "Epoch 30/120\n",
            "844/844 [==============================] - 157s 186ms/step - loss: 0.2204 - acc: 0.9124 - val_loss: 0.5067 - val_acc: 0.8253\n",
            "Epoch 31/120\n",
            "844/844 [==============================] - 157s 186ms/step - loss: 0.2144 - acc: 0.9166 - val_loss: 0.3797 - val_acc: 0.8413\n",
            "Epoch 32/120\n",
            "844/844 [==============================] - 157s 186ms/step - loss: 0.2160 - acc: 0.9150 - val_loss: 0.5646 - val_acc: 0.7593\n",
            "Epoch 33/120\n",
            "844/844 [==============================] - 157s 186ms/step - loss: 0.2123 - acc: 0.9175 - val_loss: 1.0605 - val_acc: 0.7473\n",
            "Epoch 34/120\n",
            "844/844 [==============================] - 157s 186ms/step - loss: 0.2080 - acc: 0.9188 - val_loss: 1.0891 - val_acc: 0.7520\n",
            "Epoch 35/120\n",
            "844/844 [==============================] - 157s 186ms/step - loss: 0.2076 - acc: 0.9193 - val_loss: 0.5467 - val_acc: 0.8930\n",
            "Epoch 36/120\n",
            "844/844 [==============================] - 157s 186ms/step - loss: 0.2286 - acc: 0.9102 - val_loss: 0.2817 - val_acc: 0.8900\n",
            "Epoch 37/120\n",
            "844/844 [==============================] - 157s 186ms/step - loss: 0.2125 - acc: 0.9159 - val_loss: 0.4994 - val_acc: 0.8807\n",
            "Epoch 38/120\n",
            "844/844 [==============================] - 157s 186ms/step - loss: 0.1991 - acc: 0.9221 - val_loss: 0.3705 - val_acc: 0.8583\n",
            "Epoch 39/120\n",
            "844/844 [==============================] - 157s 186ms/step - loss: 0.1962 - acc: 0.9251 - val_loss: 0.7019 - val_acc: 0.7930\n",
            "Epoch 40/120\n",
            "844/844 [==============================] - 157s 186ms/step - loss: 0.1968 - acc: 0.9238 - val_loss: 0.6731 - val_acc: 0.8607\n",
            "Epoch 41/120\n",
            "844/844 [==============================] - 157s 186ms/step - loss: 0.1897 - acc: 0.9266 - val_loss: 0.4217 - val_acc: 0.8597\n",
            "Epoch 42/120\n",
            "844/844 [==============================] - 157s 186ms/step - loss: 0.1905 - acc: 0.9264 - val_loss: 0.2580 - val_acc: 0.9023\n",
            "Epoch 43/120\n",
            "844/844 [==============================] - 157s 186ms/step - loss: 0.1924 - acc: 0.9271 - val_loss: 0.2053 - val_acc: 0.9230\n",
            "Epoch 44/120\n",
            "844/844 [==============================] - 157s 186ms/step - loss: 0.1905 - acc: 0.9261 - val_loss: 0.6446 - val_acc: 0.7993\n",
            "Epoch 45/120\n",
            "844/844 [==============================] - 157s 186ms/step - loss: 0.1805 - acc: 0.9319 - val_loss: 0.4449 - val_acc: 0.8030\n",
            "Epoch 46/120\n",
            "844/844 [==============================] - 157s 186ms/step - loss: 0.1822 - acc: 0.9310 - val_loss: 0.6444 - val_acc: 0.8027\n",
            "Epoch 47/120\n",
            "844/844 [==============================] - 157s 186ms/step - loss: 0.1797 - acc: 0.9324 - val_loss: 0.3794 - val_acc: 0.8513\n",
            "Epoch 48/120\n",
            "844/844 [==============================] - 157s 186ms/step - loss: 0.1782 - acc: 0.9320 - val_loss: 0.3667 - val_acc: 0.8643\n",
            "Epoch 49/120\n",
            "844/844 [==============================] - 157s 186ms/step - loss: 0.1747 - acc: 0.9344 - val_loss: 22.8630 - val_acc: 0.7257\n",
            "Epoch 50/120\n",
            "844/844 [==============================] - 157s 186ms/step - loss: 0.1729 - acc: 0.9353 - val_loss: 0.8874 - val_acc: 0.8420\n",
            "Epoch 51/120\n",
            "844/844 [==============================] - 157s 186ms/step - loss: 0.1702 - acc: 0.9355 - val_loss: 0.2563 - val_acc: 0.8953\n",
            "Epoch 52/120\n",
            "844/844 [==============================] - 157s 186ms/step - loss: 0.1679 - acc: 0.9361 - val_loss: 0.5817 - val_acc: 0.8710\n",
            "Epoch 53/120\n",
            "844/844 [==============================] - 157s 186ms/step - loss: 0.1672 - acc: 0.9356 - val_loss: 0.3014 - val_acc: 0.8743\n",
            "Epoch 54/120\n",
            "844/844 [==============================] - 157s 186ms/step - loss: 0.1618 - acc: 0.9393 - val_loss: 1.0393 - val_acc: 0.8610\n",
            "Epoch 55/120\n",
            "844/844 [==============================] - 157s 186ms/step - loss: 0.1637 - acc: 0.9380 - val_loss: 0.2160 - val_acc: 0.9250\n",
            "Epoch 56/120\n",
            "844/844 [==============================] - 157s 186ms/step - loss: 0.1630 - acc: 0.9377 - val_loss: 0.4828 - val_acc: 0.8643\n",
            "Epoch 57/120\n",
            "844/844 [==============================] - 157s 186ms/step - loss: 0.1594 - acc: 0.9391 - val_loss: 0.3328 - val_acc: 0.8807\n",
            "Epoch 58/120\n",
            "844/844 [==============================] - 157s 186ms/step - loss: 0.1607 - acc: 0.9387 - val_loss: 0.2209 - val_acc: 0.9180\n",
            "Epoch 59/120\n",
            "844/844 [==============================] - 157s 186ms/step - loss: 0.1573 - acc: 0.9402 - val_loss: 0.3994 - val_acc: 0.9073\n",
            "Epoch 60/120\n",
            "844/844 [==============================] - 157s 186ms/step - loss: 0.1583 - acc: 0.9405 - val_loss: 0.6056 - val_acc: 0.8263\n",
            "Epoch 61/120\n",
            "844/844 [==============================] - 157s 186ms/step - loss: 0.1541 - acc: 0.9402 - val_loss: 0.2750 - val_acc: 0.8857\n",
            "Epoch 62/120\n",
            "844/844 [==============================] - 157s 186ms/step - loss: 0.1525 - acc: 0.9420 - val_loss: 0.3816 - val_acc: 0.8487\n",
            "Epoch 63/120\n",
            "844/844 [==============================] - 157s 186ms/step - loss: 0.1521 - acc: 0.9438 - val_loss: 0.4585 - val_acc: 0.9323\n",
            "Epoch 64/120\n",
            "844/844 [==============================] - 157s 186ms/step - loss: 0.1485 - acc: 0.9452 - val_loss: 0.2634 - val_acc: 0.8980\n",
            "Epoch 65/120\n",
            "844/844 [==============================] - 157s 186ms/step - loss: 0.1526 - acc: 0.9436 - val_loss: 0.3308 - val_acc: 0.8747\n",
            "Epoch 66/120\n",
            "844/844 [==============================] - 157s 186ms/step - loss: 0.1486 - acc: 0.9453 - val_loss: 0.2846 - val_acc: 0.8910\n",
            "Epoch 67/120\n",
            "844/844 [==============================] - 157s 186ms/step - loss: 0.1503 - acc: 0.9438 - val_loss: 0.3386 - val_acc: 0.8773\n",
            "Epoch 68/120\n",
            "844/844 [==============================] - 157s 186ms/step - loss: 0.1463 - acc: 0.9457 - val_loss: 2.6973 - val_acc: 0.9110\n",
            "Epoch 69/120\n",
            "844/844 [==============================] - 157s 186ms/step - loss: 0.1435 - acc: 0.9461 - val_loss: 0.6741 - val_acc: 0.7910\n",
            "Epoch 70/120\n",
            "844/844 [==============================] - 157s 186ms/step - loss: 0.1433 - acc: 0.9471 - val_loss: 2.0911 - val_acc: 0.7417\n",
            "Epoch 71/120\n",
            "844/844 [==============================] - 157s 186ms/step - loss: 0.1407 - acc: 0.9480 - val_loss: 0.2700 - val_acc: 0.8957\n",
            "Epoch 72/120\n",
            "844/844 [==============================] - 157s 186ms/step - loss: 0.1369 - acc: 0.9496 - val_loss: 0.3408 - val_acc: 0.8810\n",
            "Epoch 73/120\n",
            "844/844 [==============================] - 157s 186ms/step - loss: 0.1415 - acc: 0.9469 - val_loss: 6.2572 - val_acc: 0.8910\n",
            "Epoch 74/120\n",
            "844/844 [==============================] - 157s 186ms/step - loss: 0.1339 - acc: 0.9499 - val_loss: 0.2213 - val_acc: 0.9163\n",
            "Epoch 75/120\n",
            "844/844 [==============================] - 157s 186ms/step - loss: 0.1379 - acc: 0.9484 - val_loss: 1.1835 - val_acc: 0.9167\n",
            "Epoch 76/120\n",
            "844/844 [==============================] - 157s 186ms/step - loss: 0.1505 - acc: 0.9433 - val_loss: 0.2267 - val_acc: 0.9137\n",
            "Epoch 77/120\n",
            "844/844 [==============================] - 157s 186ms/step - loss: 0.1320 - acc: 0.9499 - val_loss: 0.9696 - val_acc: 0.9063\n",
            "Epoch 78/120\n",
            "844/844 [==============================] - 157s 186ms/step - loss: 0.1336 - acc: 0.9505 - val_loss: 1.3445 - val_acc: 0.7870\n",
            "Epoch 79/120\n",
            "844/844 [==============================] - 157s 186ms/step - loss: 0.1323 - acc: 0.9495 - val_loss: 0.3197 - val_acc: 0.8783\n",
            "Epoch 80/120\n",
            "844/844 [==============================] - 157s 186ms/step - loss: 0.1290 - acc: 0.9512 - val_loss: 0.6877 - val_acc: 0.7960\n",
            "Epoch 81/120\n",
            "844/844 [==============================] - 157s 186ms/step - loss: 0.1319 - acc: 0.9509 - val_loss: 0.2092 - val_acc: 0.9263\n",
            "Epoch 82/120\n",
            "844/844 [==============================] - 157s 186ms/step - loss: 0.1289 - acc: 0.9531 - val_loss: 0.5340 - val_acc: 0.8493\n",
            "Epoch 83/120\n",
            "844/844 [==============================] - 157s 186ms/step - loss: 0.1283 - acc: 0.9529 - val_loss: 0.2910 - val_acc: 0.8940\n",
            "Epoch 84/120\n",
            "844/844 [==============================] - 157s 186ms/step - loss: 0.1285 - acc: 0.9526 - val_loss: 0.2500 - val_acc: 0.9047\n",
            "Epoch 85/120\n",
            "844/844 [==============================] - 157s 186ms/step - loss: 0.1288 - acc: 0.9531 - val_loss: 0.4202 - val_acc: 0.8583\n",
            "Epoch 86/120\n",
            "844/844 [==============================] - 157s 186ms/step - loss: 0.1230 - acc: 0.9541 - val_loss: 1.1010 - val_acc: 0.7720\n",
            "Epoch 87/120\n",
            "844/844 [==============================] - 157s 186ms/step - loss: 0.1260 - acc: 0.9526 - val_loss: 0.3215 - val_acc: 0.8753\n",
            "Epoch 88/120\n",
            "844/844 [==============================] - 157s 186ms/step - loss: 0.1204 - acc: 0.9558 - val_loss: 0.2895 - val_acc: 0.9070\n",
            "Epoch 89/120\n",
            "844/844 [==============================] - 158s 187ms/step - loss: 0.1198 - acc: 0.9556 - val_loss: 0.2838 - val_acc: 0.9170\n",
            "Epoch 90/120\n",
            "844/844 [==============================] - 158s 187ms/step - loss: 0.1211 - acc: 0.9561 - val_loss: 0.2451 - val_acc: 0.9140\n",
            "Epoch 91/120\n",
            "844/844 [==============================] - 158s 187ms/step - loss: 0.1192 - acc: 0.9564 - val_loss: 0.2749 - val_acc: 0.9090\n",
            "Epoch 92/120\n",
            "844/844 [==============================] - 158s 187ms/step - loss: 0.1173 - acc: 0.9556 - val_loss: 0.3488 - val_acc: 0.8917\n",
            "Epoch 93/120\n",
            "844/844 [==============================] - 158s 187ms/step - loss: 0.1151 - acc: 0.9579 - val_loss: 0.4730 - val_acc: 0.8710\n",
            "Epoch 94/120\n",
            "844/844 [==============================] - 158s 187ms/step - loss: 0.1157 - acc: 0.9569 - val_loss: 0.9663 - val_acc: 0.8300\n",
            "Epoch 95/120\n",
            "844/844 [==============================] - 158s 187ms/step - loss: 0.1177 - acc: 0.9577 - val_loss: 0.5227 - val_acc: 0.8373\n",
            "Epoch 96/120\n",
            "844/844 [==============================] - 158s 187ms/step - loss: 0.1153 - acc: 0.9579 - val_loss: 0.2786 - val_acc: 0.8930\n",
            "Epoch 97/120\n",
            "844/844 [==============================] - 158s 187ms/step - loss: 0.1149 - acc: 0.9575 - val_loss: 0.2644 - val_acc: 0.9037\n",
            "Epoch 98/120\n",
            "844/844 [==============================] - 158s 187ms/step - loss: 0.1215 - acc: 0.9551 - val_loss: 0.2832 - val_acc: 0.8973\n",
            "Epoch 99/120\n",
            "844/844 [==============================] - 158s 187ms/step - loss: 0.1130 - acc: 0.9593 - val_loss: 0.4526 - val_acc: 0.9263\n",
            "Epoch 100/120\n",
            "844/844 [==============================] - 158s 187ms/step - loss: 0.1094 - acc: 0.9586 - val_loss: 0.2335 - val_acc: 0.9200\n",
            "Epoch 101/120\n",
            "844/844 [==============================] - 158s 187ms/step - loss: 0.1081 - acc: 0.9599 - val_loss: 1.2365 - val_acc: 0.8793\n",
            "Epoch 102/120\n",
            "844/844 [==============================] - 158s 187ms/step - loss: 0.1122 - acc: 0.9581 - val_loss: 0.4681 - val_acc: 0.8623\n",
            "Epoch 103/120\n",
            "844/844 [==============================] - 157s 186ms/step - loss: 0.1090 - acc: 0.9594 - val_loss: 0.2885 - val_acc: 0.8973\n",
            "Epoch 104/120\n",
            "844/844 [==============================] - 157s 186ms/step - loss: 0.1160 - acc: 0.9569 - val_loss: 0.2066 - val_acc: 0.9313\n",
            "Epoch 105/120\n",
            "844/844 [==============================] - 157s 186ms/step - loss: 0.1035 - acc: 0.9624 - val_loss: 0.2171 - val_acc: 0.9230\n",
            "Epoch 106/120\n",
            "844/844 [==============================] - 157s 186ms/step - loss: 0.1058 - acc: 0.9611 - val_loss: 0.4508 - val_acc: 0.8763\n",
            "Epoch 107/120\n",
            "844/844 [==============================] - 157s 186ms/step - loss: 0.1066 - acc: 0.9600 - val_loss: 0.3605 - val_acc: 0.8880\n",
            "Epoch 108/120\n",
            "844/844 [==============================] - 157s 186ms/step - loss: 0.1024 - acc: 0.9633 - val_loss: 0.4215 - val_acc: 0.9120\n",
            "Epoch 109/120\n",
            "844/844 [==============================] - 157s 186ms/step - loss: 0.1031 - acc: 0.9605 - val_loss: 0.3848 - val_acc: 0.8847\n",
            "Epoch 110/120\n",
            "844/844 [==============================] - 157s 186ms/step - loss: 0.1041 - acc: 0.9613 - val_loss: 0.5827 - val_acc: 0.8593\n",
            "Epoch 111/120\n",
            "844/844 [==============================] - 157s 186ms/step - loss: 0.1040 - acc: 0.9607 - val_loss: 0.3297 - val_acc: 0.9200\n",
            "Epoch 112/120\n",
            "844/844 [==============================] - 157s 186ms/step - loss: 0.0999 - acc: 0.9623 - val_loss: 0.4785 - val_acc: 0.8613\n",
            "Epoch 113/120\n",
            "844/844 [==============================] - 157s 186ms/step - loss: 0.1011 - acc: 0.9618 - val_loss: 0.2092 - val_acc: 0.9237\n",
            "Epoch 114/120\n",
            "844/844 [==============================] - 157s 186ms/step - loss: 0.1032 - acc: 0.9633 - val_loss: 3.3221 - val_acc: 0.9310\n",
            "Epoch 115/120\n",
            "844/844 [==============================] - 157s 186ms/step - loss: 0.0993 - acc: 0.9634 - val_loss: 0.3035 - val_acc: 0.9143\n",
            "Epoch 116/120\n",
            "844/844 [==============================] - 157s 186ms/step - loss: 0.0982 - acc: 0.9632 - val_loss: 0.2002 - val_acc: 0.9293\n",
            "Epoch 117/120\n",
            "844/844 [==============================] - 157s 186ms/step - loss: 0.0988 - acc: 0.9643 - val_loss: 0.2521 - val_acc: 0.9203\n",
            "Epoch 118/120\n",
            "844/844 [==============================] - 157s 186ms/step - loss: 0.0937 - acc: 0.9651 - val_loss: 0.2625 - val_acc: 0.9360\n",
            "Epoch 119/120\n",
            "844/844 [==============================] - 157s 186ms/step - loss: 0.0983 - acc: 0.9648 - val_loss: 0.3130 - val_acc: 0.8993\n",
            "Epoch 120/120\n",
            "844/844 [==============================] - 157s 186ms/step - loss: 0.0942 - acc: 0.9656 - val_loss: 2.1348 - val_acc: 0.8557\n"
          ]
        }
      ]
    },
    {
      "cell_type": "code",
      "source": [
        "h = history.history\n",
        "plt.plot(h['acc'])\n",
        "plt.plot(h['val_acc'])\n",
        "plt.title('acc vs val-acc')\n",
        "plt.show()"
      ],
      "metadata": {
        "colab": {
          "base_uri": "https://localhost:8080/",
          "height": 281
        },
        "id": "TcstDZa98li7",
        "outputId": "9231c380-2b9a-4027-92c5-146c966ed927"
      },
      "execution_count": null,
      "outputs": [
        {
          "output_type": "display_data",
          "data": {
            "image/png": "[encoded data removed]",
            "text/plain": [
              "<Figure size 432x288 with 1 Axes>"
            ]
          },
          "metadata": {
            "needs_background": "light"
          }
        }
      ]
    },
    {
      "cell_type": "code",
      "source": [
        "plt.plot(h['loss'])\n",
        "plt.plot(h['val_loss'])\n",
        "plt.title('loss vs val-loss')\n",
        "plt.show()"
      ],
      "metadata": {
        "colab": {
          "base_uri": "https://localhost:8080/",
          "height": 281
        },
        "id": "SGomhZjMO4tx",
        "outputId": "fbb37f25-199f-460c-b487-868e1cc2edec"
      },
      "execution_count": null,
      "outputs": [
        {
          "output_type": "display_data",
          "data": {
            "image/png": "[encoded data removed]",
            "text/plain": [
              "<Figure size 432x288 with 1 Axes>"
            ]
          },
          "metadata": {
            "needs_background": "light"
          }
        }
      ]
    },
    {
      "cell_type": "code",
      "source": [
        "plt.plot(h['loss'])\n",
        "plt.plot(h['val_loss'])\n",
        "plt.title('loss vs val-loss')\n",
        "plt.axis([0, 120, 0, 3])\n",
        "plt.show()"
      ],
      "metadata": {
        "id": "wuzd7NH0LCbX"
      },
      "execution_count": null,
      "outputs": []
    },
    {
      "cell_type": "code",
      "source": [
        "model.save('/content/gdrive/MyDrive/Histopath/thirty_model.h5')"
      ],
      "metadata": {
        "id": "2BYn-bPkilRy"
      },
      "execution_count": null,
      "outputs": []
    },
    {
      "cell_type": "code",
      "source": [
        "import pickle\n",
        "\n",
        "with open('/content/gdrive/MyDrive/Histopath/thirty_data', 'wb') as f:\n",
        "  pickle.dump(history.history, f)"
      ],
      "metadata": {
        "id": "JG9AlO49uXdr"
      },
      "execution_count": null,
      "outputs": []
    }
  ],
  "metadata": {
    "colab": {
      "collapsed_sections": [],
      "name": "Kaggle Histopathologic Cancer Detection with Split.ipynb",
      "provenance": [],
      "machine_shape": "hm",
      "authorship_tag": "ABX9TyMpdIfGP6cTPV9W/SH/oviE",
      "include_colab_link": true
    },
    "kernelspec": {
      "display_name": "Python 3",
      "name": "python3"
    },
    "language_info": {
      "name": "python"
    },
    "accelerator": "GPU"
  },
  "nbformat": 4,
  "nbformat_minor": 0
}