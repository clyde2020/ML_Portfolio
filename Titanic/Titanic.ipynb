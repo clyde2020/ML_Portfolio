{
  "nbformat": 4,
  "nbformat_minor": 0,
  "metadata": {
    "colab": {
      "name": "Titanic.ipynb",
      "provenance": [],
      "collapsed_sections": [
        "vlJopPAcWZzg",
        "1HPi1HJwWda6",
        "dLaKR4i3QlHG",
        "Yw9QZ7sZ0AUY"
      ],
      "machine_shape": "hm",
      "authorship_tag": "ABX9TyP15hA+IzXpZ7fXaKbaeeYy",
      "include_colab_link": true
    },
    "kernelspec": {
      "name": "python3",
      "display_name": "Python 3"
    },
    "language_info": {
      "name": "python"
    }
  },
  "cells": [
    {
      "cell_type": "markdown",
      "metadata": {
        "id": "view-in-github",
        "colab_type": "text"
      },
      "source": [
        "<a href=\"https://colab.research.google.com/github/clyde2020/ML_Portfolio/blob/main/Titanic/Titanic.ipynb\" target=\"_parent\"><img src=\"https://colab.research.google.com/assets/colab-badge.svg\" alt=\"Open In Colab\"/></a>"
      ]
    },
    {
      "cell_type": "markdown",
      "source": [
        "# Import libraries"
      ],
      "metadata": {
        "id": "vlJopPAcWZzg"
      }
    },
    {
      "cell_type": "code",
      "execution_count": null,
      "metadata": {
        "id": "KSZzRmkLeiJV",
        "colab": {
          "base_uri": "https://localhost:8080/"
        },
        "outputId": "6dba8b6c-47e3-489b-a256-7ee294446be8"
      },
      "outputs": [
        {
          "output_type": "stream",
          "name": "stdout",
          "text": [
            "Mounted at /content/gdrive\n"
          ]
        }
      ],
      "source": [
        "import pandas as pd\n",
        "import numpy as np\n",
        "import os\n",
        "import shutil\n",
        "from shutil import copyfile\n",
        "from tensorflow.keras.preprocessing.image import ImageDataGenerator\n",
        "import tensorflow as tf\n",
        "from tensorflow.keras.optimizers import RMSprop, Adam\n",
        "import matplotlib.pyplot as plt\n",
        "import random\n",
        "from keras.callbacks import ModelCheckpoint, EarlyStopping\n",
        "from keras.models import load_model\n",
        "import pickle\n",
        "from sklearn.utils import shuffle\n",
        "from sklearn.model_selection import train_test_split\n",
        "from sklearn.metrics import auc, roc_curve\n",
        "from keras.callbacks import ReduceLROnPlateau\n",
        "import cv2\n",
        "\n",
        "import warnings\n",
        "warnings.filterwarnings('ignore')\n",
        "\n",
        "from sklearn.compose import ColumnTransformer\n",
        "from sklearn.preprocessing import OneHotEncoder, StandardScaler, OrdinalEncoder\n",
        "from sklearn.impute import SimpleImputer\n",
        "\n",
        "from sklearn.linear_model import LinearRegression\n",
        "from sklearn.ensemble import RandomForestClassifier\n",
        "from sklearn.ensemble import VotingClassifier\n",
        "from sklearn.linear_model import LogisticRegression\n",
        "from sklearn.svm import SVC\n",
        "from sklearn.model_selection import train_test_split\n",
        "from sklearn.metrics import accuracy_score\n",
        "from sklearn.ensemble import BaggingClassifier\n",
        "from sklearn.tree import DecisionTreeClassifier\n",
        "\n",
        "from google.colab import drive\n",
        "drive.mount('/content/gdrive')"
      ]
    },
    {
      "cell_type": "markdown",
      "source": [
        "# Initialize variables"
      ],
      "metadata": {
        "id": "1HPi1HJwWda6"
      }
    },
    {
      "cell_type": "code",
      "source": [
        "home_dir = '/content/gdrive/MyDrive/Titanic'  # Mandatory update\n",
        "\n",
        "df_train = pd.read_csv('{}/train.csv'.format(home_dir))\n",
        "df_test = pd.read_csv('{}/test.csv'.format(home_dir))\n",
        "test_ids = df_test['PassengerId'].copy()\n",
        "\n",
        "state = 42"
      ],
      "metadata": {
        "id": "D_vLollD5BAB"
      },
      "execution_count": null,
      "outputs": []
    },
    {
      "cell_type": "markdown",
      "source": [
        "# Process data"
      ],
      "metadata": {
        "id": "dLaKR4i3QlHG"
      }
    },
    {
      "cell_type": "code",
      "source": [
        "df_train.hist(bins=50, figsize=(15, 12))\n",
        "plt.show()"
      ],
      "metadata": {
        "id": "yy_pI4rpT0rz"
      },
      "execution_count": null,
      "outputs": []
    },
    {
      "cell_type": "code",
      "source": [
        "del_cols = ['PassengerId', 'Ticket', 'Name', 'Cabin']\n",
        "scale_cols = ['Pclass', 'SibSp', 'Parch', 'Age', 'Fare', 'fam_total']\n",
        "ordinal_cols = ['Sex', 'has_cabin']\n",
        "one_hot_cols = ['Embarked']\n",
        "\n",
        "# Fill in null values\n",
        "df_train['Embarked'] = df_train['Embarked'].fillna('S')\n",
        "df_test['Fare'][np.isnan(df_test['Fare'])] = df_test['Fare'].mean()"
      ],
      "metadata": {
        "id": "sWqSrC8uRjUN"
      },
      "execution_count": null,
      "outputs": []
    },
    {
      "cell_type": "code",
      "source": [
        "# Train, valid split\n",
        "df_train, df_valid = train_test_split(df_train, \n",
        "                                      test_size=.1, \n",
        "                                      random_state=state, \n",
        "                                      shuffle=True, \n",
        "                                      stratify=df_train['Sex'])"
      ],
      "metadata": {
        "id": "mj27knU_JxYW"
      },
      "execution_count": null,
      "outputs": []
    },
    {
      "cell_type": "code",
      "source": [
        "# Set label arrays\n",
        "y_train = df_train['Survived'].copy()\n",
        "y_valid = df_valid['Survived'].copy()\n",
        "\n",
        "df_train.drop('Survived', axis=1, inplace=True)\n",
        "df_valid.drop('Survived', axis=1, inplace=True)"
      ],
      "metadata": {
        "id": "5xNYNhmsK79k"
      },
      "execution_count": null,
      "outputs": []
    },
    {
      "cell_type": "code",
      "source": [
        "df_full = [df_train, df_valid, df_test]\n",
        "\n",
        "for dataset in df_full:\n",
        "  # Fill in missing values for Age\n",
        "  age_avg = df_train['Age'].mean()\n",
        "  age_std = df_train['Age'].std()\n",
        "  age_null_size = dataset['Age'].isnull().sum()\n",
        "  random_list = np.random.randint(low=(age_avg - age_std),\n",
        "                                  high=(age_avg + age_std),\n",
        "                                  size=age_null_size)\n",
        "  dataset['Age'][np.isnan(dataset['Age'])] = random_list\n",
        "  # Set if cabin info is known\n",
        "  dataset['has_cabin'] = dataset['Cabin'].apply(lambda x: 0 if type(x) == float else 1)\n",
        "  # Count total family members\n",
        "  dataset['fam_total'] = dataset['SibSp'] + dataset['Parch']\n",
        "\n",
        "  dataset.drop(del_cols, axis=1, inplace=True)"
      ],
      "metadata": {
        "id": "oHneKjYFfq4o"
      },
      "execution_count": null,
      "outputs": []
    },
    {
      "cell_type": "code",
      "source": [
        "train = df_full[0]\n",
        "valid = df_full[1]\n",
        "test = df_full[2]"
      ],
      "metadata": {
        "id": "eqwLywv99n-o"
      },
      "execution_count": null,
      "outputs": []
    },
    {
      "cell_type": "code",
      "source": [
        "corr_matrix = train.corr()\n",
        "corr_matrix"
      ],
      "metadata": {
        "id": "j8jJL_9kUMWr"
      },
      "execution_count": null,
      "outputs": []
    },
    {
      "cell_type": "code",
      "source": [
        "# Process data in column transformer\n",
        "full_pipeline = ColumnTransformer([('std_scale', StandardScaler(), scale_cols),\n",
        "                                   ('one_hot', OneHotEncoder(), one_hot_cols),\n",
        "                                   ('ordinal', OrdinalEncoder(), ordinal_cols)\n",
        "                                   ])\n",
        "\n",
        "train_tr = full_pipeline.fit_transform(train)\n",
        "valid_tr = full_pipeline.transform(valid)\n",
        "test_tr = full_pipeline.transform(test)"
      ],
      "metadata": {
        "id": "1zoiRFDoR7hp"
      },
      "execution_count": null,
      "outputs": []
    },
    {
      "cell_type": "code",
      "source": [
        "train_tr[:10]"
      ],
      "metadata": {
        "id": "mUBjiofdVfhw"
      },
      "execution_count": null,
      "outputs": []
    },
    {
      "cell_type": "markdown",
      "source": [
        "# Models"
      ],
      "metadata": {
        "id": "Yw9QZ7sZ0AUY"
      }
    },
    {
      "cell_type": "code",
      "source": [
        "# Make predictions for soft voting classifier\n",
        "lin_clf = LinearRegression()\n",
        "rnd_clf = RandomForestClassifier(n_estimators=100, random_state=state)\n",
        "log_clf = LogisticRegression(solver='lbfgs', random_state=state)\n",
        "svm_clf = SVC(gamma='scale', probability=True, random_state=state)\n",
        "dec_clf = DecisionTreeClassifier(random_state=state)\n",
        "\n",
        "voting_clf = VotingClassifier(estimators=[('rf', rnd_clf),\n",
        "                                          ('log', log_clf),\n",
        "                                          ('svc', svm_clf),\n",
        "                                          ('dec', dec_clf)],\n",
        "                              voting='soft')\n",
        "\n",
        "for clf in (rnd_clf, svm_clf, log_clf, dec_clf, voting_clf):\n",
        "  clf.fit(train_tr, y_train)\n",
        "  y_pred = clf.predict(valid_tr)\n",
        "  y_pred = np.round(y_pred)\n",
        "  y_pred = y_pred.astype(int)\n",
        "  print(clf.__class__.__name__, accuracy_score(y_valid, y_pred))"
      ],
      "metadata": {
        "colab": {
          "base_uri": "https://localhost:8080/"
        },
        "id": "tF6wjqsrz_KD",
        "outputId": "a750e700-6bf6-436a-9b60-22e91fff3e7f"
      },
      "execution_count": null,
      "outputs": [
        {
          "output_type": "stream",
          "name": "stdout",
          "text": [
            "RandomForestClassifier 0.8111111111111111\n",
            "SVC 0.8\n",
            "LogisticRegression 0.7555555555555555\n",
            "DecisionTreeClassifier 0.8\n",
            "VotingClassifier 0.8111111111111111\n"
          ]
        }
      ]
    },
    {
      "cell_type": "code",
      "source": [
        "# Make predictions for hard voting classifier\n",
        "lin_clf = LinearRegression()\n",
        "rnd_clf = RandomForestClassifier(n_estimators=70, random_state=state)\n",
        "log_clf = LogisticRegression(solver='lbfgs', random_state=state)\n",
        "svm_clf = SVC(gamma='scale', random_state=state)\n",
        "dec_clf = DecisionTreeClassifier(random_state=state)\n",
        "\n",
        "voting_clf = VotingClassifier(estimators=[#('lnr', lin_clf),\n",
        "                                          ('rf', rnd_clf),\n",
        "                                          ('log', log_clf),\n",
        "                                          ('svc', svm_clf),\n",
        "                                          ('dec', dec_clf)],\n",
        "                              voting='hard')\n",
        "\n",
        "for clf in (rnd_clf, svm_clf, log_clf, dec_clf, voting_clf):\n",
        "  clf.fit(train_tr, y_train)\n",
        "  y_pred = clf.predict(valid_tr)\n",
        "  y_pred = np.round(y_pred)\n",
        "  y_pred = y_pred.astype(int)\n",
        "  print(clf.__class__.__name__, accuracy_score(y_valid, y_pred))"
      ],
      "metadata": {
        "colab": {
          "base_uri": "https://localhost:8080/"
        },
        "id": "VIINGMyYHi3c",
        "outputId": "c11b8943-f5a0-4877-9bce-58976dc0dbe6"
      },
      "execution_count": null,
      "outputs": [
        {
          "output_type": "stream",
          "name": "stdout",
          "text": [
            "RandomForestClassifier 0.8444444444444444\n",
            "SVC 0.8\n",
            "LogisticRegression 0.7555555555555555\n",
            "DecisionTreeClassifier 0.8\n",
            "VotingClassifier 0.8222222222222222\n"
          ]
        }
      ]
    },
    {
      "cell_type": "code",
      "source": [
        "# Get predictions\n",
        "preds = voting_clf.predict(test_tr)\n",
        "preds = np.round(preds)\n",
        "preds = preds.astype(int)"
      ],
      "metadata": {
        "id": "YYhYEexT0Zx1"
      },
      "execution_count": null,
      "outputs": []
    },
    {
      "cell_type": "code",
      "source": [
        "# Set up submit file to Kaggle\n",
        "output = pd.DataFrame({'PassengerId': test_ids,\n",
        "                       'Survived': preds})\n",
        "\n",
        "output.to_csv('/content/gdrive/MyDrive/Titanic/gender_submission.csv', index=False)"
      ],
      "metadata": {
        "id": "d_N5-wHW4B1I"
      },
      "execution_count": null,
      "outputs": []
    },
    {
      "cell_type": "code",
      "source": [
        ""
      ],
      "metadata": {
        "id": "g1LMYZm0GARy"
      },
      "execution_count": null,
      "outputs": []
    }
  ]
}