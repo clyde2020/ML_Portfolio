{
  "nbformat": 4,
  "nbformat_minor": 0,
  "metadata": {
    "colab": {
      "name": "Kaggle Histopathologic Cancer Detection.ipynb",
      "provenance": [],
      "collapsed_sections": [],
      "authorship_tag": "ABX9TyNSDwhFmdY88Ou/HoSrckQt",
      "include_colab_link": true
    },
    "kernelspec": {
      "name": "python3",
      "display_name": "Python 3"
    },
    "language_info": {
      "name": "python"
    },
    "accelerator": "GPU"
  },
  "cells": [
    {
      "cell_type": "markdown",
      "metadata": {
        "id": "view-in-github",
        "colab_type": "text"
      },
      "source": [
        "<a href=\"https://colab.research.google.com/github/clyde2020/ML_Portfolio/blob/main/Kaggle_Histopathologic_Cancer_Detection.ipynb\" target=\"_parent\"><img src=\"https://colab.research.google.com/assets/colab-badge.svg\" alt=\"Open In Colab\"/></a>"
      ]
    },
    {
      "cell_type": "code",
      "metadata": {
        "id": "FWddduZzMLCf",
        "colab": {
          "base_uri": "https://localhost:8080/"
        },
        "outputId": "8b2682ba-2c5b-400a-b9fd-2c05e3dda8ed"
      },
      "source": [
        "import pandas as pd\n",
        "import numpy as np\n",
        "import os\n",
        "import shutil\n",
        "from shutil import copyfile\n",
        "from tensorflow.keras.preprocessing.image import ImageDataGenerator\n",
        "import tensorflow as tf\n",
        "from tensorflow.keras.optimizers import RMSprop, Adam\n",
        "import matplotlib.pyplot as plt\n",
        "\n",
        "from google.colab import drive\n",
        "drive.mount('/content/gdrive')"
      ],
      "execution_count": 1,
      "outputs": [
        {
          "output_type": "stream",
          "name": "stdout",
          "text": [
            "Mounted at /content/gdrive\n"
          ]
        }
      ]
    },
    {
      "cell_type": "code",
      "metadata": {
        "id": "jRAqy2RZMOd3"
      },
      "source": [
        "df = pd.read_csv('/content/gdrive/MyDrive/Histopath/train_labels.csv')"
      ],
      "execution_count": 2,
      "outputs": []
    },
    {
      "cell_type": "code",
      "metadata": {
        "colab": {
          "base_uri": "https://localhost:8080/"
        },
        "id": "tNU4mtWOQRNF",
        "outputId": "3d318329-ef50-4eb2-8b8b-602bf8c1e6cd"
      },
      "source": [
        "len(df.id)"
      ],
      "execution_count": 3,
      "outputs": [
        {
          "output_type": "execute_result",
          "data": {
            "text/plain": [
              "220025"
            ]
          },
          "metadata": {},
          "execution_count": 3
        }
      ]
    },
    {
      "cell_type": "code",
      "metadata": {
        "id": "UKf1M2BrMsAJ"
      },
      "source": [
        "picdict = dict(zip(df['id'], df['label']))"
      ],
      "execution_count": 4,
      "outputs": []
    },
    {
      "cell_type": "code",
      "metadata": {
        "id": "b0lAehmNNA8M"
      },
      "source": [
        "os.mkdir('/content/Lymph')\n",
        "os.mkdir('/content/Lymph/Noncancer')\n",
        "os.mkdir('/content/Lymph/Cancer')"
      ],
      "execution_count": 5,
      "outputs": []
    },
    {
      "cell_type": "code",
      "metadata": {
        "id": "c7D55S95NJyF",
        "colab": {
          "base_uri": "https://localhost:8080/"
        },
        "outputId": "e2ffd347-1608-4c7a-e34b-cf723abb71fc"
      },
      "source": [
        "source_folder = '/content/gdrive/MyDrive/Histopath/small_set'\n",
        "benign_folder = '/content/Lymph/Noncancer'\n",
        "mal_folder = '/content/Lymph/Cancer'\n",
        "train_folder = '/content/Lymph'\n",
        "#SOURCE = \"C://Users//marcu//Desktop//Datasets//Histopath//small_set\"\n",
        "#SOURCE = \"/content/gdrive/MyDrive/Histopath/train\"\n",
        "new_list = os.listdir(source_folder)\n",
        "len(new_list)"
      ],
      "execution_count": 6,
      "outputs": [
        {
          "output_type": "execute_result",
          "data": {
            "text/plain": [
              "4344"
            ]
          },
          "metadata": {},
          "execution_count": 6
        }
      ]
    },
    {
      "cell_type": "code",
      "metadata": {
        "id": "swhsUAPlNieq"
      },
      "source": [
        "for fname in new_list:\n",
        "  origin = os.path.join(source_folder, fname)\n",
        "  name = os.path.splitext(os.path.basename(fname))[0]\n",
        "  if os.path.getsize(origin) > 1:\n",
        "    if picdict[name] == 0:\n",
        "      destination = os.path.join(benign_folder, fname)\n",
        "      shutil.copy(origin, benign_folder)\n",
        "    else:\n",
        "      shutil.copy(origin, mal_folder)"
      ],
      "execution_count": 7,
      "outputs": []
    },
    {
      "cell_type": "code",
      "metadata": {
        "colab": {
          "base_uri": "https://localhost:8080/"
        },
        "id": "0H_2EDGvNtgq",
        "outputId": "02f9eb54-9461-4988-eec1-8d24b727aefa"
      },
      "source": [
        "print(len(os.listdir(benign_folder)))\n",
        "print(len(os.listdir(mal_folder)))"
      ],
      "execution_count": 8,
      "outputs": [
        {
          "output_type": "stream",
          "name": "stdout",
          "text": [
            "2611\n",
            "1733\n"
          ]
        }
      ]
    },
    {
      "cell_type": "code",
      "metadata": {
        "colab": {
          "base_uri": "https://localhost:8080/"
        },
        "id": "0no8J-9nP_SB",
        "outputId": "db663033-ef28-4d32-b170-f4f7f8072737"
      },
      "source": [
        "train_datagen = ImageDataGenerator(rescale=1/255.0,\n",
        "                                  rotation_range=45,\n",
        "                                  width_shift_range=0.2,\n",
        "                                  height_shift_range=0.2,\n",
        "                                  shear_range=0.2,\n",
        "                                  horizontal_flip=True,\n",
        "                                  fill_mode='nearest')\n",
        "\n",
        "train_generator = train_datagen.flow_from_directory(\n",
        "    train_folder,\n",
        "    target_size=(96, 96),\n",
        "    batch_size=10,\n",
        "    class_mode='binary')\n",
        "\n",
        "validation_datagen = ImageDataGenerator(rescale=1/255.0)  \n",
        "\n",
        "validation_generator = validation_datagen.flow_from_directory(\n",
        "    train_folder,\n",
        "    target_size=(96, 96),\n",
        "    batch_size=10,\n",
        "    class_mode='binary') "
      ],
      "execution_count": 9,
      "outputs": [
        {
          "output_type": "stream",
          "name": "stdout",
          "text": [
            "Found 4344 images belonging to 2 classes.\n",
            "Found 4344 images belonging to 2 classes.\n"
          ]
        }
      ]
    },
    {
      "cell_type": "code",
      "metadata": {
        "colab": {
          "base_uri": "https://localhost:8080/"
        },
        "id": "0WYbYz_qRla0",
        "outputId": "f48c6c55-947b-48f1-f5a4-46c1fba572be"
      },
      "source": [
        "model = tf.keras.models.Sequential([\n",
        "    tf.keras.layers.Conv2D(32, 3, input_shape=(96, 96, 3), activation='relu'),\n",
        "    tf.keras.layers.MaxPooling2D(2),\n",
        "    tf.keras.layers.Conv2D(64, 3, activation='relu'),\n",
        "    tf.keras.layers.MaxPooling2D(2),\n",
        "    tf.keras.layers.Conv2D(96, 3, activation='relu'),\n",
        "    tf.keras.layers.MaxPooling2D(2),\n",
        "                          \n",
        "    tf.keras.layers.Flatten(),\n",
        "    tf.keras.layers.Dense(350, activation='relu'),\n",
        "    tf.keras.layers.Dense(1, activation='sigmoid')\n",
        "])\n",
        "\n",
        "lr_schedule = tf.keras.callbacks.LearningRateScheduler(\n",
        "    lambda epoch: 1e-5 * 10**(epoch / 5))\n",
        "#optimizer = tf.keras.optimizers.Adam(learning_rate=1e-7)\n",
        "#model.compile(loss=tf.keras.losses.Huber(),\n",
        "#              optimizer=optimizer,\n",
        "#              metrics=[\"mae\"])\n",
        "\n",
        "\n",
        "model.compile(optimizer=RMSprop(learning_rate=1e-5), loss='binary_crossentropy', metrics=['acc'])\n",
        "\n",
        "model.summary()"
      ],
      "execution_count": 10,
      "outputs": [
        {
          "output_type": "stream",
          "name": "stdout",
          "text": [
            "Model: \"sequential\"\n",
            "_________________________________________________________________\n",
            " Layer (type)                Output Shape              Param #   \n",
            "=================================================================\n",
            " conv2d (Conv2D)             (None, 94, 94, 32)        896       \n",
            "                                                                 \n",
            " max_pooling2d (MaxPooling2D  (None, 47, 47, 32)       0         \n",
            " )                                                               \n",
            "                                                                 \n",
            " conv2d_1 (Conv2D)           (None, 45, 45, 64)        18496     \n",
            "                                                                 \n",
            " max_pooling2d_1 (MaxPooling  (None, 22, 22, 64)       0         \n",
            " 2D)                                                             \n",
            "                                                                 \n",
            " conv2d_2 (Conv2D)           (None, 20, 20, 96)        55392     \n",
            "                                                                 \n",
            " max_pooling2d_2 (MaxPooling  (None, 10, 10, 96)       0         \n",
            " 2D)                                                             \n",
            "                                                                 \n",
            " flatten (Flatten)           (None, 9600)              0         \n",
            "                                                                 \n",
            " dense (Dense)               (None, 350)               3360350   \n",
            "                                                                 \n",
            " dense_1 (Dense)             (None, 1)                 351       \n",
            "                                                                 \n",
            "=================================================================\n",
            "Total params: 3,435,485\n",
            "Trainable params: 3,435,485\n",
            "Non-trainable params: 0\n",
            "_________________________________________________________________\n"
          ]
        }
      ]
    },
    {
      "cell_type": "code",
      "metadata": {
        "colab": {
          "base_uri": "https://localhost:8080/"
        },
        "id": "hMuql2x7R_IJ",
        "outputId": "d52abcea-8f91-4078-f939-b35187d815cc"
      },
      "source": [
        "history = model.fit_generator(train_generator,\n",
        "                              epochs=20,\n",
        "                              verbose=1,\n",
        "                              callbacks=[lr_schedule])"
      ],
      "execution_count": 11,
      "outputs": [
        {
          "output_type": "stream",
          "name": "stderr",
          "text": [
            "/usr/local/lib/python3.7/dist-packages/ipykernel_launcher.py:4: UserWarning: `Model.fit_generator` is deprecated and will be removed in a future version. Please use `Model.fit`, which supports generators.\n",
            "  after removing the cwd from sys.path.\n"
          ]
        },
        {
          "output_type": "stream",
          "name": "stdout",
          "text": [
            "Epoch 1/20\n",
            "435/435 [==============================] - 49s 41ms/step - loss: 0.6313 - acc: 0.6365 - lr: 1.0000e-05\n",
            "Epoch 2/20\n",
            "435/435 [==============================] - 18s 41ms/step - loss: 0.5550 - acc: 0.7380 - lr: 1.5849e-05\n",
            "Epoch 3/20\n",
            "435/435 [==============================] - 17s 40ms/step - loss: 0.5074 - acc: 0.7719 - lr: 2.5119e-05\n",
            "Epoch 4/20\n",
            "435/435 [==============================] - 18s 41ms/step - loss: 0.5043 - acc: 0.7634 - lr: 3.9811e-05\n",
            "Epoch 5/20\n",
            "435/435 [==============================] - 18s 41ms/step - loss: 0.5048 - acc: 0.7666 - lr: 6.3096e-05\n",
            "Epoch 6/20\n",
            "435/435 [==============================] - 18s 41ms/step - loss: 0.5092 - acc: 0.7645 - lr: 1.0000e-04\n",
            "Epoch 7/20\n",
            "435/435 [==============================] - 18s 41ms/step - loss: 0.5113 - acc: 0.7608 - lr: 1.5849e-04\n",
            "Epoch 8/20\n",
            "435/435 [==============================] - 18s 41ms/step - loss: 0.5266 - acc: 0.7606 - lr: 2.5119e-04\n",
            "Epoch 9/20\n",
            "435/435 [==============================] - 18s 41ms/step - loss: 0.5365 - acc: 0.7518 - lr: 3.9811e-04\n",
            "Epoch 10/20\n",
            "435/435 [==============================] - 18s 41ms/step - loss: 0.5277 - acc: 0.7659 - lr: 6.3096e-04\n",
            "Epoch 11/20\n",
            "435/435 [==============================] - 18s 40ms/step - loss: 0.5510 - acc: 0.7353 - lr: 0.0010\n",
            "Epoch 12/20\n",
            "435/435 [==============================] - 18s 41ms/step - loss: 0.6012 - acc: 0.7099 - lr: 0.0016\n",
            "Epoch 13/20\n",
            "435/435 [==============================] - 18s 40ms/step - loss: 0.6533 - acc: 0.6685 - lr: 0.0025\n",
            "Epoch 14/20\n",
            "435/435 [==============================] - 18s 41ms/step - loss: 0.6675 - acc: 0.6512 - lr: 0.0040\n",
            "Epoch 15/20\n",
            "435/435 [==============================] - 18s 40ms/step - loss: 0.6942 - acc: 0.5953 - lr: 0.0063\n",
            "Epoch 16/20\n",
            "435/435 [==============================] - 18s 41ms/step - loss: 0.6755 - acc: 0.6011 - lr: 0.0100\n",
            "Epoch 17/20\n",
            "435/435 [==============================] - 17s 40ms/step - loss: 0.6743 - acc: 0.6011 - lr: 0.0158\n",
            "Epoch 18/20\n",
            "435/435 [==============================] - 18s 41ms/step - loss: 0.6732 - acc: 0.6011 - lr: 0.0251\n",
            "Epoch 19/20\n",
            "435/435 [==============================] - 18s 42ms/step - loss: 0.6744 - acc: 0.6011 - lr: 0.0398\n",
            "Epoch 20/20\n",
            "435/435 [==============================] - 17s 40ms/step - loss: 0.6756 - acc: 0.6011 - lr: 0.0631\n"
          ]
        }
      ]
    },
    {
      "cell_type": "code",
      "metadata": {
        "colab": {
          "base_uri": "https://localhost:8080/",
          "height": 290
        },
        "id": "LbTq-SEASVFW",
        "outputId": "bca606f6-3cf1-48f1-9570-86b15a24e0c6"
      },
      "source": [
        "\n",
        "\n",
        "plt.semilogx(history.history[\"lr\"], history.history[\"loss\"])\n",
        "plt.axis([1e-5, 1e-1, 0, 1])"
      ],
      "execution_count": 12,
      "outputs": [
        {
          "output_type": "execute_result",
          "data": {
            "text/plain": [
              "(1e-05, 0.1, 0.0, 1.0)"
            ]
          },
          "metadata": {},
          "execution_count": 12
        },
        {
          "output_type": "display_data",
          "data": {
            "image/png": "[encoded data removed]",
            "text/plain": [
              "<Figure size 432x288 with 1 Axes>"
            ]
          },
          "metadata": {
            "needs_background": "light"
          }
        }
      ]
    },
    {
      "cell_type": "code",
      "metadata": {
        "colab": {
          "base_uri": "https://localhost:8080/"
        },
        "id": "ZLL0ALXSVLGk",
        "outputId": "eaa79542-8dae-4a1d-cf15-35d4e75f12e5"
      },
      "source": [
        "model = tf.keras.models.Sequential([\n",
        "    tf.keras.layers.Conv2D(32, 3, input_shape=(96, 96, 3), activation='relu'),\n",
        "    tf.keras.layers.MaxPooling2D(2),\n",
        "    tf.keras.layers.Conv2D(64, 3, activation='relu'),\n",
        "    tf.keras.layers.MaxPooling2D(2),\n",
        "    tf.keras.layers.Conv2D(96, 3, activation='relu'),\n",
        "    tf.keras.layers.MaxPooling2D(2),\n",
        "                          \n",
        "    tf.keras.layers.Flatten(),\n",
        "    tf.keras.layers.Dense(350, activation='relu'),\n",
        "    tf.keras.layers.Dense(1, activation='sigmoid')\n",
        "])\n",
        "\n",
        "model.compile(optimizer=RMSprop(learning_rate=1e-4), loss='binary_crossentropy', metrics=['acc'])\n",
        "\n",
        "history = model.fit(train_generator,\n",
        "                    epochs=20,\n",
        "                    verbose=1)"
      ],
      "execution_count": 13,
      "outputs": [
        {
          "output_type": "stream",
          "name": "stdout",
          "text": [
            "Epoch 1/20\n",
            "435/435 [==============================] - 19s 40ms/step - loss: 0.5700 - acc: 0.6954\n",
            "Epoch 2/20\n",
            "435/435 [==============================] - 17s 40ms/step - loss: 0.4956 - acc: 0.7756\n",
            "Epoch 3/20\n",
            "435/435 [==============================] - 17s 40ms/step - loss: 0.4858 - acc: 0.7813\n",
            "Epoch 4/20\n",
            "435/435 [==============================] - 17s 40ms/step - loss: 0.4834 - acc: 0.7799\n",
            "Epoch 5/20\n",
            "435/435 [==============================] - 17s 39ms/step - loss: 0.4795 - acc: 0.7806\n",
            "Epoch 6/20\n",
            "435/435 [==============================] - 17s 40ms/step - loss: 0.4764 - acc: 0.7841\n",
            "Epoch 7/20\n",
            "435/435 [==============================] - 17s 40ms/step - loss: 0.4762 - acc: 0.7852\n",
            "Epoch 8/20\n",
            "435/435 [==============================] - 17s 40ms/step - loss: 0.4669 - acc: 0.7898\n",
            "Epoch 9/20\n",
            "435/435 [==============================] - 17s 40ms/step - loss: 0.4664 - acc: 0.7891\n",
            "Epoch 10/20\n",
            "435/435 [==============================] - 17s 40ms/step - loss: 0.4668 - acc: 0.7933\n",
            "Epoch 11/20\n",
            "435/435 [==============================] - 17s 40ms/step - loss: 0.4709 - acc: 0.7875\n",
            "Epoch 12/20\n",
            "435/435 [==============================] - 17s 40ms/step - loss: 0.4632 - acc: 0.7965\n",
            "Epoch 13/20\n",
            "435/435 [==============================] - 17s 39ms/step - loss: 0.4585 - acc: 0.7951\n",
            "Epoch 14/20\n",
            "435/435 [==============================] - 17s 40ms/step - loss: 0.4552 - acc: 0.7963\n",
            "Epoch 15/20\n",
            "435/435 [==============================] - 17s 40ms/step - loss: 0.4559 - acc: 0.7972\n",
            "Epoch 16/20\n",
            "435/435 [==============================] - 17s 40ms/step - loss: 0.4561 - acc: 0.7995\n",
            "Epoch 17/20\n",
            "435/435 [==============================] - 17s 40ms/step - loss: 0.4516 - acc: 0.7988\n",
            "Epoch 18/20\n",
            "435/435 [==============================] - 17s 40ms/step - loss: 0.4520 - acc: 0.7967\n",
            "Epoch 19/20\n",
            "435/435 [==============================] - 17s 39ms/step - loss: 0.4489 - acc: 0.7977\n",
            "Epoch 20/20\n",
            "435/435 [==============================] - 17s 39ms/step - loss: 0.4477 - acc: 0.8039\n"
          ]
        }
      ]
    },
    {
      "cell_type": "markdown",
      "metadata": {
        "id": "PTEbtXZ4w1IL"
      },
      "source": [
        "Model with Adam optimizer"
      ]
    },
    {
      "cell_type": "code",
      "metadata": {
        "id": "uNEkILNFcGzV",
        "colab": {
          "base_uri": "https://localhost:8080/"
        },
        "outputId": "1964c41f-487f-485a-f846-96e98000f9f5"
      },
      "source": [
        "model = tf.keras.models.Sequential([\n",
        "    tf.keras.layers.Conv2D(32, 3, input_shape=(96, 96, 3), activation='relu'),\n",
        "    tf.keras.layers.MaxPooling2D(2),\n",
        "    tf.keras.layers.Conv2D(64, 3, activation='relu'),\n",
        "    tf.keras.layers.MaxPooling2D(2),\n",
        "    tf.keras.layers.Conv2D(96, 3, activation='relu'),\n",
        "    tf.keras.layers.MaxPooling2D(2),\n",
        "                          \n",
        "    tf.keras.layers.Flatten(),\n",
        "    tf.keras.layers.Dense(350, activation='relu'),\n",
        "    tf.keras.layers.Dense(1, activation='sigmoid')\n",
        "])\n",
        "\n",
        "lr_schedule = tf.keras.callbacks.LearningRateScheduler(\n",
        "    lambda epoch: 1e-5 * 10**(epoch / 5))\n",
        "optimizer = tf.keras.optimizers.Adam(learning_rate=1e-5)\n",
        "#model.compile(loss=tf.keras.losses.Huber(),\n",
        "#              optimizer=optimizer,\n",
        "#              metrics=[\"mae\"])\n",
        "\n",
        "\n",
        "model.compile(optimizer=optimizer, loss='binary_crossentropy', metrics=['acc'])\n",
        "\n",
        "model.summary()"
      ],
      "execution_count": 22,
      "outputs": [
        {
          "output_type": "stream",
          "name": "stdout",
          "text": [
            "Model: \"sequential_4\"\n",
            "_________________________________________________________________\n",
            " Layer (type)                Output Shape              Param #   \n",
            "=================================================================\n",
            " conv2d_12 (Conv2D)          (None, 94, 94, 32)        896       \n",
            "                                                                 \n",
            " max_pooling2d_12 (MaxPoolin  (None, 47, 47, 32)       0         \n",
            " g2D)                                                            \n",
            "                                                                 \n",
            " conv2d_13 (Conv2D)          (None, 45, 45, 64)        18496     \n",
            "                                                                 \n",
            " max_pooling2d_13 (MaxPoolin  (None, 22, 22, 64)       0         \n",
            " g2D)                                                            \n",
            "                                                                 \n",
            " conv2d_14 (Conv2D)          (None, 20, 20, 96)        55392     \n",
            "                                                                 \n",
            " max_pooling2d_14 (MaxPoolin  (None, 10, 10, 96)       0         \n",
            " g2D)                                                            \n",
            "                                                                 \n",
            " flatten_4 (Flatten)         (None, 9600)              0         \n",
            "                                                                 \n",
            " dense_8 (Dense)             (None, 350)               3360350   \n",
            "                                                                 \n",
            " dense_9 (Dense)             (None, 1)                 351       \n",
            "                                                                 \n",
            "=================================================================\n",
            "Total params: 3,435,485\n",
            "Trainable params: 3,435,485\n",
            "Non-trainable params: 0\n",
            "_________________________________________________________________\n"
          ]
        }
      ]
    },
    {
      "cell_type": "code",
      "metadata": {
        "colab": {
          "base_uri": "https://localhost:8080/"
        },
        "id": "8TM1BKBSw4ey",
        "outputId": "be34be49-7bb2-4d30-c7f9-23762e6750fe"
      },
      "source": [
        "history = model.fit(train_generator,\n",
        "                    epochs=20,\n",
        "                    verbose=1,\n",
        "                    callbacks=[lr_schedule])"
      ],
      "execution_count": 23,
      "outputs": [
        {
          "output_type": "stream",
          "name": "stdout",
          "text": [
            "Epoch 1/20\n",
            "435/435 [==============================] - 18s 39ms/step - loss: 0.6447 - acc: 0.6103 - lr: 1.0000e-05\n",
            "Epoch 2/20\n",
            "435/435 [==============================] - 17s 39ms/step - loss: 0.5543 - acc: 0.7369 - lr: 1.5849e-05\n",
            "Epoch 3/20\n",
            "435/435 [==============================] - 17s 39ms/step - loss: 0.5004 - acc: 0.7620 - lr: 2.5119e-05\n",
            "Epoch 4/20\n",
            "435/435 [==============================] - 17s 39ms/step - loss: 0.4933 - acc: 0.7721 - lr: 3.9811e-05\n",
            "Epoch 5/20\n",
            "435/435 [==============================] - 17s 39ms/step - loss: 0.4985 - acc: 0.7668 - lr: 6.3096e-05\n",
            "Epoch 6/20\n",
            "435/435 [==============================] - 17s 38ms/step - loss: 0.4978 - acc: 0.7696 - lr: 1.0000e-04\n",
            "Epoch 7/20\n",
            "435/435 [==============================] - 17s 39ms/step - loss: 0.4989 - acc: 0.7707 - lr: 1.5849e-04\n",
            "Epoch 8/20\n",
            "435/435 [==============================] - 17s 39ms/step - loss: 0.4972 - acc: 0.7723 - lr: 2.5119e-04\n",
            "Epoch 9/20\n",
            "435/435 [==============================] - 17s 39ms/step - loss: 0.5107 - acc: 0.7647 - lr: 3.9811e-04\n",
            "Epoch 10/20\n",
            "435/435 [==============================] - 17s 39ms/step - loss: 0.5270 - acc: 0.7505 - lr: 6.3096e-04\n",
            "Epoch 11/20\n",
            "435/435 [==============================] - 17s 39ms/step - loss: 0.5099 - acc: 0.7583 - lr: 0.0010\n",
            "Epoch 12/20\n",
            "435/435 [==============================] - 17s 39ms/step - loss: 0.5195 - acc: 0.7488 - lr: 0.0016\n",
            "Epoch 13/20\n",
            "435/435 [==============================] - 17s 39ms/step - loss: 0.5639 - acc: 0.7166 - lr: 0.0025\n",
            "Epoch 14/20\n",
            "435/435 [==============================] - 17s 39ms/step - loss: 0.5845 - acc: 0.7118 - lr: 0.0040\n",
            "Epoch 15/20\n",
            "435/435 [==============================] - 17s 39ms/step - loss: 0.6150 - acc: 0.6687 - lr: 0.0063\n",
            "Epoch 16/20\n",
            "435/435 [==============================] - 17s 39ms/step - loss: 0.6760 - acc: 0.6011 - lr: 0.0100\n",
            "Epoch 17/20\n",
            "435/435 [==============================] - 17s 39ms/step - loss: 0.6735 - acc: 0.6011 - lr: 0.0158\n",
            "Epoch 18/20\n",
            "435/435 [==============================] - 17s 39ms/step - loss: 0.6740 - acc: 0.6011 - lr: 0.0251\n",
            "Epoch 19/20\n",
            "435/435 [==============================] - 17s 39ms/step - loss: 0.6742 - acc: 0.6011 - lr: 0.0398\n",
            "Epoch 20/20\n",
            "435/435 [==============================] - 17s 39ms/step - loss: 0.6744 - acc: 0.6011 - lr: 0.0631\n"
          ]
        }
      ]
    },
    {
      "cell_type": "code",
      "metadata": {
        "colab": {
          "base_uri": "https://localhost:8080/",
          "height": 290
        },
        "id": "Brt_z7HAw_dS",
        "outputId": "7b4037b8-52d5-4514-d4eb-e0183f01d454"
      },
      "source": [
        "plt.semilogx(history.history[\"lr\"], history.history[\"loss\"])\n",
        "plt.axis([1e-5, 1e-1, 0, 1])"
      ],
      "execution_count": 24,
      "outputs": [
        {
          "output_type": "execute_result",
          "data": {
            "text/plain": [
              "(1e-05, 0.1, 0.0, 1.0)"
            ]
          },
          "metadata": {},
          "execution_count": 24
        },
        {
          "output_type": "display_data",
          "data": {
            "image/png": "[encoded data removed]",
            "text/plain": [
              "<Figure size 432x288 with 1 Axes>"
            ]
          },
          "metadata": {
            "needs_background": "light"
          }
        }
      ]
    },
    {
      "cell_type": "code",
      "metadata": {
        "colab": {
          "base_uri": "https://localhost:8080/"
        },
        "id": "4bTI0kZnyZJH",
        "outputId": "4e87149b-3a36-4500-fbe0-5a59344dbabe"
      },
      "source": [
        "model = tf.keras.models.Sequential([\n",
        "    tf.keras.layers.Conv2D(32, 3, input_shape=(96, 96, 3), activation='relu'),\n",
        "    tf.keras.layers.MaxPooling2D(2),\n",
        "    tf.keras.layers.Conv2D(64, 3, activation='relu'),\n",
        "    tf.keras.layers.MaxPooling2D(2),\n",
        "    tf.keras.layers.Conv2D(96, 3, activation='relu'),\n",
        "    tf.keras.layers.MaxPooling2D(2),\n",
        "                          \n",
        "    tf.keras.layers.Flatten(),\n",
        "    tf.keras.layers.Dense(350, activation='relu'),\n",
        "    tf.keras.layers.Dense(1, activation='sigmoid')\n",
        "])\n",
        "optimizer = tf.keras.optimizers.Adam(learning_rate=1e-4)\n",
        "\n",
        "model.compile(optimizer=optimizer, loss='binary_crossentropy', metrics=['acc'])\n",
        "history = model.fit(train_generator,\n",
        "                    epochs=20,\n",
        "                    verbose=1)"
      ],
      "execution_count": 25,
      "outputs": [
        {
          "output_type": "stream",
          "name": "stdout",
          "text": [
            "Epoch 1/20\n",
            "435/435 [==============================] - 18s 40ms/step - loss: 0.5465 - acc: 0.7171\n",
            "Epoch 2/20\n",
            "435/435 [==============================] - 17s 40ms/step - loss: 0.4979 - acc: 0.7716\n",
            "Epoch 3/20\n",
            "435/435 [==============================] - 17s 39ms/step - loss: 0.4793 - acc: 0.7820\n",
            "Epoch 4/20\n",
            "435/435 [==============================] - 17s 39ms/step - loss: 0.4817 - acc: 0.7795\n",
            "Epoch 5/20\n",
            "435/435 [==============================] - 17s 39ms/step - loss: 0.4741 - acc: 0.7896\n",
            "Epoch 6/20\n",
            "435/435 [==============================] - 17s 39ms/step - loss: 0.4666 - acc: 0.7910\n",
            "Epoch 7/20\n",
            "435/435 [==============================] - 17s 40ms/step - loss: 0.4688 - acc: 0.7901\n",
            "Epoch 8/20\n",
            "435/435 [==============================] - 17s 40ms/step - loss: 0.4731 - acc: 0.7813\n",
            "Epoch 9/20\n",
            "435/435 [==============================] - 17s 39ms/step - loss: 0.4650 - acc: 0.7898\n",
            "Epoch 10/20\n",
            "435/435 [==============================] - 17s 40ms/step - loss: 0.4562 - acc: 0.7972\n",
            "Epoch 11/20\n",
            "435/435 [==============================] - 17s 40ms/step - loss: 0.4548 - acc: 0.7993\n",
            "Epoch 12/20\n",
            "435/435 [==============================] - 17s 40ms/step - loss: 0.4479 - acc: 0.7974\n",
            "Epoch 13/20\n",
            "435/435 [==============================] - 17s 40ms/step - loss: 0.4526 - acc: 0.7970\n",
            "Epoch 14/20\n",
            "435/435 [==============================] - 18s 40ms/step - loss: 0.4453 - acc: 0.8006\n",
            "Epoch 15/20\n",
            "435/435 [==============================] - 17s 40ms/step - loss: 0.4405 - acc: 0.7979\n",
            "Epoch 16/20\n",
            "435/435 [==============================] - 17s 40ms/step - loss: 0.4413 - acc: 0.8055\n",
            "Epoch 17/20\n",
            "435/435 [==============================] - 17s 40ms/step - loss: 0.4353 - acc: 0.8059\n",
            "Epoch 18/20\n",
            "435/435 [==============================] - 17s 39ms/step - loss: 0.4362 - acc: 0.8073\n",
            "Epoch 19/20\n",
            "435/435 [==============================] - 17s 40ms/step - loss: 0.4298 - acc: 0.8096\n",
            "Epoch 20/20\n",
            "435/435 [==============================] - 17s 40ms/step - loss: 0.4295 - acc: 0.8103\n"
          ]
        }
      ]
    },
    {
      "cell_type": "code",
      "metadata": {
        "id": "x6NfUKvQ9fDn"
      },
      "source": [
        ""
      ],
      "execution_count": null,
      "outputs": []
    }
  ]
}