{
  "nbformat": 4,
  "nbformat_minor": 0,
  "metadata": {
    "colab": {
      "name": "Kaggle Histopathologic Cancer Detection with Split.ipynb",
      "provenance": [],
      "collapsed_sections": [],
      "authorship_tag": "ABX9TyONXM6r8qYwJM0ibfPWegCh",
      "include_colab_link": true
    },
    "kernelspec": {
      "name": "python3",
      "display_name": "Python 3"
    },
    "language_info": {
      "name": "python"
    },
    "accelerator": "GPU"
  },
  "cells": [
    {
      "cell_type": "markdown",
      "metadata": {
        "id": "view-in-github",
        "colab_type": "text"
      },
      "source": [
        "<a href=\"https://colab.research.google.com/github/clyde2020/ML_Portfolio/blob/main/Kaggle_Histopathologic_Cancer_Detection.ipynb\" target=\"_parent\"><img src=\"https://colab.research.google.com/assets/colab-badge.svg\" alt=\"Open In Colab\"/></a>"
      ]
    },
    {
      "cell_type": "code",
      "metadata": {
        "id": "FWddduZzMLCf",
        "colab": {
          "base_uri": "https://localhost:8080/"
        },
        "outputId": "f009afc1-843f-441d-ed68-16d5743a8885"
      },
      "source": [
        "import pandas as pd\n",
        "import numpy as np\n",
        "import os\n",
        "import shutil\n",
        "from shutil import copyfile\n",
        "from tensorflow.keras.preprocessing.image import ImageDataGenerator\n",
        "import tensorflow as tf\n",
        "from tensorflow.keras.optimizers import RMSprop, Adam\n",
        "import matplotlib.pyplot as plt\n",
        "import random\n",
        "!pip install keras-tuner -q\n",
        "from keras_tuner import RandomSearch\n",
        "from keras.callbacks import ModelCheckpoint, EarlyStopping\n",
        "from keras.models import load_model\n",
        "#from sklearn.model_selection import RandomizedSearchCV\n",
        "\n",
        "from google.colab import drive\n",
        "drive.mount('/content/gdrive')"
      ],
      "execution_count": 1,
      "outputs": [
        {
          "output_type": "stream",
          "name": "stdout",
          "text": [
            "\u001b[?25l\r\u001b[K     |███▍                            | 10 kB 30.6 MB/s eta 0:00:01\r\u001b[K     |██████▊                         | 20 kB 31.8 MB/s eta 0:00:01\r\u001b[K     |██████████                      | 30 kB 36.8 MB/s eta 0:00:01\r\u001b[K     |█████████████▍                  | 40 kB 29.3 MB/s eta 0:00:01\r\u001b[K     |████████████████▊               | 51 kB 17.2 MB/s eta 0:00:01\r\u001b[K     |████████████████████            | 61 kB 14.5 MB/s eta 0:00:01\r\u001b[K     |███████████████████████▍        | 71 kB 13.7 MB/s eta 0:00:01\r\u001b[K     |██████████████████████████▊     | 81 kB 15.0 MB/s eta 0:00:01\r\u001b[K     |██████████████████████████████  | 92 kB 16.3 MB/s eta 0:00:01\r\u001b[K     |████████████████████████████████| 98 kB 6.1 MB/s \n",
            "\u001b[?25hMounted at /content/gdrive\n"
          ]
        }
      ]
    },
    {
      "cell_type": "markdown",
      "metadata": {
        "id": "Zm5Auo_GuNn3"
      },
      "source": [
        "To set source folders before splitting"
      ]
    },
    {
      "cell_type": "code",
      "metadata": {
        "id": "FcHmpliouFjG"
      },
      "source": [
        "#source_small_folder = '/content/gdrive/MyDrive/Histopath/small_set'\n",
        "#source_large_folder = '/content/gdrive/MyDrive/Histopath/large_set'\n",
        "#source_grid_folder = '/content/gdrive/MyDrive/Histopath/grid_set'\n",
        "\n",
        "#print(len(os.listdir(source_small_folder)))\n",
        "#print(len(os.listdir(source_large_folder)))\n",
        "#print(len(os.listdir(source_grid_folder)))"
      ],
      "execution_count": null,
      "outputs": []
    },
    {
      "cell_type": "markdown",
      "metadata": {
        "id": "TNEX1tDP1_6V"
      },
      "source": [
        "Read in the labels"
      ]
    },
    {
      "cell_type": "code",
      "metadata": {
        "id": "jRAqy2RZMOd3",
        "colab": {
          "base_uri": "https://localhost:8080/"
        },
        "outputId": "6efeeeeb-22ab-4655-9545-f74fc3c88e4e"
      },
      "source": [
        "df = pd.read_csv('/content/gdrive/MyDrive/Histopath/train_labels.csv')\n",
        "print(len(df.id))\n",
        "\n",
        "picdict = dict(zip(df['id'], df['label']))"
      ],
      "execution_count": 2,
      "outputs": [
        {
          "output_type": "stream",
          "name": "stdout",
          "text": [
            "220025\n"
          ]
        }
      ]
    },
    {
      "cell_type": "markdown",
      "metadata": {
        "id": "zFOJukYV3TO1"
      },
      "source": [
        "Set data folder variables"
      ]
    },
    {
      "cell_type": "code",
      "metadata": {
        "id": "vphGaDh-v6Yw"
      },
      "source": [
        "# Update these variables according to the dataset to use\n",
        "train_comp = '/content/gdrive/MyDrive/Histopath/Grid/Train'\n",
        "valid_comp = '/content/gdrive/MyDrive/Histopath/Grid/Valid'\n",
        "benign_train_comp = '/content/gdrive/MyDrive/Histopath/Grid/Train/Benign'\n",
        "benign_valid_comp = '/content/gdrive/MyDrive/Histopath/Grid/Valid/Benign'\n",
        "mal_train_comp = '/content/gdrive/MyDrive/Histopath/Grid/Train/Malignant'\n",
        "mal_valid_comp = '/content/gdrive/MyDrive/Histopath/Grid/Valid/Malignant'"
      ],
      "execution_count": 3,
      "outputs": []
    },
    {
      "cell_type": "markdown",
      "metadata": {
        "id": "IEJ9Uh6O2IS6"
      },
      "source": [
        "Folder creation before split data"
      ]
    },
    {
      "cell_type": "code",
      "metadata": {
        "id": "UKf1M2BrMsAJ"
      },
      "source": [
        "#os.mkdir('/content/Lymph')\n",
        "#os.mkdir('/content/Lymph/Train')\n",
        "#os.mkdir('/content/Lymph/Valid')\n",
        "#os.mkdir('/content/Lymph/Train/Benign')\n",
        "#os.mkdir('/content/Lymph/Train/Malignant')\n",
        "#os.mkdir('/content/Lymph/Valid/Benign')\n",
        "#os.mkdir('/content/Lymph/Valid/Malignant')\n",
        "\n",
        "\n",
        "#train_folder = '/content/Lymph/Train'\n",
        "#valid_folder = '/content/Lymph/Valid'\n",
        "#benign_train = '/content/Lymph/Train/Benign'\n",
        "#benign_valid = '/content/Lymph/Valid/Benign'\n",
        "#mal_train = '/content/Lymph/Train/Malignant'\n",
        "#mal_valid = '/content/Lymph/Valid/Malignant'\n",
        "\n"
      ],
      "execution_count": null,
      "outputs": []
    },
    {
      "cell_type": "markdown",
      "metadata": {
        "id": "SY1QJ6W339cg"
      },
      "source": [
        "Shuffle the data and set up lists before split data"
      ]
    },
    {
      "cell_type": "code",
      "metadata": {
        "colab": {
          "base_uri": "https://localhost:8080/"
        },
        "id": "aX4qm17Bm_hO",
        "outputId": "c07a4494-9930-4514-a6d9-acadc022ed46"
      },
      "source": [
        "#shuffled_small = random.sample(os.listdir(source_small_folder), len(os.listdir(source_small_folder)))\n",
        "#shuffled_large = random.sample(os.listdir(source_large_folder), len(os.listdir(source_large_folder)))\n",
        "#shuffled_grid = random.sample(os.listdir(source_grid_folder), len(os.listdir(source_grid_folder)))\n",
        "\n",
        "#valid_number = 800  #This value must be updated according to the dataset\n",
        "#valid_list = shuffled_small[:valid_number]\n",
        "#train_list = shuffled_small[valid_number:]\n",
        "\n",
        "#print(train_list[0:5])\n",
        "#print(len(train_list))"
      ],
      "execution_count": null,
      "outputs": [
        {
          "output_type": "stream",
          "name": "stdout",
          "text": [
            "['1a698cf2fdbb3a048ec8ccf652063659857f4c55.tif', '1df13f7879cc3c023b3b1f0084ac8e3a003e415e.tif', '1a1a7b0ec4f4860f1a556c6fe1bb25da0f54d216.tif', '1a1d5195a7b796d3c4a66ce273ec6d3f42cb7094.tif', '1bb5fd5e86d6d90f494e0d8f8c8be7752caa3ba5.tif']\n",
            "3544\n"
          ]
        }
      ]
    },
    {
      "cell_type": "markdown",
      "metadata": {
        "id": "0yfZhHyw4f3p"
      },
      "source": [
        "This function splits the dataset into malignant and benign"
      ]
    },
    {
      "cell_type": "code",
      "metadata": {
        "id": "swhsUAPlNieq"
      },
      "source": [
        "def split_data(LIST, SOURCE, MAL_FOLDER, BENIGN_FOLDER):\n",
        "  for fname in LIST:\n",
        "    origin = os.path.join(SOURCE, fname)\n",
        "    name = os.path.splitext(os.path.basename(fname))[0]\n",
        "    if os.path.getsize(origin) > 1:\n",
        "      if picdict[name] == 0:\n",
        "        shutil.copy(origin, BENIGN_FOLDER)\n",
        "      else:\n",
        "        shutil.copy(origin, MAL_FOLDER)"
      ],
      "execution_count": null,
      "outputs": []
    },
    {
      "cell_type": "code",
      "metadata": {
        "id": "fxNnmnWaqBWV"
      },
      "source": [
        "#os.mkdir('/content/gdrive/MyDrive/Histopath/Small')\n",
        "#os.mkdir('/content/gdrive/MyDrive/Histopath/Small/Train')\n",
        "#os.mkdir('/content/gdrive/MyDrive/Histopath/Small/Valid')\n",
        "#os.mkdir('/content/gdrive/MyDrive/Histopath/Small/Train/Benign')\n",
        "#os.mkdir('/content/gdrive/MyDrive/Histopath/Small/Valid/Benign')\n",
        "#os.mkdir('/content/gdrive/MyDrive/Histopath/Small/Train/Malignant')\n",
        "#os.mkdir('/content/gdrive/MyDrive/Histopath/Small/Valid/Malignant')"
      ],
      "execution_count": null,
      "outputs": []
    },
    {
      "cell_type": "code",
      "metadata": {
        "id": "LK55HVDWdGOL"
      },
      "source": [
        "#split_data(valid_list, source_small_folder, mal_valid_comp, benign_valid_comp)\n",
        "#split_data(train_list, source_small_folder, mal_train_comp, benign_train_comp)"
      ],
      "execution_count": null,
      "outputs": []
    },
    {
      "cell_type": "markdown",
      "metadata": {
        "id": "ABRWo8XJKW8M"
      },
      "source": [
        "Code for moving the data instead of copying (only used once)"
      ]
    },
    {
      "cell_type": "code",
      "metadata": {
        "id": "tArBYj2spQq1"
      },
      "source": [
        "def move_data(LIST, SOURCE, DESTINATION):\n",
        "  for fname in LIST:\n",
        "    origin = os.path.join(SOURCE, fname)\n",
        "    shutil.copy(origin, DESTINATION)"
      ],
      "execution_count": null,
      "outputs": []
    },
    {
      "cell_type": "code",
      "metadata": {
        "id": "E37S5W_qqwaE"
      },
      "source": [
        "train_benign_list = os.listdir(benign_train)\n",
        "train_mal_list = os.listdir(mal_train)\n",
        "valid_benign_list = os.listdir(benign_valid)\n",
        "valid_mal_list = os.listdir(mal_valid)"
      ],
      "execution_count": null,
      "outputs": []
    },
    {
      "cell_type": "code",
      "metadata": {
        "id": "lSK02HBaxf4W"
      },
      "source": [
        "move_data(train_benign_list, benign_train, benign_train_comp)"
      ],
      "execution_count": null,
      "outputs": []
    },
    {
      "cell_type": "code",
      "metadata": {
        "id": "GctPk6pHyRw3"
      },
      "source": [
        "move_data(train_mal_list, mal_train, mal_train_comp)\n",
        "move_data(valid_benign_list, benign_valid, benign_valid_comp)\n",
        "move_data(valid_mal_list, mal_valid, mal_valid_comp)"
      ],
      "execution_count": null,
      "outputs": []
    },
    {
      "cell_type": "markdown",
      "metadata": {
        "id": "cPaIc3LSKlHD"
      },
      "source": [
        "Confirm we have the data in the correct spot"
      ]
    },
    {
      "cell_type": "code",
      "metadata": {
        "colab": {
          "base_uri": "https://localhost:8080/"
        },
        "id": "0H_2EDGvNtgq",
        "outputId": "cb628af7-abb0-47f3-f3e5-b7e63d36ffe9"
      },
      "source": [
        "print(len(os.listdir(benign_train_comp)))\n",
        "print(len(os.listdir(mal_train_comp)))\n",
        "print(len(os.listdir(benign_valid_comp)))\n",
        "print(len(os.listdir(mal_valid_comp)))"
      ],
      "execution_count": 4,
      "outputs": [
        {
          "output_type": "stream",
          "name": "stdout",
          "text": [
            "558\n",
            "351\n",
            "59\n",
            "41\n"
          ]
        }
      ]
    },
    {
      "cell_type": "markdown",
      "metadata": {
        "id": "DxH6v3Yq1SKx"
      },
      "source": [
        "Data Augmentation"
      ]
    },
    {
      "cell_type": "code",
      "metadata": {
        "colab": {
          "base_uri": "https://localhost:8080/"
        },
        "id": "0no8J-9nP_SB",
        "outputId": "4555eb13-3a84-4d8c-f40b-3f9513f85112"
      },
      "source": [
        "train_datagen = ImageDataGenerator(rescale=1/255.0,\n",
        "                                  rotation_range=45,\n",
        "                                  width_shift_range=0.2,\n",
        "                                  height_shift_range=0.2,\n",
        "                                  shear_range=0.2,\n",
        "                                  horizontal_flip=True,\n",
        "                                  fill_mode='nearest')\n",
        "\n",
        "train_generator = train_datagen.flow_from_directory(\n",
        "    train_comp,\n",
        "    target_size=(96, 96),\n",
        "    batch_size=32,\n",
        "    class_mode='binary')\n",
        "\n",
        "validation_datagen = ImageDataGenerator(rescale=1/255.0)  \n",
        "\n",
        "validation_generator = validation_datagen.flow_from_directory(\n",
        "    valid_comp,\n",
        "    target_size=(96, 96),\n",
        "    batch_size=32,\n",
        "    class_mode='binary') "
      ],
      "execution_count": 5,
      "outputs": [
        {
          "output_type": "stream",
          "name": "stdout",
          "text": [
            "Found 909 images belonging to 2 classes.\n",
            "Found 100 images belonging to 2 classes.\n"
          ]
        }
      ]
    },
    {
      "cell_type": "markdown",
      "metadata": {
        "id": "QxP5fjKXl9rX"
      },
      "source": [
        "Model with LR scheduler, only for small set"
      ]
    },
    {
      "cell_type": "code",
      "metadata": {
        "id": "0WYbYz_qRla0"
      },
      "source": [
        "model = tf.keras.models.Sequential([\n",
        "    tf.keras.layers.Conv2D(96, 3, input_shape=(96, 96, 3), activation='relu'),\n",
        "    tf.keras.layers.MaxPooling2D(2),\n",
        "    tf.keras.layers.Conv2D(160, 3, activation='relu'),\n",
        "    tf.keras.layers.MaxPooling2D(2),\n",
        "    tf.keras.layers.Conv2D(224, 3, activation='relu'),\n",
        "    tf.keras.layers.MaxPooling2D(2),\n",
        "                          \n",
        "    tf.keras.layers.Flatten(),\n",
        "    tf.keras.layers.Dense(1000, activation='relu'),\n",
        "    tf.keras.layers.Dense(1, activation='sigmoid')\n",
        "])\n",
        "\n",
        "lr_schedule = tf.keras.callbacks.LearningRateScheduler(\n",
        "    lambda epoch: 1e-5 * 10**(epoch / 5))\n",
        "#optimizer = tf.keras.optimizers.Adam(learning_rate=1e-7)\n",
        "#model.compile(loss=tf.keras.losses.Huber(),\n",
        "#              optimizer=optimizer,\n",
        "#              metrics=[\"mae\"])\n",
        "\n",
        "\n",
        "model.compile(optimizer=Adam(learning_rate=1e-5), loss='binary_crossentropy', metrics=['acc'])\n",
        "\n",
        "model.summary()"
      ],
      "execution_count": null,
      "outputs": []
    },
    {
      "cell_type": "code",
      "metadata": {
        "id": "hMuql2x7R_IJ"
      },
      "source": [
        "history = model.fit(train_generator,\n",
        "                    epochs=20,\n",
        "                    verbose=1,\n",
        "                    callbacks=[lr_schedule],\n",
        "                    validation_data=validation_generator)"
      ],
      "execution_count": null,
      "outputs": []
    },
    {
      "cell_type": "code",
      "metadata": {
        "colab": {
          "base_uri": "https://localhost:8080/",
          "height": 290
        },
        "id": "LbTq-SEASVFW",
        "outputId": "9c852b73-bdec-478a-9539-c70ff7866c1d"
      },
      "source": [
        "plt.semilogx(history.history[\"lr\"], history.history[\"loss\"])\n",
        "plt.axis([1e-5, 1e-1, 0, 1])"
      ],
      "execution_count": null,
      "outputs": [
        {
          "output_type": "execute_result",
          "data": {
            "text/plain": [
              "(1e-05, 0.1, 0.0, 1.0)"
            ]
          },
          "metadata": {},
          "execution_count": 56
        },
        {
          "output_type": "display_data",
          "data": {
            "image/png": "[encoded data removed]",
            "text/plain": [
              "<Figure size 432x288 with 1 Axes>"
            ]
          },
          "metadata": {
            "needs_background": "light"
          }
        }
      ]
    },
    {
      "cell_type": "markdown",
      "metadata": {
        "id": "-ISCFPkavYNP"
      },
      "source": [
        "Use Keras Tuner to get best model hyperparameters"
      ]
    },
    {
      "cell_type": "code",
      "metadata": {
        "id": "GqBYJAt2-HNS"
      },
      "source": [
        "tf.keras.backend.clear_session()\n",
        "tf.random.set_seed(51)\n",
        "\n",
        "def build_model(hp):\n",
        "  model = tf.keras.models.Sequential([\n",
        "      tf.keras.layers.Conv2D(filters=hp.Choice('filters1',\n",
        "                             values=[96, 128, 160, 192]), \n",
        "                             kernel_size=3, \n",
        "                             input_shape=(96, 96, 3), \n",
        "                             activation='relu'),\n",
        "      tf.keras.layers.MaxPooling2D(2),\n",
        "      tf.keras.layers.Conv2D(filters=hp.Choice('filters2',\n",
        "                             values=[160, 192, 224, 256]), \n",
        "                             kernel_size=3, activation='relu'),\n",
        "      tf.keras.layers.MaxPooling2D(2),\n",
        "      tf.keras.layers.Conv2D(filters=hp.Choice('filters3',\n",
        "                             values=[160, 192, 224, 256, 288, 320]), \n",
        "                             kernel_size=3, activation='relu'),\n",
        "      tf.keras.layers.MaxPooling2D(2),\n",
        "                            \n",
        "      tf.keras.layers.Flatten(),\n",
        "      tf.keras.layers.Dense(units=hp.Choice('units',\n",
        "                            values=[800, 1000, 2000, 4000]), activation='relu'),\n",
        "      tf.keras.layers.Dropout(0.2),\n",
        "      tf.keras.layers.Dense(1, activation='sigmoid')\n",
        "  ])\n",
        "\n",
        "  optimizer = tf.keras.optimizers.Adam(learning_rate=1e-4)\n",
        "\n",
        "  model.compile(optimizer=optimizer, loss='binary_crossentropy', metrics=['acc'])\n",
        "\n",
        "  return model"
      ],
      "execution_count": 6,
      "outputs": []
    },
    {
      "cell_type": "code",
      "metadata": {
        "id": "XiKCRTrW-2s6"
      },
      "source": [
        "tuner = RandomSearch(\n",
        "    build_model,\n",
        "    objective=\"acc\",\n",
        "    max_trials=12,\n",
        "    executions_per_trial=1,\n",
        "    overwrite=True,\n",
        "    #directory=\"keras_tuner_directory\",\n",
        "    project_name=\"Cancer_Detection\",\n",
        ")"
      ],
      "execution_count": 7,
      "outputs": []
    },
    {
      "cell_type": "code",
      "metadata": {
        "colab": {
          "base_uri": "https://localhost:8080/"
        },
        "id": "ngR6nS9uNoLj",
        "outputId": "06bbc944-b77b-4a4a-e38e-47fbd015b972"
      },
      "source": [
        "tuner.search_space_summary()"
      ],
      "execution_count": 8,
      "outputs": [
        {
          "output_type": "stream",
          "name": "stdout",
          "text": [
            "Search space summary\n",
            "Default search space size: 4\n",
            "filters1 (Choice)\n",
            "{'default': 96, 'conditions': [], 'values': [96, 128, 160, 192], 'ordered': True}\n",
            "filters2 (Choice)\n",
            "{'default': 160, 'conditions': [], 'values': [160, 192, 224, 256], 'ordered': True}\n",
            "filters3 (Choice)\n",
            "{'default': 160, 'conditions': [], 'values': [160, 192, 224, 256, 288, 320], 'ordered': True}\n",
            "units (Choice)\n",
            "{'default': 800, 'conditions': [], 'values': [800, 1000, 2000, 4000], 'ordered': True}\n"
          ]
        }
      ]
    },
    {
      "cell_type": "code",
      "metadata": {
        "colab": {
          "base_uri": "https://localhost:8080/"
        },
        "id": "OzASZyZnNpOt",
        "outputId": "e538a542-796e-4c89-fb64-2c6516be99c5"
      },
      "source": [
        "tuner.search(train_generator, epochs=120, validation_data=validation_generator)"
      ],
      "execution_count": 9,
      "outputs": [
        {
          "output_type": "stream",
          "name": "stdout",
          "text": [
            "Trial 12 Complete [00h 08m 42s]\n",
            "acc: 0.8580858111381531\n",
            "\n",
            "Best acc So Far: 0.8734873533248901\n",
            "Total elapsed time: 01h 50m 59s\n",
            "INFO:tensorflow:Oracle triggered exit\n"
          ]
        }
      ]
    },
    {
      "cell_type": "code",
      "metadata": {
        "colab": {
          "base_uri": "https://localhost:8080/"
        },
        "id": "gySDscRdL23Y",
        "outputId": "df0732c0-d1f1-4359-fa50-51c869778f0f"
      },
      "source": [
        "tuner.results_summary(6)"
      ],
      "execution_count": 10,
      "outputs": [
        {
          "output_type": "stream",
          "name": "stdout",
          "text": [
            "Results summary\n",
            "Results in ./Cancer_Detection\n",
            "Showing 6 best trials\n",
            "Objective(name='acc', direction='max')\n",
            "Trial summary\n",
            "Hyperparameters:\n",
            "filters1: 160\n",
            "filters2: 224\n",
            "filters3: 160\n",
            "units: 2000\n",
            "Score: 0.8734873533248901\n",
            "Trial summary\n",
            "Hyperparameters:\n",
            "filters1: 192\n",
            "filters2: 192\n",
            "filters3: 160\n",
            "units: 4000\n",
            "Score: 0.8701870441436768\n",
            "Trial summary\n",
            "Hyperparameters:\n",
            "filters1: 192\n",
            "filters2: 160\n",
            "filters3: 224\n",
            "units: 4000\n",
            "Score: 0.8690869212150574\n",
            "Trial summary\n",
            "Hyperparameters:\n",
            "filters1: 192\n",
            "filters2: 256\n",
            "filters3: 288\n",
            "units: 1000\n",
            "Score: 0.8635863661766052\n",
            "Trial summary\n",
            "Hyperparameters:\n",
            "filters1: 160\n",
            "filters2: 160\n",
            "filters3: 224\n",
            "units: 4000\n",
            "Score: 0.8635863661766052\n",
            "Trial summary\n",
            "Hyperparameters:\n",
            "filters1: 192\n",
            "filters2: 256\n",
            "filters3: 256\n",
            "units: 2000\n",
            "Score: 0.8624862432479858\n"
          ]
        }
      ]
    },
    {
      "cell_type": "markdown",
      "metadata": {
        "id": "0iV2MMxDmeS0"
      },
      "source": [
        "Model with callbacks, for large set"
      ]
    },
    {
      "cell_type": "code",
      "metadata": {
        "colab": {
          "base_uri": "https://localhost:8080/"
        },
        "id": "ZLL0ALXSVLGk",
        "outputId": "d895b653-8e86-4df4-d2ce-5ea663eef8cc"
      },
      "source": [
        "model = tf.keras.models.Sequential([\n",
        "    tf.keras.layers.Conv2D(96, 3, input_shape=(96, 96, 3), activation='relu'),\n",
        "    tf.keras.layers.MaxPooling2D(2),\n",
        "    tf.keras.layers.Conv2D(160, 3, activation='relu'),\n",
        "    tf.keras.layers.MaxPooling2D(2),\n",
        "    tf.keras.layers.Conv2D(224, 3, activation='relu'),\n",
        "    tf.keras.layers.MaxPooling2D(2),\n",
        "                          \n",
        "    tf.keras.layers.Flatten(),\n",
        "    tf.keras.layers.Dense(1000, activation='relu'),\n",
        "    tf.keras.layers.Dense(1, activation='sigmoid')\n",
        "])\n",
        "\n",
        "model.compile(optimizer=Adam(learning_rate=1e-4), loss='binary_crossentropy', metrics=['acc'])\n",
        "\n",
        "es = EarlyStopping(monitor='acc', min_delta=0.01, patience=30,\n",
        "                   verbose=1, mode='auto')\n",
        "mc = ModelCheckpoint(monitor='acc', filepath='./bestmodel.h5', \n",
        "                     verbose=1, save_best_only=True, mode='auto')\n",
        "\n",
        "cd = [es, mc]\n",
        "history = model.fit(train_generator,\n",
        "                    epochs=500,\n",
        "                    verbose=1,\n",
        "                    validation_data=validation_generator,\n",
        "                    callbacks=cd)"
      ],
      "execution_count": null,
      "outputs": [
        {
          "output_type": "stream",
          "name": "stdout",
          "text": [
            "Epoch 1/500\n",
            "450/450 [==============================] - ETA: 0s - loss: 0.5233 - acc: 0.7433\n",
            "Epoch 00001: acc improved from -inf to 0.74334, saving model to ./bestmodel.h5\n",
            "450/450 [==============================] - 90s 132ms/step - loss: 0.5233 - acc: 0.7433 - val_loss: 0.4607 - val_acc: 0.7835\n",
            "Epoch 2/500\n",
            "450/450 [==============================] - ETA: 0s - loss: 0.4758 - acc: 0.7797\n",
            "Epoch 00002: acc improved from 0.74334 to 0.77966, saving model to ./bestmodel.h5\n",
            "450/450 [==============================] - 59s 130ms/step - loss: 0.4758 - acc: 0.7797 - val_loss: 0.5085 - val_acc: 0.7620\n",
            "Epoch 3/500\n",
            "450/450 [==============================] - ETA: 0s - loss: 0.4630 - acc: 0.7896\n",
            "Epoch 00003: acc improved from 0.77966 to 0.78961, saving model to ./bestmodel.h5\n",
            "450/450 [==============================] - 58s 129ms/step - loss: 0.4630 - acc: 0.7896 - val_loss: 0.5464 - val_acc: 0.7625\n",
            "Epoch 4/500\n",
            "450/450 [==============================] - ETA: 0s - loss: 0.4509 - acc: 0.7938\n",
            "Epoch 00004: acc improved from 0.78961 to 0.79378, saving model to ./bestmodel.h5\n",
            "450/450 [==============================] - 58s 129ms/step - loss: 0.4509 - acc: 0.7938 - val_loss: 0.6142 - val_acc: 0.7480\n",
            "Epoch 5/500\n",
            "450/450 [==============================] - ETA: 0s - loss: 0.4427 - acc: 0.8011\n",
            "Epoch 00005: acc improved from 0.79378 to 0.80109, saving model to ./bestmodel.h5\n",
            "450/450 [==============================] - 58s 129ms/step - loss: 0.4427 - acc: 0.8011 - val_loss: 0.5036 - val_acc: 0.7840\n",
            "Epoch 6/500\n",
            "450/450 [==============================] - ETA: 0s - loss: 0.4290 - acc: 0.8063\n",
            "Epoch 00006: acc improved from 0.80109 to 0.80630, saving model to ./bestmodel.h5\n",
            "450/450 [==============================] - 58s 129ms/step - loss: 0.4290 - acc: 0.8063 - val_loss: 0.7167 - val_acc: 0.7090\n",
            "Epoch 7/500\n",
            "450/450 [==============================] - ETA: 0s - loss: 0.4236 - acc: 0.8089\n",
            "Epoch 00007: acc improved from 0.80630 to 0.80895, saving model to ./bestmodel.h5\n",
            "450/450 [==============================] - 59s 131ms/step - loss: 0.4236 - acc: 0.8089 - val_loss: 0.6009 - val_acc: 0.7740\n",
            "Epoch 8/500\n",
            "450/450 [==============================] - ETA: 0s - loss: 0.4126 - acc: 0.8143\n",
            "Epoch 00008: acc improved from 0.80895 to 0.81430, saving model to ./bestmodel.h5\n",
            "450/450 [==============================] - 58s 129ms/step - loss: 0.4126 - acc: 0.8143 - val_loss: 0.4667 - val_acc: 0.7955\n",
            "Epoch 9/500\n",
            "450/450 [==============================] - ETA: 0s - loss: 0.4006 - acc: 0.8206\n",
            "Epoch 00009: acc improved from 0.81430 to 0.82064, saving model to ./bestmodel.h5\n",
            "450/450 [==============================] - 58s 129ms/step - loss: 0.4006 - acc: 0.8206 - val_loss: 0.4951 - val_acc: 0.7920\n",
            "Epoch 10/500\n",
            "450/450 [==============================] - ETA: 0s - loss: 0.3922 - acc: 0.8257\n",
            "Epoch 00010: acc improved from 0.82064 to 0.82571, saving model to ./bestmodel.h5\n",
            "450/450 [==============================] - 58s 129ms/step - loss: 0.3922 - acc: 0.8257 - val_loss: 0.5153 - val_acc: 0.7805\n",
            "Epoch 11/500\n",
            "450/450 [==============================] - ETA: 0s - loss: 0.3798 - acc: 0.8328\n",
            "Epoch 00011: acc improved from 0.82571 to 0.83281, saving model to ./bestmodel.h5\n",
            "450/450 [==============================] - 58s 129ms/step - loss: 0.3798 - acc: 0.8328 - val_loss: 0.5178 - val_acc: 0.7790\n",
            "Epoch 12/500\n",
            "450/450 [==============================] - ETA: 0s - loss: 0.3712 - acc: 0.8368\n",
            "Epoch 00012: acc improved from 0.83281 to 0.83678, saving model to ./bestmodel.h5\n",
            "450/450 [==============================] - 58s 129ms/step - loss: 0.3712 - acc: 0.8368 - val_loss: 0.5361 - val_acc: 0.7750\n",
            "Epoch 13/500\n",
            "450/450 [==============================] - ETA: 0s - loss: 0.3711 - acc: 0.8364\n",
            "Epoch 00013: acc did not improve from 0.83678\n",
            "450/450 [==============================] - 58s 128ms/step - loss: 0.3711 - acc: 0.8364 - val_loss: 0.4289 - val_acc: 0.8150\n",
            "Epoch 14/500\n",
            "450/450 [==============================] - ETA: 0s - loss: 0.3591 - acc: 0.8405\n",
            "Epoch 00014: acc improved from 0.83678 to 0.84046, saving model to ./bestmodel.h5\n",
            "450/450 [==============================] - 58s 130ms/step - loss: 0.3591 - acc: 0.8405 - val_loss: 0.5133 - val_acc: 0.8010\n",
            "Epoch 15/500\n",
            "450/450 [==============================] - ETA: 0s - loss: 0.3546 - acc: 0.8455\n",
            "Epoch 00015: acc improved from 0.84046 to 0.84547, saving model to ./bestmodel.h5\n",
            "450/450 [==============================] - 58s 130ms/step - loss: 0.3546 - acc: 0.8455 - val_loss: 0.3713 - val_acc: 0.8415\n",
            "Epoch 16/500\n",
            "450/450 [==============================] - ETA: 0s - loss: 0.3509 - acc: 0.8464\n",
            "Epoch 00016: acc improved from 0.84547 to 0.84638, saving model to ./bestmodel.h5\n",
            "450/450 [==============================] - 58s 130ms/step - loss: 0.3509 - acc: 0.8464 - val_loss: 0.3582 - val_acc: 0.8450\n",
            "Epoch 17/500\n",
            "450/450 [==============================] - ETA: 0s - loss: 0.3437 - acc: 0.8472\n",
            "Epoch 00017: acc improved from 0.84638 to 0.84721, saving model to ./bestmodel.h5\n",
            "450/450 [==============================] - 58s 129ms/step - loss: 0.3437 - acc: 0.8472 - val_loss: 0.4479 - val_acc: 0.8175\n",
            "Epoch 18/500\n",
            "450/450 [==============================] - ETA: 0s - loss: 0.3342 - acc: 0.8559\n",
            "Epoch 00018: acc improved from 0.84721 to 0.85591, saving model to ./bestmodel.h5\n",
            "450/450 [==============================] - 58s 130ms/step - loss: 0.3342 - acc: 0.8559 - val_loss: 0.5616 - val_acc: 0.7685\n",
            "Epoch 19/500\n",
            "450/450 [==============================] - ETA: 0s - loss: 0.3305 - acc: 0.8571\n",
            "Epoch 00019: acc improved from 0.85591 to 0.85709, saving model to ./bestmodel.h5\n",
            "450/450 [==============================] - 59s 131ms/step - loss: 0.3305 - acc: 0.8571 - val_loss: 0.4760 - val_acc: 0.8190\n",
            "Epoch 20/500\n",
            "450/450 [==============================] - ETA: 0s - loss: 0.3274 - acc: 0.8590\n",
            "Epoch 00020: acc improved from 0.85709 to 0.85897, saving model to ./bestmodel.h5\n",
            "450/450 [==============================] - 58s 130ms/step - loss: 0.3274 - acc: 0.8590 - val_loss: 0.3702 - val_acc: 0.8475\n",
            "Epoch 21/500\n",
            "450/450 [==============================] - ETA: 0s - loss: 0.3252 - acc: 0.8604\n",
            "Epoch 00021: acc improved from 0.85897 to 0.86043, saving model to ./bestmodel.h5\n",
            "450/450 [==============================] - 58s 129ms/step - loss: 0.3252 - acc: 0.8604 - val_loss: 0.3550 - val_acc: 0.8545\n",
            "Epoch 22/500\n",
            "450/450 [==============================] - ETA: 0s - loss: 0.3140 - acc: 0.8643\n",
            "Epoch 00022: acc improved from 0.86043 to 0.86433, saving model to ./bestmodel.h5\n",
            "450/450 [==============================] - 58s 129ms/step - loss: 0.3140 - acc: 0.8643 - val_loss: 0.3994 - val_acc: 0.8305\n",
            "Epoch 23/500\n",
            "450/450 [==============================] - ETA: 0s - loss: 0.3150 - acc: 0.8653\n",
            "Epoch 00023: acc improved from 0.86433 to 0.86530, saving model to ./bestmodel.h5\n",
            "450/450 [==============================] - 59s 131ms/step - loss: 0.3150 - acc: 0.8653 - val_loss: 0.3876 - val_acc: 0.8360\n",
            "Epoch 24/500\n",
            "450/450 [==============================] - ETA: 0s - loss: 0.3105 - acc: 0.8669\n",
            "Epoch 00024: acc improved from 0.86530 to 0.86690, saving model to ./bestmodel.h5\n",
            "450/450 [==============================] - 58s 130ms/step - loss: 0.3105 - acc: 0.8669 - val_loss: 0.4378 - val_acc: 0.8115\n",
            "Epoch 25/500\n",
            "450/450 [==============================] - ETA: 0s - loss: 0.3086 - acc: 0.8689\n",
            "Epoch 00025: acc improved from 0.86690 to 0.86892, saving model to ./bestmodel.h5\n",
            "450/450 [==============================] - 58s 129ms/step - loss: 0.3086 - acc: 0.8689 - val_loss: 0.5088 - val_acc: 0.8065\n",
            "Epoch 26/500\n",
            "450/450 [==============================] - ETA: 0s - loss: 0.3061 - acc: 0.8699\n",
            "Epoch 00026: acc improved from 0.86892 to 0.86989, saving model to ./bestmodel.h5\n",
            "450/450 [==============================] - 58s 130ms/step - loss: 0.3061 - acc: 0.8699 - val_loss: 0.3143 - val_acc: 0.8750\n",
            "Epoch 27/500\n",
            "450/450 [==============================] - ETA: 0s - loss: 0.3025 - acc: 0.8705\n",
            "Epoch 00027: acc improved from 0.86989 to 0.87045, saving model to ./bestmodel.h5\n",
            "450/450 [==============================] - 58s 129ms/step - loss: 0.3025 - acc: 0.8705 - val_loss: 0.5217 - val_acc: 0.7875\n",
            "Epoch 28/500\n",
            "450/450 [==============================] - ETA: 0s - loss: 0.3013 - acc: 0.8719\n",
            "Epoch 00028: acc improved from 0.87045 to 0.87191, saving model to ./bestmodel.h5\n",
            "450/450 [==============================] - 59s 130ms/step - loss: 0.3013 - acc: 0.8719 - val_loss: 0.3955 - val_acc: 0.8440\n",
            "Epoch 29/500\n",
            "450/450 [==============================] - ETA: 0s - loss: 0.2950 - acc: 0.8767\n",
            "Epoch 00029: acc improved from 0.87191 to 0.87671, saving model to ./bestmodel.h5\n",
            "450/450 [==============================] - 59s 130ms/step - loss: 0.2950 - acc: 0.8767 - val_loss: 0.3320 - val_acc: 0.8605\n",
            "Epoch 30/500\n",
            "450/450 [==============================] - ETA: 0s - loss: 0.2931 - acc: 0.8766\n",
            "Epoch 00030: acc did not improve from 0.87671\n",
            "450/450 [==============================] - 58s 129ms/step - loss: 0.2931 - acc: 0.8766 - val_loss: 0.3757 - val_acc: 0.8555\n",
            "Epoch 31/500\n",
            "450/450 [==============================] - ETA: 0s - loss: 0.2837 - acc: 0.8805\n",
            "Epoch 00031: acc improved from 0.87671 to 0.88047, saving model to ./bestmodel.h5\n",
            "450/450 [==============================] - 59s 130ms/step - loss: 0.2837 - acc: 0.8805 - val_loss: 0.4231 - val_acc: 0.8300\n",
            "Epoch 32/500\n",
            "450/450 [==============================] - ETA: 0s - loss: 0.2784 - acc: 0.8799\n",
            "Epoch 00032: acc did not improve from 0.88047\n",
            "450/450 [==============================] - 58s 128ms/step - loss: 0.2784 - acc: 0.8799 - val_loss: 0.3229 - val_acc: 0.8730\n",
            "Epoch 33/500\n",
            "450/450 [==============================] - ETA: 0s - loss: 0.2813 - acc: 0.8825\n",
            "Epoch 00033: acc improved from 0.88047 to 0.88249, saving model to ./bestmodel.h5\n",
            "450/450 [==============================] - 59s 130ms/step - loss: 0.2813 - acc: 0.8825 - val_loss: 0.5172 - val_acc: 0.8065\n",
            "Epoch 34/500\n",
            "450/450 [==============================] - ETA: 0s - loss: 0.2783 - acc: 0.8810\n",
            "Epoch 00034: acc did not improve from 0.88249\n",
            "450/450 [==============================] - 59s 130ms/step - loss: 0.2783 - acc: 0.8810 - val_loss: 0.5029 - val_acc: 0.8130\n",
            "Epoch 35/500\n",
            "450/450 [==============================] - ETA: 0s - loss: 0.2792 - acc: 0.8810\n",
            "Epoch 00035: acc did not improve from 0.88249\n",
            "450/450 [==============================] - 58s 129ms/step - loss: 0.2792 - acc: 0.8810 - val_loss: 0.3907 - val_acc: 0.8515\n",
            "Epoch 36/500\n",
            "450/450 [==============================] - ETA: 0s - loss: 0.2743 - acc: 0.8871\n",
            "Epoch 00036: acc improved from 0.88249 to 0.88708, saving model to ./bestmodel.h5\n",
            "450/450 [==============================] - 59s 130ms/step - loss: 0.2743 - acc: 0.8871 - val_loss: 0.6670 - val_acc: 0.7740\n",
            "Epoch 37/500\n",
            "450/450 [==============================] - ETA: 0s - loss: 0.2692 - acc: 0.8915\n",
            "Epoch 00037: acc improved from 0.88708 to 0.89153, saving model to ./bestmodel.h5\n",
            "450/450 [==============================] - 59s 130ms/step - loss: 0.2692 - acc: 0.8915 - val_loss: 0.4499 - val_acc: 0.8095\n",
            "Epoch 38/500\n",
            "450/450 [==============================] - ETA: 0s - loss: 0.2648 - acc: 0.8910\n",
            "Epoch 00038: acc did not improve from 0.89153\n",
            "450/450 [==============================] - 58s 129ms/step - loss: 0.2648 - acc: 0.8910 - val_loss: 0.3260 - val_acc: 0.8800\n",
            "Epoch 39/500\n",
            "450/450 [==============================] - ETA: 0s - loss: 0.2623 - acc: 0.8926\n",
            "Epoch 00039: acc improved from 0.89153 to 0.89265, saving model to ./bestmodel.h5\n",
            "450/450 [==============================] - 59s 131ms/step - loss: 0.2623 - acc: 0.8926 - val_loss: 0.4423 - val_acc: 0.8400\n",
            "Epoch 40/500\n",
            "450/450 [==============================] - ETA: 0s - loss: 0.2582 - acc: 0.8915\n",
            "Epoch 00040: acc did not improve from 0.89265\n",
            "450/450 [==============================] - 58s 129ms/step - loss: 0.2582 - acc: 0.8915 - val_loss: 0.3894 - val_acc: 0.8435\n",
            "Epoch 41/500\n",
            "450/450 [==============================] - ETA: 0s - loss: 0.2603 - acc: 0.8919\n",
            "Epoch 00041: acc did not improve from 0.89265\n",
            "450/450 [==============================] - 58s 129ms/step - loss: 0.2603 - acc: 0.8919 - val_loss: 0.4254 - val_acc: 0.8430\n",
            "Epoch 42/500\n",
            "450/450 [==============================] - ETA: 0s - loss: 0.2590 - acc: 0.8907\n",
            "Epoch 00042: acc did not improve from 0.89265\n",
            "450/450 [==============================] - 58s 129ms/step - loss: 0.2590 - acc: 0.8907 - val_loss: 0.3817 - val_acc: 0.8540\n",
            "Epoch 43/500\n",
            "450/450 [==============================] - ETA: 0s - loss: 0.2535 - acc: 0.8971\n",
            "Epoch 00043: acc improved from 0.89265 to 0.89710, saving model to ./bestmodel.h5\n",
            "450/450 [==============================] - 58s 129ms/step - loss: 0.2535 - acc: 0.8971 - val_loss: 0.4539 - val_acc: 0.8225\n",
            "Epoch 44/500\n",
            "450/450 [==============================] - ETA: 0s - loss: 0.2503 - acc: 0.8973\n",
            "Epoch 00044: acc improved from 0.89710 to 0.89731, saving model to ./bestmodel.h5\n",
            "450/450 [==============================] - 58s 130ms/step - loss: 0.2503 - acc: 0.8973 - val_loss: 0.4769 - val_acc: 0.8160\n",
            "Epoch 45/500\n",
            "450/450 [==============================] - ETA: 0s - loss: 0.2520 - acc: 0.8940\n",
            "Epoch 00045: acc did not improve from 0.89731\n",
            "450/450 [==============================] - 58s 130ms/step - loss: 0.2520 - acc: 0.8940 - val_loss: 0.3849 - val_acc: 0.8495\n",
            "Epoch 46/500\n",
            "450/450 [==============================] - ETA: 0s - loss: 0.2483 - acc: 0.9015\n",
            "Epoch 00046: acc improved from 0.89731 to 0.90148, saving model to ./bestmodel.h5\n",
            "450/450 [==============================] - 59s 131ms/step - loss: 0.2483 - acc: 0.9015 - val_loss: 0.3692 - val_acc: 0.8625\n",
            "Epoch 47/500\n",
            "450/450 [==============================] - ETA: 0s - loss: 0.2488 - acc: 0.8940\n",
            "Epoch 00047: acc did not improve from 0.90148\n",
            "450/450 [==============================] - 58s 130ms/step - loss: 0.2488 - acc: 0.8940 - val_loss: 0.4554 - val_acc: 0.8215\n",
            "Epoch 48/500\n",
            "450/450 [==============================] - ETA: 0s - loss: 0.2411 - acc: 0.9011\n",
            "Epoch 00048: acc did not improve from 0.90148\n",
            "450/450 [==============================] - 58s 129ms/step - loss: 0.2411 - acc: 0.9011 - val_loss: 0.2966 - val_acc: 0.8915\n",
            "Epoch 49/500\n",
            "450/450 [==============================] - ETA: 0s - loss: 0.2380 - acc: 0.9025\n",
            "Epoch 00049: acc improved from 0.90148 to 0.90253, saving model to ./bestmodel.h5\n",
            "450/450 [==============================] - 59s 130ms/step - loss: 0.2380 - acc: 0.9025 - val_loss: 0.4521 - val_acc: 0.8330\n",
            "Epoch 50/500\n",
            "450/450 [==============================] - ETA: 0s - loss: 0.2422 - acc: 0.9011\n",
            "Epoch 00050: acc did not improve from 0.90253\n",
            "450/450 [==============================] - 58s 129ms/step - loss: 0.2422 - acc: 0.9011 - val_loss: 0.3097 - val_acc: 0.8810\n",
            "Epoch 51/500\n",
            "450/450 [==============================] - ETA: 0s - loss: 0.2386 - acc: 0.9053\n",
            "Epoch 00051: acc improved from 0.90253 to 0.90531, saving model to ./bestmodel.h5\n",
            "450/450 [==============================] - 58s 130ms/step - loss: 0.2386 - acc: 0.9053 - val_loss: 0.2636 - val_acc: 0.8905\n",
            "Epoch 52/500\n",
            "450/450 [==============================] - ETA: 0s - loss: 0.2316 - acc: 0.9044\n",
            "Epoch 00052: acc did not improve from 0.90531\n",
            "450/450 [==============================] - 58s 130ms/step - loss: 0.2316 - acc: 0.9044 - val_loss: 0.2870 - val_acc: 0.8920\n",
            "Epoch 53/500\n",
            "450/450 [==============================] - ETA: 0s - loss: 0.2337 - acc: 0.9045\n",
            "Epoch 00053: acc did not improve from 0.90531\n",
            "450/450 [==============================] - 58s 129ms/step - loss: 0.2337 - acc: 0.9045 - val_loss: 0.4201 - val_acc: 0.8495\n",
            "Epoch 54/500\n",
            "450/450 [==============================] - ETA: 0s - loss: 0.2326 - acc: 0.9043\n",
            "Epoch 00054: acc did not improve from 0.90531\n",
            "450/450 [==============================] - 59s 130ms/step - loss: 0.2326 - acc: 0.9043 - val_loss: 0.4726 - val_acc: 0.8330\n",
            "Epoch 55/500\n",
            "450/450 [==============================] - ETA: 0s - loss: 0.2289 - acc: 0.9073\n",
            "Epoch 00055: acc improved from 0.90531 to 0.90733, saving model to ./bestmodel.h5\n",
            "450/450 [==============================] - 59s 130ms/step - loss: 0.2289 - acc: 0.9073 - val_loss: 0.3844 - val_acc: 0.8530\n",
            "Epoch 56/500\n",
            "450/450 [==============================] - ETA: 0s - loss: 0.2292 - acc: 0.9079\n",
            "Epoch 00056: acc improved from 0.90733 to 0.90788, saving model to ./bestmodel.h5\n",
            "450/450 [==============================] - 58s 130ms/step - loss: 0.2292 - acc: 0.9079 - val_loss: 0.3487 - val_acc: 0.8715\n",
            "Epoch 57/500\n",
            "450/450 [==============================] - ETA: 0s - loss: 0.2220 - acc: 0.9114\n",
            "Epoch 00057: acc improved from 0.90788 to 0.91136, saving model to ./bestmodel.h5\n",
            "450/450 [==============================] - 58s 130ms/step - loss: 0.2220 - acc: 0.9114 - val_loss: 0.3112 - val_acc: 0.8845\n",
            "Epoch 58/500\n",
            "450/450 [==============================] - ETA: 0s - loss: 0.2295 - acc: 0.9084\n",
            "Epoch 00058: acc did not improve from 0.91136\n",
            "450/450 [==============================] - 58s 129ms/step - loss: 0.2295 - acc: 0.9084 - val_loss: 0.2911 - val_acc: 0.8880\n",
            "Epoch 59/500\n",
            "450/450 [==============================] - ETA: 0s - loss: 0.2268 - acc: 0.9066\n",
            "Epoch 00059: acc did not improve from 0.91136\n",
            "450/450 [==============================] - 58s 128ms/step - loss: 0.2268 - acc: 0.9066 - val_loss: 0.3669 - val_acc: 0.8670\n",
            "Epoch 60/500\n",
            "450/450 [==============================] - ETA: 0s - loss: 0.2293 - acc: 0.9086\n",
            "Epoch 00060: acc did not improve from 0.91136\n",
            "450/450 [==============================] - 58s 129ms/step - loss: 0.2293 - acc: 0.9086 - val_loss: 0.3256 - val_acc: 0.8680\n",
            "Epoch 61/500\n",
            "450/450 [==============================] - ETA: 0s - loss: 0.2144 - acc: 0.9133\n",
            "Epoch 00061: acc improved from 0.91136 to 0.91331, saving model to ./bestmodel.h5\n",
            "450/450 [==============================] - 59s 131ms/step - loss: 0.2144 - acc: 0.9133 - val_loss: 0.3238 - val_acc: 0.8835\n",
            "Epoch 62/500\n",
            "450/450 [==============================] - ETA: 0s - loss: 0.2149 - acc: 0.9113\n",
            "Epoch 00062: acc did not improve from 0.91331\n",
            "450/450 [==============================] - 58s 129ms/step - loss: 0.2149 - acc: 0.9113 - val_loss: 0.3167 - val_acc: 0.8790\n",
            "Epoch 63/500\n",
            "450/450 [==============================] - ETA: 0s - loss: 0.2153 - acc: 0.9134\n",
            "Epoch 00063: acc improved from 0.91331 to 0.91345, saving model to ./bestmodel.h5\n",
            "450/450 [==============================] - 58s 130ms/step - loss: 0.2153 - acc: 0.9134 - val_loss: 0.5025 - val_acc: 0.8240\n",
            "Epoch 64/500\n",
            "450/450 [==============================] - ETA: 0s - loss: 0.2137 - acc: 0.9149\n",
            "Epoch 00064: acc improved from 0.91345 to 0.91491, saving model to ./bestmodel.h5\n",
            "450/450 [==============================] - 59s 132ms/step - loss: 0.2137 - acc: 0.9149 - val_loss: 0.3051 - val_acc: 0.8820\n",
            "Epoch 65/500\n",
            "450/450 [==============================] - ETA: 0s - loss: 0.2100 - acc: 0.9169\n",
            "Epoch 00065: acc improved from 0.91491 to 0.91693, saving model to ./bestmodel.h5\n",
            "450/450 [==============================] - 59s 132ms/step - loss: 0.2100 - acc: 0.9169 - val_loss: 0.2662 - val_acc: 0.8955\n",
            "Epoch 66/500\n",
            "450/450 [==============================] - ETA: 0s - loss: 0.2133 - acc: 0.9128\n",
            "Epoch 00066: acc did not improve from 0.91693\n",
            "450/450 [==============================] - 58s 129ms/step - loss: 0.2133 - acc: 0.9128 - val_loss: 0.2994 - val_acc: 0.8855\n",
            "Epoch 67/500\n",
            "450/450 [==============================] - ETA: 0s - loss: 0.2111 - acc: 0.9151\n",
            "Epoch 00067: acc did not improve from 0.91693\n",
            "450/450 [==============================] - 58s 129ms/step - loss: 0.2111 - acc: 0.9151 - val_loss: 0.4436 - val_acc: 0.8485\n",
            "Epoch 68/500\n",
            "450/450 [==============================] - ETA: 0s - loss: 0.2125 - acc: 0.9160\n",
            "Epoch 00068: acc did not improve from 0.91693\n",
            "450/450 [==============================] - 58s 129ms/step - loss: 0.2125 - acc: 0.9160 - val_loss: 0.2836 - val_acc: 0.8965\n",
            "Epoch 69/500\n",
            "450/450 [==============================] - ETA: 0s - loss: 0.2069 - acc: 0.9169\n",
            "Epoch 00069: acc did not improve from 0.91693\n",
            "450/450 [==============================] - 58s 129ms/step - loss: 0.2069 - acc: 0.9169 - val_loss: 0.2966 - val_acc: 0.8865\n",
            "Epoch 70/500\n",
            "450/450 [==============================] - ETA: 0s - loss: 0.2054 - acc: 0.9178\n",
            "Epoch 00070: acc improved from 0.91693 to 0.91783, saving model to ./bestmodel.h5\n",
            "450/450 [==============================] - 59s 131ms/step - loss: 0.2054 - acc: 0.9178 - val_loss: 0.3038 - val_acc: 0.8780\n",
            "Epoch 71/500\n",
            "450/450 [==============================] - ETA: 0s - loss: 0.2034 - acc: 0.9178\n",
            "Epoch 00071: acc did not improve from 0.91783\n",
            "450/450 [==============================] - 59s 130ms/step - loss: 0.2034 - acc: 0.9178 - val_loss: 0.3186 - val_acc: 0.8770\n",
            "Epoch 72/500\n",
            "450/450 [==============================] - ETA: 0s - loss: 0.2099 - acc: 0.9167\n",
            "Epoch 00072: acc did not improve from 0.91783\n",
            "450/450 [==============================] - 59s 130ms/step - loss: 0.2099 - acc: 0.9167 - val_loss: 0.3191 - val_acc: 0.8805\n",
            "Epoch 73/500\n",
            "450/450 [==============================] - ETA: 0s - loss: 0.2021 - acc: 0.9199\n",
            "Epoch 00073: acc improved from 0.91783 to 0.91992, saving model to ./bestmodel.h5\n",
            "450/450 [==============================] - 59s 132ms/step - loss: 0.2021 - acc: 0.9199 - val_loss: 0.3753 - val_acc: 0.8660\n",
            "Epoch 74/500\n",
            "450/450 [==============================] - ETA: 0s - loss: 0.2010 - acc: 0.9217\n",
            "Epoch 00074: acc improved from 0.91992 to 0.92173, saving model to ./bestmodel.h5\n",
            "450/450 [==============================] - 60s 133ms/step - loss: 0.2010 - acc: 0.9217 - val_loss: 0.3410 - val_acc: 0.8665\n",
            "Epoch 75/500\n",
            "450/450 [==============================] - ETA: 0s - loss: 0.1986 - acc: 0.9210\n",
            "Epoch 00075: acc did not improve from 0.92173\n",
            "450/450 [==============================] - 59s 130ms/step - loss: 0.1986 - acc: 0.9210 - val_loss: 0.2691 - val_acc: 0.8940\n",
            "Epoch 76/500\n",
            "450/450 [==============================] - ETA: 0s - loss: 0.1971 - acc: 0.9213\n",
            "Epoch 00076: acc did not improve from 0.92173\n",
            "450/450 [==============================] - 59s 132ms/step - loss: 0.1971 - acc: 0.9213 - val_loss: 0.2953 - val_acc: 0.8990\n",
            "Epoch 77/500\n",
            "450/450 [==============================] - ETA: 0s - loss: 0.1931 - acc: 0.9226\n",
            "Epoch 00077: acc improved from 0.92173 to 0.92263, saving model to ./bestmodel.h5\n",
            "450/450 [==============================] - 59s 132ms/step - loss: 0.1931 - acc: 0.9226 - val_loss: 0.2415 - val_acc: 0.9100\n",
            "Epoch 78/500\n",
            "450/450 [==============================] - ETA: 0s - loss: 0.2000 - acc: 0.9200\n",
            "Epoch 00078: acc did not improve from 0.92263\n",
            "450/450 [==============================] - 59s 130ms/step - loss: 0.2000 - acc: 0.9200 - val_loss: 0.2961 - val_acc: 0.8825\n",
            "Epoch 79/500\n",
            "450/450 [==============================] - ETA: 0s - loss: 0.1941 - acc: 0.9254\n",
            "Epoch 00079: acc improved from 0.92263 to 0.92542, saving model to ./bestmodel.h5\n",
            "450/450 [==============================] - 60s 132ms/step - loss: 0.1941 - acc: 0.9254 - val_loss: 0.4037 - val_acc: 0.8575\n",
            "Epoch 80/500\n",
            "450/450 [==============================] - ETA: 0s - loss: 0.1956 - acc: 0.9218\n",
            "Epoch 00080: acc did not improve from 0.92542\n",
            "450/450 [==============================] - 59s 130ms/step - loss: 0.1956 - acc: 0.9218 - val_loss: 0.2972 - val_acc: 0.8965\n",
            "Epoch 81/500\n",
            "450/450 [==============================] - ETA: 0s - loss: 0.1908 - acc: 0.9231\n",
            "Epoch 00081: acc did not improve from 0.92542\n",
            "450/450 [==============================] - 59s 130ms/step - loss: 0.1908 - acc: 0.9231 - val_loss: 0.3106 - val_acc: 0.8920\n",
            "Epoch 82/500\n",
            "450/450 [==============================] - ETA: 0s - loss: 0.1928 - acc: 0.9246\n",
            "Epoch 00082: acc did not improve from 0.92542\n",
            "450/450 [==============================] - 59s 130ms/step - loss: 0.1928 - acc: 0.9246 - val_loss: 0.3536 - val_acc: 0.8730\n",
            "Epoch 83/500\n",
            "450/450 [==============================] - ETA: 0s - loss: 0.1934 - acc: 0.9217\n",
            "Epoch 00083: acc did not improve from 0.92542\n",
            "450/450 [==============================] - 59s 130ms/step - loss: 0.1934 - acc: 0.9217 - val_loss: 0.2995 - val_acc: 0.8915\n",
            "Epoch 84/500\n",
            "450/450 [==============================] - ETA: 0s - loss: 0.1909 - acc: 0.9229\n",
            "Epoch 00084: acc did not improve from 0.92542\n",
            "450/450 [==============================] - 58s 130ms/step - loss: 0.1909 - acc: 0.9229 - val_loss: 0.3251 - val_acc: 0.8800\n",
            "Epoch 85/500\n",
            "450/450 [==============================] - ETA: 0s - loss: 0.1847 - acc: 0.9263\n",
            "Epoch 00085: acc improved from 0.92542 to 0.92625, saving model to ./bestmodel.h5\n",
            "450/450 [==============================] - 59s 132ms/step - loss: 0.1847 - acc: 0.9263 - val_loss: 0.3837 - val_acc: 0.8620\n",
            "Epoch 86/500\n",
            "450/450 [==============================] - ETA: 0s - loss: 0.1843 - acc: 0.9276\n",
            "Epoch 00086: acc improved from 0.92625 to 0.92764, saving model to ./bestmodel.h5\n",
            "450/450 [==============================] - 59s 132ms/step - loss: 0.1843 - acc: 0.9276 - val_loss: 0.3331 - val_acc: 0.8820\n",
            "Epoch 87/500\n",
            "450/450 [==============================] - ETA: 0s - loss: 0.1846 - acc: 0.9264\n",
            "Epoch 00087: acc did not improve from 0.92764\n",
            "450/450 [==============================] - 59s 131ms/step - loss: 0.1846 - acc: 0.9264 - val_loss: 0.3707 - val_acc: 0.8830\n",
            "Epoch 88/500\n",
            "450/450 [==============================] - ETA: 0s - loss: 0.1803 - acc: 0.9295\n",
            "Epoch 00088: acc improved from 0.92764 to 0.92952, saving model to ./bestmodel.h5\n",
            "450/450 [==============================] - 60s 133ms/step - loss: 0.1803 - acc: 0.9295 - val_loss: 0.2899 - val_acc: 0.8935\n",
            "Epoch 89/500\n",
            "450/450 [==============================] - ETA: 0s - loss: 0.1874 - acc: 0.9288\n",
            "Epoch 00089: acc did not improve from 0.92952\n",
            "450/450 [==============================] - 59s 131ms/step - loss: 0.1874 - acc: 0.9288 - val_loss: 0.3189 - val_acc: 0.8835\n",
            "Epoch 90/500\n",
            "450/450 [==============================] - ETA: 0s - loss: 0.1847 - acc: 0.9283\n",
            "Epoch 00090: acc did not improve from 0.92952\n",
            "450/450 [==============================] - 59s 131ms/step - loss: 0.1847 - acc: 0.9283 - val_loss: 0.3228 - val_acc: 0.8825\n",
            "Epoch 91/500\n",
            "450/450 [==============================] - ETA: 0s - loss: 0.1823 - acc: 0.9286\n",
            "Epoch 00091: acc did not improve from 0.92952\n",
            "450/450 [==============================] - 59s 130ms/step - loss: 0.1823 - acc: 0.9286 - val_loss: 0.2883 - val_acc: 0.8985\n",
            "Epoch 92/500\n",
            "450/450 [==============================] - ETA: 0s - loss: 0.1821 - acc: 0.9281\n",
            "Epoch 00092: acc did not improve from 0.92952\n",
            "450/450 [==============================] - 58s 130ms/step - loss: 0.1821 - acc: 0.9281 - val_loss: 0.4701 - val_acc: 0.8390\n",
            "Epoch 93/500\n",
            "450/450 [==============================] - ETA: 0s - loss: 0.1782 - acc: 0.9306\n",
            "Epoch 00093: acc improved from 0.92952 to 0.93063, saving model to ./bestmodel.h5\n",
            "450/450 [==============================] - 59s 132ms/step - loss: 0.1782 - acc: 0.9306 - val_loss: 0.5348 - val_acc: 0.8050\n",
            "Epoch 94/500\n",
            "450/450 [==============================] - ETA: 0s - loss: 0.1826 - acc: 0.9288\n",
            "Epoch 00094: acc did not improve from 0.93063\n",
            "450/450 [==============================] - 59s 131ms/step - loss: 0.1826 - acc: 0.9288 - val_loss: 0.2628 - val_acc: 0.8925\n",
            "Epoch 95/500\n",
            "450/450 [==============================] - ETA: 0s - loss: 0.1788 - acc: 0.9293\n",
            "Epoch 00095: acc did not improve from 0.93063\n",
            "450/450 [==============================] - 59s 130ms/step - loss: 0.1788 - acc: 0.9293 - val_loss: 0.2660 - val_acc: 0.8925\n",
            "Epoch 96/500\n",
            "450/450 [==============================] - ETA: 0s - loss: 0.1809 - acc: 0.9285\n",
            "Epoch 00096: acc did not improve from 0.93063\n",
            "450/450 [==============================] - 59s 131ms/step - loss: 0.1809 - acc: 0.9285 - val_loss: 0.3861 - val_acc: 0.8640\n",
            "Epoch 97/500\n",
            "450/450 [==============================] - ETA: 0s - loss: 0.1754 - acc: 0.9298\n",
            "Epoch 00097: acc did not improve from 0.93063\n",
            "450/450 [==============================] - 59s 131ms/step - loss: 0.1754 - acc: 0.9298 - val_loss: 0.5096 - val_acc: 0.8260\n",
            "Epoch 98/500\n",
            "450/450 [==============================] - ETA: 0s - loss: 0.1756 - acc: 0.9309\n",
            "Epoch 00098: acc improved from 0.93063 to 0.93091, saving model to ./bestmodel.h5\n",
            "450/450 [==============================] - 59s 132ms/step - loss: 0.1756 - acc: 0.9309 - val_loss: 0.3494 - val_acc: 0.8820\n",
            "Epoch 99/500\n",
            "450/450 [==============================] - ETA: 0s - loss: 0.1687 - acc: 0.9338\n",
            "Epoch 00099: acc improved from 0.93091 to 0.93383, saving model to ./bestmodel.h5\n",
            "450/450 [==============================] - 59s 131ms/step - loss: 0.1687 - acc: 0.9338 - val_loss: 0.2713 - val_acc: 0.9055\n",
            "Epoch 100/500\n",
            "450/450 [==============================] - ETA: 0s - loss: 0.1739 - acc: 0.9321\n",
            "Epoch 00100: acc did not improve from 0.93383\n",
            "450/450 [==============================] - 59s 131ms/step - loss: 0.1739 - acc: 0.9321 - val_loss: 0.3324 - val_acc: 0.8830\n",
            "Epoch 101/500\n",
            "450/450 [==============================] - ETA: 0s - loss: 0.1740 - acc: 0.9301\n",
            "Epoch 00101: acc did not improve from 0.93383\n",
            "450/450 [==============================] - 59s 130ms/step - loss: 0.1740 - acc: 0.9301 - val_loss: 0.3087 - val_acc: 0.8845\n",
            "Epoch 102/500\n",
            "450/450 [==============================] - ETA: 0s - loss: 0.1726 - acc: 0.9320\n",
            "Epoch 00102: acc did not improve from 0.93383\n",
            "450/450 [==============================] - 59s 130ms/step - loss: 0.1726 - acc: 0.9320 - val_loss: 0.3269 - val_acc: 0.8870\n",
            "Epoch 103/500\n",
            "450/450 [==============================] - ETA: 0s - loss: 0.1719 - acc: 0.9325\n",
            "Epoch 00103: acc did not improve from 0.93383\n",
            "450/450 [==============================] - 59s 131ms/step - loss: 0.1719 - acc: 0.9325 - val_loss: 0.3599 - val_acc: 0.8735\n",
            "Epoch 104/500\n",
            "450/450 [==============================] - ETA: 0s - loss: 0.1759 - acc: 0.9306\n",
            "Epoch 00104: acc did not improve from 0.93383\n",
            "450/450 [==============================] - 59s 131ms/step - loss: 0.1759 - acc: 0.9306 - val_loss: 0.3604 - val_acc: 0.8740\n",
            "Epoch 105/500\n",
            "450/450 [==============================] - ETA: 0s - loss: 0.1677 - acc: 0.9348\n",
            "Epoch 00105: acc improved from 0.93383 to 0.93481, saving model to ./bestmodel.h5\n",
            "450/450 [==============================] - 59s 132ms/step - loss: 0.1677 - acc: 0.9348 - val_loss: 0.2568 - val_acc: 0.9020\n",
            "Epoch 106/500\n",
            "450/450 [==============================] - ETA: 0s - loss: 0.1690 - acc: 0.9323\n",
            "Epoch 00106: acc did not improve from 0.93481\n",
            "450/450 [==============================] - 59s 131ms/step - loss: 0.1690 - acc: 0.9323 - val_loss: 0.2453 - val_acc: 0.9090\n",
            "Epoch 107/500\n",
            "450/450 [==============================] - ETA: 0s - loss: 0.1626 - acc: 0.9371\n",
            "Epoch 00107: acc improved from 0.93481 to 0.93710, saving model to ./bestmodel.h5\n",
            "450/450 [==============================] - 60s 132ms/step - loss: 0.1626 - acc: 0.9371 - val_loss: 0.3758 - val_acc: 0.8710\n",
            "Epoch 108/500\n",
            "450/450 [==============================] - ETA: 0s - loss: 0.1647 - acc: 0.9361\n",
            "Epoch 00108: acc did not improve from 0.93710\n",
            "450/450 [==============================] - 60s 132ms/step - loss: 0.1647 - acc: 0.9361 - val_loss: 0.2342 - val_acc: 0.9110\n",
            "Epoch 109/500\n",
            "450/450 [==============================] - ETA: 0s - loss: 0.1680 - acc: 0.9343\n",
            "Epoch 00109: acc did not improve from 0.93710\n",
            "450/450 [==============================] - 59s 131ms/step - loss: 0.1680 - acc: 0.9343 - val_loss: 0.3690 - val_acc: 0.8695\n",
            "Epoch 110/500\n",
            "450/450 [==============================] - ETA: 0s - loss: 0.1668 - acc: 0.9343\n",
            "Epoch 00110: acc did not improve from 0.93710\n",
            "450/450 [==============================] - 60s 133ms/step - loss: 0.1668 - acc: 0.9343 - val_loss: 0.4715 - val_acc: 0.8405\n",
            "Epoch 111/500\n",
            "450/450 [==============================] - ETA: 0s - loss: 0.1617 - acc: 0.9370\n",
            "Epoch 00111: acc did not improve from 0.93710\n",
            "450/450 [==============================] - 59s 131ms/step - loss: 0.1617 - acc: 0.9370 - val_loss: 0.2667 - val_acc: 0.9030\n",
            "Epoch 112/500\n",
            "450/450 [==============================] - ETA: 0s - loss: 0.1651 - acc: 0.9361\n",
            "Epoch 00112: acc did not improve from 0.93710\n",
            "450/450 [==============================] - 59s 131ms/step - loss: 0.1651 - acc: 0.9361 - val_loss: 0.5144 - val_acc: 0.8345\n",
            "Epoch 113/500\n",
            "450/450 [==============================] - ETA: 0s - loss: 0.1631 - acc: 0.9361\n",
            "Epoch 00113: acc did not improve from 0.93710\n",
            "450/450 [==============================] - 59s 131ms/step - loss: 0.1631 - acc: 0.9361 - val_loss: 0.2851 - val_acc: 0.8910\n",
            "Epoch 114/500\n",
            "450/450 [==============================] - ETA: 0s - loss: 0.1617 - acc: 0.9375\n",
            "Epoch 00114: acc improved from 0.93710 to 0.93752, saving model to ./bestmodel.h5\n",
            "450/450 [==============================] - 60s 133ms/step - loss: 0.1617 - acc: 0.9375 - val_loss: 0.3776 - val_acc: 0.8685\n",
            "Epoch 115/500\n",
            "450/450 [==============================] - ETA: 0s - loss: 0.1617 - acc: 0.9370\n",
            "Epoch 00115: acc did not improve from 0.93752\n",
            "450/450 [==============================] - 60s 133ms/step - loss: 0.1617 - acc: 0.9370 - val_loss: 0.4047 - val_acc: 0.8770\n",
            "Epoch 116/500\n",
            "450/450 [==============================] - ETA: 0s - loss: 0.1594 - acc: 0.9384\n",
            "Epoch 00116: acc improved from 0.93752 to 0.93843, saving model to ./bestmodel.h5\n",
            "450/450 [==============================] - 60s 133ms/step - loss: 0.1594 - acc: 0.9384 - val_loss: 0.3058 - val_acc: 0.8860\n",
            "Epoch 117/500\n",
            "450/450 [==============================] - ETA: 0s - loss: 0.1599 - acc: 0.9368\n",
            "Epoch 00117: acc did not improve from 0.93843\n",
            "450/450 [==============================] - 59s 132ms/step - loss: 0.1599 - acc: 0.9368 - val_loss: 0.4155 - val_acc: 0.8520\n",
            "Epoch 118/500\n",
            "450/450 [==============================] - ETA: 0s - loss: 0.1618 - acc: 0.9356\n",
            "Epoch 00118: acc did not improve from 0.93843\n",
            "450/450 [==============================] - 60s 132ms/step - loss: 0.1618 - acc: 0.9356 - val_loss: 0.3408 - val_acc: 0.8795\n",
            "Epoch 119/500\n",
            "450/450 [==============================] - ETA: 0s - loss: 0.1601 - acc: 0.9372\n",
            "Epoch 00119: acc did not improve from 0.93843\n",
            "450/450 [==============================] - 60s 133ms/step - loss: 0.1601 - acc: 0.9372 - val_loss: 0.3165 - val_acc: 0.8885\n",
            "Epoch 120/500\n",
            "450/450 [==============================] - ETA: 0s - loss: 0.1540 - acc: 0.9408\n",
            "Epoch 00120: acc improved from 0.93843 to 0.94079, saving model to ./bestmodel.h5\n",
            "450/450 [==============================] - 60s 133ms/step - loss: 0.1540 - acc: 0.9408 - val_loss: 0.4328 - val_acc: 0.8520\n",
            "Epoch 121/500\n",
            "450/450 [==============================] - ETA: 0s - loss: 0.1526 - acc: 0.9407\n",
            "Epoch 00121: acc did not improve from 0.94079\n",
            "450/450 [==============================] - 59s 131ms/step - loss: 0.1526 - acc: 0.9407 - val_loss: 0.2407 - val_acc: 0.9045\n",
            "Epoch 122/500\n",
            "450/450 [==============================] - ETA: 0s - loss: 0.1558 - acc: 0.9375\n",
            "Epoch 00122: acc did not improve from 0.94079\n",
            "450/450 [==============================] - 59s 131ms/step - loss: 0.1558 - acc: 0.9375 - val_loss: 0.3448 - val_acc: 0.8720\n",
            "Epoch 123/500\n",
            "450/450 [==============================] - ETA: 0s - loss: 0.1584 - acc: 0.9379\n",
            "Epoch 00123: acc did not improve from 0.94079\n",
            "450/450 [==============================] - 59s 132ms/step - loss: 0.1584 - acc: 0.9379 - val_loss: 0.2495 - val_acc: 0.9095\n",
            "Epoch 124/500\n",
            "450/450 [==============================] - ETA: 0s - loss: 0.1551 - acc: 0.9385\n",
            "Epoch 00124: acc did not improve from 0.94079\n",
            "450/450 [==============================] - 59s 132ms/step - loss: 0.1551 - acc: 0.9385 - val_loss: 0.2829 - val_acc: 0.8950\n",
            "Epoch 125/500\n",
            "450/450 [==============================] - ETA: 0s - loss: 0.1518 - acc: 0.9418\n",
            "Epoch 00125: acc improved from 0.94079 to 0.94177, saving model to ./bestmodel.h5\n",
            "450/450 [==============================] - 60s 134ms/step - loss: 0.1518 - acc: 0.9418 - val_loss: 0.3100 - val_acc: 0.8940\n",
            "Epoch 126/500\n",
            "450/450 [==============================] - ETA: 0s - loss: 0.1592 - acc: 0.9384\n",
            "Epoch 00126: acc did not improve from 0.94177\n",
            "450/450 [==============================] - 59s 131ms/step - loss: 0.1592 - acc: 0.9384 - val_loss: 0.3839 - val_acc: 0.8600\n",
            "Epoch 127/500\n",
            "450/450 [==============================] - ETA: 0s - loss: 0.1515 - acc: 0.9421\n",
            "Epoch 00127: acc improved from 0.94177 to 0.94211, saving model to ./bestmodel.h5\n",
            "450/450 [==============================] - 60s 133ms/step - loss: 0.1515 - acc: 0.9421 - val_loss: 0.2166 - val_acc: 0.9175\n",
            "Epoch 128/500\n",
            "450/450 [==============================] - ETA: 0s - loss: 0.1573 - acc: 0.9391\n",
            "Epoch 00128: acc did not improve from 0.94211\n",
            "450/450 [==============================] - 60s 133ms/step - loss: 0.1573 - acc: 0.9391 - val_loss: 0.3652 - val_acc: 0.8690\n",
            "Epoch 129/500\n",
            "450/450 [==============================] - ETA: 0s - loss: 0.1500 - acc: 0.9416\n",
            "Epoch 00129: acc did not improve from 0.94211\n",
            "450/450 [==============================] - 60s 133ms/step - loss: 0.1500 - acc: 0.9416 - val_loss: 0.5883 - val_acc: 0.8180\n",
            "Epoch 130/500\n",
            "450/450 [==============================] - ETA: 0s - loss: 0.1515 - acc: 0.9420\n",
            "Epoch 00130: acc did not improve from 0.94211\n",
            "450/450 [==============================] - 60s 132ms/step - loss: 0.1515 - acc: 0.9420 - val_loss: 0.5854 - val_acc: 0.8290\n",
            "Epoch 131/500\n",
            "450/450 [==============================] - ETA: 0s - loss: 0.1555 - acc: 0.9391\n",
            "Epoch 00131: acc did not improve from 0.94211\n",
            "450/450 [==============================] - 59s 132ms/step - loss: 0.1555 - acc: 0.9391 - val_loss: 0.4808 - val_acc: 0.8530\n",
            "Epoch 132/500\n",
            "450/450 [==============================] - ETA: 0s - loss: 0.1531 - acc: 0.9424\n",
            "Epoch 00132: acc improved from 0.94211 to 0.94239, saving model to ./bestmodel.h5\n",
            "450/450 [==============================] - 60s 134ms/step - loss: 0.1531 - acc: 0.9424 - val_loss: 0.3319 - val_acc: 0.8865\n",
            "Epoch 133/500\n",
            "450/450 [==============================] - ETA: 0s - loss: 0.1519 - acc: 0.9398\n",
            "Epoch 00133: acc did not improve from 0.94239\n",
            "450/450 [==============================] - 59s 132ms/step - loss: 0.1519 - acc: 0.9398 - val_loss: 0.3132 - val_acc: 0.8900\n",
            "Epoch 134/500\n",
            "450/450 [==============================] - ETA: 0s - loss: 0.1453 - acc: 0.9429\n",
            "Epoch 00134: acc improved from 0.94239 to 0.94295, saving model to ./bestmodel.h5\n",
            "450/450 [==============================] - 60s 133ms/step - loss: 0.1453 - acc: 0.9429 - val_loss: 0.2829 - val_acc: 0.8935\n",
            "Epoch 135/500\n",
            "450/450 [==============================] - ETA: 0s - loss: 0.1438 - acc: 0.9432\n",
            "Epoch 00135: acc improved from 0.94295 to 0.94323, saving model to ./bestmodel.h5\n",
            "450/450 [==============================] - 60s 134ms/step - loss: 0.1438 - acc: 0.9432 - val_loss: 0.2585 - val_acc: 0.9155\n",
            "Epoch 136/500\n",
            "450/450 [==============================] - ETA: 0s - loss: 0.1492 - acc: 0.9412\n",
            "Epoch 00136: acc did not improve from 0.94323\n",
            "450/450 [==============================] - 60s 132ms/step - loss: 0.1492 - acc: 0.9412 - val_loss: 0.3719 - val_acc: 0.8750\n",
            "Epoch 137/500\n",
            "450/450 [==============================] - ETA: 0s - loss: 0.1456 - acc: 0.9448\n",
            "Epoch 00137: acc improved from 0.94323 to 0.94483, saving model to ./bestmodel.h5\n",
            "450/450 [==============================] - 60s 134ms/step - loss: 0.1456 - acc: 0.9448 - val_loss: 0.2354 - val_acc: 0.9175\n",
            "Epoch 00137: early stopping\n"
          ]
        }
      ]
    },
    {
      "cell_type": "code",
      "metadata": {
        "id": "YRO53COWMHwN"
      },
      "source": [
        "model = load_model('/content/bestmodel.h5')"
      ],
      "execution_count": null,
      "outputs": []
    },
    {
      "cell_type": "code",
      "metadata": {
        "id": "eraOyu1cP3G1",
        "colab": {
          "base_uri": "https://localhost:8080/"
        },
        "outputId": "29ff8f26-f458-4363-d65a-0044bf613275"
      },
      "source": [
        "h = history.history\n",
        "h.keys()"
      ],
      "execution_count": null,
      "outputs": [
        {
          "output_type": "execute_result",
          "data": {
            "text/plain": [
              "dict_keys(['loss', 'acc', 'val_loss', 'val_acc'])"
            ]
          },
          "metadata": {},
          "execution_count": 12
        }
      ]
    },
    {
      "cell_type": "markdown",
      "metadata": {
        "id": "PTEbtXZ4w1IL"
      },
      "source": [
        "Model results with Adam optimizer, we need to add regularization"
      ]
    },
    {
      "cell_type": "code",
      "metadata": {
        "colab": {
          "base_uri": "https://localhost:8080/",
          "height": 281
        },
        "id": "t1KDedufkzq4",
        "outputId": "dc98eb13-04e5-432b-c98e-6ee7d616ecc5"
      },
      "source": [
        "plt.plot(h['acc'])\n",
        "plt.plot(h['val_acc'])\n",
        "plt.title('acc vs val-acc')\n",
        "plt.show()"
      ],
      "execution_count": null,
      "outputs": [
        {
          "output_type": "display_data",
          "data": {
            "image/png": "[encoded data removed]",
            "text/plain": [
              "<Figure size 432x288 with 1 Axes>"
            ]
          },
          "metadata": {
            "needs_background": "light"
          }
        }
      ]
    },
    {
      "cell_type": "code",
      "metadata": {
        "colab": {
          "base_uri": "https://localhost:8080/",
          "height": 281
        },
        "id": "eyI634YQk368",
        "outputId": "db94c8fc-eb2d-4fe5-b821-13a9a06ffeb9"
      },
      "source": [
        "plt.plot(h['loss'])\n",
        "plt.plot(h['val_loss'])\n",
        "plt.title('loss vs val-loss')\n",
        "plt.show()"
      ],
      "execution_count": null,
      "outputs": [
        {
          "output_type": "display_data",
          "data": {
            "image/png": "[encoded data removed]",
            "text/plain": [
              "<Figure size 432x288 with 1 Axes>"
            ]
          },
          "metadata": {
            "needs_background": "light"
          }
        }
      ]
    },
    {
      "cell_type": "markdown",
      "metadata": {
        "id": "K_ewTGREm3Gg"
      },
      "source": [
        "Model with regularization and Gridsearch; \n",
        "use with small set"
      ]
    },
    {
      "cell_type": "code",
      "metadata": {
        "id": "xqOSsuDF-a9P"
      },
      "source": [
        "#  Put code here for headline"
      ],
      "execution_count": null,
      "outputs": []
    },
    {
      "cell_type": "code",
      "metadata": {
        "id": "uNEkILNFcGzV"
      },
      "source": [
        "def build_model(hp):\n",
        "  model = tf.keras.models.Sequential([\n",
        "      tf.keras.layers.Conv2D(filters=hp.Choice('filters1',\n",
        "                             values=[32, 64, 96, 128, 160]), \n",
        "                             kernel_size=3, \n",
        "                             input_shape=(96, 96, 3), \n",
        "                             activation='relu'),\n",
        "      tf.keras.layers.MaxPooling2D(2),\n",
        "      tf.keras.layers.Conv2D(filters=128,\n",
        "                             kernel_size=3, activation='relu'),\n",
        "      tf.keras.layers.MaxPooling2D(2),\n",
        "      tf.keras.layers.Conv2D(filters=192,\n",
        "                             kernel_size=3, activation='relu'),\n",
        "      tf.keras.layers.MaxPooling2D(2),\n",
        "                            \n",
        "      tf.keras.layers.Flatten(),\n",
        "      tf.keras.layers.Dense(units=320, activation='relu'),\n",
        "      tf.keras.layers.Dense(1, activation='sigmoid')\n",
        "  ])\n",
        "\n",
        "  optimizer = tf.keras.optimizers.Adam(learning_rate=3e-4)\n",
        "\n",
        "  model.compile(optimizer=optimizer, loss='categorical_crossentropy', metrics=['acc'])\n"
      ],
      "execution_count": null,
      "outputs": []
    },
    {
      "cell_type": "code",
      "metadata": {
        "colab": {
          "base_uri": "https://localhost:8080/"
        },
        "id": "vfczcfq7Hbzw",
        "outputId": "e3301686-0057-43a3-9fda-1264ab7f2a3a"
      },
      "source": [
        "h = history.history\n",
        "h.keys()"
      ],
      "execution_count": null,
      "outputs": [
        {
          "output_type": "execute_result",
          "data": {
            "text/plain": [
              "dict_keys(['loss', 'acc', 'val_loss', 'val_acc'])"
            ]
          },
          "metadata": {},
          "execution_count": 63
        }
      ]
    },
    {
      "cell_type": "code",
      "metadata": {
        "colab": {
          "base_uri": "https://localhost:8080/",
          "height": 281
        },
        "id": "J98QIQ-YHm-y",
        "outputId": "91fc10be-b5be-4554-8067-90810b8976d0"
      },
      "source": [
        "plt.plot(h['acc'])\n",
        "plt.plot(h['val_acc'])\n",
        "plt.title('acc vs val-acc')\n",
        "plt.show()"
      ],
      "execution_count": null,
      "outputs": [
        {
          "output_type": "display_data",
          "data": {
            "image/png": "[encoded data removed]",
            "text/plain": [
              "<Figure size 432x288 with 1 Axes>"
            ]
          },
          "metadata": {
            "needs_background": "light"
          }
        }
      ]
    },
    {
      "cell_type": "code",
      "metadata": {
        "colab": {
          "base_uri": "https://localhost:8080/"
        },
        "id": "xxb_tnkJ1R7l",
        "outputId": "8104f147-9d48-41cd-9205-7d05a675155e"
      },
      "source": [
        "tuner = RandomSearch(\n",
        "    build_model,\n",
        "    objective=\"acc\",\n",
        "    max_trials=50,\n",
        "    #executions_per_trial=1,\n",
        "    #overwrite=True,\n",
        "    #directory=\"keras_tuner_directory\",\n",
        "    #project_name=\"Q5_experiment\",\n",
        ")"
      ],
      "execution_count": null,
      "outputs": [
        {
          "output_type": "stream",
          "name": "stdout",
          "text": [
            "INFO:tensorflow:Reloading Oracle from existing project ./untitled_project/oracle.json\n"
          ]
        }
      ]
    },
    {
      "cell_type": "code",
      "metadata": {
        "colab": {
          "base_uri": "https://localhost:8080/"
        },
        "id": "BGNLJTHy0vIS",
        "outputId": "f11d97de-23df-4256-ebd8-58aac8d8f71d"
      },
      "source": [
        "tuner.search_space_summary()"
      ],
      "execution_count": null,
      "outputs": [
        {
          "output_type": "stream",
          "name": "stdout",
          "text": [
            "Search space summary\n",
            "Default search space size: 1\n",
            "filters1 (Choice)\n",
            "{'default': 32, 'conditions': [], 'values': [32, 64, 96, 128, 160], 'ordered': True}\n"
          ]
        }
      ]
    },
    {
      "cell_type": "code",
      "metadata": {
        "colab": {
          "base_uri": "https://localhost:8080/",
          "height": 421
        },
        "id": "-JpHoRnP1XZu",
        "outputId": "39ca4347-ae65-4388-f238-6e5e461d759f"
      },
      "source": [
        "tuner.search(train_image, train_label, epochs=150)  #, validation_data=(valid_image, valid_label))\n",
        "#tuner.results_summary()"
      ],
      "execution_count": null,
      "outputs": [
        {
          "output_type": "stream",
          "name": "stdout",
          "text": [
            "\n",
            "Search: Running Trial #2\n",
            "\n",
            "Hyperparameter    |Value             |Best Value So Far \n",
            "filters1          |96                |?                 \n",
            "\n"
          ]
        },
        {
          "output_type": "error",
          "ename": "RuntimeError",
          "evalue": "ignored",
          "traceback": [
            "\u001b[0;31m---------------------------------------------------------------------------\u001b[0m",
            "\u001b[0;31mRuntimeError\u001b[0m                              Traceback (most recent call last)",
            "\u001b[0;32m<ipython-input-105-119e7d01659b>\u001b[0m in \u001b[0;36m<module>\u001b[0;34m()\u001b[0m\n\u001b[0;32m----> 1\u001b[0;31m \u001b[0mtuner\u001b[0m\u001b[0;34m.\u001b[0m\u001b[0msearch\u001b[0m\u001b[0;34m(\u001b[0m\u001b[0mtrain_image\u001b[0m\u001b[0;34m,\u001b[0m \u001b[0mtrain_label\u001b[0m\u001b[0;34m,\u001b[0m \u001b[0mepochs\u001b[0m\u001b[0;34m=\u001b[0m\u001b[0;36m150\u001b[0m\u001b[0;34m)\u001b[0m  \u001b[0;31m#, validation_data=(valid_image, valid_label))\u001b[0m\u001b[0;34m\u001b[0m\u001b[0;34m\u001b[0m\u001b[0m\n\u001b[0m\u001b[1;32m      2\u001b[0m \u001b[0;31m#tuner.results_summary()\u001b[0m\u001b[0;34m\u001b[0m\u001b[0;34m\u001b[0m\u001b[0;34m\u001b[0m\u001b[0m\n",
            "\u001b[0;32m/usr/local/lib/python3.7/dist-packages/keras_tuner/engine/base_tuner.py\u001b[0m in \u001b[0;36msearch\u001b[0;34m(self, *fit_args, **fit_kwargs)\u001b[0m\n\u001b[1;32m    177\u001b[0m \u001b[0;34m\u001b[0m\u001b[0m\n\u001b[1;32m    178\u001b[0m             \u001b[0mself\u001b[0m\u001b[0;34m.\u001b[0m\u001b[0mon_trial_begin\u001b[0m\u001b[0;34m(\u001b[0m\u001b[0mtrial\u001b[0m\u001b[0;34m)\u001b[0m\u001b[0;34m\u001b[0m\u001b[0;34m\u001b[0m\u001b[0m\n\u001b[0;32m--> 179\u001b[0;31m             \u001b[0mresults\u001b[0m \u001b[0;34m=\u001b[0m \u001b[0mself\u001b[0m\u001b[0;34m.\u001b[0m\u001b[0mrun_trial\u001b[0m\u001b[0;34m(\u001b[0m\u001b[0mtrial\u001b[0m\u001b[0;34m,\u001b[0m \u001b[0;34m*\u001b[0m\u001b[0mfit_args\u001b[0m\u001b[0;34m,\u001b[0m \u001b[0;34m**\u001b[0m\u001b[0mfit_kwargs\u001b[0m\u001b[0;34m)\u001b[0m\u001b[0;34m\u001b[0m\u001b[0;34m\u001b[0m\u001b[0m\n\u001b[0m\u001b[1;32m    180\u001b[0m             \u001b[0;31m# `results` is None indicates user updated oracle in `run_trial()`.\u001b[0m\u001b[0;34m\u001b[0m\u001b[0;34m\u001b[0m\u001b[0;34m\u001b[0m\u001b[0m\n\u001b[1;32m    181\u001b[0m             \u001b[0;32mif\u001b[0m \u001b[0mresults\u001b[0m \u001b[0;32mis\u001b[0m \u001b[0;32mNone\u001b[0m\u001b[0;34m:\u001b[0m\u001b[0;34m\u001b[0m\u001b[0;34m\u001b[0m\u001b[0m\n",
            "\u001b[0;32m/usr/local/lib/python3.7/dist-packages/keras_tuner/engine/tuner.py\u001b[0m in \u001b[0;36mrun_trial\u001b[0;34m(self, trial, *args, **kwargs)\u001b[0m\n\u001b[1;32m    302\u001b[0m             \u001b[0mcallbacks\u001b[0m\u001b[0;34m.\u001b[0m\u001b[0mappend\u001b[0m\u001b[0;34m(\u001b[0m\u001b[0mmodel_checkpoint\u001b[0m\u001b[0;34m)\u001b[0m\u001b[0;34m\u001b[0m\u001b[0;34m\u001b[0m\u001b[0m\n\u001b[1;32m    303\u001b[0m             \u001b[0mcopied_kwargs\u001b[0m\u001b[0;34m[\u001b[0m\u001b[0;34m\"callbacks\"\u001b[0m\u001b[0;34m]\u001b[0m \u001b[0;34m=\u001b[0m \u001b[0mcallbacks\u001b[0m\u001b[0;34m\u001b[0m\u001b[0;34m\u001b[0m\u001b[0m\n\u001b[0;32m--> 304\u001b[0;31m             \u001b[0mobj_value\u001b[0m \u001b[0;34m=\u001b[0m \u001b[0mself\u001b[0m\u001b[0;34m.\u001b[0m\u001b[0m_build_and_fit_model\u001b[0m\u001b[0;34m(\u001b[0m\u001b[0mtrial\u001b[0m\u001b[0;34m,\u001b[0m \u001b[0;34m*\u001b[0m\u001b[0margs\u001b[0m\u001b[0;34m,\u001b[0m \u001b[0;34m**\u001b[0m\u001b[0mcopied_kwargs\u001b[0m\u001b[0;34m)\u001b[0m\u001b[0;34m\u001b[0m\u001b[0;34m\u001b[0m\u001b[0m\n\u001b[0m\u001b[1;32m    305\u001b[0m \u001b[0;34m\u001b[0m\u001b[0m\n\u001b[1;32m    306\u001b[0m             \u001b[0;31m# objective left unspecified,\u001b[0m\u001b[0;34m\u001b[0m\u001b[0;34m\u001b[0m\u001b[0;34m\u001b[0m\u001b[0m\n",
            "\u001b[0;32m/usr/local/lib/python3.7/dist-packages/keras_tuner/engine/tuner.py\u001b[0m in \u001b[0;36m_build_and_fit_model\u001b[0;34m(self, trial, *args, **kwargs)\u001b[0m\n\u001b[1;32m    231\u001b[0m         \"\"\"\n\u001b[1;32m    232\u001b[0m         \u001b[0mhp\u001b[0m \u001b[0;34m=\u001b[0m \u001b[0mtrial\u001b[0m\u001b[0;34m.\u001b[0m\u001b[0mhyperparameters\u001b[0m\u001b[0;34m\u001b[0m\u001b[0;34m\u001b[0m\u001b[0m\n\u001b[0;32m--> 233\u001b[0;31m         \u001b[0mmodel\u001b[0m \u001b[0;34m=\u001b[0m \u001b[0mself\u001b[0m\u001b[0;34m.\u001b[0m\u001b[0m_try_build\u001b[0m\u001b[0;34m(\u001b[0m\u001b[0mhp\u001b[0m\u001b[0;34m)\u001b[0m\u001b[0;34m\u001b[0m\u001b[0;34m\u001b[0m\u001b[0m\n\u001b[0m\u001b[1;32m    234\u001b[0m         \u001b[0;32mreturn\u001b[0m \u001b[0mself\u001b[0m\u001b[0;34m.\u001b[0m\u001b[0mhypermodel\u001b[0m\u001b[0;34m.\u001b[0m\u001b[0mfit\u001b[0m\u001b[0;34m(\u001b[0m\u001b[0mhp\u001b[0m\u001b[0;34m,\u001b[0m \u001b[0mmodel\u001b[0m\u001b[0;34m,\u001b[0m \u001b[0;34m*\u001b[0m\u001b[0margs\u001b[0m\u001b[0;34m,\u001b[0m \u001b[0;34m**\u001b[0m\u001b[0mkwargs\u001b[0m\u001b[0;34m)\u001b[0m\u001b[0;34m\u001b[0m\u001b[0;34m\u001b[0m\u001b[0m\n\u001b[1;32m    235\u001b[0m \u001b[0;34m\u001b[0m\u001b[0m\n",
            "\u001b[0;32m/usr/local/lib/python3.7/dist-packages/keras_tuner/engine/tuner.py\u001b[0m in \u001b[0;36m_try_build\u001b[0;34m(self, hp)\u001b[0m\n\u001b[1;32m    183\u001b[0m                 raise RuntimeError(\n\u001b[1;32m    184\u001b[0m                     \u001b[0;34m\"Model-building function did not return \"\u001b[0m\u001b[0;34m\u001b[0m\u001b[0;34m\u001b[0m\u001b[0m\n\u001b[0;32m--> 185\u001b[0;31m                     \u001b[0;34m\"a valid Keras Model instance, found {}\"\u001b[0m\u001b[0;34m.\u001b[0m\u001b[0mformat\u001b[0m\u001b[0;34m(\u001b[0m\u001b[0mmodel\u001b[0m\u001b[0;34m)\u001b[0m\u001b[0;34m\u001b[0m\u001b[0;34m\u001b[0m\u001b[0m\n\u001b[0m\u001b[1;32m    186\u001b[0m                 )\n\u001b[1;32m    187\u001b[0m \u001b[0;34m\u001b[0m\u001b[0m\n",
            "\u001b[0;31mRuntimeError\u001b[0m: Model-building function did not return a valid Keras Model instance, found None"
          ]
        }
      ]
    },
    {
      "cell_type": "code",
      "metadata": {
        "id": "8TM1BKBSw4ey"
      },
      "source": [
        "history = model.fit(train_generator,\n",
        "                    epochs=80,\n",
        "                    verbose=1,\n",
        "                    callbacks=[lr_schedule])"
      ],
      "execution_count": null,
      "outputs": []
    },
    {
      "cell_type": "code",
      "metadata": {
        "colab": {
          "base_uri": "https://localhost:8080/",
          "height": 290
        },
        "id": "Brt_z7HAw_dS",
        "outputId": "7b4037b8-52d5-4514-d4eb-e0183f01d454"
      },
      "source": [
        "plt.semilogx(history.history[\"lr\"], history.history[\"loss\"])\n",
        "plt.axis([1e-5, 1e-1, 0, 1])"
      ],
      "execution_count": null,
      "outputs": [
        {
          "output_type": "execute_result",
          "data": {
            "text/plain": [
              "(1e-05, 0.1, 0.0, 1.0)"
            ]
          },
          "metadata": {},
          "execution_count": 24
        },
        {
          "output_type": "display_data",
          "data": {
            "image/png": "[encoded data removed]",
            "text/plain": [
              "<Figure size 432x288 with 1 Axes>"
            ]
          },
          "metadata": {
            "needs_background": "light"
          }
        }
      ]
    },
    {
      "cell_type": "code",
      "metadata": {
        "id": "4bTI0kZnyZJH"
      },
      "source": [
        "model = tf.keras.models.Sequential([\n",
        "    tf.keras.layers.Conv2D(96, 3, input_shape=(96, 96, 3), activation='relu'),\n",
        "    tf.keras.layers.MaxPooling2D(2),\n",
        "    tf.keras.layers.Conv2D(160, 3, activation='relu'),\n",
        "    tf.keras.layers.MaxPooling2D(2),\n",
        "    tf.keras.layers.Conv2D(192, 3, activation='relu'),\n",
        "    tf.keras.layers.MaxPooling2D(2),\n",
        "                          \n",
        "    tf.keras.layers.Flatten(),\n",
        "    tf.keras.layers.Dense(1000, activation='relu'),\n",
        "    tf.keras.layers.Dense(1, activation='sigmoid')\n",
        "])\n",
        "optimizer = tf.keras.optimizers.Adam(learning_rate=1e-4)\n",
        "\n",
        "model.compile(optimizer=optimizer, loss='binary_crossentropy', metrics=['acc'])\n",
        "history = model.fit(train_generator,\n",
        "                    epochs=50,\n",
        "                    verbose=1,\n",
        "                    validation_data=validation_generator)"
      ],
      "execution_count": null,
      "outputs": []
    }
  ]
}