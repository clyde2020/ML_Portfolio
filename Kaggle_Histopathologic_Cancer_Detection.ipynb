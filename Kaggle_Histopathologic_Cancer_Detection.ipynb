{
  "nbformat": 4,
  "nbformat_minor": 0,
  "metadata": {
    "colab": {
      "name": "Kaggle Histopathologic Cancer Detection.ipynb",
      "provenance": [],
      "authorship_tag": "ABX9TyNrUj2nJYo0j5O/vnuWJIEo",
      "include_colab_link": true
    },
    "kernelspec": {
      "name": "python3",
      "display_name": "Python 3"
    },
    "language_info": {
      "name": "python"
    }
  },
  "cells": [
    {
      "cell_type": "markdown",
      "metadata": {
        "id": "view-in-github",
        "colab_type": "text"
      },
      "source": [
        "<a href=\"https://colab.research.google.com/github/clyde2020/ML_Portfolio/blob/main/Kaggle_Histopathologic_Cancer_Detection.ipynb\" target=\"_parent\"><img src=\"https://colab.research.google.com/assets/colab-badge.svg\" alt=\"Open In Colab\"/></a>"
      ]
    },
    {
      "cell_type": "code",
      "metadata": {
        "id": "FWddduZzMLCf"
      },
      "source": [
        "import pandas as pd\n",
        "import numpy as np\n",
        "import os\n",
        "import shutil\n",
        "from shutil import copyfile\n",
        "from tensorflow.keras.preprocessing.image import ImageDataGenerator\n",
        "import tensorflow as tf\n",
        "from tensorflow.keras.optimizers import RMSprop"
      ],
      "execution_count": 36,
      "outputs": []
    },
    {
      "cell_type": "code",
      "metadata": {
        "id": "jRAqy2RZMOd3"
      },
      "source": [
        "df = pd.read_csv('/content/train_labels.csv')"
      ],
      "execution_count": 22,
      "outputs": []
    },
    {
      "cell_type": "code",
      "metadata": {
        "colab": {
          "base_uri": "https://localhost:8080/"
        },
        "id": "tNU4mtWOQRNF",
        "outputId": "15f062fe-d462-4b56-96c8-94e81f1e3915"
      },
      "source": [
        "len(df.id)"
      ],
      "execution_count": 24,
      "outputs": [
        {
          "output_type": "execute_result",
          "data": {
            "text/plain": [
              "220025"
            ]
          },
          "metadata": {},
          "execution_count": 24
        }
      ]
    },
    {
      "cell_type": "code",
      "metadata": {
        "id": "UKf1M2BrMsAJ"
      },
      "source": [
        "picdict = dict(zip(df['id'], df['label']))"
      ],
      "execution_count": 25,
      "outputs": []
    },
    {
      "cell_type": "code",
      "metadata": {
        "colab": {
          "base_uri": "https://localhost:8080/"
        },
        "id": "SoSdVgsNMxiH",
        "outputId": "eaa525b3-5033-4086-89b2-bb8b0995ed1b"
      },
      "source": [
        "from google.colab import drive\n",
        "drive.mount('/content/gdrive')"
      ],
      "execution_count": 4,
      "outputs": [
        {
          "output_type": "stream",
          "name": "stdout",
          "text": [
            "Mounted at /content/gdrive\n"
          ]
        }
      ]
    },
    {
      "cell_type": "code",
      "metadata": {
        "id": "EkXlDttBMznu"
      },
      "source": [
        "def match_label(batch):\n",
        "  y = []\n",
        "  for item in batch:\n",
        "    lab = os.path.splitext(os.path.basename(item))[0]\n",
        "    y.append(picdic[lab])\n",
        "  \n",
        "  return y"
      ],
      "execution_count": 5,
      "outputs": []
    },
    {
      "cell_type": "code",
      "metadata": {
        "id": "b0lAehmNNA8M"
      },
      "source": [
        "os.mkdir('/content/Lymph')\n",
        "os.mkdir('/content/Lymph/Noncancer')\n",
        "os.mkdir('/content/Lymph/Cancer')"
      ],
      "execution_count": 6,
      "outputs": []
    },
    {
      "cell_type": "code",
      "metadata": {
        "id": "c7D55S95NJyF"
      },
      "source": [
        "source_folder = '/content/gdrive/MyDrive/small_set'\n",
        "benign_folder = '/content/Lymph/Noncancer'\n",
        "mal_folder = '/content/Lymph/Cancer'\n",
        "train_folder = '/content/Lymph'"
      ],
      "execution_count": 27,
      "outputs": []
    },
    {
      "cell_type": "code",
      "metadata": {
        "id": "swhsUAPlNieq"
      },
      "source": [
        "new_list = os.listdir(source_folder)\n",
        "\n",
        "for fname in new_list:\n",
        "  origin = os.path.join(source_folder, fname)\n",
        "  name = os.path.splitext(os.path.basename(fname))[0]\n",
        "  if os.path.getsize(origin) > 1:\n",
        "    if picdict[name] == 0:\n",
        "      destination = os.path.join(benign_folder, fname)\n",
        "      shutil.copy(origin, benign_folder)\n",
        "    else:\n",
        "      shutil.copy(origin, mal_folder)"
      ],
      "execution_count": 28,
      "outputs": []
    },
    {
      "cell_type": "code",
      "metadata": {
        "colab": {
          "base_uri": "https://localhost:8080/"
        },
        "id": "0H_2EDGvNtgq",
        "outputId": "a17b9769-120d-4ab1-81a7-4b181308dfc3"
      },
      "source": [
        "print(len(os.listdir(benign_folder)))\n",
        "print(len(os.listdir(mal_folder)))"
      ],
      "execution_count": 29,
      "outputs": [
        {
          "output_type": "stream",
          "name": "stdout",
          "text": [
            "42\n",
            "22\n"
          ]
        }
      ]
    },
    {
      "cell_type": "code",
      "metadata": {
        "colab": {
          "base_uri": "https://localhost:8080/"
        },
        "id": "0no8J-9nP_SB",
        "outputId": "9534e3bf-7e36-45eb-edbf-422c50ce6ca6"
      },
      "source": [
        "train_datagen = ImageDataGenerator(rescale=1/255.0,\n",
        "                                  rotation_range=45,\n",
        "                                  width_shift_range=0.2,\n",
        "                                  height_shift_range=0.2,\n",
        "                                  shear_range=0.2,\n",
        "                                  horizontal_flip=True,\n",
        "                                  fill_mode='nearest')\n",
        "\n",
        "train_generator = train_datagen.flow_from_directory(\n",
        "    train_folder,\n",
        "    target_size=(96, 96),\n",
        "    batch_size=10,\n",
        "    class_mode='binary')"
      ],
      "execution_count": 32,
      "outputs": [
        {
          "output_type": "stream",
          "name": "stdout",
          "text": [
            "Found 64 images belonging to 2 classes.\n"
          ]
        }
      ]
    },
    {
      "cell_type": "code",
      "metadata": {
        "colab": {
          "base_uri": "https://localhost:8080/"
        },
        "id": "0WYbYz_qRla0",
        "outputId": "da27152a-1f19-4d4c-baf5-ec3a7417a430"
      },
      "source": [
        "model = tf.keras.models.Sequential([\n",
        "    tf.keras.layers.Conv2D(32, 3, input_shape=(96, 96, 3), activation='relu'),\n",
        "    tf.keras.layers.MaxPooling2D(2),\n",
        "    tf.keras.layers.Conv2D(64, 3, activation='relu'),\n",
        "    tf.keras.layers.MaxPooling2D(2),\n",
        "    tf.keras.layers.Conv2D(96, 3, activation='relu'),\n",
        "    tf.keras.layers.MaxPooling2D(2),\n",
        "                          \n",
        "    tf.keras.layers.Flatten(),\n",
        "    tf.keras.layers.Dense(350, activation='relu'),\n",
        "    tf.keras.layers.Dense(1, activation='sigmoid')\n",
        "])\n",
        "\n",
        "lr_schedule = tf.keras.callbacks.LearningRateScheduler(\n",
        "    lambda epoch: 1e-4 * 10**(epoch / 5))\n",
        "#optimizer = tf.keras.optimizers.Adam(learning_rate=1e-7)\n",
        "#model.compile(loss=tf.keras.losses.Huber(),\n",
        "#              optimizer=optimizer,\n",
        "#              metrics=[\"mae\"])\n",
        "\n",
        "\n",
        "model.compile(optimizer=RMSprop(learning_rate=1e-4), loss='binary_crossentropy', metrics=['acc'])\n",
        "\n",
        "model.summary()"
      ],
      "execution_count": 39,
      "outputs": [
        {
          "output_type": "stream",
          "name": "stdout",
          "text": [
            "Model: \"sequential_2\"\n",
            "_________________________________________________________________\n",
            " Layer (type)                Output Shape              Param #   \n",
            "=================================================================\n",
            " conv2d_6 (Conv2D)           (None, 94, 94, 32)        896       \n",
            "                                                                 \n",
            " max_pooling2d_6 (MaxPooling  (None, 47, 47, 32)       0         \n",
            " 2D)                                                             \n",
            "                                                                 \n",
            " conv2d_7 (Conv2D)           (None, 45, 45, 64)        18496     \n",
            "                                                                 \n",
            " max_pooling2d_7 (MaxPooling  (None, 22, 22, 64)       0         \n",
            " 2D)                                                             \n",
            "                                                                 \n",
            " conv2d_8 (Conv2D)           (None, 20, 20, 96)        55392     \n",
            "                                                                 \n",
            " max_pooling2d_8 (MaxPooling  (None, 10, 10, 96)       0         \n",
            " 2D)                                                             \n",
            "                                                                 \n",
            " flatten_2 (Flatten)         (None, 9600)              0         \n",
            "                                                                 \n",
            " dense_4 (Dense)             (None, 350)               3360350   \n",
            "                                                                 \n",
            " dense_5 (Dense)             (None, 1)                 351       \n",
            "                                                                 \n",
            "=================================================================\n",
            "Total params: 3,435,485\n",
            "Trainable params: 3,435,485\n",
            "Non-trainable params: 0\n",
            "_________________________________________________________________\n"
          ]
        }
      ]
    },
    {
      "cell_type": "code",
      "metadata": {
        "colab": {
          "base_uri": "https://localhost:8080/"
        },
        "id": "hMuql2x7R_IJ",
        "outputId": "3c2f2b05-ec3f-438d-8367-93a5a4ffb8b2"
      },
      "source": [
        "history = model.fit_generator(train_generator,\n",
        "                              epochs=20,\n",
        "                              verbose=1,\n",
        "                              callbacks=lr_schedule)"
      ],
      "execution_count": 40,
      "outputs": [
        {
          "output_type": "stream",
          "name": "stderr",
          "text": [
            "/usr/local/lib/python3.7/dist-packages/ipykernel_launcher.py:4: UserWarning: `Model.fit_generator` is deprecated and will be removed in a future version. Please use `Model.fit`, which supports generators.\n",
            "  after removing the cwd from sys.path.\n"
          ]
        },
        {
          "output_type": "stream",
          "name": "stdout",
          "text": [
            "Epoch 1/20\n",
            "7/7 [==============================] - 2s 183ms/step - loss: 0.7282 - acc: 0.6562 - lr: 1.0000e-04\n",
            "Epoch 2/20\n",
            "7/7 [==============================] - 1s 185ms/step - loss: 0.6766 - acc: 0.6562 - lr: 1.5849e-04\n",
            "Epoch 3/20\n",
            "7/7 [==============================] - 1s 198ms/step - loss: 0.6530 - acc: 0.6562 - lr: 2.5119e-04\n",
            "Epoch 4/20\n",
            "7/7 [==============================] - 1s 185ms/step - loss: 0.7163 - acc: 0.5938 - lr: 3.9811e-04\n",
            "Epoch 5/20\n",
            "7/7 [==============================] - 1s 181ms/step - loss: 0.7061 - acc: 0.6562 - lr: 6.3096e-04\n",
            "Epoch 6/20\n",
            "7/7 [==============================] - 1s 196ms/step - loss: 0.7968 - acc: 0.6250 - lr: 0.0010\n",
            "Epoch 7/20\n",
            "7/7 [==============================] - 1s 183ms/step - loss: 0.6408 - acc: 0.6562 - lr: 0.0016\n",
            "Epoch 8/20\n",
            "7/7 [==============================] - 1s 183ms/step - loss: 0.9003 - acc: 0.6562 - lr: 0.0025\n",
            "Epoch 9/20\n",
            "7/7 [==============================] - 1s 181ms/step - loss: 1.4749 - acc: 0.4375 - lr: 0.0040\n",
            "Epoch 10/20\n",
            "7/7 [==============================] - 1s 178ms/step - loss: 2.3214 - acc: 0.5938 - lr: 0.0063\n",
            "Epoch 11/20\n",
            "7/7 [==============================] - 1s 186ms/step - loss: 0.7173 - acc: 0.4688 - lr: 0.0100\n",
            "Epoch 12/20\n",
            "7/7 [==============================] - 1s 185ms/step - loss: 3.5521 - acc: 0.5625 - lr: 0.0158\n",
            "Epoch 13/20\n",
            "7/7 [==============================] - 1s 179ms/step - loss: 4.3197 - acc: 0.5625 - lr: 0.0251\n",
            "Epoch 14/20\n",
            "7/7 [==============================] - 1s 194ms/step - loss: 0.6540 - acc: 0.6562 - lr: 0.0398\n",
            "Epoch 15/20\n",
            "7/7 [==============================] - 1s 177ms/step - loss: 0.6617 - acc: 0.6562 - lr: 0.0631\n",
            "Epoch 16/20\n",
            "7/7 [==============================] - 1s 192ms/step - loss: 0.6535 - acc: 0.6562 - lr: 0.1000\n",
            "Epoch 17/20\n",
            "7/7 [==============================] - 1s 179ms/step - loss: 0.7160 - acc: 0.6562 - lr: 0.1585\n",
            "Epoch 18/20\n",
            "7/7 [==============================] - 1s 182ms/step - loss: 0.6810 - acc: 0.5938 - lr: 0.2512\n",
            "Epoch 19/20\n",
            "7/7 [==============================] - 1s 181ms/step - loss: 0.6909 - acc: 0.5625 - lr: 0.3981\n",
            "Epoch 20/20\n",
            "7/7 [==============================] - 1s 179ms/step - loss: 0.6504 - acc: 0.6562 - lr: 0.6310\n"
          ]
        }
      ]
    },
    {
      "cell_type": "code",
      "metadata": {
        "colab": {
          "base_uri": "https://localhost:8080/",
          "height": 290
        },
        "id": "LbTq-SEASVFW",
        "outputId": "ef763c8f-6b97-4cc6-b86f-cf2346857a17"
      },
      "source": [
        "import matplotlib.pyplot as plt\n",
        "\n",
        "plt.semilogx(history.history[\"lr\"], history.history[\"loss\"])\n",
        "plt.axis([1e-4, 1e-0, 0, 10])"
      ],
      "execution_count": 42,
      "outputs": [
        {
          "output_type": "execute_result",
          "data": {
            "text/plain": [
              "(0.0001, 1.0, 0.0, 10.0)"
            ]
          },
          "metadata": {},
          "execution_count": 42
        },
        {
          "output_type": "display_data",
          "data": {
            "image/png": "[encoded data removed]",
            "text/plain": [
              "<Figure size 432x288 with 1 Axes>"
            ]
          },
          "metadata": {
            "needs_background": "light"
          }
        }
      ]
    },
    {
      "cell_type": "code",
      "metadata": {
        "id": "ZLL0ALXSVLGk"
      },
      "source": [
        ""
      ],
      "execution_count": null,
      "outputs": []
    }
  ]
}